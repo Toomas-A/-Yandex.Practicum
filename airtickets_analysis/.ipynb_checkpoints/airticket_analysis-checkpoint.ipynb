{
 "cells": [
  {
   "cell_type": "markdown",
   "metadata": {},
   "source": [
    "**<span style=\"color:navy\">Мне, как аналитику российской авиакомпании, необходимо понять предпочтения пассажиров и проанализировать спрос на рейсы в города, где проходят крупнейшие культурные фестивали.</span>**"
   ]
  },
  {
   "cell_type": "markdown",
   "metadata": {},
   "source": [
    "### План работ:  \n",
    "\n",
    "#### 1.  \n",
    "\n",
    "Файл `query_1.csv`:\n",
    "\n",
    "- *model* — модель самолета;\n",
    "- *flights_amount* — количество рейсов для каждой модели самолетов *model* в сентябре 2018 года.\n",
    "\n",
    "Файл `query_3.csv`:\n",
    "\n",
    "- *city* — город;\n",
    "- *average_flights* — среднее количество рейсов, прибывающих в город (*city*) за день в сентябре 2018 года.\n",
    "\n",
    ">**Необходимо:**\n",
    ">- изучить данные;\n",
    ">- проверить типы данных на корректность;\n",
    ">- выбрать топ-10 городов по количеству рейсов;\n",
    ">- визуализировать информацию;\n",
    ">- сделать выводы.\n",
    "\n",
    "**2.**\n",
    "\n",
    "Файл `query_last.csv`:\n",
    "\n",
    "- *week_number* — номер недели;\n",
    "- *ticket_amount* — количество проданных билетов за неделю;\n",
    "- *festival_week* — есть ли на этой неделе фестиваль;\n",
    "- *festival_name —* название фестиваля.\n",
    "\n",
    ">**Необходимо:**  \n",
    ">- проверить гипотезу: «Средний спрос на билеты во время фестивалей не отличается от среднего спроса на билеты в обычное время».\n"
   ]
  },
  {
   "cell_type": "code",
   "execution_count": 1,
   "metadata": {},
   "outputs": [],
   "source": [
    "# !pip install chart_studio\n",
    "# !pip install --user cufflinks"
   ]
  },
  {
   "cell_type": "code",
   "execution_count": 2,
   "metadata": {},
   "outputs": [
    {
     "data": {
      "text/html": [
       "        <script type=\"text/javascript\">\n",
       "        window.PlotlyConfig = {MathJaxConfig: 'local'};\n",
       "        if (window.MathJax) {MathJax.Hub.Config({SVG: {font: \"STIX-Web\"}});}\n",
       "        if (typeof require !== 'undefined') {\n",
       "        require.undef(\"plotly\");\n",
       "        requirejs.config({\n",
       "            paths: {\n",
       "                'plotly': ['https://cdn.plot.ly/plotly-latest.min']\n",
       "            }\n",
       "        });\n",
       "        require(['plotly'], function(Plotly) {\n",
       "            window._Plotly = Plotly;\n",
       "        });\n",
       "        }\n",
       "        </script>\n",
       "        "
      ]
     },
     "metadata": {},
     "output_type": "display_data"
    }
   ],
   "source": [
    "import pandas as pd\n",
    "import numpy as np\n",
    "\n",
    "import seaborn as sns\n",
    "import matplotlib.pyplot as plt\n",
    "\n",
    "import chart_studio.plotly as py\n",
    "import plotly.graph_objs as go\n",
    "from plotly.offline import iplot\n",
    "\n",
    "import cufflinks\n",
    "cufflinks.go_offline()\n",
    "\n",
    "from scipy import stats as st\n",
    "from scipy.stats import ks_2samp"
   ]
  },
  {
   "cell_type": "code",
   "execution_count": 3,
   "metadata": {},
   "outputs": [],
   "source": [
    "# To get the iplot() to return a static image on the IPython Shell \n",
    "# so it's visible on notebooks viewed via GitHub\n",
    "\n",
    "import plotly.io as pio \n",
    "pio.renderers.default = \"svg\""
   ]
  },
  {
   "cell_type": "markdown",
   "metadata": {},
   "source": [
    "### 1.  \n",
    "\n",
    "Откроем и изучим данные обоих файлов."
   ]
  },
  {
   "cell_type": "code",
   "execution_count": 4,
   "metadata": {},
   "outputs": [],
   "source": [
    "for i in [1, 3]:\n",
    "    path = '/my_ds_projects/Yandex-Projects/datasets/query_{}.csv'.format(i)\n",
    "    df_name = 'query_{}'.format(i)\n",
    "    globals()[df_name] = pd.read_csv(path)"
   ]
  },
  {
   "cell_type": "code",
   "execution_count": 5,
   "metadata": {
    "scrolled": true
   },
   "outputs": [
    {
     "name": "stdout",
     "output_type": "stream",
     "text": [
      "<class 'pandas.core.frame.DataFrame'>\n",
      "RangeIndex: 8 entries, 0 to 7\n",
      "Data columns (total 2 columns):\n",
      " #   Column          Non-Null Count  Dtype \n",
      "---  ------          --------------  ----- \n",
      " 0   model           8 non-null      object\n",
      " 1   flights_amount  8 non-null      int64 \n",
      "dtypes: int64(1), object(1)\n",
      "memory usage: 256.0+ bytes\n",
      "None\n"
     ]
    },
    {
     "data": {
      "text/html": [
       "<div>\n",
       "<style scoped>\n",
       "    .dataframe tbody tr th:only-of-type {\n",
       "        vertical-align: middle;\n",
       "    }\n",
       "\n",
       "    .dataframe tbody tr th {\n",
       "        vertical-align: top;\n",
       "    }\n",
       "\n",
       "    .dataframe thead th {\n",
       "        text-align: right;\n",
       "    }\n",
       "</style>\n",
       "<table border=\"1\" class=\"dataframe\">\n",
       "  <thead>\n",
       "    <tr style=\"text-align: right;\">\n",
       "      <th></th>\n",
       "      <th>model</th>\n",
       "      <th>flights_amount</th>\n",
       "    </tr>\n",
       "  </thead>\n",
       "  <tbody>\n",
       "    <tr>\n",
       "      <th>0</th>\n",
       "      <td>Airbus A319-100</td>\n",
       "      <td>607</td>\n",
       "    </tr>\n",
       "    <tr>\n",
       "      <th>1</th>\n",
       "      <td>Airbus A321-200</td>\n",
       "      <td>960</td>\n",
       "    </tr>\n",
       "    <tr>\n",
       "      <th>2</th>\n",
       "      <td>Boeing 737-300</td>\n",
       "      <td>630</td>\n",
       "    </tr>\n",
       "    <tr>\n",
       "      <th>3</th>\n",
       "      <td>Boeing 767-300</td>\n",
       "      <td>600</td>\n",
       "    </tr>\n",
       "    <tr>\n",
       "      <th>4</th>\n",
       "      <td>Boeing 777-300</td>\n",
       "      <td>300</td>\n",
       "    </tr>\n",
       "    <tr>\n",
       "      <th>5</th>\n",
       "      <td>Bombardier CRJ-200</td>\n",
       "      <td>4446</td>\n",
       "    </tr>\n",
       "    <tr>\n",
       "      <th>6</th>\n",
       "      <td>Cessna 208 Caravan</td>\n",
       "      <td>4557</td>\n",
       "    </tr>\n",
       "    <tr>\n",
       "      <th>7</th>\n",
       "      <td>Sukhoi SuperJet-100</td>\n",
       "      <td>4185</td>\n",
       "    </tr>\n",
       "  </tbody>\n",
       "</table>\n",
       "</div>"
      ],
      "text/plain": [
       "                 model  flights_amount\n",
       "0      Airbus A319-100             607\n",
       "1      Airbus A321-200             960\n",
       "2       Boeing 737-300             630\n",
       "3       Boeing 767-300             600\n",
       "4       Boeing 777-300             300\n",
       "5   Bombardier CRJ-200            4446\n",
       "6   Cessna 208 Caravan            4557\n",
       "7  Sukhoi SuperJet-100            4185"
      ]
     },
     "execution_count": 5,
     "metadata": {},
     "output_type": "execute_result"
    }
   ],
   "source": [
    "print(query_1.info())\n",
    "query_1"
   ]
  },
  {
   "cell_type": "code",
   "execution_count": 6,
   "metadata": {
    "scrolled": false
   },
   "outputs": [
    {
     "name": "stdout",
     "output_type": "stream",
     "text": [
      "<class 'pandas.core.frame.DataFrame'>\n",
      "RangeIndex: 101 entries, 0 to 100\n",
      "Data columns (total 2 columns):\n",
      " #   Column           Non-Null Count  Dtype  \n",
      "---  ------           --------------  -----  \n",
      " 0   city             101 non-null    object \n",
      " 1   average_flights  101 non-null    float64\n",
      "dtypes: float64(1), object(1)\n",
      "memory usage: 1.7+ KB\n",
      "None\n"
     ]
    },
    {
     "data": {
      "text/html": [
       "<div>\n",
       "<style scoped>\n",
       "    .dataframe tbody tr th:only-of-type {\n",
       "        vertical-align: middle;\n",
       "    }\n",
       "\n",
       "    .dataframe tbody tr th {\n",
       "        vertical-align: top;\n",
       "    }\n",
       "\n",
       "    .dataframe thead th {\n",
       "        text-align: right;\n",
       "    }\n",
       "</style>\n",
       "<table border=\"1\" class=\"dataframe\">\n",
       "  <thead>\n",
       "    <tr style=\"text-align: right;\">\n",
       "      <th></th>\n",
       "      <th>average_flights</th>\n",
       "    </tr>\n",
       "  </thead>\n",
       "  <tbody>\n",
       "    <tr>\n",
       "      <th>count</th>\n",
       "      <td>101.000000</td>\n",
       "    </tr>\n",
       "    <tr>\n",
       "      <th>mean</th>\n",
       "      <td>5.494189</td>\n",
       "    </tr>\n",
       "    <tr>\n",
       "      <th>std</th>\n",
       "      <td>13.119790</td>\n",
       "    </tr>\n",
       "    <tr>\n",
       "      <th>min</th>\n",
       "      <td>1.000000</td>\n",
       "    </tr>\n",
       "    <tr>\n",
       "      <th>25%</th>\n",
       "      <td>2.000000</td>\n",
       "    </tr>\n",
       "    <tr>\n",
       "      <th>50%</th>\n",
       "      <td>3.000000</td>\n",
       "    </tr>\n",
       "    <tr>\n",
       "      <th>75%</th>\n",
       "      <td>5.870968</td>\n",
       "    </tr>\n",
       "    <tr>\n",
       "      <th>max</th>\n",
       "      <td>129.774194</td>\n",
       "    </tr>\n",
       "  </tbody>\n",
       "</table>\n",
       "</div>"
      ],
      "text/plain": [
       "       average_flights\n",
       "count       101.000000\n",
       "mean          5.494189\n",
       "std          13.119790\n",
       "min           1.000000\n",
       "25%           2.000000\n",
       "50%           3.000000\n",
       "75%           5.870968\n",
       "max         129.774194"
      ]
     },
     "execution_count": 6,
     "metadata": {},
     "output_type": "execute_result"
    }
   ],
   "source": [
    "print(query_3.info())\n",
    "query_3.describe()"
   ]
  },
  {
   "cell_type": "code",
   "execution_count": 7,
   "metadata": {},
   "outputs": [
    {
     "data": {
      "text/html": [
       "<div>\n",
       "<style scoped>\n",
       "    .dataframe tbody tr th:only-of-type {\n",
       "        vertical-align: middle;\n",
       "    }\n",
       "\n",
       "    .dataframe tbody tr th {\n",
       "        vertical-align: top;\n",
       "    }\n",
       "\n",
       "    .dataframe thead th {\n",
       "        text-align: right;\n",
       "    }\n",
       "</style>\n",
       "<table border=\"1\" class=\"dataframe\">\n",
       "  <thead>\n",
       "    <tr style=\"text-align: right;\">\n",
       "      <th></th>\n",
       "      <th>city</th>\n",
       "      <th>average_flights</th>\n",
       "    </tr>\n",
       "  </thead>\n",
       "  <tbody>\n",
       "    <tr>\n",
       "      <th>0</th>\n",
       "      <td>Абакан</td>\n",
       "      <td>3.9</td>\n",
       "    </tr>\n",
       "    <tr>\n",
       "      <th>1</th>\n",
       "      <td>Анадырь</td>\n",
       "      <td>1.0</td>\n",
       "    </tr>\n",
       "    <tr>\n",
       "      <th>2</th>\n",
       "      <td>Анапа</td>\n",
       "      <td>2.2</td>\n",
       "    </tr>\n",
       "    <tr>\n",
       "      <th>3</th>\n",
       "      <td>Архангельск</td>\n",
       "      <td>5.4</td>\n",
       "    </tr>\n",
       "    <tr>\n",
       "      <th>4</th>\n",
       "      <td>Астрахань</td>\n",
       "      <td>2.5</td>\n",
       "    </tr>\n",
       "    <tr>\n",
       "      <th>...</th>\n",
       "      <td>...</td>\n",
       "      <td>...</td>\n",
       "    </tr>\n",
       "    <tr>\n",
       "      <th>96</th>\n",
       "      <td>Чита</td>\n",
       "      <td>1.6</td>\n",
       "    </tr>\n",
       "    <tr>\n",
       "      <th>97</th>\n",
       "      <td>Элиста</td>\n",
       "      <td>4.9</td>\n",
       "    </tr>\n",
       "    <tr>\n",
       "      <th>98</th>\n",
       "      <td>Южно-Сахалинск</td>\n",
       "      <td>4.3</td>\n",
       "    </tr>\n",
       "    <tr>\n",
       "      <th>99</th>\n",
       "      <td>Якутск</td>\n",
       "      <td>2.7</td>\n",
       "    </tr>\n",
       "    <tr>\n",
       "      <th>100</th>\n",
       "      <td>Ярославль</td>\n",
       "      <td>1.3</td>\n",
       "    </tr>\n",
       "  </tbody>\n",
       "</table>\n",
       "<p>101 rows × 2 columns</p>\n",
       "</div>"
      ],
      "text/plain": [
       "               city  average_flights\n",
       "0            Абакан              3.9\n",
       "1           Анадырь              1.0\n",
       "2             Анапа              2.2\n",
       "3       Архангельск              5.4\n",
       "4         Астрахань              2.5\n",
       "..              ...              ...\n",
       "96             Чита              1.6\n",
       "97           Элиста              4.9\n",
       "98   Южно-Сахалинск              4.3\n",
       "99           Якутск              2.7\n",
       "100       Ярославль              1.3\n",
       "\n",
       "[101 rows x 2 columns]"
      ]
     },
     "execution_count": 7,
     "metadata": {},
     "output_type": "execute_result"
    }
   ],
   "source": [
    "query_3['average_flights'] = np.round(query_3['average_flights'], decimals=1) # сократим количество знаков после запятой до 1\n",
    "query_3"
   ]
  },
  {
   "cell_type": "markdown",
   "metadata": {},
   "source": [
    "Пропусков нет. Cреднее количество рейсов округлили до одного десятичного знака.\n",
    "\n",
    "\n",
    "Выделим топ-10 городов по количеству рейсов."
   ]
  },
  {
   "cell_type": "code",
   "execution_count": 8,
   "metadata": {
    "scrolled": true
   },
   "outputs": [
    {
     "data": {
      "text/html": [
       "<div>\n",
       "<style scoped>\n",
       "    .dataframe tbody tr th:only-of-type {\n",
       "        vertical-align: middle;\n",
       "    }\n",
       "\n",
       "    .dataframe tbody tr th {\n",
       "        vertical-align: top;\n",
       "    }\n",
       "\n",
       "    .dataframe thead th {\n",
       "        text-align: right;\n",
       "    }\n",
       "</style>\n",
       "<table border=\"1\" class=\"dataframe\">\n",
       "  <thead>\n",
       "    <tr style=\"text-align: right;\">\n",
       "      <th></th>\n",
       "      <th>city</th>\n",
       "      <th>average_flights</th>\n",
       "    </tr>\n",
       "  </thead>\n",
       "  <tbody>\n",
       "    <tr>\n",
       "      <th>0</th>\n",
       "      <td>Москва</td>\n",
       "      <td>129.8</td>\n",
       "    </tr>\n",
       "    <tr>\n",
       "      <th>1</th>\n",
       "      <td>Санкт-Петербург</td>\n",
       "      <td>31.2</td>\n",
       "    </tr>\n",
       "    <tr>\n",
       "      <th>2</th>\n",
       "      <td>Новосибирск</td>\n",
       "      <td>17.3</td>\n",
       "    </tr>\n",
       "    <tr>\n",
       "      <th>3</th>\n",
       "      <td>Красноярск</td>\n",
       "      <td>11.6</td>\n",
       "    </tr>\n",
       "    <tr>\n",
       "      <th>4</th>\n",
       "      <td>Екатеринбург</td>\n",
       "      <td>11.3</td>\n",
       "    </tr>\n",
       "    <tr>\n",
       "      <th>5</th>\n",
       "      <td>Ростов-на-Дону</td>\n",
       "      <td>10.2</td>\n",
       "    </tr>\n",
       "    <tr>\n",
       "      <th>6</th>\n",
       "      <td>Пермь</td>\n",
       "      <td>10.1</td>\n",
       "    </tr>\n",
       "    <tr>\n",
       "      <th>7</th>\n",
       "      <td>Брянск</td>\n",
       "      <td>10.0</td>\n",
       "    </tr>\n",
       "    <tr>\n",
       "      <th>8</th>\n",
       "      <td>Сочи</td>\n",
       "      <td>9.6</td>\n",
       "    </tr>\n",
       "    <tr>\n",
       "      <th>9</th>\n",
       "      <td>Ульяновск</td>\n",
       "      <td>9.6</td>\n",
       "    </tr>\n",
       "  </tbody>\n",
       "</table>\n",
       "</div>"
      ],
      "text/plain": [
       "              city  average_flights\n",
       "0           Москва            129.8\n",
       "1  Санкт-Петербург             31.2\n",
       "2      Новосибирск             17.3\n",
       "3       Красноярск             11.6\n",
       "4     Екатеринбург             11.3\n",
       "5   Ростов-на-Дону             10.2\n",
       "6            Пермь             10.1\n",
       "7           Брянск             10.0\n",
       "8             Сочи              9.6\n",
       "9        Ульяновск              9.6"
      ]
     },
     "execution_count": 8,
     "metadata": {},
     "output_type": "execute_result"
    }
   ],
   "source": [
    "q3_top10 = query_3.sort_values(by = 'average_flights', ascending = False).head(10).reset_index(drop=True)\n",
    "q3_top10"
   ]
  },
  {
   "cell_type": "markdown",
   "metadata": {},
   "source": [
    "Чтобы наглядно проанализировать статистику среднего количества рейсов в 101 город, нарисуем интерактивную гистограмму. Можно кликнуть на данные для получения подробностей, либо, приблизить части графика для анализа определённых городов.  \n",
    "Для удобства изучения, отсортируем данные по среднему количеству рейсов (по возрастанию)."
   ]
  },
  {
   "cell_type": "code",
   "execution_count": 9,
   "metadata": {
    "scrolled": false
   },
   "outputs": [
    {
     "data": {
      "image/svg+xml": [
       "<svg class=\"main-svg\" xmlns=\"http://www.w3.org/2000/svg\" xmlns:xlink=\"http://www.w3.org/1999/xlink\" width=\"700\" height=\"450\" style=\"\" viewBox=\"0 0 700 450\"><rect x=\"0\" y=\"0\" width=\"700\" height=\"450\" style=\"fill: rgb(245, 246, 249); fill-opacity: 1;\"/><defs id=\"defs-7dcb2b\"><g class=\"clips\"><clipPath id=\"clip7dcb2bxyplot\" class=\"plotclip\"><rect width=\"540\" height=\"188\"/></clipPath><clipPath class=\"axesclip\" id=\"clip7dcb2bx\"><rect x=\"80\" y=\"0\" width=\"540\" height=\"450\"/></clipPath><clipPath class=\"axesclip\" id=\"clip7dcb2by\"><rect x=\"0\" y=\"100\" width=\"700\" height=\"188\"/></clipPath><clipPath class=\"axesclip\" id=\"clip7dcb2bxy\"><rect x=\"80\" y=\"100\" width=\"540\" height=\"188\"/></clipPath></g><g class=\"gradients\"/></defs><g class=\"bglayer\"/><g class=\"layer-below\"><g class=\"imagelayer\"/><g class=\"shapelayer\"/></g><g class=\"cartesianlayer\"><g class=\"subplot xy\"><g class=\"layer-subplot\"><g class=\"shapelayer\"/><g class=\"imagelayer\"/></g><g class=\"gridlayer\"><g class=\"x\"><path class=\"xgrid crisp\" transform=\"translate(82.67,0)\" d=\"M0,100v188\" style=\"stroke: rgb(225, 229, 237); stroke-opacity: 1; stroke-width: 1px;\"/><path class=\"xgrid crisp\" transform=\"translate(98.71000000000001,0)\" d=\"M0,100v188\" style=\"stroke: rgb(225, 229, 237); stroke-opacity: 1; stroke-width: 1px;\"/><path class=\"xgrid crisp\" transform=\"translate(114.75,0)\" d=\"M0,100v188\" style=\"stroke: rgb(225, 229, 237); stroke-opacity: 1; stroke-width: 1px;\"/><path class=\"xgrid crisp\" transform=\"translate(130.79,0)\" d=\"M0,100v188\" style=\"stroke: rgb(225, 229, 237); stroke-opacity: 1; stroke-width: 1px;\"/><path class=\"xgrid crisp\" transform=\"translate(146.82999999999998,0)\" d=\"M0,100v188\" style=\"stroke: rgb(225, 229, 237); stroke-opacity: 1; stroke-width: 1px;\"/><path class=\"xgrid crisp\" transform=\"translate(162.87,0)\" d=\"M0,100v188\" style=\"stroke: rgb(225, 229, 237); stroke-opacity: 1; stroke-width: 1px;\"/><path class=\"xgrid crisp\" transform=\"translate(178.91,0)\" d=\"M0,100v188\" style=\"stroke: rgb(225, 229, 237); stroke-opacity: 1; stroke-width: 1px;\"/><path class=\"xgrid crisp\" transform=\"translate(194.95,0)\" d=\"M0,100v188\" style=\"stroke: rgb(225, 229, 237); stroke-opacity: 1; stroke-width: 1px;\"/><path class=\"xgrid crisp\" transform=\"translate(210.99,0)\" d=\"M0,100v188\" style=\"stroke: rgb(225, 229, 237); stroke-opacity: 1; stroke-width: 1px;\"/><path class=\"xgrid crisp\" transform=\"translate(227.03,0)\" d=\"M0,100v188\" style=\"stroke: rgb(225, 229, 237); stroke-opacity: 1; stroke-width: 1px;\"/><path class=\"xgrid crisp\" transform=\"translate(243.07,0)\" d=\"M0,100v188\" style=\"stroke: rgb(225, 229, 237); stroke-opacity: 1; stroke-width: 1px;\"/><path class=\"xgrid crisp\" transform=\"translate(259.11,0)\" d=\"M0,100v188\" style=\"stroke: rgb(225, 229, 237); stroke-opacity: 1; stroke-width: 1px;\"/><path class=\"xgrid crisp\" transform=\"translate(275.15,0)\" d=\"M0,100v188\" style=\"stroke: rgb(225, 229, 237); stroke-opacity: 1; stroke-width: 1px;\"/><path class=\"xgrid crisp\" transform=\"translate(291.19,0)\" d=\"M0,100v188\" style=\"stroke: rgb(225, 229, 237); stroke-opacity: 1; stroke-width: 1px;\"/><path class=\"xgrid crisp\" transform=\"translate(307.23,0)\" d=\"M0,100v188\" style=\"stroke: rgb(225, 229, 237); stroke-opacity: 1; stroke-width: 1px;\"/><path class=\"xgrid crisp\" transform=\"translate(323.27,0)\" d=\"M0,100v188\" style=\"stroke: rgb(225, 229, 237); stroke-opacity: 1; stroke-width: 1px;\"/><path class=\"xgrid crisp\" transform=\"translate(339.31,0)\" d=\"M0,100v188\" style=\"stroke: rgb(225, 229, 237); stroke-opacity: 1; stroke-width: 1px;\"/><path class=\"xgrid crisp\" transform=\"translate(355.35,0)\" d=\"M0,100v188\" style=\"stroke: rgb(225, 229, 237); stroke-opacity: 1; stroke-width: 1px;\"/><path class=\"xgrid crisp\" transform=\"translate(371.39,0)\" d=\"M0,100v188\" style=\"stroke: rgb(225, 229, 237); stroke-opacity: 1; stroke-width: 1px;\"/><path class=\"xgrid crisp\" transform=\"translate(387.43,0)\" d=\"M0,100v188\" style=\"stroke: rgb(225, 229, 237); stroke-opacity: 1; stroke-width: 1px;\"/><path class=\"xgrid crisp\" transform=\"translate(403.47,0)\" d=\"M0,100v188\" style=\"stroke: rgb(225, 229, 237); stroke-opacity: 1; stroke-width: 1px;\"/><path class=\"xgrid crisp\" transform=\"translate(419.5,0)\" d=\"M0,100v188\" style=\"stroke: rgb(225, 229, 237); stroke-opacity: 1; stroke-width: 1px;\"/><path class=\"xgrid crisp\" transform=\"translate(435.54,0)\" d=\"M0,100v188\" style=\"stroke: rgb(225, 229, 237); stroke-opacity: 1; stroke-width: 1px;\"/><path class=\"xgrid crisp\" transform=\"translate(451.58,0)\" d=\"M0,100v188\" style=\"stroke: rgb(225, 229, 237); stroke-opacity: 1; stroke-width: 1px;\"/><path class=\"xgrid crisp\" transform=\"translate(467.62,0)\" d=\"M0,100v188\" style=\"stroke: rgb(225, 229, 237); stroke-opacity: 1; stroke-width: 1px;\"/><path class=\"xgrid crisp\" transform=\"translate(483.66,0)\" d=\"M0,100v188\" style=\"stroke: rgb(225, 229, 237); stroke-opacity: 1; stroke-width: 1px;\"/><path class=\"xgrid crisp\" transform=\"translate(499.7,0)\" d=\"M0,100v188\" style=\"stroke: rgb(225, 229, 237); stroke-opacity: 1; stroke-width: 1px;\"/><path class=\"xgrid crisp\" transform=\"translate(515.74,0)\" d=\"M0,100v188\" style=\"stroke: rgb(225, 229, 237); stroke-opacity: 1; stroke-width: 1px;\"/><path class=\"xgrid crisp\" transform=\"translate(531.78,0)\" d=\"M0,100v188\" style=\"stroke: rgb(225, 229, 237); stroke-opacity: 1; stroke-width: 1px;\"/><path class=\"xgrid crisp\" transform=\"translate(547.8199999999999,0)\" d=\"M0,100v188\" style=\"stroke: rgb(225, 229, 237); stroke-opacity: 1; stroke-width: 1px;\"/><path class=\"xgrid crisp\" transform=\"translate(563.86,0)\" d=\"M0,100v188\" style=\"stroke: rgb(225, 229, 237); stroke-opacity: 1; stroke-width: 1px;\"/><path class=\"xgrid crisp\" transform=\"translate(579.9,0)\" d=\"M0,100v188\" style=\"stroke: rgb(225, 229, 237); stroke-opacity: 1; stroke-width: 1px;\"/><path class=\"xgrid crisp\" transform=\"translate(595.94,0)\" d=\"M0,100v188\" style=\"stroke: rgb(225, 229, 237); stroke-opacity: 1; stroke-width: 1px;\"/><path class=\"xgrid crisp\" transform=\"translate(611.98,0)\" d=\"M0,100v188\" style=\"stroke: rgb(225, 229, 237); stroke-opacity: 1; stroke-width: 1px;\"/></g><g class=\"y\"><path class=\"ygrid crisp\" transform=\"translate(0,219.2)\" d=\"M80,0h540\" style=\"stroke: rgb(225, 229, 237); stroke-opacity: 1; stroke-width: 1px;\"/><path class=\"ygrid crisp\" transform=\"translate(0,150.4)\" d=\"M80,0h540\" style=\"stroke: rgb(225, 229, 237); stroke-opacity: 1; stroke-width: 1px;\"/></g></g><g class=\"zerolinelayer\"><path class=\"yzl zl crisp\" transform=\"translate(0,288)\" d=\"M80,0h540\" style=\"stroke: rgb(225, 229, 237); stroke-opacity: 1; stroke-width: 2px;\"/></g><path class=\"xlines-below\"/><path class=\"ylines-below\"/><g class=\"overlines-below\"/><g class=\"xaxislayer-below\"/><g class=\"yaxislayer-below\"/><g class=\"overaxes-below\"/><g class=\"plot\" transform=\"translate(80, 100)\" clip-path=\"url('#clip7dcb2bxyplot')\"><g class=\"barlayer mlayer\"><g class=\"trace bars\" style=\"opacity: 1;\"><g class=\"points\"><g class=\"point\"><path d=\"M0.53,188V186.62H4.81V188Z\" style=\"vector-effect: non-scaling-stroke; opacity: 1; stroke-width: 1px; fill: rgb(255, 153, 51); fill-opacity: 0.6; stroke: rgb(255, 153, 51); stroke-opacity: 1;\"/></g><g class=\"point\"><path d=\"M5.88,188V186.62H10.16V188Z\" style=\"vector-effect: non-scaling-stroke; opacity: 1; stroke-width: 1px; fill: rgb(255, 153, 51); fill-opacity: 0.6; stroke: rgb(255, 153, 51); stroke-opacity: 1;\"/></g><g class=\"point\"><path d=\"M11.23,188V186.62H15.5V188Z\" style=\"vector-effect: non-scaling-stroke; opacity: 1; stroke-width: 1px; fill: rgb(255, 153, 51); fill-opacity: 0.6; stroke: rgb(255, 153, 51); stroke-opacity: 1;\"/></g><g class=\"point\"><path d=\"M16.57,188V186.62H20.85V188Z\" style=\"vector-effect: non-scaling-stroke; opacity: 1; stroke-width: 1px; fill: rgb(255, 153, 51); fill-opacity: 0.6; stroke: rgb(255, 153, 51); stroke-opacity: 1;\"/></g><g class=\"point\"><path d=\"M21.92,188V186.62H26.2V188Z\" style=\"vector-effect: non-scaling-stroke; opacity: 1; stroke-width: 1px; fill: rgb(255, 153, 51); fill-opacity: 0.6; stroke: rgb(255, 153, 51); stroke-opacity: 1;\"/></g><g class=\"point\"><path d=\"M27.27,188V186.62H31.54V188Z\" style=\"vector-effect: non-scaling-stroke; opacity: 1; stroke-width: 1px; fill: rgb(255, 153, 51); fill-opacity: 0.6; stroke: rgb(255, 153, 51); stroke-opacity: 1;\"/></g><g class=\"point\"><path d=\"M32.61,188V186.62H36.89V188Z\" style=\"vector-effect: non-scaling-stroke; opacity: 1; stroke-width: 1px; fill: rgb(255, 153, 51); fill-opacity: 0.6; stroke: rgb(255, 153, 51); stroke-opacity: 1;\"/></g><g class=\"point\"><path d=\"M37.96,188V186.62H42.24V188Z\" style=\"vector-effect: non-scaling-stroke; opacity: 1; stroke-width: 1px; fill: rgb(255, 153, 51); fill-opacity: 0.6; stroke: rgb(255, 153, 51); stroke-opacity: 1;\"/></g><g class=\"point\"><path d=\"M43.31,188V186.62H47.58V188Z\" style=\"vector-effect: non-scaling-stroke; opacity: 1; stroke-width: 1px; fill: rgb(255, 153, 51); fill-opacity: 0.6; stroke: rgb(255, 153, 51); stroke-opacity: 1;\"/></g><g class=\"point\"><path d=\"M48.65,188V186.62H52.93V188Z\" style=\"vector-effect: non-scaling-stroke; opacity: 1; stroke-width: 1px; fill: rgb(255, 153, 51); fill-opacity: 0.6; stroke: rgb(255, 153, 51); stroke-opacity: 1;\"/></g><g class=\"point\"><path d=\"M54,188V186.62H58.28V188Z\" style=\"vector-effect: non-scaling-stroke; opacity: 1; stroke-width: 1px; fill: rgb(255, 153, 51); fill-opacity: 0.6; stroke: rgb(255, 153, 51); stroke-opacity: 1;\"/></g><g class=\"point\"><path d=\"M59.35,188V186.62H63.62V188Z\" style=\"vector-effect: non-scaling-stroke; opacity: 1; stroke-width: 1px; fill: rgb(255, 153, 51); fill-opacity: 0.6; stroke: rgb(255, 153, 51); stroke-opacity: 1;\"/></g><g class=\"point\"><path d=\"M64.69,188V186.49H68.97V188Z\" style=\"vector-effect: non-scaling-stroke; opacity: 1; stroke-width: 1px; fill: rgb(255, 153, 51); fill-opacity: 0.6; stroke: rgb(255, 153, 51); stroke-opacity: 1;\"/></g><g class=\"point\"><path d=\"M70.04,188V186.21H74.32V188Z\" style=\"vector-effect: non-scaling-stroke; opacity: 1; stroke-width: 1px; fill: rgb(255, 153, 51); fill-opacity: 0.6; stroke: rgb(255, 153, 51); stroke-opacity: 1;\"/></g><g class=\"point\"><path d=\"M75.39,188V186.21H79.66V188Z\" style=\"vector-effect: non-scaling-stroke; opacity: 1; stroke-width: 1px; fill: rgb(255, 153, 51); fill-opacity: 0.6; stroke: rgb(255, 153, 51); stroke-opacity: 1;\"/></g><g class=\"point\"><path d=\"M80.73,188V186.21H85.01V188Z\" style=\"vector-effect: non-scaling-stroke; opacity: 1; stroke-width: 1px; fill: rgb(255, 153, 51); fill-opacity: 0.6; stroke: rgb(255, 153, 51); stroke-opacity: 1;\"/></g><g class=\"point\"><path d=\"M86.08,188V186.07H90.36V188Z\" style=\"vector-effect: non-scaling-stroke; opacity: 1; stroke-width: 1px; fill: rgb(255, 153, 51); fill-opacity: 0.6; stroke: rgb(255, 153, 51); stroke-opacity: 1;\"/></g><g class=\"point\"><path d=\"M91.43,188V186.07H95.7V188Z\" style=\"vector-effect: non-scaling-stroke; opacity: 1; stroke-width: 1px; fill: rgb(255, 153, 51); fill-opacity: 0.6; stroke: rgb(255, 153, 51); stroke-opacity: 1;\"/></g><g class=\"point\"><path d=\"M96.77,188V185.94H101.05V188Z\" style=\"vector-effect: non-scaling-stroke; opacity: 1; stroke-width: 1px; fill: rgb(255, 153, 51); fill-opacity: 0.6; stroke: rgb(255, 153, 51); stroke-opacity: 1;\"/></g><g class=\"point\"><path d=\"M102.12,188V185.8H106.4V188Z\" style=\"vector-effect: non-scaling-stroke; opacity: 1; stroke-width: 1px; fill: rgb(255, 153, 51); fill-opacity: 0.6; stroke: rgb(255, 153, 51); stroke-opacity: 1;\"/></g><g class=\"point\"><path d=\"M107.47,188V185.8H111.74V188Z\" style=\"vector-effect: non-scaling-stroke; opacity: 1; stroke-width: 1px; fill: rgb(255, 153, 51); fill-opacity: 0.6; stroke: rgb(255, 153, 51); stroke-opacity: 1;\"/></g><g class=\"point\"><path d=\"M112.81,188V185.8H117.09V188Z\" style=\"vector-effect: non-scaling-stroke; opacity: 1; stroke-width: 1px; fill: rgb(255, 153, 51); fill-opacity: 0.6; stroke: rgb(255, 153, 51); stroke-opacity: 1;\"/></g><g class=\"point\"><path d=\"M118.16,188V185.25H122.44V188Z\" style=\"vector-effect: non-scaling-stroke; opacity: 1; stroke-width: 1px; fill: rgb(255, 153, 51); fill-opacity: 0.6; stroke: rgb(255, 153, 51); stroke-opacity: 1;\"/></g><g class=\"point\"><path d=\"M123.5,188V185.25H127.78V188Z\" style=\"vector-effect: non-scaling-stroke; opacity: 1; stroke-width: 1px; fill: rgb(255, 153, 51); fill-opacity: 0.6; stroke: rgb(255, 153, 51); stroke-opacity: 1;\"/></g><g class=\"point\"><path d=\"M128.85,188V185.25H133.13V188Z\" style=\"vector-effect: non-scaling-stroke; opacity: 1; stroke-width: 1px; fill: rgb(255, 153, 51); fill-opacity: 0.6; stroke: rgb(255, 153, 51); stroke-opacity: 1;\"/></g><g class=\"point\"><path d=\"M134.2,188V185.25H138.48V188Z\" style=\"vector-effect: non-scaling-stroke; opacity: 1; stroke-width: 1px; fill: rgb(255, 153, 51); fill-opacity: 0.6; stroke: rgb(255, 153, 51); stroke-opacity: 1;\"/></g><g class=\"point\"><path d=\"M139.54,188V185.25H143.82V188Z\" style=\"vector-effect: non-scaling-stroke; opacity: 1; stroke-width: 1px; fill: rgb(255, 153, 51); fill-opacity: 0.6; stroke: rgb(255, 153, 51); stroke-opacity: 1;\"/></g><g class=\"point\"><path d=\"M144.89,188V185.25H149.17V188Z\" style=\"vector-effect: non-scaling-stroke; opacity: 1; stroke-width: 1px; fill: rgb(255, 153, 51); fill-opacity: 0.6; stroke: rgb(255, 153, 51); stroke-opacity: 1;\"/></g><g class=\"point\"><path d=\"M150.24,188V185.25H154.51V188Z\" style=\"vector-effect: non-scaling-stroke; opacity: 1; stroke-width: 1px; fill: rgb(255, 153, 51); fill-opacity: 0.6; stroke: rgb(255, 153, 51); stroke-opacity: 1;\"/></g><g class=\"point\"><path d=\"M155.58,188V185.25H159.86V188Z\" style=\"vector-effect: non-scaling-stroke; opacity: 1; stroke-width: 1px; fill: rgb(255, 153, 51); fill-opacity: 0.6; stroke: rgb(255, 153, 51); stroke-opacity: 1;\"/></g><g class=\"point\"><path d=\"M160.93,188V185.25H165.21V188Z\" style=\"vector-effect: non-scaling-stroke; opacity: 1; stroke-width: 1px; fill: rgb(255, 153, 51); fill-opacity: 0.6; stroke: rgb(255, 153, 51); stroke-opacity: 1;\"/></g><g class=\"point\"><path d=\"M166.28,188V185.25H170.55V188Z\" style=\"vector-effect: non-scaling-stroke; opacity: 1; stroke-width: 1px; fill: rgb(255, 153, 51); fill-opacity: 0.6; stroke: rgb(255, 153, 51); stroke-opacity: 1;\"/></g><g class=\"point\"><path d=\"M171.62,188V184.97H175.9V188Z\" style=\"vector-effect: non-scaling-stroke; opacity: 1; stroke-width: 1px; fill: rgb(255, 153, 51); fill-opacity: 0.6; stroke: rgb(255, 153, 51); stroke-opacity: 1;\"/></g><g class=\"point\"><path d=\"M176.97,188V184.97H181.25V188Z\" style=\"vector-effect: non-scaling-stroke; opacity: 1; stroke-width: 1px; fill: rgb(255, 153, 51); fill-opacity: 0.6; stroke: rgb(255, 153, 51); stroke-opacity: 1;\"/></g><g class=\"point\"><path d=\"M182.32,188V184.84H186.59V188Z\" style=\"vector-effect: non-scaling-stroke; opacity: 1; stroke-width: 1px; fill: rgb(255, 153, 51); fill-opacity: 0.6; stroke: rgb(255, 153, 51); stroke-opacity: 1;\"/></g><g class=\"point\"><path d=\"M187.66,188V184.84H191.94V188Z\" style=\"vector-effect: non-scaling-stroke; opacity: 1; stroke-width: 1px; fill: rgb(255, 153, 51); fill-opacity: 0.6; stroke: rgb(255, 153, 51); stroke-opacity: 1;\"/></g><g class=\"point\"><path d=\"M193.01,188V184.84H197.29V188Z\" style=\"vector-effect: non-scaling-stroke; opacity: 1; stroke-width: 1px; fill: rgb(255, 153, 51); fill-opacity: 0.6; stroke: rgb(255, 153, 51); stroke-opacity: 1;\"/></g><g class=\"point\"><path d=\"M198.36,188V184.56H202.63V188Z\" style=\"vector-effect: non-scaling-stroke; opacity: 1; stroke-width: 1px; fill: rgb(255, 153, 51); fill-opacity: 0.6; stroke: rgb(255, 153, 51); stroke-opacity: 1;\"/></g><g class=\"point\"><path d=\"M203.7,188V184.42H207.98V188Z\" style=\"vector-effect: non-scaling-stroke; opacity: 1; stroke-width: 1px; fill: rgb(255, 153, 51); fill-opacity: 0.6; stroke: rgb(255, 153, 51); stroke-opacity: 1;\"/></g><g class=\"point\"><path d=\"M209.05,188V184.42H213.33V188Z\" style=\"vector-effect: non-scaling-stroke; opacity: 1; stroke-width: 1px; fill: rgb(255, 153, 51); fill-opacity: 0.6; stroke: rgb(255, 153, 51); stroke-opacity: 1;\"/></g><g class=\"point\"><path d=\"M214.4,188V184.42H218.67V188Z\" style=\"vector-effect: non-scaling-stroke; opacity: 1; stroke-width: 1px; fill: rgb(255, 153, 51); fill-opacity: 0.6; stroke: rgb(255, 153, 51); stroke-opacity: 1;\"/></g><g class=\"point\"><path d=\"M219.74,188V184.42H224.02V188Z\" style=\"vector-effect: non-scaling-stroke; opacity: 1; stroke-width: 1px; fill: rgb(255, 153, 51); fill-opacity: 0.6; stroke: rgb(255, 153, 51); stroke-opacity: 1;\"/></g><g class=\"point\"><path d=\"M225.09,188V184.42H229.37V188Z\" style=\"vector-effect: non-scaling-stroke; opacity: 1; stroke-width: 1px; fill: rgb(255, 153, 51); fill-opacity: 0.6; stroke: rgb(255, 153, 51); stroke-opacity: 1;\"/></g><g class=\"point\"><path d=\"M230.44,188V184.28H234.71V188Z\" style=\"vector-effect: non-scaling-stroke; opacity: 1; stroke-width: 1px; fill: rgb(255, 153, 51); fill-opacity: 0.6; stroke: rgb(255, 153, 51); stroke-opacity: 1;\"/></g><g class=\"point\"><path d=\"M235.78,188V184.01H240.06V188Z\" style=\"vector-effect: non-scaling-stroke; opacity: 1; stroke-width: 1px; fill: rgb(255, 153, 51); fill-opacity: 0.6; stroke: rgb(255, 153, 51); stroke-opacity: 1;\"/></g><g class=\"point\"><path d=\"M241.13,188V183.87H245.41V188Z\" style=\"vector-effect: non-scaling-stroke; opacity: 1; stroke-width: 1px; fill: rgb(255, 153, 51); fill-opacity: 0.6; stroke: rgb(255, 153, 51); stroke-opacity: 1;\"/></g><g class=\"point\"><path d=\"M246.48,188V183.87H250.75V188Z\" style=\"vector-effect: non-scaling-stroke; opacity: 1; stroke-width: 1px; fill: rgb(255, 153, 51); fill-opacity: 0.6; stroke: rgb(255, 153, 51); stroke-opacity: 1;\"/></g><g class=\"point\"><path d=\"M251.82,188V183.87H256.1V188Z\" style=\"vector-effect: non-scaling-stroke; opacity: 1; stroke-width: 1px; fill: rgb(255, 153, 51); fill-opacity: 0.6; stroke: rgb(255, 153, 51); stroke-opacity: 1;\"/></g><g class=\"point\"><path d=\"M257.17,188V183.87H261.45V188Z\" style=\"vector-effect: non-scaling-stroke; opacity: 1; stroke-width: 1px; fill: rgb(255, 153, 51); fill-opacity: 0.6; stroke: rgb(255, 153, 51); stroke-opacity: 1;\"/></g><g class=\"point\"><path d=\"M262.51,188V183.87H266.79V188Z\" style=\"vector-effect: non-scaling-stroke; opacity: 1; stroke-width: 1px; fill: rgb(255, 153, 51); fill-opacity: 0.6; stroke: rgb(255, 153, 51); stroke-opacity: 1;\"/></g><g class=\"point\"><path d=\"M267.86,188V183.87H272.14V188Z\" style=\"vector-effect: non-scaling-stroke; opacity: 1; stroke-width: 1px; fill: rgb(255, 153, 51); fill-opacity: 0.6; stroke: rgb(255, 153, 51); stroke-opacity: 1;\"/></g><g class=\"point\"><path d=\"M273.21,188V183.87H277.49V188Z\" style=\"vector-effect: non-scaling-stroke; opacity: 1; stroke-width: 1px; fill: rgb(255, 153, 51); fill-opacity: 0.6; stroke: rgb(255, 153, 51); stroke-opacity: 1;\"/></g><g class=\"point\"><path d=\"M278.55,188V183.73H282.83V188Z\" style=\"vector-effect: non-scaling-stroke; opacity: 1; stroke-width: 1px; fill: rgb(255, 153, 51); fill-opacity: 0.6; stroke: rgb(255, 153, 51); stroke-opacity: 1;\"/></g><g class=\"point\"><path d=\"M283.9,188V183.6H288.18V188Z\" style=\"vector-effect: non-scaling-stroke; opacity: 1; stroke-width: 1px; fill: rgb(255, 153, 51); fill-opacity: 0.6; stroke: rgb(255, 153, 51); stroke-opacity: 1;\"/></g><g class=\"point\"><path d=\"M289.25,188V183.46H293.52V188Z\" style=\"vector-effect: non-scaling-stroke; opacity: 1; stroke-width: 1px; fill: rgb(255, 153, 51); fill-opacity: 0.6; stroke: rgb(255, 153, 51); stroke-opacity: 1;\"/></g><g class=\"point\"><path d=\"M294.59,188V183.46H298.87V188Z\" style=\"vector-effect: non-scaling-stroke; opacity: 1; stroke-width: 1px; fill: rgb(255, 153, 51); fill-opacity: 0.6; stroke: rgb(255, 153, 51); stroke-opacity: 1;\"/></g><g class=\"point\"><path d=\"M299.94,188V183.32H304.22V188Z\" style=\"vector-effect: non-scaling-stroke; opacity: 1; stroke-width: 1px; fill: rgb(255, 153, 51); fill-opacity: 0.6; stroke: rgb(255, 153, 51); stroke-opacity: 1;\"/></g><g class=\"point\"><path d=\"M305.29,188V183.32H309.56V188Z\" style=\"vector-effect: non-scaling-stroke; opacity: 1; stroke-width: 1px; fill: rgb(255, 153, 51); fill-opacity: 0.6; stroke: rgb(255, 153, 51); stroke-opacity: 1;\"/></g><g class=\"point\"><path d=\"M310.63,188V182.91H314.91V188Z\" style=\"vector-effect: non-scaling-stroke; opacity: 1; stroke-width: 1px; fill: rgb(255, 153, 51); fill-opacity: 0.6; stroke: rgb(255, 153, 51); stroke-opacity: 1;\"/></g><g class=\"point\"><path d=\"M315.98,188V182.63H320.26V188Z\" style=\"vector-effect: non-scaling-stroke; opacity: 1; stroke-width: 1px; fill: rgb(255, 153, 51); fill-opacity: 0.6; stroke: rgb(255, 153, 51); stroke-opacity: 1;\"/></g><g class=\"point\"><path d=\"M321.33,188V182.63H325.6V188Z\" style=\"vector-effect: non-scaling-stroke; opacity: 1; stroke-width: 1px; fill: rgb(255, 153, 51); fill-opacity: 0.6; stroke: rgb(255, 153, 51); stroke-opacity: 1;\"/></g><g class=\"point\"><path d=\"M326.67,188V182.5H330.95V188Z\" style=\"vector-effect: non-scaling-stroke; opacity: 1; stroke-width: 1px; fill: rgb(255, 153, 51); fill-opacity: 0.6; stroke: rgb(255, 153, 51); stroke-opacity: 1;\"/></g><g class=\"point\"><path d=\"M332.02,188V182.5H336.3V188Z\" style=\"vector-effect: non-scaling-stroke; opacity: 1; stroke-width: 1px; fill: rgb(255, 153, 51); fill-opacity: 0.6; stroke: rgb(255, 153, 51); stroke-opacity: 1;\"/></g><g class=\"point\"><path d=\"M337.37,188V182.5H341.64V188Z\" style=\"vector-effect: non-scaling-stroke; opacity: 1; stroke-width: 1px; fill: rgb(255, 153, 51); fill-opacity: 0.6; stroke: rgb(255, 153, 51); stroke-opacity: 1;\"/></g><g class=\"point\"><path d=\"M342.71,188V182.5H346.99V188Z\" style=\"vector-effect: non-scaling-stroke; opacity: 1; stroke-width: 1px; fill: rgb(255, 153, 51); fill-opacity: 0.6; stroke: rgb(255, 153, 51); stroke-opacity: 1;\"/></g><g class=\"point\"><path d=\"M348.06,188V182.36H352.34V188Z\" style=\"vector-effect: non-scaling-stroke; opacity: 1; stroke-width: 1px; fill: rgb(255, 153, 51); fill-opacity: 0.6; stroke: rgb(255, 153, 51); stroke-opacity: 1;\"/></g><g class=\"point\"><path d=\"M353.41,188V182.22H357.68V188Z\" style=\"vector-effect: non-scaling-stroke; opacity: 1; stroke-width: 1px; fill: rgb(255, 153, 51); fill-opacity: 0.6; stroke: rgb(255, 153, 51); stroke-opacity: 1;\"/></g><g class=\"point\"><path d=\"M358.75,188V182.08H363.03V188Z\" style=\"vector-effect: non-scaling-stroke; opacity: 1; stroke-width: 1px; fill: rgb(255, 153, 51); fill-opacity: 0.6; stroke: rgb(255, 153, 51); stroke-opacity: 1;\"/></g><g class=\"point\"><path d=\"M364.1,188V182.08H368.38V188Z\" style=\"vector-effect: non-scaling-stroke; opacity: 1; stroke-width: 1px; fill: rgb(255, 153, 51); fill-opacity: 0.6; stroke: rgb(255, 153, 51); stroke-opacity: 1;\"/></g><g class=\"point\"><path d=\"M369.45,188V181.67H373.72V188Z\" style=\"vector-effect: non-scaling-stroke; opacity: 1; stroke-width: 1px; fill: rgb(255, 153, 51); fill-opacity: 0.6; stroke: rgb(255, 153, 51); stroke-opacity: 1;\"/></g><g class=\"point\"><path d=\"M374.79,188V181.26H379.07V188Z\" style=\"vector-effect: non-scaling-stroke; opacity: 1; stroke-width: 1px; fill: rgb(255, 153, 51); fill-opacity: 0.6; stroke: rgb(255, 153, 51); stroke-opacity: 1;\"/></g><g class=\"point\"><path d=\"M380.14,188V181.12H384.42V188Z\" style=\"vector-effect: non-scaling-stroke; opacity: 1; stroke-width: 1px; fill: rgb(255, 153, 51); fill-opacity: 0.6; stroke: rgb(255, 153, 51); stroke-opacity: 1;\"/></g><g class=\"point\"><path d=\"M385.49,188V181.12H389.76V188Z\" style=\"vector-effect: non-scaling-stroke; opacity: 1; stroke-width: 1px; fill: rgb(255, 153, 51); fill-opacity: 0.6; stroke: rgb(255, 153, 51); stroke-opacity: 1;\"/></g><g class=\"point\"><path d=\"M390.83,188V180.98H395.11V188Z\" style=\"vector-effect: non-scaling-stroke; opacity: 1; stroke-width: 1px; fill: rgb(255, 153, 51); fill-opacity: 0.6; stroke: rgb(255, 153, 51); stroke-opacity: 1;\"/></g><g class=\"point\"><path d=\"M396.18,188V180.57H400.46V188Z\" style=\"vector-effect: non-scaling-stroke; opacity: 1; stroke-width: 1px; fill: rgb(255, 153, 51); fill-opacity: 0.6; stroke: rgb(255, 153, 51); stroke-opacity: 1;\"/></g><g class=\"point\"><path d=\"M401.52,188V179.88H405.8V188Z\" style=\"vector-effect: non-scaling-stroke; opacity: 1; stroke-width: 1px; fill: rgb(255, 153, 51); fill-opacity: 0.6; stroke: rgb(255, 153, 51); stroke-opacity: 1;\"/></g><g class=\"point\"><path d=\"M406.87,188V179.88H411.15V188Z\" style=\"vector-effect: non-scaling-stroke; opacity: 1; stroke-width: 1px; fill: rgb(255, 153, 51); fill-opacity: 0.6; stroke: rgb(255, 153, 51); stroke-opacity: 1;\"/></g><g class=\"point\"><path d=\"M412.22,188V179.74H416.5V188Z\" style=\"vector-effect: non-scaling-stroke; opacity: 1; stroke-width: 1px; fill: rgb(255, 153, 51); fill-opacity: 0.6; stroke: rgb(255, 153, 51); stroke-opacity: 1;\"/></g><g class=\"point\"><path d=\"M417.56,188V179.74H421.84V188Z\" style=\"vector-effect: non-scaling-stroke; opacity: 1; stroke-width: 1px; fill: rgb(255, 153, 51); fill-opacity: 0.6; stroke: rgb(255, 153, 51); stroke-opacity: 1;\"/></g><g class=\"point\"><path d=\"M422.91,188V179.74H427.19V188Z\" style=\"vector-effect: non-scaling-stroke; opacity: 1; stroke-width: 1px; fill: rgb(255, 153, 51); fill-opacity: 0.6; stroke: rgb(255, 153, 51); stroke-opacity: 1;\"/></g><g class=\"point\"><path d=\"M428.26,188V179.74H432.53V188Z\" style=\"vector-effect: non-scaling-stroke; opacity: 1; stroke-width: 1px; fill: rgb(255, 153, 51); fill-opacity: 0.6; stroke: rgb(255, 153, 51); stroke-opacity: 1;\"/></g><g class=\"point\"><path d=\"M433.6,188V179.33H437.88V188Z\" style=\"vector-effect: non-scaling-stroke; opacity: 1; stroke-width: 1px; fill: rgb(255, 153, 51); fill-opacity: 0.6; stroke: rgb(255, 153, 51); stroke-opacity: 1;\"/></g><g class=\"point\"><path d=\"M438.95,188V179.33H443.23V188Z\" style=\"vector-effect: non-scaling-stroke; opacity: 1; stroke-width: 1px; fill: rgb(255, 153, 51); fill-opacity: 0.6; stroke: rgb(255, 153, 51); stroke-opacity: 1;\"/></g><g class=\"point\"><path d=\"M444.3,188V179.06H448.57V188Z\" style=\"vector-effect: non-scaling-stroke; opacity: 1; stroke-width: 1px; fill: rgb(255, 153, 51); fill-opacity: 0.6; stroke: rgb(255, 153, 51); stroke-opacity: 1;\"/></g><g class=\"point\"><path d=\"M449.64,188V178.78H453.92V188Z\" style=\"vector-effect: non-scaling-stroke; opacity: 1; stroke-width: 1px; fill: rgb(255, 153, 51); fill-opacity: 0.6; stroke: rgb(255, 153, 51); stroke-opacity: 1;\"/></g><g class=\"point\"><path d=\"M454.99,188V178.37H459.27V188Z\" style=\"vector-effect: non-scaling-stroke; opacity: 1; stroke-width: 1px; fill: rgb(255, 153, 51); fill-opacity: 0.6; stroke: rgb(255, 153, 51); stroke-opacity: 1;\"/></g><g class=\"point\"><path d=\"M460.34,188V177.41H464.61V188Z\" style=\"vector-effect: non-scaling-stroke; opacity: 1; stroke-width: 1px; fill: rgb(255, 153, 51); fill-opacity: 0.6; stroke: rgb(255, 153, 51); stroke-opacity: 1;\"/></g><g class=\"point\"><path d=\"M465.68,188V176.58H469.96V188Z\" style=\"vector-effect: non-scaling-stroke; opacity: 1; stroke-width: 1px; fill: rgb(255, 153, 51); fill-opacity: 0.6; stroke: rgb(255, 153, 51); stroke-opacity: 1;\"/></g><g class=\"point\"><path d=\"M471.03,188V176.44H475.31V188Z\" style=\"vector-effect: non-scaling-stroke; opacity: 1; stroke-width: 1px; fill: rgb(255, 153, 51); fill-opacity: 0.6; stroke: rgb(255, 153, 51); stroke-opacity: 1;\"/></g><g class=\"point\"><path d=\"M476.38,188V176.03H480.65V188Z\" style=\"vector-effect: non-scaling-stroke; opacity: 1; stroke-width: 1px; fill: rgb(255, 153, 51); fill-opacity: 0.6; stroke: rgb(255, 153, 51); stroke-opacity: 1;\"/></g><g class=\"point\"><path d=\"M481.72,188V175.62H486V188Z\" style=\"vector-effect: non-scaling-stroke; opacity: 1; stroke-width: 1px; fill: rgb(255, 153, 51); fill-opacity: 0.6; stroke: rgb(255, 153, 51); stroke-opacity: 1;\"/></g><g class=\"point\"><path d=\"M487.07,188V174.79H491.35V188Z\" style=\"vector-effect: non-scaling-stroke; opacity: 1; stroke-width: 1px; fill: rgb(255, 153, 51); fill-opacity: 0.6; stroke: rgb(255, 153, 51); stroke-opacity: 1;\"/></g><g class=\"point\"><path d=\"M492.42,188V174.79H496.69V188Z\" style=\"vector-effect: non-scaling-stroke; opacity: 1; stroke-width: 1px; fill: rgb(255, 153, 51); fill-opacity: 0.6; stroke: rgb(255, 153, 51); stroke-opacity: 1;\"/></g><g class=\"point\"><path d=\"M497.76,188V174.24H502.04V188Z\" style=\"vector-effect: non-scaling-stroke; opacity: 1; stroke-width: 1px; fill: rgb(255, 153, 51); fill-opacity: 0.6; stroke: rgb(255, 153, 51); stroke-opacity: 1;\"/></g><g class=\"point\"><path d=\"M503.11,188V174.1H507.39V188Z\" style=\"vector-effect: non-scaling-stroke; opacity: 1; stroke-width: 1px; fill: rgb(255, 153, 51); fill-opacity: 0.6; stroke: rgb(255, 153, 51); stroke-opacity: 1;\"/></g><g class=\"point\"><path d=\"M508.46,188V173.97H512.73V188Z\" style=\"vector-effect: non-scaling-stroke; opacity: 1; stroke-width: 1px; fill: rgb(255, 153, 51); fill-opacity: 0.6; stroke: rgb(255, 153, 51); stroke-opacity: 1;\"/></g><g class=\"point\"><path d=\"M513.8,188V172.45H518.08V188Z\" style=\"vector-effect: non-scaling-stroke; opacity: 1; stroke-width: 1px; fill: rgb(255, 153, 51); fill-opacity: 0.6; stroke: rgb(255, 153, 51); stroke-opacity: 1;\"/></g><g class=\"point\"><path d=\"M519.15,188V172.04H523.43V188Z\" style=\"vector-effect: non-scaling-stroke; opacity: 1; stroke-width: 1px; fill: rgb(255, 153, 51); fill-opacity: 0.6; stroke: rgb(255, 153, 51); stroke-opacity: 1;\"/></g><g class=\"point\"><path d=\"M524.5,188V164.2H528.77V188Z\" style=\"vector-effect: non-scaling-stroke; opacity: 1; stroke-width: 1px; fill: rgb(255, 153, 51); fill-opacity: 0.6; stroke: rgb(255, 153, 51); stroke-opacity: 1;\"/></g><g class=\"point\"><path d=\"M529.84,188V145.07H534.12V188Z\" style=\"vector-effect: non-scaling-stroke; opacity: 1; stroke-width: 1px; fill: rgb(255, 153, 51); fill-opacity: 0.6; stroke: rgb(255, 153, 51); stroke-opacity: 1;\"/></g><g class=\"point\"><path d=\"M535.19,188V9.4H539.47V188Z\" style=\"vector-effect: non-scaling-stroke; opacity: 1; stroke-width: 1px; fill: rgb(255, 153, 51); fill-opacity: 0.6; stroke: rgb(255, 153, 51); stroke-opacity: 1;\"/></g></g></g></g></g><g class=\"overplot\"/><path class=\"xlines-above crisp\" d=\"M0,0\" style=\"fill: none;\"/><path class=\"ylines-above crisp\" d=\"M0,0\" style=\"fill: none;\"/><g class=\"overlines-above\"/><g class=\"xaxislayer-above\"><g class=\"xtick\"><text text-anchor=\"start\" x=\"0\" y=\"301\" transform=\"translate(82.67,0) rotate(90,0,295)\" style=\"font-family: 'Open Sans', verdana, arial, sans-serif; font-size: 12px; fill: rgb(77, 86, 99); fill-opacity: 1; white-space: pre;\">Благовещенск</text></g><g class=\"xtick\"><text text-anchor=\"start\" x=\"0\" y=\"301\" transform=\"translate(98.71000000000001,0) rotate(90,0,295)\" style=\"font-family: 'Open Sans', verdana, arial, sans-serif; font-size: 12px; fill: rgb(77, 86, 99); fill-opacity: 1; white-space: pre;\">Стрежевой</text></g><g class=\"xtick\"><text text-anchor=\"start\" x=\"0\" y=\"301\" transform=\"translate(114.75,0) rotate(90,0,295)\" style=\"font-family: 'Open Sans', verdana, arial, sans-serif; font-size: 12px; fill: rgb(77, 86, 99); fill-opacity: 1; white-space: pre;\">Усть-Кут</text></g><g class=\"xtick\"><text text-anchor=\"start\" x=\"0\" y=\"301\" transform=\"translate(130.79,0) rotate(90,0,295)\" style=\"font-family: 'Open Sans', verdana, arial, sans-serif; font-size: 12px; fill: rgb(77, 86, 99); fill-opacity: 1; white-space: pre;\">Иваново</text></g><g class=\"xtick\"><text text-anchor=\"start\" x=\"0\" y=\"301\" transform=\"translate(146.82999999999998,0) rotate(90,0,295)\" style=\"font-family: 'Open Sans', verdana, arial, sans-serif; font-size: 12px; fill: rgb(77, 86, 99); fill-opacity: 1; white-space: pre;\">Грозный</text></g><g class=\"xtick\"><text text-anchor=\"start\" x=\"0\" y=\"301\" transform=\"translate(162.87,0) rotate(90,0,295)\" style=\"font-family: 'Open Sans', verdana, arial, sans-serif; font-size: 12px; fill: rgb(77, 86, 99); fill-opacity: 1; white-space: pre;\">Кызыл</text></g><g class=\"xtick\"><text text-anchor=\"start\" x=\"0\" y=\"301\" transform=\"translate(178.91,0) rotate(90,0,295)\" style=\"font-family: 'Open Sans', verdana, arial, sans-serif; font-size: 12px; fill: rgb(77, 86, 99); fill-opacity: 1; white-space: pre;\">Псков</text></g><g class=\"xtick\"><text text-anchor=\"start\" x=\"0\" y=\"301\" transform=\"translate(194.95,0) rotate(90,0,295)\" style=\"font-family: 'Open Sans', verdana, arial, sans-serif; font-size: 12px; fill: rgb(77, 86, 99); fill-opacity: 1; white-space: pre;\">Чита</text></g><g class=\"xtick\"><text text-anchor=\"start\" x=\"0\" y=\"301\" transform=\"translate(210.99,0) rotate(90,0,295)\" style=\"font-family: 'Open Sans', verdana, arial, sans-serif; font-size: 12px; fill: rgb(77, 86, 99); fill-opacity: 1; white-space: pre;\">Белоярский</text></g><g class=\"xtick\"><text text-anchor=\"start\" x=\"0\" y=\"301\" transform=\"translate(227.03,0) rotate(90,0,295)\" style=\"font-family: 'Open Sans', verdana, arial, sans-serif; font-size: 12px; fill: rgb(77, 86, 99); fill-opacity: 1; white-space: pre;\">Кемерово</text></g><g class=\"xtick\"><text text-anchor=\"start\" x=\"0\" y=\"301\" transform=\"translate(243.07,0) rotate(90,0,295)\" style=\"font-family: 'Open Sans', verdana, arial, sans-serif; font-size: 12px; fill: rgb(77, 86, 99); fill-opacity: 1; white-space: pre;\">Воронеж</text></g><g class=\"xtick\"><text text-anchor=\"start\" x=\"0\" y=\"301\" transform=\"translate(259.11,0) rotate(90,0,295)\" style=\"font-family: 'Open Sans', verdana, arial, sans-serif; font-size: 12px; fill: rgb(77, 86, 99); fill-opacity: 1; white-space: pre;\">Анапа</text></g><g class=\"xtick\"><text text-anchor=\"start\" x=\"0\" y=\"301\" transform=\"translate(275.15,0) rotate(90,0,295)\" style=\"font-family: 'Open Sans', verdana, arial, sans-serif; font-size: 12px; fill: rgb(77, 86, 99); fill-opacity: 1; white-space: pre;\">Курск</text></g><g class=\"xtick\"><text text-anchor=\"start\" x=\"0\" y=\"301\" transform=\"translate(291.19,0) rotate(90,0,295)\" style=\"font-family: 'Open Sans', verdana, arial, sans-serif; font-size: 12px; fill: rgb(77, 86, 99); fill-opacity: 1; white-space: pre;\">Геленджик</text></g><g class=\"xtick\"><text text-anchor=\"start\" x=\"0\" y=\"301\" transform=\"translate(307.23,0) rotate(90,0,295)\" style=\"font-family: 'Open Sans', verdana, arial, sans-serif; font-size: 12px; fill: rgb(77, 86, 99); fill-opacity: 1; white-space: pre;\">Нерюнгри</text></g><g class=\"xtick\"><text text-anchor=\"start\" x=\"0\" y=\"301\" transform=\"translate(323.27,0) rotate(90,0,295)\" style=\"font-family: 'Open Sans', verdana, arial, sans-serif; font-size: 12px; fill: rgb(77, 86, 99); fill-opacity: 1; white-space: pre;\">Самара</text></g><g class=\"xtick\"><text text-anchor=\"start\" x=\"0\" y=\"301\" transform=\"translate(339.31,0) rotate(90,0,295)\" style=\"font-family: 'Open Sans', verdana, arial, sans-serif; font-size: 12px; fill: rgb(77, 86, 99); fill-opacity: 1; white-space: pre;\">Ноябрьск</text></g><g class=\"xtick\"><text text-anchor=\"start\" x=\"0\" y=\"301\" transform=\"translate(355.35,0) rotate(90,0,295)\" style=\"font-family: 'Open Sans', verdana, arial, sans-serif; font-size: 12px; fill: rgb(77, 86, 99); fill-opacity: 1; white-space: pre;\">Удачный</text></g><g class=\"xtick\"><text text-anchor=\"start\" x=\"0\" y=\"301\" transform=\"translate(371.39,0) rotate(90,0,295)\" style=\"font-family: 'Open Sans', verdana, arial, sans-serif; font-size: 12px; fill: rgb(77, 86, 99); fill-opacity: 1; white-space: pre;\">Махачкала</text></g><g class=\"xtick\"><text text-anchor=\"start\" x=\"0\" y=\"301\" transform=\"translate(387.43,0) rotate(90,0,295)\" style=\"font-family: 'Open Sans', verdana, arial, sans-serif; font-size: 12px; fill: rgb(77, 86, 99); fill-opacity: 1; white-space: pre;\">Минеральные Воды</text></g><g class=\"xtick\"><text text-anchor=\"start\" x=\"0\" y=\"301\" transform=\"translate(403.47,0) rotate(90,0,295)\" style=\"font-family: 'Open Sans', verdana, arial, sans-serif; font-size: 12px; fill: rgb(77, 86, 99); fill-opacity: 1; white-space: pre;\">Абакан</text></g><g class=\"xtick\"><text text-anchor=\"start\" x=\"0\" y=\"301\" transform=\"translate(419.5,0) rotate(90,0,295)\" style=\"font-family: 'Open Sans', verdana, arial, sans-serif; font-size: 12px; fill: rgb(77, 86, 99); fill-opacity: 1; white-space: pre;\">Магнитогорск</text></g><g class=\"xtick\"><text text-anchor=\"start\" x=\"0\" y=\"301\" transform=\"translate(435.54,0) rotate(90,0,295)\" style=\"font-family: 'Open Sans', verdana, arial, sans-serif; font-size: 12px; fill: rgb(77, 86, 99); fill-opacity: 1; white-space: pre;\">Томск</text></g><g class=\"xtick\"><text text-anchor=\"start\" x=\"0\" y=\"301\" transform=\"translate(451.58,0) rotate(90,0,295)\" style=\"font-family: 'Open Sans', verdana, arial, sans-serif; font-size: 12px; fill: rgb(77, 86, 99); fill-opacity: 1; white-space: pre;\">Воркута</text></g><g class=\"xtick\"><text text-anchor=\"start\" x=\"0\" y=\"301\" transform=\"translate(467.62,0) rotate(90,0,295)\" style=\"font-family: 'Open Sans', verdana, arial, sans-serif; font-size: 12px; fill: rgb(77, 86, 99); fill-opacity: 1; white-space: pre;\">Оренбург</text></g><g class=\"xtick\"><text text-anchor=\"start\" x=\"0\" y=\"301\" transform=\"translate(483.66,0) rotate(90,0,295)\" style=\"font-family: 'Open Sans', verdana, arial, sans-serif; font-size: 12px; fill: rgb(77, 86, 99); fill-opacity: 1; white-space: pre;\">Петрозаводск</text></g><g class=\"xtick\"><text text-anchor=\"start\" x=\"0\" y=\"301\" transform=\"translate(499.7,0) rotate(90,0,295)\" style=\"font-family: 'Open Sans', verdana, arial, sans-serif; font-size: 12px; fill: rgb(77, 86, 99); fill-opacity: 1; white-space: pre;\">Белгород</text></g><g class=\"xtick\"><text text-anchor=\"start\" x=\"0\" y=\"301\" transform=\"translate(515.74,0) rotate(90,0,295)\" style=\"font-family: 'Open Sans', verdana, arial, sans-serif; font-size: 12px; fill: rgb(77, 86, 99); fill-opacity: 1; white-space: pre;\">Мирный</text></g><g class=\"xtick\"><text text-anchor=\"start\" x=\"0\" y=\"301\" transform=\"translate(531.78,0) rotate(90,0,295)\" style=\"font-family: 'Open Sans', verdana, arial, sans-serif; font-size: 12px; fill: rgb(77, 86, 99); fill-opacity: 1; white-space: pre;\">Челябинск</text></g><g class=\"xtick\"><text text-anchor=\"start\" x=\"0\" y=\"301\" transform=\"translate(547.8199999999999,0) rotate(90,0,295)\" style=\"font-family: 'Open Sans', verdana, arial, sans-serif; font-size: 12px; fill: rgb(77, 86, 99); fill-opacity: 1; white-space: pre;\">Новый Уренгой</text></g><g class=\"xtick\"><text text-anchor=\"start\" x=\"0\" y=\"301\" transform=\"translate(563.86,0) rotate(90,0,295)\" style=\"font-family: 'Open Sans', verdana, arial, sans-serif; font-size: 12px; fill: rgb(77, 86, 99); fill-opacity: 1; white-space: pre;\">Советский</text></g><g class=\"xtick\"><text text-anchor=\"start\" x=\"0\" y=\"301\" transform=\"translate(579.9,0) rotate(90,0,295)\" style=\"font-family: 'Open Sans', verdana, arial, sans-serif; font-size: 12px; fill: rgb(77, 86, 99); fill-opacity: 1; white-space: pre;\">Брянск</text></g><g class=\"xtick\"><text text-anchor=\"start\" x=\"0\" y=\"301\" transform=\"translate(595.94,0) rotate(90,0,295)\" style=\"font-family: 'Open Sans', verdana, arial, sans-serif; font-size: 12px; fill: rgb(77, 86, 99); fill-opacity: 1; white-space: pre;\">Екатеринбург</text></g><g class=\"xtick\"><text text-anchor=\"start\" x=\"0\" y=\"301\" transform=\"translate(611.98,0) rotate(90,0,295)\" style=\"font-family: 'Open Sans', verdana, arial, sans-serif; font-size: 12px; fill: rgb(77, 86, 99); fill-opacity: 1; white-space: pre;\">Санкт-Петербург</text></g></g><g class=\"yaxislayer-above\"><g class=\"ytick\"><text text-anchor=\"end\" x=\"79\" y=\"4.199999999999999\" transform=\"translate(0,288)\" style=\"font-family: 'Open Sans', verdana, arial, sans-serif; font-size: 12px; fill: rgb(77, 86, 99); fill-opacity: 1; white-space: pre;\">0</text></g><g class=\"ytick\"><text text-anchor=\"end\" x=\"79\" y=\"4.199999999999999\" transform=\"translate(0,219.2)\" style=\"font-family: 'Open Sans', verdana, arial, sans-serif; font-size: 12px; fill: rgb(77, 86, 99); fill-opacity: 1; white-space: pre;\">50</text></g><g class=\"ytick\"><text text-anchor=\"end\" x=\"79\" y=\"4.199999999999999\" transform=\"translate(0,150.4)\" style=\"font-family: 'Open Sans', verdana, arial, sans-serif; font-size: 12px; fill: rgb(77, 86, 99); fill-opacity: 1; white-space: pre;\">100</text></g></g><g class=\"overaxes-above\"/></g></g><g class=\"polarlayer\"/><g class=\"ternarylayer\"/><g class=\"geolayer\"/><g class=\"funnelarealayer\"/><g class=\"pielayer\"/><g class=\"treemaplayer\"/><g class=\"sunburstlayer\"/><g class=\"glimages\"/><defs id=\"topdefs-7dcb2b\"><g class=\"clips\"/></defs><g class=\"layer-above\"><g class=\"imagelayer\"/><g class=\"shapelayer\"/></g><g class=\"infolayer\"><g class=\"g-gtitle\"><text class=\"gtitle\" x=\"35\" y=\"50\" text-anchor=\"start\" dy=\"0em\" style=\"font-family: 'Open Sans', verdana, arial, sans-serif; font-size: 17px; fill: rgb(77, 86, 99); opacity: 1; font-weight: normal; white-space: pre;\">Cреднее кол-во рейсов, прибывающих в город за день в сентябре 2018г.</text></g><g class=\"g-xtitle\"><text class=\"xtitle\" x=\"350\" y=\"438.3778961181641\" text-anchor=\"middle\" style=\"font-family: 'Open Sans', verdana, arial, sans-serif; font-size: 14px; fill: rgb(77, 86, 99); opacity: 1; font-weight: normal; white-space: pre;\">Города</text></g><g class=\"g-ytitle\"><text class=\"ytitle\" transform=\"rotate(-90,33.60625,194)\" x=\"33.60625\" y=\"194\" text-anchor=\"middle\" style=\"font-family: 'Open Sans', verdana, arial, sans-serif; font-size: 14px; fill: rgb(77, 86, 99); opacity: 1; font-weight: normal; white-space: pre;\">Среднее количество рейсов</text></g></g></svg>"
      ]
     },
     "metadata": {},
     "output_type": "display_data"
    }
   ],
   "source": [
    "query_3.sort_values('average_flights').iplot(kind='bar', x='city', y='average_flights', xTitle='Города',\n",
    "                                             yTitle='Среднее количество рейсов', \n",
    "                                             title='Cреднее кол-во рейсов, прибывающих в город за день в сентябре 2018г.')"
   ]
  },
  {
   "cell_type": "code",
   "execution_count": 10,
   "metadata": {
    "scrolled": false
   },
   "outputs": [
    {
     "data": {
      "image/png": "[encoded data removed]",
      "text/plain": [
       "<Figure size 1800x576 with 2 Axes>"
      ]
     },
     "metadata": {
      "needs_background": "light"
     },
     "output_type": "display_data"
    }
   ],
   "source": [
    "fig, ax = plt.subplots(1, 2, figsize=(25,8))\n",
    "sns.barplot(data = query_1, x='flights_amount', y='model', ax=ax[0])\n",
    "sns.barplot(data = q3_top10, x='average_flights', y='city',  ax=ax[1])\n",
    "\n",
    "ax[0].set_title('Кол-во рейсов в сентябре 2018г.', fontsize=16, pad = 30)\n",
    "ax[1].set_title('Среднее кол-во рейсов, прибывающих в город за день в сентябре 2018г.', fontsize=16, pad = 30)\n",
    "\n",
    "fig.show(warn=False)\n",
    "# plt.close(1)\n",
    "# plt.close()"
   ]
  },
  {
   "cell_type": "markdown",
   "metadata": {},
   "source": [
    "Проанализировав статистику по среднему количеству рейсов, прибывающих в города  за день в сентябре 2018 года, можно сделать следующие выводы:  \n",
    "\n",
    "- помимо столицы, в топ-10 попали в основном [города миллионники](https://zen.yandex.ru/media/newsment/gorodamillionniki-rossii-v-2019-godu-aktualnyi-spisok-5dc96e63eec9e2085b076909?utm_source=serp) и [города федерального, либо областного значения](https://ru.wikipedia.org/wiki/Категории_городов_(Россия));\n",
    "- Москва с большим отрывом (\\~130) лидирует по пассажиропотоку, опережая Северную столицу более, чем в 4 раза (\\~31);\n",
    "- замыкает тройку крупнейший за Уралом аэропорт Новосибирска (~17);\n",
    "- остальные города по \"нагруженности\" из топ-10 со средним количеством ~10 рейсов в день.   \n",
    "\n",
    "\n",
    "Относительно статистики по количеству рейсов для каждой модели самолетов в сентябре 2018 года можно сказать следующее:  \n",
    "\n",
    "- [ближнемагистральные/региональные модели самолетов](https://ru.wikipedia.org/wiki/Региональный_самолёт) совершают значительно больше полетов, чем средне-дальнемагистральные.\n"
   ]
  },
  {
   "cell_type": "markdown",
   "metadata": {},
   "source": [
    "### 2."
   ]
  },
  {
   "cell_type": "code",
   "execution_count": 11,
   "metadata": {},
   "outputs": [
    {
     "data": {
      "text/html": [
       "<div>\n",
       "<style scoped>\n",
       "    .dataframe tbody tr th:only-of-type {\n",
       "        vertical-align: middle;\n",
       "    }\n",
       "\n",
       "    .dataframe tbody tr th {\n",
       "        vertical-align: top;\n",
       "    }\n",
       "\n",
       "    .dataframe thead th {\n",
       "        text-align: right;\n",
       "    }\n",
       "</style>\n",
       "<table border=\"1\" class=\"dataframe\">\n",
       "  <thead>\n",
       "    <tr style=\"text-align: right;\">\n",
       "      <th></th>\n",
       "      <th>week_number</th>\n",
       "      <th>ticket_amount</th>\n",
       "      <th>festival_week</th>\n",
       "      <th>festival_name</th>\n",
       "    </tr>\n",
       "  </thead>\n",
       "  <tbody>\n",
       "    <tr>\n",
       "      <th>0</th>\n",
       "      <td>30</td>\n",
       "      <td>43568</td>\n",
       "      <td>30.0</td>\n",
       "      <td>Park Live</td>\n",
       "    </tr>\n",
       "    <tr>\n",
       "      <th>1</th>\n",
       "      <td>31</td>\n",
       "      <td>51034</td>\n",
       "      <td>31.0</td>\n",
       "      <td>Пикник Афиши</td>\n",
       "    </tr>\n",
       "    <tr>\n",
       "      <th>2</th>\n",
       "      <td>32</td>\n",
       "      <td>51675</td>\n",
       "      <td>NaN</td>\n",
       "      <td>NaN</td>\n",
       "    </tr>\n",
       "    <tr>\n",
       "      <th>3</th>\n",
       "      <td>33</td>\n",
       "      <td>51378</td>\n",
       "      <td>NaN</td>\n",
       "      <td>NaN</td>\n",
       "    </tr>\n",
       "    <tr>\n",
       "      <th>4</th>\n",
       "      <td>34</td>\n",
       "      <td>51492</td>\n",
       "      <td>NaN</td>\n",
       "      <td>NaN</td>\n",
       "    </tr>\n",
       "    <tr>\n",
       "      <th>5</th>\n",
       "      <td>35</td>\n",
       "      <td>51360</td>\n",
       "      <td>NaN</td>\n",
       "      <td>NaN</td>\n",
       "    </tr>\n",
       "    <tr>\n",
       "      <th>6</th>\n",
       "      <td>36</td>\n",
       "      <td>51386</td>\n",
       "      <td>36.0</td>\n",
       "      <td>Видфест</td>\n",
       "    </tr>\n",
       "    <tr>\n",
       "      <th>7</th>\n",
       "      <td>37</td>\n",
       "      <td>51670</td>\n",
       "      <td>NaN</td>\n",
       "      <td>NaN</td>\n",
       "    </tr>\n",
       "    <tr>\n",
       "      <th>8</th>\n",
       "      <td>38</td>\n",
       "      <td>51518</td>\n",
       "      <td>NaN</td>\n",
       "      <td>NaN</td>\n",
       "    </tr>\n",
       "    <tr>\n",
       "      <th>9</th>\n",
       "      <td>39</td>\n",
       "      <td>51623</td>\n",
       "      <td>NaN</td>\n",
       "      <td>NaN</td>\n",
       "    </tr>\n",
       "  </tbody>\n",
       "</table>\n",
       "</div>"
      ],
      "text/plain": [
       "   week_number  ticket_amount  festival_week festival_name\n",
       "0           30          43568           30.0     Park Live\n",
       "1           31          51034           31.0  Пикник Афиши\n",
       "2           32          51675            NaN           NaN\n",
       "3           33          51378            NaN           NaN\n",
       "4           34          51492            NaN           NaN\n",
       "5           35          51360            NaN           NaN\n",
       "6           36          51386           36.0       Видфест\n",
       "7           37          51670            NaN           NaN\n",
       "8           38          51518            NaN           NaN\n",
       "9           39          51623            NaN           NaN"
      ]
     },
     "execution_count": 11,
     "metadata": {},
     "output_type": "execute_result"
    }
   ],
   "source": [
    "query_last= pd.read_csv('/my_ds_projects/Yandex-Projects/datasets/query_last.csv')\n",
    "query_last"
   ]
  },
  {
   "cell_type": "markdown",
   "metadata": {},
   "source": [
    "Выделим из исходного запроса наблюдения по количеству проданных билетов и разделим их на фестивальные и не фестивальные.  "
   ]
  },
  {
   "cell_type": "code",
   "execution_count": 12,
   "metadata": {
    "scrolled": true
   },
   "outputs": [],
   "source": [
    "festival_1 = query_last.dropna()[['ticket_amount']]\n",
    "festival_0 = query_last[query_last['festival_name'].isnull()][['ticket_amount']]\n",
    "\n",
    "festival_0 = festival_0.iloc[:,0]\n",
    "festival_1 = festival_1.iloc[:,0]"
   ]
  },
  {
   "cell_type": "markdown",
   "metadata": {},
   "source": [
    "Чтобы проверить гипотезу о том, что средний спрос на билеты во время фестивалей не отличается от среднего спроса на билеты в обычное время, применим двухсторонний тест для нулевой гипотезы (2 независимых выборки имеют одинаковые средние значения) `scipy.stats.ttest_ind()` и тест Колмогорова-Смирнова `scipy.stats.ks_2samp`. За нулевую гипотезу примем, что средний спрос на билеты не отличается (фестивали не влияют на продажи билетов). Альтернативная гипотеза (прямо противоположна нулевой) - спрос на билеты меняется (фестивали влияют на продажи авиабилетов). Границу нулевой гипотезы определим в 1%. Доверительный интервал - 99%.  \n",
    "\n",
    "Сначала изучим интервалы стандартного отклонения и вероятность попасть в эти интервалы.\n",
    "\n",
    "Напишем функцию для расчета и применим её к обоим выборкам."
   ]
  },
  {
   "cell_type": "code",
   "execution_count": 13,
   "metadata": {},
   "outputs": [],
   "source": [
    "def probability(sample):\n",
    "    sample_mean = np.round((sample.mean()),  decimals=1)\n",
    "    print('Среднее количество проданных билетов за неделю:', sample_mean, '\\n')\n",
    "\n",
    "    variance = np.var(sample, ddof=1)\n",
    "    print('Дисперсия:', variance)\n",
    "    deviation = np.sqrt(variance)\n",
    "        \n",
    "    distr = st.norm(sample_mean, deviation) \n",
    "\n",
    "    x1 = sample_mean - deviation\n",
    "    x2 = sample_mean + deviation\n",
    "\n",
    "    prob = distr.cdf(x2) - distr.cdf(x1)\n",
    "    print('\\nВероятность реализации за неделю от {:.0f} до {:.0f} билетов равна {:.1%}.'\n",
    "          .format(x1, x2, prob),'\\n'*2)"
   ]
  },
  {
   "cell_type": "code",
   "execution_count": 14,
   "metadata": {
    "scrolled": true
   },
   "outputs": [
    {
     "name": "stdout",
     "output_type": "stream",
     "text": [
      "- НЕДЕЛЯ БЕЗ ФЕСТИВАЛЯ - \n",
      "\n",
      "Среднее количество проданных билетов за неделю: 51530.9 \n",
      "\n",
      "Дисперсия: 17143.476190476194\n",
      "\n",
      "Вероятность реализации за неделю от 51400 до 51662 билетов равна 68.3%. \n",
      "\n",
      "\n",
      "- ФЕСТИВАЛЬНАЯ НЕДЕЛЯ - \n",
      "\n",
      "Среднее количество проданных билетов за неделю: 48662.7 \n",
      "\n",
      "Дисперсия: 19497697.333333332\n",
      "\n",
      "Вероятность реализации за неделю от 44247 до 53078 билетов равна 68.3%. \n",
      "\n",
      "\n"
     ]
    }
   ],
   "source": [
    "print('- НЕДЕЛЯ БЕЗ ФЕСТИВАЛЯ - \\n')\n",
    "probability(festival_0)\n",
    "\n",
    "print('- ФЕСТИВАЛЬНАЯ НЕДЕЛЯ - \\n')\n",
    "probability(festival_1)"
   ]
  },
  {
   "cell_type": "markdown",
   "metadata": {},
   "source": [
    "Принимая во внимание незначительное количество наблюдений, видим, что математическое среднее выборок продаж разнится, однако, вероятности продаж билетов вне фестивальных недель и фестивальных полностью перекрываются (распределение продаж билетов в НЕ фестивальную неделю (51400-51662) находится внутри распределения в фестивальную (44247-53078)).  \n",
    "\n",
    "В то же время, дисперсия выборок разнится более, чем в тысячу раз. "
   ]
  },
  {
   "cell_type": "code",
   "execution_count": 15,
   "metadata": {
    "scrolled": true
   },
   "outputs": [
    {
     "name": "stdout",
     "output_type": "stream",
     "text": [
      "p-value: 0.377432493172683\n",
      "Не получилось отвергнуть нулевую гипотезу\n"
     ]
    }
   ],
   "source": [
    "alpha = .01 # критический уровень статистической значимости\n",
    "\n",
    "results = st.ttest_ind(festival_0, festival_1, equal_var=False) \n",
    "    \n",
    "print('p-value:', results.pvalue)\n",
    "\n",
    "if (results.pvalue < alpha):\n",
    "    print(\"Отвергаем нулевую гипотезу\")\n",
    "else:\n",
    "    print(\"Не получилось отвергнуть нулевую гипотезу\")"
   ]
  },
  {
   "cell_type": "markdown",
   "metadata": {},
   "source": [
    "Принимаем нулевую гипотезу, соответственно, фестивали не влияют на продажи билетов.  \n",
    "\n",
    "---\n",
    "\n",
    "#### Проверим гипотезу используя тест Колмогорова-Смирнова."
   ]
  },
  {
   "cell_type": "code",
   "execution_count": 16,
   "metadata": {},
   "outputs": [
    {
     "data": {
      "text/plain": [
       "Ks_2sampResult(statistic=0.7142857142857143, pvalue=0.16666666666666685)"
      ]
     },
     "execution_count": 16,
     "metadata": {},
     "output_type": "execute_result"
    }
   ],
   "source": [
    "ks_2samp(festival_1, festival_0)"
   ]
  },
  {
   "cell_type": "markdown",
   "metadata": {},
   "source": [
    "---\n",
    "\n",
    "### Как видим, в обоих тестах `p-value > alpha` - мы не можем отвергнуть гипотезу о том, что  \n",
    "***«Средний спрос на билеты во время фестивалей не отличается от среднего спроса на билеты в обычное время».***  \n",
    "\n",
    "---"
   ]
  }
 ],
 "metadata": {
  "kernelspec": {
   "display_name": "Python 3",
   "language": "python",
   "name": "python3"
  },
  "language_info": {
   "codemirror_mode": {
    "name": "ipython",
    "version": 3
   },
   "file_extension": ".py",
   "mimetype": "text/x-python",
   "name": "python",
   "nbconvert_exporter": "python",
   "pygments_lexer": "ipython3",
   "version": "3.7.7"
  }
 },
 "nbformat": 4,
 "nbformat_minor": 2
}
