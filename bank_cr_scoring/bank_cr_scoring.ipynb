{
 "cells": [
  {
   "cell_type": "markdown",
   "metadata": {},
   "source": [
    "## Исследование надёжности заёмщиков\n",
    "\n",
    "Заказчик — кредитный отдел банка. Нужно разобраться, влияет ли семейное положение и количество детей клиента на факт погашения кредита в срок. Входные данные от банка — статистика о платёжеспособности клиентов.\n",
    "\n",
    "Результаты исследования будут учтены при построении модели **кредитного скоринга** — специальной системы, которая оценивает способность потенциального заёмщика вернуть кредит банку."
   ]
  },
  {
   "cell_type": "markdown",
   "metadata": {},
   "source": [
    "### 1. Открываем файл с данными и изучаем общую информацию. "
   ]
  },
  {
   "cell_type": "code",
   "execution_count": null,
   "metadata": {
    "scrolled": true
   },
   "outputs": [],
   "source": [
    "import pandas as pd\n",
    "data = pd.read_csv('datasets/bank_creditscoring.csv')\n",
    "data"
   ]
  },
  {
   "cell_type": "code",
   "execution_count": 2,
   "metadata": {
    "scrolled": true
   },
   "outputs": [
    {
     "name": "stdout",
     "output_type": "stream",
     "text": [
      "<class 'pandas.core.frame.DataFrame'>\n",
      "RangeIndex: 21525 entries, 0 to 21524\n",
      "Data columns (total 12 columns):\n",
      "children            21525 non-null int64\n",
      "days_employed       19351 non-null float64\n",
      "dob_years           21525 non-null int64\n",
      "education           21525 non-null object\n",
      "education_id        21525 non-null int64\n",
      "family_status       21525 non-null object\n",
      "family_status_id    21525 non-null int64\n",
      "gender              21525 non-null object\n",
      "income_type         21525 non-null object\n",
      "debt                21525 non-null int64\n",
      "total_income        19351 non-null float64\n",
      "purpose             21525 non-null object\n",
      "dtypes: float64(2), int64(5), object(5)\n",
      "memory usage: 2.0+ MB\n"
     ]
    }
   ],
   "source": [
    "data.info()"
   ]
  },
  {
   "cell_type": "markdown",
   "metadata": {},
   "source": [
    "### Вывод"
   ]
  },
  {
   "cell_type": "markdown",
   "metadata": {},
   "source": [
    "В нашей таблице достаточно много корректной информации для решения нашей задачи. На мой взгляд, чтобы ответить на вопрос проекта, важна следующая информация:\n",
    "\n",
    "- имел ли задолженность по возврату кредитов (`debt`),\n",
    "- количество детей (`children`),\n",
    "- семейное положении (`family_status`),\n",
    "- половая принадлежность (`gender`),\n",
    "- возраст клиента (`dob_years`),\n",
    "- цель кредита (`purpose`).\n"
   ]
  },
  {
   "cell_type": "markdown",
   "metadata": {},
   "source": [
    "### 2. Предобработка данных\n",
    "\n",
    "Рассмотрим подробнее каждую и приведём в надлежащий вид.\n"
   ]
  },
  {
   "cell_type": "markdown",
   "metadata": {},
   "source": [
    "**Определяем и заполняем пропущенные значения**\n",
    "\n",
    "В информационной таблице `info()` видно, что в столбцах `days_employed` и `total_income` есть non-null объекты. Воспользуемся методом `.fillna()` для замены отсутствующих данных на конкретные числовые значения. Так как количество данных пропусков достаточно незначительно, можем основываться на средних имеющихся в таблице данных. Причем, замену будем производить на среднюю величину для каждого вида деятельности кредитора `income_type`. Сгруппируем по типу занятости `income_type` и заменим NaN  на соответствующую среднюю величину. В результате, ячейки с пропусками в столбце `days_employed` будут заполнены средней продолжительностью стажа по каждой категории типа занятости заёмщика. А пропущенные ячейки в колонке `total_income` будут заполнены среднеми значениями доходов по данному типу занятости кредитора. "
   ]
  },
  {
   "cell_type": "code",
   "execution_count": 3,
   "metadata": {
    "scrolled": true
   },
   "outputs": [
    {
     "name": "stdout",
     "output_type": "stream",
     "text": [
      "<class 'pandas.core.frame.DataFrame'>\n",
      "RangeIndex: 21525 entries, 0 to 21524\n",
      "Data columns (total 12 columns):\n",
      "children            21525 non-null int64\n",
      "days_employed       21525 non-null float64\n",
      "dob_years           21525 non-null int64\n",
      "education           21525 non-null object\n",
      "education_id        21525 non-null int64\n",
      "family_status       21525 non-null object\n",
      "family_status_id    21525 non-null int64\n",
      "gender              21525 non-null object\n",
      "income_type         21525 non-null object\n",
      "debt                21525 non-null int64\n",
      "total_income        21525 non-null float64\n",
      "purpose             21525 non-null object\n",
      "dtypes: float64(2), int64(5), object(5)\n",
      "memory usage: 2.0+ MB\n"
     ]
    }
   ],
   "source": [
    "data['days_employed'] = data.groupby(['income_type'])['days_employed'].transform(lambda x: x.fillna(x.mean()))\n",
    "data['total_income'] = data.groupby(['income_type'])['total_income'].transform(lambda x: x.fillna(x.mean()))\n",
    "data.info()"
   ]
  },
  {
   "cell_type": "markdown",
   "metadata": {},
   "source": [
    "---\n",
    "\n",
    "**Замена вещественного типа данных на целочисленный**\n",
    "\n",
    "Анализируя столбцы `days_employed` и `total_income` бросаются в глаза столбцы с отрицательным числами (используем функцию `abs()`для возврата абсолютного значения числа) и цифрами с 6-ю знаками после запятой (используем функцию `astype('int')`). Приведём данные в этих колонках в надлежащий вид.  "
   ]
  },
  {
   "cell_type": "code",
   "execution_count": 4,
   "metadata": {
    "scrolled": true
   },
   "outputs": [
    {
     "data": {
      "text/html": [
       "<div>\n",
       "<style scoped>\n",
       "    .dataframe tbody tr th:only-of-type {\n",
       "        vertical-align: middle;\n",
       "    }\n",
       "\n",
       "    .dataframe tbody tr th {\n",
       "        vertical-align: top;\n",
       "    }\n",
       "\n",
       "    .dataframe thead th {\n",
       "        text-align: right;\n",
       "    }\n",
       "</style>\n",
       "<table border=\"1\" class=\"dataframe\">\n",
       "  <thead>\n",
       "    <tr style=\"text-align: right;\">\n",
       "      <th></th>\n",
       "      <th>children</th>\n",
       "      <th>days_employed</th>\n",
       "      <th>dob_years</th>\n",
       "      <th>education</th>\n",
       "      <th>education_id</th>\n",
       "      <th>family_status</th>\n",
       "      <th>family_status_id</th>\n",
       "      <th>gender</th>\n",
       "      <th>income_type</th>\n",
       "      <th>debt</th>\n",
       "      <th>total_income</th>\n",
       "      <th>purpose</th>\n",
       "    </tr>\n",
       "  </thead>\n",
       "  <tbody>\n",
       "    <tr>\n",
       "      <td>0</td>\n",
       "      <td>1</td>\n",
       "      <td>8437</td>\n",
       "      <td>42</td>\n",
       "      <td>высшее</td>\n",
       "      <td>0</td>\n",
       "      <td>женат / замужем</td>\n",
       "      <td>0</td>\n",
       "      <td>F</td>\n",
       "      <td>сотрудник</td>\n",
       "      <td>0</td>\n",
       "      <td>253875</td>\n",
       "      <td>покупка жилья</td>\n",
       "    </tr>\n",
       "    <tr>\n",
       "      <td>1</td>\n",
       "      <td>1</td>\n",
       "      <td>4024</td>\n",
       "      <td>36</td>\n",
       "      <td>среднее</td>\n",
       "      <td>1</td>\n",
       "      <td>женат / замужем</td>\n",
       "      <td>0</td>\n",
       "      <td>F</td>\n",
       "      <td>сотрудник</td>\n",
       "      <td>0</td>\n",
       "      <td>112080</td>\n",
       "      <td>приобретение автомобиля</td>\n",
       "    </tr>\n",
       "    <tr>\n",
       "      <td>2</td>\n",
       "      <td>0</td>\n",
       "      <td>5623</td>\n",
       "      <td>33</td>\n",
       "      <td>Среднее</td>\n",
       "      <td>1</td>\n",
       "      <td>женат / замужем</td>\n",
       "      <td>0</td>\n",
       "      <td>M</td>\n",
       "      <td>сотрудник</td>\n",
       "      <td>0</td>\n",
       "      <td>145885</td>\n",
       "      <td>покупка жилья</td>\n",
       "    </tr>\n",
       "    <tr>\n",
       "      <td>3</td>\n",
       "      <td>3</td>\n",
       "      <td>4124</td>\n",
       "      <td>32</td>\n",
       "      <td>среднее</td>\n",
       "      <td>1</td>\n",
       "      <td>женат / замужем</td>\n",
       "      <td>0</td>\n",
       "      <td>M</td>\n",
       "      <td>сотрудник</td>\n",
       "      <td>0</td>\n",
       "      <td>267628</td>\n",
       "      <td>дополнительное образование</td>\n",
       "    </tr>\n",
       "    <tr>\n",
       "      <td>4</td>\n",
       "      <td>0</td>\n",
       "      <td>340266</td>\n",
       "      <td>53</td>\n",
       "      <td>среднее</td>\n",
       "      <td>1</td>\n",
       "      <td>гражданский брак</td>\n",
       "      <td>1</td>\n",
       "      <td>F</td>\n",
       "      <td>пенсионер</td>\n",
       "      <td>0</td>\n",
       "      <td>158616</td>\n",
       "      <td>сыграть свадьбу</td>\n",
       "    </tr>\n",
       "  </tbody>\n",
       "</table>\n",
       "</div>"
      ],
      "text/plain": [
       "   children  days_employed  dob_years education  education_id  \\\n",
       "0         1           8437         42    высшее             0   \n",
       "1         1           4024         36   среднее             1   \n",
       "2         0           5623         33   Среднее             1   \n",
       "3         3           4124         32   среднее             1   \n",
       "4         0         340266         53   среднее             1   \n",
       "\n",
       "      family_status  family_status_id gender income_type  debt  total_income  \\\n",
       "0   женат / замужем                 0      F   сотрудник     0        253875   \n",
       "1   женат / замужем                 0      F   сотрудник     0        112080   \n",
       "2   женат / замужем                 0      M   сотрудник     0        145885   \n",
       "3   женат / замужем                 0      M   сотрудник     0        267628   \n",
       "4  гражданский брак                 1      F   пенсионер     0        158616   \n",
       "\n",
       "                      purpose  \n",
       "0               покупка жилья  \n",
       "1     приобретение автомобиля  \n",
       "2               покупка жилья  \n",
       "3  дополнительное образование  \n",
       "4             сыграть свадьбу  "
      ]
     },
     "execution_count": 4,
     "metadata": {},
     "output_type": "execute_result"
    }
   ],
   "source": [
    "data['days_employed'] = abs(data['days_employed'].astype('int'))\n",
    "data['total_income'] = abs(data['total_income'].astype('int'))\n",
    "data.head()"
   ]
  },
  {
   "cell_type": "markdown",
   "metadata": {},
   "source": [
    "---\n",
    "\n",
    "**Удаление дубликатов**\n",
    "\n",
    "Выясним есть ли в нашей таблице дубликаты строк методом `duplicated()`, и удалим их методом `drop_duplicates()`."
   ]
  },
  {
   "cell_type": "code",
   "execution_count": 5,
   "metadata": {},
   "outputs": [
    {
     "name": "stdout",
     "output_type": "stream",
     "text": [
      "Кол-во дублей = 54\n"
     ]
    }
   ],
   "source": [
    "print('Кол-во дублей = {:.0f}'.format(data.duplicated().sum()))"
   ]
  },
  {
   "cell_type": "code",
   "execution_count": 6,
   "metadata": {
    "scrolled": true
   },
   "outputs": [
    {
     "name": "stdout",
     "output_type": "stream",
     "text": [
      "Кол-во дублей = 0\n"
     ]
    }
   ],
   "source": [
    "data.drop_duplicates(inplace = True)\n",
    "print('Кол-во дублей = {:.0f}'.format(data.duplicated().sum() ) )"
   ]
  },
  {
   "cell_type": "markdown",
   "metadata": {},
   "source": [
    "В столбце `education` обнаруждено много дублей, связанных с разным написанием одних и тех же слов. Часть вводили строчными, часть заглавными буквами и еще есть слов с загланой первой буквой. Необходимо привести этои слова в нижний регистр методом `str.lower()`. "
   ]
  },
  {
   "cell_type": "code",
   "execution_count": 7,
   "metadata": {},
   "outputs": [
    {
     "data": {
      "text/plain": [
       "array(['высшее', 'среднее', 'Среднее', 'СРЕДНЕЕ', 'ВЫСШЕЕ',\n",
       "       'неоконченное высшее', 'начальное', 'Высшее',\n",
       "       'НЕОКОНЧЕННОЕ ВЫСШЕЕ', 'Неоконченное высшее', 'НАЧАЛЬНОЕ',\n",
       "       'Начальное', 'Ученая степень', 'УЧЕНАЯ СТЕПЕНЬ', 'ученая степень'],\n",
       "      dtype=object)"
      ]
     },
     "execution_count": 7,
     "metadata": {},
     "output_type": "execute_result"
    }
   ],
   "source": [
    "data['education'].unique()"
   ]
  },
  {
   "cell_type": "code",
   "execution_count": 8,
   "metadata": {},
   "outputs": [
    {
     "data": {
      "text/plain": [
       "среднее                15188\n",
       "высшее                  5251\n",
       "неоконченное высшее      744\n",
       "начальное                282\n",
       "ученая степень             6\n",
       "Name: education, dtype: int64"
      ]
     },
     "execution_count": 8,
     "metadata": {},
     "output_type": "execute_result"
    }
   ],
   "source": [
    "data['education'] = data['education'].str.lower()\n",
    "data['education'].value_counts()"
   ]
  },
  {
   "cell_type": "code",
   "execution_count": 9,
   "metadata": {},
   "outputs": [
    {
     "name": "stdout",
     "output_type": "stream",
     "text": [
      "Кол-во дублей = 17\n"
     ]
    },
    {
     "data": {
      "text/plain": [
       "array(['высшее', 'среднее', 'неоконченное высшее', 'начальное',\n",
       "       'ученая степень'], dtype=object)"
      ]
     },
     "execution_count": 9,
     "metadata": {},
     "output_type": "execute_result"
    }
   ],
   "source": [
    "print('Кол-во дублей = {:.0f}'.format(data.duplicated().sum()))\n",
    "data['education'].unique()"
   ]
  },
  {
   "cell_type": "markdown",
   "metadata": {},
   "source": [
    "После исправления регистров образовались дубли. Применим повторно метод `drop_duplicates`."
   ]
  },
  {
   "cell_type": "code",
   "execution_count": 10,
   "metadata": {},
   "outputs": [
    {
     "name": "stdout",
     "output_type": "stream",
     "text": [
      "Кол-во дублей = 0\n"
     ]
    }
   ],
   "source": [
    "data.drop_duplicates(inplace = True)\n",
    "print('Кол-во дублей = {:.0f}'.format(data.duplicated().sum()))"
   ]
  },
  {
   "cell_type": "code",
   "execution_count": 11,
   "metadata": {
    "scrolled": true
   },
   "outputs": [
    {
     "data": {
      "text/plain": [
       "1    15172\n",
       "0     5250\n",
       "2      744\n",
       "3      282\n",
       "4        6\n",
       "Name: education_id, dtype: int64"
      ]
     },
     "execution_count": 11,
     "metadata": {},
     "output_type": "execute_result"
    }
   ],
   "source": [
    "data['education_id'].value_counts()"
   ]
  },
  {
   "cell_type": "markdown",
   "metadata": {},
   "source": [
    "---\n",
    "\n",
    "В столбце `children`необходимо заменить явно ошибочные данные."
   ]
  },
  {
   "cell_type": "code",
   "execution_count": 12,
   "metadata": {},
   "outputs": [
    {
     "data": {
      "text/plain": [
       " 0     14091\n",
       " 1      4808\n",
       " 2      2052\n",
       " 3       330\n",
       " 20       76\n",
       "-1        47\n",
       " 4        41\n",
       " 5         9\n",
       "Name: children, dtype: int64"
      ]
     },
     "execution_count": 12,
     "metadata": {},
     "output_type": "execute_result"
    }
   ],
   "source": [
    "data['children'].value_counts()\n"
   ]
  },
  {
   "cell_type": "markdown",
   "metadata": {},
   "source": [
    "Обращают внимания строки с минусовым количеством детей и цифра \"20\". \n",
    "- Предположу, что это опечатки при заполнении. Соотсветственно, количество \"-1\" будем считать \"1\" и добавим к тем, кто имеет одного ребёнка. \n",
    "- Очевидно, что цифра \"2\" трансформировалась в цифру \"20\" случайно. Возможно, ошибка произошла при заполнении/выгрузке. \"20\" \n",
    "будем считать как \"2\".\n",
    "\n",
    "Произведем соответствующую замену и проверим результат."
   ]
  },
  {
   "cell_type": "code",
   "execution_count": 13,
   "metadata": {},
   "outputs": [
    {
     "data": {
      "text/plain": [
       "0    14091\n",
       "1     4855\n",
       "2     2128\n",
       "3      330\n",
       "4       41\n",
       "5        9\n",
       "Name: children, dtype: int64"
      ]
     },
     "execution_count": 13,
     "metadata": {},
     "output_type": "execute_result"
    }
   ],
   "source": [
    "data.loc[data['children']== -1,'children'] = 1\n",
    "data.loc[data['children']== 20,'children'] = 2\n",
    "data['children'].value_counts()\n"
   ]
  },
  {
   "cell_type": "markdown",
   "metadata": {},
   "source": [
    "\n",
    "\n",
    "---\n",
    "\n",
    "Возраст клиента `dob_years`\n",
    "\n",
    "Проведём анализ всех возростов кредиторов банка."
   ]
  },
  {
   "cell_type": "code",
   "execution_count": 14,
   "metadata": {},
   "outputs": [
    {
     "name": "stdout",
     "output_type": "stream",
     "text": [
      "35    616\n",
      "40    607\n",
      "41    605\n",
      "34    601\n",
      "38    597\n",
      "42    596\n",
      "33    581\n",
      "39    572\n",
      "31    559\n",
      "36    554\n",
      "44    545\n",
      "29    544\n",
      "30    537\n",
      "48    536\n",
      "37    536\n",
      "50    513\n",
      "43    512\n",
      "32    509\n",
      "49    508\n",
      "28    503\n",
      "45    496\n",
      "27    493\n",
      "52    484\n",
      "56    483\n",
      "47    477\n",
      "54    476\n",
      "46    472\n",
      "53    459\n",
      "57    456\n",
      "58    454\n",
      "51    446\n",
      "55    443\n",
      "59    443\n",
      "26    408\n",
      "60    374\n",
      "25    357\n",
      "61    354\n",
      "62    348\n",
      "63    269\n",
      "24    264\n",
      "64    260\n",
      "23    252\n",
      "65    193\n",
      "22    183\n",
      "66    182\n",
      "67    167\n",
      "21    111\n",
      "0     101\n",
      "68     99\n",
      "69     85\n",
      "70     65\n",
      "71     56\n",
      "20     51\n",
      "72     33\n",
      "19     14\n",
      "73      8\n",
      "74      6\n",
      "75      1\n",
      "Name: dob_years, dtype: int64\n"
     ]
    }
   ],
   "source": [
    "print(data['dob_years'].value_counts(ascending=False))"
   ]
  },
  {
   "cell_type": "markdown",
   "metadata": {},
   "source": [
    "В данных о возрасте есть 101 человек с возрастом 0. Выясним сколько из них имели задолженность по возврату кредита."
   ]
  },
  {
   "cell_type": "code",
   "execution_count": 15,
   "metadata": {},
   "outputs": [
    {
     "name": "stdout",
     "output_type": "stream",
     "text": [
      "Доля кредиторов с нулевым возрастом: 0.5%\n"
     ]
    }
   ],
   "source": [
    "age_0 = data[data['dob_years'] == 0]\n",
    "age_0_share = age_0['debt'].count() / data['debt'].count()\n",
    "print('Доля кредиторов с нулевым возрастом:','{:.1%}'.format(age_0_share))"
   ]
  },
  {
   "cell_type": "markdown",
   "metadata": {},
   "source": [
    "Всего полпроцента погрешности нашего анализа. Полагаю, что если мы можем не обращать внимание эту \"нулевую\" группу, это не повлияет на корректность нашего исследования. "
   ]
  },
  {
   "cell_type": "markdown",
   "metadata": {},
   "source": [
    "---\n",
    "\n",
    "**Лемматизация целей кредита** `purpose`\n",
    "\n",
    "Изучим на что брали кредит - графу `purpose`."
   ]
  },
  {
   "cell_type": "code",
   "execution_count": 16,
   "metadata": {
    "scrolled": true
   },
   "outputs": [
    {
     "name": "stdout",
     "output_type": "stream",
     "text": [
      "38\n",
      "\n",
      "\n",
      "свадьба                                   791\n",
      "на проведение свадьбы                     768\n",
      "сыграть свадьбу                           765\n",
      "операции с недвижимостью                  675\n",
      "покупка коммерческой недвижимости         661\n",
      "операции с жильем                         652\n",
      "покупка жилья для сдачи                   651\n",
      "операции с коммерческой недвижимостью     650\n",
      "жилье                                     646\n",
      "покупка жилья                             646\n",
      "покупка жилья для семьи                   638\n",
      "строительство собственной недвижимости    635\n",
      "недвижимость                              633\n",
      "операции со своей недвижимостью           627\n",
      "строительство жилой недвижимости          624\n",
      "покупка недвижимости                      621\n",
      "покупка своего жилья                      620\n",
      "строительство недвижимости                619\n",
      "ремонт жилью                              607\n",
      "покупка жилой недвижимости                606\n",
      "на покупку своего автомобиля              505\n",
      "заняться высшим образованием              496\n",
      "автомобиль                                494\n",
      "сделка с подержанным автомобилем          486\n",
      "свой автомобиль                           478\n",
      "на покупку подержанного автомобиля        478\n",
      "автомобили                                478\n",
      "на покупку автомобиля                     471\n",
      "приобретение автомобиля                   461\n",
      "дополнительное образование                460\n",
      "сделка с автомобилем                      455\n",
      "высшее образование                        452\n",
      "образование                               447\n",
      "получение дополнительного образования     446\n",
      "получение образования                     442\n",
      "профильное образование                    436\n",
      "получение высшего образования             426\n",
      "заняться образованием                     408\n",
      "Name: purpose, dtype: int64\n"
     ]
    }
   ],
   "source": [
    "print(data['purpose'].value_counts().count())\n",
    "print('\\n')\n",
    "print(data['purpose'].value_counts())"
   ]
  },
  {
   "cell_type": "markdown",
   "metadata": {},
   "source": [
    " Из 38 уникальных назначений/цели кредита (разная формулировка), всего можно выделить 4 - свадьба, недвижимость, автомобиль, образование. Думаю, что мы можем объединить жильё и недвижимость, назвав эту цель как \"недвижимость\" (не принимая во внимание целевого назначения полученных кредита - коммерческая, жилая, строительство, ремонт, т.к. в большинстве случаев, обеспечением возврата такого кредита будет служить собственно сама недвижимость).\n",
    " \n",
    " Лемматизируем слова в столбце `purpose`, избавимся от предлогов и дополнительных слов ('в',' ','\\n','на','супер','для','покупка', 'сдача','семья'), заменим слово 'жильё' на 'недвижимость'.\n",
    " \n",
    " Добавим лемматизированную колонку в нашу таблицу и посмотрим какие назначений/цели встречаются чаще всего."
   ]
  },
  {
   "cell_type": "code",
   "execution_count": 17,
   "metadata": {
    "scrolled": true
   },
   "outputs": [
    {
     "data": {
      "text/plain": [
       "недвижимость    10811\n",
       "автомобиль       4306\n",
       "образование      4013\n",
       "свадьба          2324\n",
       "Name: aim_all, dtype: int64"
      ]
     },
     "execution_count": 17,
     "metadata": {},
     "output_type": "execute_result"
    }
   ],
   "source": [
    "from pymystem3 import Mystem\n",
    "m = Mystem()\n",
    "string = data['purpose']\n",
    "oneword_purpose = []\n",
    "index = 0\n",
    "stoplist = ['в',' ','\\n','на','супер','для','покупка', 'сдача','семья']\n",
    "text = ''\n",
    "for row in string:\n",
    "    index += 1\n",
    "    for word in m.lemmatize(row):\n",
    "        \n",
    "        if word not in stoplist:\n",
    "            text = word\n",
    "    oneword_purpose.append(text)\n",
    "#print(oneword_purpose)\n",
    "\n",
    "\n",
    "data['aim_all'] = oneword_purpose\n",
    "data['aim_all'] = data['aim_all'].replace('жилье', 'недвижимость')\n",
    "data['aim_all'].value_counts()\n",
    "#data.head()\n"
   ]
  },
  {
   "cell_type": "markdown",
   "metadata": {},
   "source": [
    "---\n",
    "\n",
    "**Категоризация данных**\n",
    "\n",
    "По возрасту клиентов\n",
    "\n",
    "Чтобы было легче работать с возрастом клиентов, разделим их на группы: \"молодой\" - до 30 лет, \"средний\" - с 30 до 60 лет \n",
    "и \"пожилой\" - с 61 года. Добавим столбец `age_group` в нашу таблицу."
   ]
  },
  {
   "cell_type": "code",
   "execution_count": 18,
   "metadata": {},
   "outputs": [
    {
     "data": {
      "text/plain": [
       "средний    16047\n",
       "молодой     3281\n",
       "пожилой     2126\n",
       "Name: age_group, dtype: int64"
      ]
     },
     "execution_count": 18,
     "metadata": {},
     "output_type": "execute_result"
    }
   ],
   "source": [
    "def age_groups(years):\n",
    "        if years < 30:\n",
    "                return 'молодой'\n",
    "        if years <= 60:\n",
    "                return 'средний'\n",
    "        return 'пожилой'\n",
    "    \n",
    "data['age_group'] = data['dob_years'].apply(age_groups)\n",
    "data.head()\n",
    "data['age_group'].value_counts()"
   ]
  },
  {
   "cell_type": "markdown",
   "metadata": {},
   "source": [
    "Как можно было предположить, средняя возрастная группа (от 30 до 60 лет) берёт кредиты намного чаще (молодых и пожилых).\n",
    "\n",
    "---\n",
    "По уровню дохода\n",
    "\n",
    "Для определения зависимости между уровнем дохода и возвратом кредита в срок сгруппируем кредиторов на несколько категорий. Согласно исследованию, по [уровню доходов в РФ выделяют](https://dengivsetakipahnyt.com/obrashhenie-s-dengami/sootnoshenie-bogatyx-i-bednyx-v-sovremennoj-rossii.html):\n",
    "\n",
    "- крайнюю нищету со средним доходом ниже 3 500 рублей;\n",
    "- нищету это те, кто зарабатывает до 7 500 рублей ежемесячно;\n",
    "- бедность люди с доходом в 17 тыс. руб.;\n",
    "- выше бедности - граждане с зарплатой до 25 000 рублей;\n",
    "- средний достаток, те, кто зарабатывает до 50 тыс. руб. в месяц;\n",
    "- состоятельные люди получают в месяц до 75 000 рублей;\n",
    "- богатые, зарабатывающие более 75 000 рублей в месяц.\n",
    "\n",
    "Изучим данные по доходам клиентов предоставленные нашим банком. Посмотрим минимальные значения и усреднённые."
   ]
  },
  {
   "cell_type": "code",
   "execution_count": 19,
   "metadata": {},
   "outputs": [
    {
     "name": "stdout",
     "output_type": "stream",
     "text": [
      "income_type\n",
      "безработный         59956\n",
      "в декрете           53829\n",
      "госслужащий         29200\n",
      "компаньон           28702\n",
      "пенсионер           20667\n",
      "предприниматель    499163\n",
      "сотрудник           21367\n",
      "студент             98201\n",
      "Name: total_income, dtype: int64\n",
      "\n",
      "\n",
      "income_type\n",
      "безработный        131339\n",
      "в декрете           53829\n",
      "госслужащий        170897\n",
      "компаньон          202416\n",
      "пенсионер          137126\n",
      "предприниматель    499163\n",
      "сотрудник          161379\n",
      "студент             98201\n",
      "Name: total_income, dtype: int64\n"
     ]
    }
   ],
   "source": [
    "income_stat = data.groupby('income_type')['total_income']\n",
    "print(income_stat.min())\n",
    "print('\\n')\n",
    "print(income_stat.mean().astype('int'))"
   ]
  },
  {
   "cell_type": "markdown",
   "metadata": {},
   "source": [
    "Если сопостовить клиентов нашего банка с приведённой выше статистикой, то получается, что минимальный доход пенсионера и сотрудника находится на уровне \"выше бедности\", а доход студента соответствует категории богатых людей. А при сопоставлении усреднённых значений доходов клиентов банка следует, что все (кроме \"в декрете\") кредиторы *богачи*.  \n",
    "Данная категоризация для нашего исследования не подходит.\n",
    "\n",
    "Предлагаю, воспользовавшись сводной статистикой (функция `describe`), выяснить границы (25%, 50% и 75%) уровня доходов заёмщиков нашего банка. "
   ]
  },
  {
   "cell_type": "code",
   "execution_count": 20,
   "metadata": {},
   "outputs": [
    {
     "data": {
      "text/plain": [
       "count      21454\n",
       "mean      167431\n",
       "std        98060\n",
       "min        20667\n",
       "25%       107623\n",
       "50%       151887\n",
       "75%       202417\n",
       "max      2265604\n",
       "Name: total_income, dtype: int64"
      ]
     },
     "execution_count": 20,
     "metadata": {},
     "output_type": "execute_result"
    }
   ],
   "source": [
    "data['total_income'].describe().astype('int')"
   ]
  },
  {
   "cell_type": "markdown",
   "metadata": {},
   "source": [
    "Согласно другой [классификации доходов граждан](https://zen.yandex.ru/media/dogecrypto/kak-poschitat-k-kakomu-klassu-vy-otnosites-po-urovniu-dohoda-5b150b5aea0fe700a848e1b1), нижний уровень среднего класса определён в 100 тысяч рублей, предсредний класс - 150000 рублей, средний класс - 250000 рублей, верхний средний класс - 500000, состоятельные - 1млн.руб. Данные уровни уже ближе соотносятся с нашей выборкой, и ими можно воспользоваться для категоризации кредиторов банка.\n",
    "\n",
    "Приминительно к клиентам данного банка, предлагаю обозначит следующие категории и границы дохода:\n",
    "\n",
    "- доходы до 60000 - `бедные`(минимальный уровень в нашей выборке для безработного - 59956);\n",
    "- доходы от 60000 до 107623 - `нижний средний` (25% отсечка в нашей выборке);\n",
    "- доходы от 107623 до 151887 - `предсредний` (50% отсечка в нашей выборке); \n",
    "- доходы от 151887 до 202417 - `средний` (75% отсечка в нашей выборке);\n",
    "- доходы от 202417 до 500000 - `состоятельные`;\n",
    "- доходы свыше 500000 - `богатые`."
   ]
  },
  {
   "cell_type": "code",
   "execution_count": 21,
   "metadata": {},
   "outputs": [
    {
     "name": "stdout",
     "output_type": "stream",
     "text": [
      "средний           5818\n",
      "предсредний       5363\n",
      "состоятельные     4687\n",
      "нижний средний    4558\n",
      "бедные             806\n",
      "богатые            222\n",
      "Name: income_group, dtype: int64\n"
     ]
    }
   ],
   "source": [
    "def income_pc(total):\n",
    "        if total < 60000:\n",
    "                return 'бедные'\n",
    "        if total <= 107623:\n",
    "                return 'нижний средний'\n",
    "        if total <= 151887:\n",
    "                return 'предсредний'\n",
    "        if total <= 202417:\n",
    "                return 'средний'\n",
    "        if total <= 500000:\n",
    "                return 'состоятельные'    \n",
    "        return 'богатые'\n",
    "    \n",
    "data['income_group'] = data['total_income'].apply(income_pc)\n",
    "print(data['income_group'].value_counts())"
   ]
  },
  {
   "cell_type": "markdown",
   "metadata": {},
   "source": [
    "---\n",
    "По семейному положению \n",
    "\n",
    "В таблице 2 колонки, представляющие нам информацию о семейном положении - `family_status` и `family_status_id`, причём, последняя (`id`) представляет для нашего исследования больший интерес."
   ]
  },
  {
   "cell_type": "code",
   "execution_count": 22,
   "metadata": {},
   "outputs": [
    {
     "name": "stdout",
     "output_type": "stream",
     "text": [
      "женат / замужем          12339\n",
      "гражданский брак          4151\n",
      "Не женат / не замужем     2810\n",
      "в разводе                 1195\n",
      "вдовец / вдова             959\n",
      "Name: family_status, dtype: int64\n"
     ]
    },
    {
     "data": {
      "text/plain": [
       "0    12339\n",
       "1     4151\n",
       "4     2810\n",
       "3     1195\n",
       "2      959\n",
       "Name: family_status_id, dtype: int64"
      ]
     },
     "execution_count": 22,
     "metadata": {},
     "output_type": "execute_result"
    }
   ],
   "source": [
    "print(data['family_status'].value_counts())\n",
    "data['family_status_id'].value_counts()"
   ]
  },
  {
   "cell_type": "markdown",
   "metadata": {},
   "source": [
    "Для банка важен статус заёмщика де-юре (женат/замужем или холост/не замужняя), остальное - лирика (гражданский брак, разведён, вдовец). Поэтому выделим два статуса семейного положения  - женат/замужем (0) и одиночка (1). Соответственно, `family_status_id` с 1 по 4 примем за 1 (одиночка)."
   ]
  },
  {
   "cell_type": "code",
   "execution_count": 23,
   "metadata": {},
   "outputs": [
    {
     "data": {
      "text/plain": [
       "0    12339\n",
       "1     9115\n",
       "Name: family_status_id, dtype: int64"
      ]
     },
     "execution_count": 23,
     "metadata": {},
     "output_type": "execute_result"
    }
   ],
   "source": [
    "for id in data['family_status_id']:\n",
    "    if id > 1:\n",
    "        data.loc[data['family_status_id']== id,'family_status_id'] = 1\n",
    "\n",
    "data['family_status_id'].value_counts()"
   ]
  },
  {
   "cell_type": "markdown",
   "metadata": {},
   "source": [
    "Итак, статус кредиторов в нашей таблице:\n",
    "- 12339 - женат/замужем;\n",
    "- 9115 - холост/не замужняя.\n",
    "---"
   ]
  },
  {
   "cell_type": "markdown",
   "metadata": {},
   "source": [
    "### 3. Ответы на вопросы относительно факторов влияющих на погашения кредита в срок. \n",
    "\n",
    "\n",
    "**Задолженность по возврату кредитов**  `debt`  "
   ]
  },
  {
   "cell_type": "code",
   "execution_count": 24,
   "metadata": {
    "scrolled": true
   },
   "outputs": [
    {
     "name": "stdout",
     "output_type": "stream",
     "text": [
      "0    19713\n",
      "1     1741\n",
      "Name: debt, dtype: int64\n"
     ]
    }
   ],
   "source": [
    "print(data['debt'].value_counts())\n",
    "debtors = data.loc[data['debt']== 1] #недобросовестные заёмщики"
   ]
  },
  {
   "cell_type": "markdown",
   "metadata": {},
   "source": [
    "В нашей выборке 1741 человек не погасивший свой кредит в срок."
   ]
  },
  {
   "cell_type": "markdown",
   "metadata": {},
   "source": [
    "**Половая принадлежность**  `gender`"
   ]
  },
  {
   "cell_type": "code",
   "execution_count": 25,
   "metadata": {},
   "outputs": [
    {
     "data": {
      "text/plain": [
       "F      14174\n",
       "M       7279\n",
       "XNA        1\n",
       "Name: gender, dtype: int64"
      ]
     },
     "execution_count": 25,
     "metadata": {},
     "output_type": "execute_result"
    }
   ],
   "source": [
    "data['gender'].value_counts()"
   ]
  },
  {
   "cell_type": "markdown",
   "metadata": {},
   "source": [
    "Думаю, 1 человек неизвестного пола не испортит наш анализ.\n",
    "\n",
    "---"
   ]
  },
  {
   "cell_type": "markdown",
   "metadata": {},
   "source": [
    "### Расчет коэффициентов риска"
   ]
  },
  {
   "cell_type": "markdown",
   "metadata": {},
   "source": [
    "Итак, я привел в порядок полученные данные и теперь можно приступить к ответу на вопрос заказчика - *влияет ли семейное положение и количество детей клиента на факт погашения кредита в срок*. Замечу, что в задании также указано, что данные этого исследования будут использованы при построении модели кредитного скоринга. Данные для скоринговых систем получаются из вероятностей/рисков невозвратов кредитов отдельными группами заёмщиков, полученными из анализа кредитной истории тысяч людей.\n",
    "Так как в нашем случае у нас есть информация о факте существования задолженности/невозврата, можно определить корреляцию между определенными социальными данными (наличие детей, отношение к браку, наличие высшего образования) и добросовестностью заемщика.\n",
    "\n",
    "Принимая во внимание поставленную задачу, сначала ответим на два основных вопроса.\n",
    "\n",
    "Для начала выделим в `aim_debtors` тех, кто не вернул кредит в срок.\n"
   ]
  },
  {
   "cell_type": "code",
   "execution_count": 26,
   "metadata": {},
   "outputs": [
    {
     "data": {
      "text/plain": [
       "недвижимость    782\n",
       "автомобиль      403\n",
       "образование     370\n",
       "свадьба         186\n",
       "Name: aim_all, dtype: int64"
      ]
     },
     "execution_count": 26,
     "metadata": {},
     "output_type": "execute_result"
    }
   ],
   "source": [
    "aim_debtors = data[data['debt'] == 1]\n",
    "aim_debtors['aim_all'].value_counts()"
   ]
  },
  {
   "cell_type": "markdown",
   "metadata": {},
   "source": [
    "Исследуем как на своевременный возврат кредита влияет семейное положение и количество детей. Выясним взаимосвязь между показателем погашения кредита в срок и двумя другими параметрами - семейным положением и количеством детей. Воспользуемся для этого сводной таблицей, вызвав метод `pivot_table()`."
   ]
  },
  {
   "cell_type": "code",
   "execution_count": 27,
   "metadata": {
    "scrolled": true
   },
   "outputs": [
    {
     "name": "stdout",
     "output_type": "stream",
     "text": [
      "0    14091\n",
      "1     4855\n",
      "2     2128\n",
      "3      330\n",
      "4       41\n",
      "5        9\n",
      "Name: children, dtype: int64\n",
      "0    1063\n",
      "1     445\n",
      "2     202\n",
      "3      27\n",
      "4       4\n",
      "Name: children, dtype: int64\n",
      "\n",
      "\n"
     ]
    },
    {
     "data": {
      "text/html": [
       "<div>\n",
       "<style scoped>\n",
       "    .dataframe tbody tr th:only-of-type {\n",
       "        vertical-align: middle;\n",
       "    }\n",
       "\n",
       "    .dataframe tbody tr th {\n",
       "        vertical-align: top;\n",
       "    }\n",
       "\n",
       "    .dataframe thead th {\n",
       "        text-align: right;\n",
       "    }\n",
       "</style>\n",
       "<table border=\"1\" class=\"dataframe\">\n",
       "  <thead>\n",
       "    <tr style=\"text-align: right;\">\n",
       "      <th>children</th>\n",
       "      <th>0</th>\n",
       "      <th>1</th>\n",
       "      <th>2</th>\n",
       "      <th>3</th>\n",
       "      <th>4</th>\n",
       "      <th>5</th>\n",
       "    </tr>\n",
       "    <tr>\n",
       "      <th>family_status_id</th>\n",
       "      <th></th>\n",
       "      <th></th>\n",
       "      <th></th>\n",
       "      <th></th>\n",
       "      <th></th>\n",
       "      <th></th>\n",
       "    </tr>\n",
       "  </thead>\n",
       "  <tbody>\n",
       "    <tr>\n",
       "      <td>0</td>\n",
       "      <td>0.069095</td>\n",
       "      <td>0.082224</td>\n",
       "      <td>0.093552</td>\n",
       "      <td>0.068273</td>\n",
       "      <td>0.103448</td>\n",
       "      <td>0.0</td>\n",
       "    </tr>\n",
       "    <tr>\n",
       "      <td>1</td>\n",
       "      <td>0.082591</td>\n",
       "      <td>0.106969</td>\n",
       "      <td>0.098901</td>\n",
       "      <td>0.123457</td>\n",
       "      <td>0.083333</td>\n",
       "      <td>0.0</td>\n",
       "    </tr>\n",
       "  </tbody>\n",
       "</table>\n",
       "</div>"
      ],
      "text/plain": [
       "children                 0         1         2         3         4    5\n",
       "family_status_id                                                       \n",
       "0                 0.069095  0.082224  0.093552  0.068273  0.103448  0.0\n",
       "1                 0.082591  0.106969  0.098901  0.123457  0.083333  0.0"
      ]
     },
     "execution_count": 27,
     "metadata": {},
     "output_type": "execute_result"
    }
   ],
   "source": [
    "print(data['children'].value_counts())\n",
    "print(aim_debtors['children'].value_counts())\n",
    "\n",
    "print('\\n')\n",
    "\n",
    "data_pivot = data.pivot_table('debt', index=['family_status_id'], columns='children')\n",
    "data_pivot"
   ]
  },
  {
   "cell_type": "markdown",
   "metadata": {},
   "source": [
    "> *Я бы не стал учитывать в данном исследовании кредиторов с 3 (330/27) и более детьми (50/4), т.к. эта группа заёмщиков немногочисленна и не может считаться репрезентативной.*\n",
    "\n",
    "---\n",
    "Из этой сводной таблицы видно, что **чаще всего не возвращают кредиты в срок одиночки с одним и двумя детьми**. Бездетные как семейные, так и одиночки, наиболее дисциплинированы. **Реже всего просрачивают сроки бездетные женатые/замужние**.   "
   ]
  },
  {
   "cell_type": "code",
   "execution_count": 28,
   "metadata": {},
   "outputs": [
    {
     "name": "stdout",
     "output_type": "stream",
     "text": [
      "Соотношение просроченных кредитов взятых семейными: 0.075\n",
      "\n",
      "\n",
      "Соотношение просроченных кредитов взятых одиночками: 0.089\n"
     ]
    }
   ],
   "source": [
    "ratio_couple = (aim_debtors[aim_debtors['family_status_id'] == 0]['family_status_id'].count()) / (data[data['family_status_id'] == 0]['family_status_id'].count())\n",
    "print('Соотношение просроченных кредитов взятых семейными:','{:.2}'.format(ratio_couple))\n",
    "print('\\n')\n",
    "ratio_single = (aim_debtors[aim_debtors['family_status_id'] == 1]['family_status_id'].count()) / (data[data['family_status_id'] == 1]['family_status_id'].count())\n",
    "print('Соотношение просроченных кредитов взятых одиночками:','{:.2}'.format(ratio_single))\n"
   ]
  },
  {
   "cell_type": "code",
   "execution_count": 29,
   "metadata": {
    "scrolled": false
   },
   "outputs": [
    {
     "name": "stdout",
     "output_type": "stream",
     "text": [
      "Соотношение просроченных кредитов взятых бездетными: 0.075\n",
      "\n",
      "\n",
      "Соотношение просроченных кредитов взятых родителем с 1 ребёнком: 0.092\n",
      "\n",
      "\n",
      "Соотношение просроченных кредитов взятых родителем с 2 детьми: 0.095\n",
      "\n",
      "\n",
      "Соотношение просроченных кредитов взятых родителем с 3 детьми: 0.082\n",
      "\n",
      "\n",
      "Соотношение просроченных кредитов взятых родителем с 4 детьми: 0.098\n"
     ]
    }
   ],
   "source": [
    "ratio_child_0 = (aim_debtors[aim_debtors['children'] == 0]['children'].count()) / (data[data['children'] == 0]['children'].count())\n",
    "print('Соотношение просроченных кредитов взятых бездетными:','{:.2}'.format(ratio_child_0))\n",
    "print('\\n')\n",
    "ratio_child_1 = (aim_debtors[aim_debtors['children'] == 1]['children'].count()) / (data[data['children'] == 1]['children'].count())\n",
    "print('Соотношение просроченных кредитов взятых родителем с 1 ребёнком:','{:.2}'.format(ratio_child_1))\n",
    "print('\\n')\n",
    "ratio_child_2 = (aim_debtors[aim_debtors['children'] == 2]['children'].count()) / (data[data['children'] == 2]['children'].count())\n",
    "print('Соотношение просроченных кредитов взятых родителем с 2 детьми:','{:.2}'.format(ratio_child_2))\n",
    "print('\\n')\n",
    "ratio_child_3 = (aim_debtors[aim_debtors['children'] == 3]['children'].count()) / (data[data['children'] == 3]['children'].count())\n",
    "print('Соотношение просроченных кредитов взятых родителем с 3 детьми:','{:.2}'.format(ratio_child_3))\n",
    "print('\\n')\n",
    "ratio_child_4 = (aim_debtors[aim_debtors['children'] == 4]['children'].count()) / (data[data['children'] == 4]['children'].count())\n",
    "print('Соотношение просроченных кредитов взятых родителем с 4 детьми:','{:.2}'.format(ratio_child_4))"
   ]
  },
  {
   "cell_type": "markdown",
   "metadata": {},
   "source": [
    "---\n",
    "\n",
    "Чаще всего по количественному показателю обращаются за кредитом связанным с недвижимостью и, как видим, чаще не возвращают в срок.   "
   ]
  },
  {
   "cell_type": "code",
   "execution_count": 30,
   "metadata": {
    "scrolled": true
   },
   "outputs": [
    {
     "name": "stdout",
     "output_type": "stream",
     "text": [
      "Соотношение просроченных кредитов взятых на недвижимость: 0.072\n",
      "\n",
      "\n",
      "Соотношение просроченных кредитов взятых на автомобиль: 0.094\n",
      "\n",
      "\n",
      "Соотношение просроченных кредитов взятых на образование: 0.092\n",
      "\n",
      "\n",
      "Соотношение просроченных кредитов взятых на свадьбу: 0.08\n"
     ]
    }
   ],
   "source": [
    "ratio_est = (aim_debtors[aim_debtors['aim_all'] == 'недвижимость']['aim_all'].count()) / (data[data['aim_all'] == 'недвижимость']['aim_all'].count())\n",
    "print('Соотношение просроченных кредитов взятых на недвижимость:','{:.2}'.format(ratio_est))\n",
    "print('\\n')\n",
    "ratio_auto = (aim_debtors[aim_debtors['aim_all'] == 'автомобиль']['aim_all'].count()) / (data[data['aim_all'] == 'автомобиль']['aim_all'].count())\n",
    "print('Соотношение просроченных кредитов взятых на автомобиль:','{:.2}'.format(ratio_auto))\n",
    "print('\\n')\n",
    "ratio_educ = (aim_debtors[aim_debtors['aim_all'] == 'образование']['aim_all'].count()) / (data[data['aim_all'] == 'образование']['aim_all'].count())\n",
    "print('Соотношение просроченных кредитов взятых на образование:','{:.2}'.format(ratio_educ))\n",
    "print('\\n')\n",
    "ratio_wedd = (aim_debtors[aim_debtors['aim_all'] == 'свадьба']['aim_all'].count()) / (data[data['aim_all'] == 'свадьба']['aim_all'].count())\n",
    "print('Соотношение просроченных кредитов взятых на свадьбу:','{:.2}'.format(ratio_wedd))"
   ]
  },
  {
   "cell_type": "markdown",
   "metadata": {},
   "source": [
    "Однако соотношения показывают нам, что чаще не возвращают своевременно займ, взятый на покупку автомобиля и на оплату образования. Реже всего не соблюдают сроки по кредитам, связанным с недвижимостью. \n",
    "\n",
    "---\n",
    "\n",
    "Как возраст влияет на своевременность возврата кредита?"
   ]
  },
  {
   "cell_type": "code",
   "execution_count": 31,
   "metadata": {},
   "outputs": [
    {
     "name": "stdout",
     "output_type": "stream",
     "text": [
      "Соотношение просроченных кредитов взятых молодыми (до 30 лет): 0.11\n",
      "\n",
      "\n",
      "Соотношение просроченных кредитов взятых лицами среднего возраста (от 30 до 60 лет): 0.08\n",
      "\n",
      "\n",
      "Соотношение просроченных кредитов взятых пожилыми (старше 60 лет): 0.048\n"
     ]
    }
   ],
   "source": [
    "ratio_age_young = (aim_debtors[aim_debtors['age_group'] == 'молодой']['age_group'].count()) / (data[data['age_group'] == 'молодой']['age_group'].count())\n",
    "print('Соотношение просроченных кредитов взятых молодыми (до 30 лет):','{:.2}'.format(ratio_age_young))\n",
    "print('\\n')\n",
    "ratio_age_middle = (aim_debtors[aim_debtors['age_group'] == 'средний']['age_group'].count()) / (data[data['age_group'] == 'средний']['age_group'].count())\n",
    "print('Соотношение просроченных кредитов взятых лицами среднего возраста (от 30 до 60 лет):','{:.2}'.format(ratio_age_middle))\n",
    "print('\\n')\n",
    "ratio_age_senior = (aim_debtors[aim_debtors['age_group'] == 'пожилой']['age_group'].count()) / (data[data['age_group'] == 'пожилой']['age_group'].count())\n",
    "print('Соотношение просроченных кредитов взятых пожилыми (старше 60 лет):','{:.2}'.format(ratio_age_senior))\n"
   ]
  },
  {
   "cell_type": "markdown",
   "metadata": {},
   "source": [
    "---\n",
    "\n",
    "Интересно проанализировать влияет ли гендерная принадлежность на факт погашения кредита в срок."
   ]
  },
  {
   "cell_type": "code",
   "execution_count": 32,
   "metadata": {},
   "outputs": [
    {
     "name": "stdout",
     "output_type": "stream",
     "text": [
      "F    994\n",
      "M    747\n",
      "Name: gender, dtype: int64\n",
      "F      14174\n",
      "M       7279\n",
      "XNA        1\n",
      "Name: gender, dtype: int64\n",
      "\n",
      "\n",
      "Соотношение просроченных кредитов взятых женщинами: 0.07\n",
      "Соотношение просроченных кредитов взятых мужчинами: 0.1\n"
     ]
    }
   ],
   "source": [
    "print(aim_debtors['gender'].value_counts())\n",
    "print(data['gender'].value_counts())\n",
    "print('\\n')\n",
    "ratio_female = (aim_debtors[aim_debtors['gender'] == 'F']['gender'].count()) / (data[data['gender'] == 'F']['gender'].count())\n",
    "print('Соотношение просроченных кредитов взятых женщинами:','{:.2}'.format(ratio_female))\n",
    "ratio_male = (aim_debtors[aim_debtors['gender'] == 'M']['gender'].count()) / (data[data['gender'] == 'M']['gender'].count())\n",
    "print('Соотношение просроченных кредитов взятых мужчинами:','{:.2}'.format(ratio_male))"
   ]
  },
  {
   "cell_type": "markdown",
   "metadata": {},
   "source": [
    "Хотя женщины почти в 2 раза чаще берут кредиты, не возвращают кредит в срок они реже. Мужчины чаще нарушают сроки возврата.\n",
    "\n",
    "---\n",
    "\n",
    "Выясним взаимосвязь между показателем возврата кредита в срок, категорией дохода кредитора и целью кредита при помощи сводной таблицы `pivot_table`. Причем, с помощью параметра margins вычислим обобщенные значения по каждой группе."
   ]
  },
  {
   "cell_type": "code",
   "execution_count": 33,
   "metadata": {
    "scrolled": true
   },
   "outputs": [
    {
     "data": {
      "text/html": [
       "<div>\n",
       "<style scoped>\n",
       "    .dataframe tbody tr th:only-of-type {\n",
       "        vertical-align: middle;\n",
       "    }\n",
       "\n",
       "    .dataframe tbody tr th {\n",
       "        vertical-align: top;\n",
       "    }\n",
       "\n",
       "    .dataframe thead th {\n",
       "        text-align: right;\n",
       "    }\n",
       "</style>\n",
       "<table border=\"1\" class=\"dataframe\">\n",
       "  <thead>\n",
       "    <tr style=\"text-align: right;\">\n",
       "      <th>aim_all</th>\n",
       "      <th>автомобиль</th>\n",
       "      <th>недвижимость</th>\n",
       "      <th>образование</th>\n",
       "      <th>свадьба</th>\n",
       "      <th>All</th>\n",
       "    </tr>\n",
       "    <tr>\n",
       "      <th>income_group</th>\n",
       "      <th></th>\n",
       "      <th></th>\n",
       "      <th></th>\n",
       "      <th></th>\n",
       "      <th></th>\n",
       "    </tr>\n",
       "  </thead>\n",
       "  <tbody>\n",
       "    <tr>\n",
       "      <td>предсредний</td>\n",
       "      <td>0.097797</td>\n",
       "      <td>0.079245</td>\n",
       "      <td>0.100798</td>\n",
       "      <td>0.092014</td>\n",
       "      <td>0.088570</td>\n",
       "    </tr>\n",
       "    <tr>\n",
       "      <td>средний</td>\n",
       "      <td>0.096688</td>\n",
       "      <td>0.075402</td>\n",
       "      <td>0.098450</td>\n",
       "      <td>0.085484</td>\n",
       "      <td>0.084909</td>\n",
       "    </tr>\n",
       "    <tr>\n",
       "      <td>нижний средний</td>\n",
       "      <td>0.095455</td>\n",
       "      <td>0.069850</td>\n",
       "      <td>0.095721</td>\n",
       "      <td>0.096591</td>\n",
       "      <td>0.082931</td>\n",
       "    </tr>\n",
       "    <tr>\n",
       "      <td>All</td>\n",
       "      <td>0.093590</td>\n",
       "      <td>0.072334</td>\n",
       "      <td>0.092200</td>\n",
       "      <td>0.080034</td>\n",
       "      <td>0.081150</td>\n",
       "    </tr>\n",
       "    <tr>\n",
       "      <td>состоятельные</td>\n",
       "      <td>0.082474</td>\n",
       "      <td>0.067397</td>\n",
       "      <td>0.078759</td>\n",
       "      <td>0.049505</td>\n",
       "      <td>0.070621</td>\n",
       "    </tr>\n",
       "    <tr>\n",
       "      <td>богатые</td>\n",
       "      <td>0.075000</td>\n",
       "      <td>0.047244</td>\n",
       "      <td>0.117647</td>\n",
       "      <td>0.047619</td>\n",
       "      <td>0.063063</td>\n",
       "    </tr>\n",
       "    <tr>\n",
       "      <td>бедные</td>\n",
       "      <td>0.103659</td>\n",
       "      <td>0.055556</td>\n",
       "      <td>0.038961</td>\n",
       "      <td>0.040541</td>\n",
       "      <td>0.060794</td>\n",
       "    </tr>\n",
       "  </tbody>\n",
       "</table>\n",
       "</div>"
      ],
      "text/plain": [
       "aim_all         автомобиль  недвижимость  образование   свадьба       All\n",
       "income_group                                                             \n",
       "предсредний       0.097797      0.079245     0.100798  0.092014  0.088570\n",
       "средний           0.096688      0.075402     0.098450  0.085484  0.084909\n",
       "нижний средний    0.095455      0.069850     0.095721  0.096591  0.082931\n",
       "All               0.093590      0.072334     0.092200  0.080034  0.081150\n",
       "состоятельные     0.082474      0.067397     0.078759  0.049505  0.070621\n",
       "богатые           0.075000      0.047244     0.117647  0.047619  0.063063\n",
       "бедные            0.103659      0.055556     0.038961  0.040541  0.060794"
      ]
     },
     "execution_count": 33,
     "metadata": {},
     "output_type": "execute_result"
    }
   ],
   "source": [
    "data.pivot_table('debt', index = 'income_group', columns = 'aim_all', margins=True).sort_values('All',ascending=False)"
   ]
  },
  {
   "cell_type": "markdown",
   "metadata": {},
   "source": [
    "Чаще всего несвоевременно возвращают кредит заёмщики с доходом \"предсредний\" (от 107623 до 151887) - 8,9%, \"средний\"(151887 до 202417) - 8,5% и \"нижний средний\"(60000 до 107623) - 8,3%. Эти группы нарушают сроки чаще среднего значения (8,1%).\n",
    "Чаще придерживаются сроков возврата кредита категории \"бедные\"(до 60000) - 6,1% и \"богатые\" (свыше 500000), но это и самые малочисленные категории заёмщиков банка.\n",
    "\n",
    "Относительно цели кредита, чаще всего нарушают сроки заёмщики из категории \"богатые\" (свыше 500000) на образование - 11,8%, \"бедные\"(до 60000) на покупку автомобиля - 10% и \"предсредний\" (от 107623 до 151887) на образование - 10%. Чаще возвращают кредит в срок клиенты из группы \"бедные\"(до 60000) на свадьбу ~ 4,1% и \"богатые\" (свыше 500000) на покупку недвижимости и на свадьбу - 4,7%. \n",
    "\n",
    "---\n",
    "\n",
    "А как образование влияет на своевременное погашение кредитов?"
   ]
  },
  {
   "cell_type": "code",
   "execution_count": 34,
   "metadata": {
    "scrolled": false
   },
   "outputs": [
    {
     "name": "stdout",
     "output_type": "stream",
     "text": [
      "Соотношение просроченных кредитов взятых лицами со среднем образованием: 0.053\n",
      "\n",
      "\n",
      "Соотношение просроченных кредитов взятых лицами с высшим образованием: 0.09\n",
      "\n",
      "\n",
      "Соотношение просроченных кредитов взятых лицами с неоконченным высшим: 0.091\n",
      "\n",
      "\n",
      "Соотношение просроченных кредитов взятых лицами с начальным образованием: 0.11\n"
     ]
    }
   ],
   "source": [
    "ratio_educ_0 = (aim_debtors[aim_debtors['education_id'] == 0]['education_id'].count()) / (data[data['education_id'] == 0]['education_id'].count())\n",
    "print('Соотношение просроченных кредитов взятых лицами со среднем образованием:','{:.2}'.format(ratio_educ_0))\n",
    "print('\\n')\n",
    "ratio_educ_1 = (aim_debtors[aim_debtors['education_id'] == 1]['education_id'].count()) / (data[data['education_id'] == 1]['education_id'].count())\n",
    "print('Соотношение просроченных кредитов взятых лицами с высшим образованием:','{:.2}'.format(ratio_educ_1))\n",
    "print('\\n')\n",
    "ratio_educ_2 = (aim_debtors[aim_debtors['education_id'] == 2]['education_id'].count()) / (data[data['education_id'] == 2]['education_id'].count())\n",
    "print('Соотношение просроченных кредитов взятых лицами с неоконченным высшим:','{:.2}'.format(ratio_educ_2))\n",
    "print('\\n')\n",
    "ratio_educ_3 = (aim_debtors[aim_debtors['education_id'] == 3]['education_id'].count()) / (data[data['education_id'] == 3]['education_id'].count())\n",
    "print('Соотношение просроченных кредитов взятых лицами с начальным образованием:','{:.2}'.format(ratio_educ_3))"
   ]
  },
  {
   "cell_type": "markdown",
   "metadata": {},
   "source": [
    "Я бы выделил риск несвоевременного возврата кредита у людей с начальным и неоконченным высшим.\n",
    "\n",
    "---\n",
    "> Так как моё исследование будет учтено при построении модели кредитного скоринга, для удобства анализа оценки способности потенциального заёмщика вернуть кредит банку, соберу все коэффициенты в одну таблицу и cгруппирую коэффициенты по степени риска (высокий, средний, низкий)."
   ]
  },
  {
   "cell_type": "code",
   "execution_count": 35,
   "metadata": {
    "scrolled": false
   },
   "outputs": [
    {
     "data": {
      "text/html": [
       "<div>\n",
       "<style scoped>\n",
       "    .dataframe tbody tr th:only-of-type {\n",
       "        vertical-align: middle;\n",
       "    }\n",
       "\n",
       "    .dataframe tbody tr th {\n",
       "        vertical-align: top;\n",
       "    }\n",
       "\n",
       "    .dataframe thead th {\n",
       "        text-align: right;\n",
       "    }\n",
       "</style>\n",
       "<table border=\"1\" class=\"dataframe\">\n",
       "  <thead>\n",
       "    <tr style=\"text-align: right;\">\n",
       "      <th></th>\n",
       "      <th>параметр</th>\n",
       "      <th>коэффициент</th>\n",
       "    </tr>\n",
       "  </thead>\n",
       "  <tbody>\n",
       "    <tr>\n",
       "      <td>17</td>\n",
       "      <td>начальное образование</td>\n",
       "      <td>0.109929</td>\n",
       "    </tr>\n",
       "    <tr>\n",
       "      <td>11</td>\n",
       "      <td>категория до 30 лет</td>\n",
       "      <td>0.108808</td>\n",
       "    </tr>\n",
       "    <tr>\n",
       "      <td>18</td>\n",
       "      <td>мужчины</td>\n",
       "      <td>0.102624</td>\n",
       "    </tr>\n",
       "    <tr>\n",
       "      <td>10</td>\n",
       "      <td>4 ребёнка</td>\n",
       "      <td>0.097561</td>\n",
       "    </tr>\n",
       "    <tr>\n",
       "      <td>8</td>\n",
       "      <td>2 ребёнка</td>\n",
       "      <td>0.094925</td>\n",
       "    </tr>\n",
       "    <tr>\n",
       "      <td>1</td>\n",
       "      <td>на автомобиль</td>\n",
       "      <td>0.093590</td>\n",
       "    </tr>\n",
       "    <tr>\n",
       "      <td>2</td>\n",
       "      <td>на образование</td>\n",
       "      <td>0.092200</td>\n",
       "    </tr>\n",
       "    <tr>\n",
       "      <td>7</td>\n",
       "      <td>1 ребёнок</td>\n",
       "      <td>0.091658</td>\n",
       "    </tr>\n",
       "    <tr>\n",
       "      <td>16</td>\n",
       "      <td>неоконченное высшее</td>\n",
       "      <td>0.091398</td>\n",
       "    </tr>\n",
       "    <tr>\n",
       "      <td>15</td>\n",
       "      <td>высшее образование</td>\n",
       "      <td>0.089902</td>\n",
       "    </tr>\n",
       "    <tr>\n",
       "      <td>5</td>\n",
       "      <td>одиночки</td>\n",
       "      <td>0.088865</td>\n",
       "    </tr>\n",
       "    <tr>\n",
       "      <td>9</td>\n",
       "      <td>3 ребёнка</td>\n",
       "      <td>0.081818</td>\n",
       "    </tr>\n",
       "    <tr>\n",
       "      <td>3</td>\n",
       "      <td>на свадьбу</td>\n",
       "      <td>0.080034</td>\n",
       "    </tr>\n",
       "    <tr>\n",
       "      <td>12</td>\n",
       "      <td>категория от 30 до 60 лет</td>\n",
       "      <td>0.079953</td>\n",
       "    </tr>\n",
       "    <tr>\n",
       "      <td>4</td>\n",
       "      <td>женат/замужем</td>\n",
       "      <td>0.075452</td>\n",
       "    </tr>\n",
       "    <tr>\n",
       "      <td>6</td>\n",
       "      <td>бездетные</td>\n",
       "      <td>0.075438</td>\n",
       "    </tr>\n",
       "    <tr>\n",
       "      <td>0</td>\n",
       "      <td>на недвижимость</td>\n",
       "      <td>0.072334</td>\n",
       "    </tr>\n",
       "    <tr>\n",
       "      <td>19</td>\n",
       "      <td>женщины</td>\n",
       "      <td>0.070128</td>\n",
       "    </tr>\n",
       "    <tr>\n",
       "      <td>14</td>\n",
       "      <td>среднее образование</td>\n",
       "      <td>0.052952</td>\n",
       "    </tr>\n",
       "    <tr>\n",
       "      <td>13</td>\n",
       "      <td>от 60 и старше</td>\n",
       "      <td>0.047507</td>\n",
       "    </tr>\n",
       "  </tbody>\n",
       "</table>\n",
       "</div>"
      ],
      "text/plain": [
       "                     параметр  коэффициент\n",
       "17      начальное образование     0.109929\n",
       "11        категория до 30 лет     0.108808\n",
       "18                    мужчины     0.102624\n",
       "10                  4 ребёнка     0.097561\n",
       "8                   2 ребёнка     0.094925\n",
       "1               на автомобиль     0.093590\n",
       "2              на образование     0.092200\n",
       "7                   1 ребёнок     0.091658\n",
       "16        неоконченное высшее     0.091398\n",
       "15         высшее образование     0.089902\n",
       "5                    одиночки     0.088865\n",
       "9                   3 ребёнка     0.081818\n",
       "3                  на свадьбу     0.080034\n",
       "12  категория от 30 до 60 лет     0.079953\n",
       "4               женат/замужем     0.075452\n",
       "6                   бездетные     0.075438\n",
       "0             на недвижимость     0.072334\n",
       "19                    женщины     0.070128\n",
       "14        среднее образование     0.052952\n",
       "13             от 60 и старше     0.047507"
      ]
     },
     "execution_count": 35,
     "metadata": {},
     "output_type": "execute_result"
    }
   ],
   "source": [
    "column_opt = ['параметр', 'коэффициент']\n",
    "rat = (['на недвижимость',ratio_est], ['на автомобиль', ratio_auto], ['на образование', ratio_educ], ['на свадьбу', ratio_wedd], \n",
    "       ['женат/замужем', ratio_couple], ['одиночки', ratio_single], ['бездетные', ratio_child_0], ['1 ребёнок',ratio_child_1], \n",
    "       ['2 ребёнка', ratio_child_2], ['3 ребёнка', ratio_child_3], ['4 ребёнка', ratio_child_4], \n",
    "       ['категория до 30 лет', ratio_age_young], ['категория от 30 до 60 лет', ratio_age_middle], \n",
    "       ['от 60 и старше', ratio_age_senior], ['среднее образование', ratio_educ_0], ['высшее образование', ratio_educ_1], \n",
    "       ['неоконченное высшее', ratio_educ_2], ['начальное образование', ratio_educ_3], ['мужчины', ratio_male], \n",
    "       ['женщины', ratio_female])\n",
    "rat_o = pd.DataFrame(rat, columns = column_opt)\n",
    "rating_sorted = rat_o.sort_values(by = 'коэффициент', ascending = False)\n",
    "rating_sorted"
   ]
  },
  {
   "cell_type": "markdown",
   "metadata": {},
   "source": [
    "**Для того, чтобы заказчику легче было ориентироваться в моих выводах, определю *условную* степень риска для банка, чтобы легче было учитывать моё исследование в оценке способности заёмщика вернуть кредит банку.** "
   ]
  },
  {
   "cell_type": "code",
   "execution_count": 36,
   "metadata": {},
   "outputs": [
    {
     "data": {
      "text/html": [
       "<div>\n",
       "<style scoped>\n",
       "    .dataframe tbody tr th:only-of-type {\n",
       "        vertical-align: middle;\n",
       "    }\n",
       "\n",
       "    .dataframe tbody tr th {\n",
       "        vertical-align: top;\n",
       "    }\n",
       "\n",
       "    .dataframe thead th {\n",
       "        text-align: right;\n",
       "    }\n",
       "</style>\n",
       "<table border=\"1\" class=\"dataframe\">\n",
       "  <thead>\n",
       "    <tr style=\"text-align: right;\">\n",
       "      <th></th>\n",
       "      <th>параметр</th>\n",
       "      <th>коэффициент</th>\n",
       "      <th>risk</th>\n",
       "    </tr>\n",
       "  </thead>\n",
       "  <tbody>\n",
       "    <tr>\n",
       "      <td>17</td>\n",
       "      <td>начальное образование</td>\n",
       "      <td>0.109929</td>\n",
       "      <td>высокий</td>\n",
       "    </tr>\n",
       "    <tr>\n",
       "      <td>11</td>\n",
       "      <td>категория до 30 лет</td>\n",
       "      <td>0.108808</td>\n",
       "      <td>высокий</td>\n",
       "    </tr>\n",
       "    <tr>\n",
       "      <td>18</td>\n",
       "      <td>мужчины</td>\n",
       "      <td>0.102624</td>\n",
       "      <td>высокий</td>\n",
       "    </tr>\n",
       "    <tr>\n",
       "      <td>10</td>\n",
       "      <td>4 ребёнка</td>\n",
       "      <td>0.097561</td>\n",
       "      <td>высокий</td>\n",
       "    </tr>\n",
       "    <tr>\n",
       "      <td>8</td>\n",
       "      <td>2 ребёнка</td>\n",
       "      <td>0.094925</td>\n",
       "      <td>высокий</td>\n",
       "    </tr>\n",
       "    <tr>\n",
       "      <td>1</td>\n",
       "      <td>на автомобиль</td>\n",
       "      <td>0.093590</td>\n",
       "      <td>высокий</td>\n",
       "    </tr>\n",
       "    <tr>\n",
       "      <td>2</td>\n",
       "      <td>на образование</td>\n",
       "      <td>0.092200</td>\n",
       "      <td>высокий</td>\n",
       "    </tr>\n",
       "    <tr>\n",
       "      <td>7</td>\n",
       "      <td>1 ребёнок</td>\n",
       "      <td>0.091658</td>\n",
       "      <td>высокий</td>\n",
       "    </tr>\n",
       "    <tr>\n",
       "      <td>16</td>\n",
       "      <td>неоконченное высшее</td>\n",
       "      <td>0.091398</td>\n",
       "      <td>высокий</td>\n",
       "    </tr>\n",
       "    <tr>\n",
       "      <td>15</td>\n",
       "      <td>высшее образование</td>\n",
       "      <td>0.089902</td>\n",
       "      <td>средний</td>\n",
       "    </tr>\n",
       "    <tr>\n",
       "      <td>5</td>\n",
       "      <td>одиночки</td>\n",
       "      <td>0.088865</td>\n",
       "      <td>средний</td>\n",
       "    </tr>\n",
       "    <tr>\n",
       "      <td>9</td>\n",
       "      <td>3 ребёнка</td>\n",
       "      <td>0.081818</td>\n",
       "      <td>средний</td>\n",
       "    </tr>\n",
       "    <tr>\n",
       "      <td>3</td>\n",
       "      <td>на свадьбу</td>\n",
       "      <td>0.080034</td>\n",
       "      <td>средний</td>\n",
       "    </tr>\n",
       "    <tr>\n",
       "      <td>12</td>\n",
       "      <td>категория от 30 до 60 лет</td>\n",
       "      <td>0.079953</td>\n",
       "      <td>средний</td>\n",
       "    </tr>\n",
       "    <tr>\n",
       "      <td>4</td>\n",
       "      <td>женат/замужем</td>\n",
       "      <td>0.075452</td>\n",
       "      <td>низкий</td>\n",
       "    </tr>\n",
       "    <tr>\n",
       "      <td>6</td>\n",
       "      <td>бездетные</td>\n",
       "      <td>0.075438</td>\n",
       "      <td>низкий</td>\n",
       "    </tr>\n",
       "    <tr>\n",
       "      <td>0</td>\n",
       "      <td>на недвижимость</td>\n",
       "      <td>0.072334</td>\n",
       "      <td>низкий</td>\n",
       "    </tr>\n",
       "    <tr>\n",
       "      <td>19</td>\n",
       "      <td>женщины</td>\n",
       "      <td>0.070128</td>\n",
       "      <td>низкий</td>\n",
       "    </tr>\n",
       "    <tr>\n",
       "      <td>14</td>\n",
       "      <td>среднее образование</td>\n",
       "      <td>0.052952</td>\n",
       "      <td>низкий</td>\n",
       "    </tr>\n",
       "    <tr>\n",
       "      <td>13</td>\n",
       "      <td>от 60 и старше</td>\n",
       "      <td>0.047507</td>\n",
       "      <td>низкий</td>\n",
       "    </tr>\n",
       "  </tbody>\n",
       "</table>\n",
       "</div>"
      ],
      "text/plain": [
       "                     параметр  коэффициент     risk\n",
       "17      начальное образование     0.109929  высокий\n",
       "11        категория до 30 лет     0.108808  высокий\n",
       "18                    мужчины     0.102624  высокий\n",
       "10                  4 ребёнка     0.097561  высокий\n",
       "8                   2 ребёнка     0.094925  высокий\n",
       "1               на автомобиль     0.093590  высокий\n",
       "2              на образование     0.092200  высокий\n",
       "7                   1 ребёнок     0.091658  высокий\n",
       "16        неоконченное высшее     0.091398  высокий\n",
       "15         высшее образование     0.089902  средний\n",
       "5                    одиночки     0.088865  средний\n",
       "9                   3 ребёнка     0.081818  средний\n",
       "3                  на свадьбу     0.080034  средний\n",
       "12  категория от 30 до 60 лет     0.079953  средний\n",
       "4               женат/замужем     0.075452   низкий\n",
       "6                   бездетные     0.075438   низкий\n",
       "0             на недвижимость     0.072334   низкий\n",
       "19                    женщины     0.070128   низкий\n",
       "14        среднее образование     0.052952   низкий\n",
       "13             от 60 и старше     0.047507   низкий"
      ]
     },
     "execution_count": 36,
     "metadata": {},
     "output_type": "execute_result"
    }
   ],
   "source": [
    "def alert_rating(rate):\n",
    "    #rating = rate('коэффициент')\n",
    "    if rate <= 0.079951:\n",
    "        return 'низкий'\n",
    "    if rate < 0.09:\n",
    "        return 'средний'\n",
    "    return 'высокий'\n",
    "\n",
    "rating_sorted['risk'] = rating_sorted['коэффициент'].apply(alert_rating)\n",
    "rating_sorted"
   ]
  },
  {
   "cell_type": "markdown",
   "metadata": {},
   "source": [
    "### Выводы:\n",
    "1. Семейное положение влияет на факт погашения кредита в срок. Хотя, количество недобросовестных женатых/замужних в нашей выборке больше, но соотношение просроченных к количеству взятых кредитов говорит нам о том, что **одиночки чаще нарушают сроки и несвоевременно возвращают деньги**.\n",
    "2. Количество детей также влияет на факт погашения кредита в срок. **Бездетные женатые/замужние реже нарушают сроки возврата кредита**. Чаще всего просрачивают сроки заёмщики с 2 и одним ребёнком. Многодетные (3-4 ребёнка) реже нарушают сроки, хотя этот вывод не репрезентативен из-за малой статистики.\n",
    "\n",
    "#### Дополнительные выводы:\n",
    "\n",
    "- Чем моложе заёмщик, тем выше риск невозврата кредита(от 30 до 60 лет). Чаще всего не соблюдают сроки кредиторы до 30 лет.\n",
    "- Чаще не возвращают в срок кредиты, связанные с покупкой автомобиля и оплатой образования. Риск по этим целевым категориям выше, нежели по кредитам связанным с недвижимостью и свадьбой. \n",
    "- Женщины почти в 2 раза чаще берут кредиты и дисциплинированнее мужчин относятся к своим обязательствам (возвращают кредит в срок). Мужчины чаще нарушают сроки возврата.\n",
    "- Чаще всего несвоевременно возвращают кредит заёмщики с ежемесячным доходом от 107623 до 202417.\n",
    "- Чаще всего нарушают сроки возврата богатые клиенты с доходом свыше 500000 тысяч в месяц, получившие кредит на оплату образования; заёмщики с доходом до 60000 рублей на покупку автомобиля и займщики с доходом от 107623 до 151887 рублей на опплату образования.\n",
    "- Своевременно возвращают кредит клиенты из группы с доходом до 60000 на свадьбу и \"богатые\" с доходом свыше 500000 на покупку недвижимости и на свадьбу.\n",
    "\n",
    "#### Рекомендация:\n",
    "\n",
    "- Учитывать обозначенную в данном исследовании степень риска при построении модели кредитного скоринга."
   ]
  }
 ],
 "metadata": {
  "kernelspec": {
   "display_name": "Python 3",
   "language": "python",
   "name": "python3"
  },
  "language_info": {
   "codemirror_mode": {
    "name": "ipython",
    "version": 3
   },
   "file_extension": ".py",
   "mimetype": "text/x-python",
   "name": "python",
   "nbconvert_exporter": "python",
   "pygments_lexer": "ipython3",
   "version": "3.7.7"
  }
 },
 "nbformat": 4,
 "nbformat_minor": 2
}
