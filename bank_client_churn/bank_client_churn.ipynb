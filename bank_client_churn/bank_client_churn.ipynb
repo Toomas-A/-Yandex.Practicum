{
 "cells": [
  {
   "cell_type": "markdown",
   "metadata": {},
   "source": [
    "# Отток клиентов"
   ]
  },
  {
   "cell_type": "markdown",
   "metadata": {},
   "source": [
    "Из банка стали уходить клиенты. Каждый месяц. Немного, но заметно. Банковские маркетологи посчитали: сохранять текущих клиентов дешевле, чем привлекать новых.\n",
    "\n",
    "Нужно спрогнозировать, уйдёт клиент из банка в ближайшее время или нет. Предоставлены исторические данные о поведении клиентов. \n",
    "\n",
    "Необходимо постройте модель с предельно большим значением *F1>0.59* (целевое значение).\n",
    "\n",
    "Источник данных: [https://www.kaggle.com/barelydedicated/bank-customer-churn-modeling](https://www.kaggle.com/barelydedicated/bank-customer-churn-modeling)\n",
    "\n",
    "В наборе данных представлены следующие признаки:  \n",
    "- RowNumber — индекс строки в данных;  \n",
    "- CustomerId — уникальный идентификатор клиента;  \n",
    "- Surname — фамилия;  \n",
    "- CreditScore — кредитный рейтинг;  \n",
    "- Geography — страна проживания;  \n",
    "- Gender — пол;  \n",
    "- Age — возраст;  \n",
    "- Tenure — количество недвижимости у клиента;  \n",
    "- Balance — баланс на счёте;  \n",
    "- NumOfProducts — количество продуктов банка, используемых клиентом;  \n",
    "- HasCrCard — наличие кредитной карты;  \n",
    "- IsActiveMember — активность клиента;  \n",
    "- EstimatedSalary — предполагаемая зарплата;  \n",
    "\n",
    "и целевой признак:  \n",
    "- Exited — факт ухода клиента.\n",
    "\n",
    "---\n",
    "\n",
    "#### План по выполнению проекта:  \n",
    "1) Откроем файл datasets/users_behavior.csv и подготовим данные для обучения и настройки модели.  \n",
    "2) Обучим модели без учета дисбаланса.  \n",
    "3) Исследуем качество разных моделей на валидационной выборке, учитывая дисбаланс классов и изменяя гиперпараметры.   \n",
    "4) Проанализируем связь агрегирующей метрики полноты и точности - F1 с площадью под ROC-кривой — AUC-ROC.  \n",
    "5) Убедимся в качестве выбранных моделей на тестовой выборке.     "
   ]
  },
  {
   "cell_type": "markdown",
   "metadata": {},
   "source": [
    "# 1. Подготовка данных\n",
    "\n",
    "Импортируем все необходимые для анализа и обучения библиотеки. Откроем файл."
   ]
  },
  {
   "cell_type": "code",
   "execution_count": 268,
   "metadata": {},
   "outputs": [],
   "source": [
    "import pandas as pd\n",
    "from sklearn.preprocessing import StandardScaler\n",
    "from sklearn.model_selection import train_test_split\n",
    "from sklearn.tree import DecisionTreeClassifier\n",
    "from sklearn.ensemble import RandomForestClassifier\n",
    "from sklearn.linear_model import LogisticRegression\n",
    "from sklearn.svm import SVC\n",
    "from sklearn.utils import shuffle\n",
    "from sklearn.metrics import f1_score\n",
    "from sklearn.metrics import roc_curve\n",
    "from sklearn.metrics import roc_auc_score\n",
    "import matplotlib.pyplot as plt\n",
    "import numpy as np\n",
    "\n",
    "import warnings # отключение предупреждений\n",
    "warnings.filterwarnings('ignore')"
   ]
  },
  {
   "cell_type": "code",
   "execution_count": 269,
   "metadata": {
    "scrolled": true
   },
   "outputs": [
    {
     "name": "stdout",
     "output_type": "stream",
     "text": [
      "<class 'pandas.core.frame.DataFrame'>\n",
      "RangeIndex: 10000 entries, 0 to 9999\n",
      "Data columns (total 14 columns):\n",
      "RowNumber          10000 non-null int64\n",
      "CustomerId         10000 non-null int64\n",
      "Surname            10000 non-null object\n",
      "CreditScore        10000 non-null int64\n",
      "Geography          10000 non-null object\n",
      "Gender             10000 non-null object\n",
      "Age                10000 non-null int64\n",
      "Tenure             9091 non-null float64\n",
      "Balance            10000 non-null float64\n",
      "NumOfProducts      10000 non-null int64\n",
      "HasCrCard          10000 non-null int64\n",
      "IsActiveMember     10000 non-null int64\n",
      "EstimatedSalary    10000 non-null float64\n",
      "Exited             10000 non-null int64\n",
      "dtypes: float64(3), int64(8), object(3)\n",
      "memory usage: 1.1+ MB\n"
     ]
    },
    {
     "data": {
      "text/html": [
       "<div>\n",
       "<style scoped>\n",
       "    .dataframe tbody tr th:only-of-type {\n",
       "        vertical-align: middle;\n",
       "    }\n",
       "\n",
       "    .dataframe tbody tr th {\n",
       "        vertical-align: top;\n",
       "    }\n",
       "\n",
       "    .dataframe thead th {\n",
       "        text-align: right;\n",
       "    }\n",
       "</style>\n",
       "<table border=\"1\" class=\"dataframe\">\n",
       "  <thead>\n",
       "    <tr style=\"text-align: right;\">\n",
       "      <th></th>\n",
       "      <th>RowNumber</th>\n",
       "      <th>CustomerId</th>\n",
       "      <th>Surname</th>\n",
       "      <th>CreditScore</th>\n",
       "      <th>Geography</th>\n",
       "      <th>Gender</th>\n",
       "      <th>Age</th>\n",
       "      <th>Tenure</th>\n",
       "      <th>Balance</th>\n",
       "      <th>NumOfProducts</th>\n",
       "      <th>HasCrCard</th>\n",
       "      <th>IsActiveMember</th>\n",
       "      <th>EstimatedSalary</th>\n",
       "      <th>Exited</th>\n",
       "    </tr>\n",
       "  </thead>\n",
       "  <tbody>\n",
       "    <tr>\n",
       "      <td>0</td>\n",
       "      <td>1</td>\n",
       "      <td>15634602</td>\n",
       "      <td>Hargrave</td>\n",
       "      <td>619</td>\n",
       "      <td>France</td>\n",
       "      <td>Female</td>\n",
       "      <td>42</td>\n",
       "      <td>2.0</td>\n",
       "      <td>0.00</td>\n",
       "      <td>1</td>\n",
       "      <td>1</td>\n",
       "      <td>1</td>\n",
       "      <td>101348.88</td>\n",
       "      <td>1</td>\n",
       "    </tr>\n",
       "    <tr>\n",
       "      <td>1</td>\n",
       "      <td>2</td>\n",
       "      <td>15647311</td>\n",
       "      <td>Hill</td>\n",
       "      <td>608</td>\n",
       "      <td>Spain</td>\n",
       "      <td>Female</td>\n",
       "      <td>41</td>\n",
       "      <td>1.0</td>\n",
       "      <td>83807.86</td>\n",
       "      <td>1</td>\n",
       "      <td>0</td>\n",
       "      <td>1</td>\n",
       "      <td>112542.58</td>\n",
       "      <td>0</td>\n",
       "    </tr>\n",
       "    <tr>\n",
       "      <td>2</td>\n",
       "      <td>3</td>\n",
       "      <td>15619304</td>\n",
       "      <td>Onio</td>\n",
       "      <td>502</td>\n",
       "      <td>France</td>\n",
       "      <td>Female</td>\n",
       "      <td>42</td>\n",
       "      <td>8.0</td>\n",
       "      <td>159660.80</td>\n",
       "      <td>3</td>\n",
       "      <td>1</td>\n",
       "      <td>0</td>\n",
       "      <td>113931.57</td>\n",
       "      <td>1</td>\n",
       "    </tr>\n",
       "    <tr>\n",
       "      <td>3</td>\n",
       "      <td>4</td>\n",
       "      <td>15701354</td>\n",
       "      <td>Boni</td>\n",
       "      <td>699</td>\n",
       "      <td>France</td>\n",
       "      <td>Female</td>\n",
       "      <td>39</td>\n",
       "      <td>1.0</td>\n",
       "      <td>0.00</td>\n",
       "      <td>2</td>\n",
       "      <td>0</td>\n",
       "      <td>0</td>\n",
       "      <td>93826.63</td>\n",
       "      <td>0</td>\n",
       "    </tr>\n",
       "    <tr>\n",
       "      <td>4</td>\n",
       "      <td>5</td>\n",
       "      <td>15737888</td>\n",
       "      <td>Mitchell</td>\n",
       "      <td>850</td>\n",
       "      <td>Spain</td>\n",
       "      <td>Female</td>\n",
       "      <td>43</td>\n",
       "      <td>2.0</td>\n",
       "      <td>125510.82</td>\n",
       "      <td>1</td>\n",
       "      <td>1</td>\n",
       "      <td>1</td>\n",
       "      <td>79084.10</td>\n",
       "      <td>0</td>\n",
       "    </tr>\n",
       "    <tr>\n",
       "      <td>...</td>\n",
       "      <td>...</td>\n",
       "      <td>...</td>\n",
       "      <td>...</td>\n",
       "      <td>...</td>\n",
       "      <td>...</td>\n",
       "      <td>...</td>\n",
       "      <td>...</td>\n",
       "      <td>...</td>\n",
       "      <td>...</td>\n",
       "      <td>...</td>\n",
       "      <td>...</td>\n",
       "      <td>...</td>\n",
       "      <td>...</td>\n",
       "      <td>...</td>\n",
       "    </tr>\n",
       "    <tr>\n",
       "      <td>9995</td>\n",
       "      <td>9996</td>\n",
       "      <td>15606229</td>\n",
       "      <td>Obijiaku</td>\n",
       "      <td>771</td>\n",
       "      <td>France</td>\n",
       "      <td>Male</td>\n",
       "      <td>39</td>\n",
       "      <td>5.0</td>\n",
       "      <td>0.00</td>\n",
       "      <td>2</td>\n",
       "      <td>1</td>\n",
       "      <td>0</td>\n",
       "      <td>96270.64</td>\n",
       "      <td>0</td>\n",
       "    </tr>\n",
       "    <tr>\n",
       "      <td>9996</td>\n",
       "      <td>9997</td>\n",
       "      <td>15569892</td>\n",
       "      <td>Johnstone</td>\n",
       "      <td>516</td>\n",
       "      <td>France</td>\n",
       "      <td>Male</td>\n",
       "      <td>35</td>\n",
       "      <td>10.0</td>\n",
       "      <td>57369.61</td>\n",
       "      <td>1</td>\n",
       "      <td>1</td>\n",
       "      <td>1</td>\n",
       "      <td>101699.77</td>\n",
       "      <td>0</td>\n",
       "    </tr>\n",
       "    <tr>\n",
       "      <td>9997</td>\n",
       "      <td>9998</td>\n",
       "      <td>15584532</td>\n",
       "      <td>Liu</td>\n",
       "      <td>709</td>\n",
       "      <td>France</td>\n",
       "      <td>Female</td>\n",
       "      <td>36</td>\n",
       "      <td>7.0</td>\n",
       "      <td>0.00</td>\n",
       "      <td>1</td>\n",
       "      <td>0</td>\n",
       "      <td>1</td>\n",
       "      <td>42085.58</td>\n",
       "      <td>1</td>\n",
       "    </tr>\n",
       "    <tr>\n",
       "      <td>9998</td>\n",
       "      <td>9999</td>\n",
       "      <td>15682355</td>\n",
       "      <td>Sabbatini</td>\n",
       "      <td>772</td>\n",
       "      <td>Germany</td>\n",
       "      <td>Male</td>\n",
       "      <td>42</td>\n",
       "      <td>3.0</td>\n",
       "      <td>75075.31</td>\n",
       "      <td>2</td>\n",
       "      <td>1</td>\n",
       "      <td>0</td>\n",
       "      <td>92888.52</td>\n",
       "      <td>1</td>\n",
       "    </tr>\n",
       "    <tr>\n",
       "      <td>9999</td>\n",
       "      <td>10000</td>\n",
       "      <td>15628319</td>\n",
       "      <td>Walker</td>\n",
       "      <td>792</td>\n",
       "      <td>France</td>\n",
       "      <td>Female</td>\n",
       "      <td>28</td>\n",
       "      <td>NaN</td>\n",
       "      <td>130142.79</td>\n",
       "      <td>1</td>\n",
       "      <td>1</td>\n",
       "      <td>0</td>\n",
       "      <td>38190.78</td>\n",
       "      <td>0</td>\n",
       "    </tr>\n",
       "  </tbody>\n",
       "</table>\n",
       "<p>10000 rows × 14 columns</p>\n",
       "</div>"
      ],
      "text/plain": [
       "      RowNumber  CustomerId    Surname  CreditScore Geography  Gender  Age  \\\n",
       "0             1    15634602   Hargrave          619    France  Female   42   \n",
       "1             2    15647311       Hill          608     Spain  Female   41   \n",
       "2             3    15619304       Onio          502    France  Female   42   \n",
       "3             4    15701354       Boni          699    France  Female   39   \n",
       "4             5    15737888   Mitchell          850     Spain  Female   43   \n",
       "...         ...         ...        ...          ...       ...     ...  ...   \n",
       "9995       9996    15606229   Obijiaku          771    France    Male   39   \n",
       "9996       9997    15569892  Johnstone          516    France    Male   35   \n",
       "9997       9998    15584532        Liu          709    France  Female   36   \n",
       "9998       9999    15682355  Sabbatini          772   Germany    Male   42   \n",
       "9999      10000    15628319     Walker          792    France  Female   28   \n",
       "\n",
       "      Tenure    Balance  NumOfProducts  HasCrCard  IsActiveMember  \\\n",
       "0        2.0       0.00              1          1               1   \n",
       "1        1.0   83807.86              1          0               1   \n",
       "2        8.0  159660.80              3          1               0   \n",
       "3        1.0       0.00              2          0               0   \n",
       "4        2.0  125510.82              1          1               1   \n",
       "...      ...        ...            ...        ...             ...   \n",
       "9995     5.0       0.00              2          1               0   \n",
       "9996    10.0   57369.61              1          1               1   \n",
       "9997     7.0       0.00              1          0               1   \n",
       "9998     3.0   75075.31              2          1               0   \n",
       "9999     NaN  130142.79              1          1               0   \n",
       "\n",
       "      EstimatedSalary  Exited  \n",
       "0           101348.88       1  \n",
       "1           112542.58       0  \n",
       "2           113931.57       1  \n",
       "3            93826.63       0  \n",
       "4            79084.10       0  \n",
       "...               ...     ...  \n",
       "9995         96270.64       0  \n",
       "9996        101699.77       0  \n",
       "9997         42085.58       1  \n",
       "9998         92888.52       1  \n",
       "9999         38190.78       0  \n",
       "\n",
       "[10000 rows x 14 columns]"
      ]
     },
     "execution_count": 269,
     "metadata": {},
     "output_type": "execute_result"
    }
   ],
   "source": [
    "data = pd.read_csv('/datasets/Churn.csv')\n",
    "data.info()\n",
    "data"
   ]
  },
  {
   "cell_type": "code",
   "execution_count": 270,
   "metadata": {},
   "outputs": [
    {
     "data": {
      "text/plain": [
       "0    7963\n",
       "1    2037\n",
       "Name: Exited, dtype: int64"
      ]
     },
     "execution_count": 270,
     "metadata": {},
     "output_type": "execute_result"
    }
   ],
   "source": [
    "data['Exited'].value_counts()"
   ]
  },
  {
   "cell_type": "markdown",
   "metadata": {},
   "source": [
    "В нашей выборке представлено 10000 объектов и 14 признаков. Целевой признак, который нужно предсказать, — это факт ухода клиента (`Exited`).  \n",
    "Соотношение клиентов банка расторгнувших договор обслуживания (ушедших) к лояльным (оставшихся) - ~ 1 к 4 (2037/7963).\n",
    "\n",
    "#### Подготовим данные.\n",
    "\n",
    "- Для обучения модели первые 3 столбца (`RowNumber`, `CustomerId`,\t`Surname`) не имеют значения, т.к. это уникальная информация данного датасета и она не несёт никакой пользы для дальнейших действий. Удалим эти столбцы. \n",
    "- В столбце `Tenure` 909 объектов не имеют значения. Предположим, что у этих клиентов нет объектов недвижимости, соответственно, заменим NaN на нули.\n",
    "- Приведем численные признаки к одному масштабу.\n",
    "- Преобразуем категориальные признаки (`Geography`, `Gender`) в численные.\n",
    "- Разобьем наш датасет на на обучающую, валидационную и тестовую выборки в пропорции 70%-15%-15%."
   ]
  },
  {
   "cell_type": "code",
   "execution_count": 271,
   "metadata": {},
   "outputs": [],
   "source": [
    "data = data.drop(['RowNumber', 'CustomerId', 'Surname'], axis=1)\n",
    "data = data.fillna(0)"
   ]
  },
  {
   "cell_type": "code",
   "execution_count": 272,
   "metadata": {},
   "outputs": [],
   "source": [
    "numeric = ['CreditScore', 'Age', 'Tenure', 'Balance', 'NumOfProducts', 'EstimatedSalary']\n",
    "scaler = StandardScaler()\n",
    "scaler.fit(data[numeric])\n",
    "data[numeric] = scaler.transform(data[numeric])"
   ]
  },
  {
   "cell_type": "code",
   "execution_count": 273,
   "metadata": {
    "scrolled": true
   },
   "outputs": [
    {
     "data": {
      "text/html": [
       "<div>\n",
       "<style scoped>\n",
       "    .dataframe tbody tr th:only-of-type {\n",
       "        vertical-align: middle;\n",
       "    }\n",
       "\n",
       "    .dataframe tbody tr th {\n",
       "        vertical-align: top;\n",
       "    }\n",
       "\n",
       "    .dataframe thead th {\n",
       "        text-align: right;\n",
       "    }\n",
       "</style>\n",
       "<table border=\"1\" class=\"dataframe\">\n",
       "  <thead>\n",
       "    <tr style=\"text-align: right;\">\n",
       "      <th></th>\n",
       "      <th>CreditScore</th>\n",
       "      <th>Age</th>\n",
       "      <th>Tenure</th>\n",
       "      <th>Balance</th>\n",
       "      <th>NumOfProducts</th>\n",
       "      <th>HasCrCard</th>\n",
       "      <th>IsActiveMember</th>\n",
       "      <th>EstimatedSalary</th>\n",
       "      <th>Exited</th>\n",
       "      <th>Geography_France</th>\n",
       "      <th>Geography_Germany</th>\n",
       "      <th>Geography_Spain</th>\n",
       "      <th>Gender_Female</th>\n",
       "      <th>Gender_Male</th>\n",
       "    </tr>\n",
       "  </thead>\n",
       "  <tbody>\n",
       "    <tr>\n",
       "      <td>0</td>\n",
       "      <td>-0.326221</td>\n",
       "      <td>0.293517</td>\n",
       "      <td>-0.817441</td>\n",
       "      <td>-1.225848</td>\n",
       "      <td>-0.911583</td>\n",
       "      <td>1</td>\n",
       "      <td>1</td>\n",
       "      <td>0.021886</td>\n",
       "      <td>1</td>\n",
       "      <td>1</td>\n",
       "      <td>0</td>\n",
       "      <td>0</td>\n",
       "      <td>1</td>\n",
       "      <td>0</td>\n",
       "    </tr>\n",
       "    <tr>\n",
       "      <td>1</td>\n",
       "      <td>-0.440036</td>\n",
       "      <td>0.198164</td>\n",
       "      <td>-1.138838</td>\n",
       "      <td>0.117350</td>\n",
       "      <td>-0.911583</td>\n",
       "      <td>0</td>\n",
       "      <td>1</td>\n",
       "      <td>0.216534</td>\n",
       "      <td>0</td>\n",
       "      <td>0</td>\n",
       "      <td>0</td>\n",
       "      <td>1</td>\n",
       "      <td>1</td>\n",
       "      <td>0</td>\n",
       "    </tr>\n",
       "    <tr>\n",
       "      <td>2</td>\n",
       "      <td>-1.536794</td>\n",
       "      <td>0.293517</td>\n",
       "      <td>1.110941</td>\n",
       "      <td>1.333053</td>\n",
       "      <td>2.527057</td>\n",
       "      <td>1</td>\n",
       "      <td>0</td>\n",
       "      <td>0.240687</td>\n",
       "      <td>1</td>\n",
       "      <td>1</td>\n",
       "      <td>0</td>\n",
       "      <td>0</td>\n",
       "      <td>1</td>\n",
       "      <td>0</td>\n",
       "    </tr>\n",
       "    <tr>\n",
       "      <td>3</td>\n",
       "      <td>0.501521</td>\n",
       "      <td>0.007457</td>\n",
       "      <td>-1.138838</td>\n",
       "      <td>-1.225848</td>\n",
       "      <td>0.807737</td>\n",
       "      <td>0</td>\n",
       "      <td>0</td>\n",
       "      <td>-0.108918</td>\n",
       "      <td>0</td>\n",
       "      <td>1</td>\n",
       "      <td>0</td>\n",
       "      <td>0</td>\n",
       "      <td>1</td>\n",
       "      <td>0</td>\n",
       "    </tr>\n",
       "    <tr>\n",
       "      <td>4</td>\n",
       "      <td>2.063884</td>\n",
       "      <td>0.388871</td>\n",
       "      <td>-0.817441</td>\n",
       "      <td>0.785728</td>\n",
       "      <td>-0.911583</td>\n",
       "      <td>1</td>\n",
       "      <td>1</td>\n",
       "      <td>-0.365276</td>\n",
       "      <td>0</td>\n",
       "      <td>0</td>\n",
       "      <td>0</td>\n",
       "      <td>1</td>\n",
       "      <td>1</td>\n",
       "      <td>0</td>\n",
       "    </tr>\n",
       "    <tr>\n",
       "      <td>...</td>\n",
       "      <td>...</td>\n",
       "      <td>...</td>\n",
       "      <td>...</td>\n",
       "      <td>...</td>\n",
       "      <td>...</td>\n",
       "      <td>...</td>\n",
       "      <td>...</td>\n",
       "      <td>...</td>\n",
       "      <td>...</td>\n",
       "      <td>...</td>\n",
       "      <td>...</td>\n",
       "      <td>...</td>\n",
       "      <td>...</td>\n",
       "      <td>...</td>\n",
       "    </tr>\n",
       "    <tr>\n",
       "      <td>9995</td>\n",
       "      <td>1.246488</td>\n",
       "      <td>0.007457</td>\n",
       "      <td>0.146750</td>\n",
       "      <td>-1.225848</td>\n",
       "      <td>0.807737</td>\n",
       "      <td>1</td>\n",
       "      <td>0</td>\n",
       "      <td>-0.066419</td>\n",
       "      <td>0</td>\n",
       "      <td>1</td>\n",
       "      <td>0</td>\n",
       "      <td>0</td>\n",
       "      <td>0</td>\n",
       "      <td>1</td>\n",
       "    </tr>\n",
       "    <tr>\n",
       "      <td>9996</td>\n",
       "      <td>-1.391939</td>\n",
       "      <td>-0.373958</td>\n",
       "      <td>1.753735</td>\n",
       "      <td>-0.306379</td>\n",
       "      <td>-0.911583</td>\n",
       "      <td>1</td>\n",
       "      <td>1</td>\n",
       "      <td>0.027988</td>\n",
       "      <td>0</td>\n",
       "      <td>1</td>\n",
       "      <td>0</td>\n",
       "      <td>0</td>\n",
       "      <td>0</td>\n",
       "      <td>1</td>\n",
       "    </tr>\n",
       "    <tr>\n",
       "      <td>9997</td>\n",
       "      <td>0.604988</td>\n",
       "      <td>-0.278604</td>\n",
       "      <td>0.789544</td>\n",
       "      <td>-1.225848</td>\n",
       "      <td>-0.911583</td>\n",
       "      <td>0</td>\n",
       "      <td>1</td>\n",
       "      <td>-1.008643</td>\n",
       "      <td>1</td>\n",
       "      <td>1</td>\n",
       "      <td>0</td>\n",
       "      <td>0</td>\n",
       "      <td>1</td>\n",
       "      <td>0</td>\n",
       "    </tr>\n",
       "    <tr>\n",
       "      <td>9998</td>\n",
       "      <td>1.256835</td>\n",
       "      <td>0.293517</td>\n",
       "      <td>-0.496044</td>\n",
       "      <td>-0.022608</td>\n",
       "      <td>0.807737</td>\n",
       "      <td>1</td>\n",
       "      <td>0</td>\n",
       "      <td>-0.125231</td>\n",
       "      <td>1</td>\n",
       "      <td>0</td>\n",
       "      <td>1</td>\n",
       "      <td>0</td>\n",
       "      <td>0</td>\n",
       "      <td>1</td>\n",
       "    </tr>\n",
       "    <tr>\n",
       "      <td>9999</td>\n",
       "      <td>1.463771</td>\n",
       "      <td>-1.041433</td>\n",
       "      <td>-1.460235</td>\n",
       "      <td>0.859965</td>\n",
       "      <td>-0.911583</td>\n",
       "      <td>1</td>\n",
       "      <td>0</td>\n",
       "      <td>-1.076370</td>\n",
       "      <td>0</td>\n",
       "      <td>1</td>\n",
       "      <td>0</td>\n",
       "      <td>0</td>\n",
       "      <td>1</td>\n",
       "      <td>0</td>\n",
       "    </tr>\n",
       "  </tbody>\n",
       "</table>\n",
       "<p>10000 rows × 14 columns</p>\n",
       "</div>"
      ],
      "text/plain": [
       "      CreditScore       Age    Tenure   Balance  NumOfProducts  HasCrCard  \\\n",
       "0       -0.326221  0.293517 -0.817441 -1.225848      -0.911583          1   \n",
       "1       -0.440036  0.198164 -1.138838  0.117350      -0.911583          0   \n",
       "2       -1.536794  0.293517  1.110941  1.333053       2.527057          1   \n",
       "3        0.501521  0.007457 -1.138838 -1.225848       0.807737          0   \n",
       "4        2.063884  0.388871 -0.817441  0.785728      -0.911583          1   \n",
       "...           ...       ...       ...       ...            ...        ...   \n",
       "9995     1.246488  0.007457  0.146750 -1.225848       0.807737          1   \n",
       "9996    -1.391939 -0.373958  1.753735 -0.306379      -0.911583          1   \n",
       "9997     0.604988 -0.278604  0.789544 -1.225848      -0.911583          0   \n",
       "9998     1.256835  0.293517 -0.496044 -0.022608       0.807737          1   \n",
       "9999     1.463771 -1.041433 -1.460235  0.859965      -0.911583          1   \n",
       "\n",
       "      IsActiveMember  EstimatedSalary  Exited  Geography_France  \\\n",
       "0                  1         0.021886       1                 1   \n",
       "1                  1         0.216534       0                 0   \n",
       "2                  0         0.240687       1                 1   \n",
       "3                  0        -0.108918       0                 1   \n",
       "4                  1        -0.365276       0                 0   \n",
       "...              ...              ...     ...               ...   \n",
       "9995               0        -0.066419       0                 1   \n",
       "9996               1         0.027988       0                 1   \n",
       "9997               1        -1.008643       1                 1   \n",
       "9998               0        -0.125231       1                 0   \n",
       "9999               0        -1.076370       0                 1   \n",
       "\n",
       "      Geography_Germany  Geography_Spain  Gender_Female  Gender_Male  \n",
       "0                     0                0              1            0  \n",
       "1                     0                1              1            0  \n",
       "2                     0                0              1            0  \n",
       "3                     0                0              1            0  \n",
       "4                     0                1              1            0  \n",
       "...                 ...              ...            ...          ...  \n",
       "9995                  0                0              0            1  \n",
       "9996                  0                0              0            1  \n",
       "9997                  0                0              1            0  \n",
       "9998                  1                0              0            1  \n",
       "9999                  0                0              1            0  \n",
       "\n",
       "[10000 rows x 14 columns]"
      ]
     },
     "execution_count": 273,
     "metadata": {},
     "output_type": "execute_result"
    }
   ],
   "source": [
    "data_ohe = pd.get_dummies(data, columns = ['Geography', 'Gender'])\n",
    "data_ohe"
   ]
  },
  {
   "cell_type": "code",
   "execution_count": 274,
   "metadata": {},
   "outputs": [
    {
     "name": "stdout",
     "output_type": "stream",
     "text": [
      "(6999, 13) (6999,)\n",
      "(1500, 13) (1500,)\n",
      "(1501, 13) (1501,)\n"
     ]
    }
   ],
   "source": [
    "target = data_ohe['Exited']\n",
    "features = data_ohe.drop(['Exited'] , axis=1)\n",
    "\n",
    "X_train, X_valid, y_train, y_valid = train_test_split(\n",
    "    features, target, test_size=0.15, random_state=12345)\n",
    "X_train, X_test, y_train, y_test = train_test_split(\n",
    "    X_train, y_train, test_size=0.1765, random_state=12345)\n",
    "\n",
    "print(X_train.shape, y_train.shape)\n",
    "print(X_valid.shape, y_valid.shape)\n",
    "print(X_test.shape, y_test.shape)"
   ]
  },
  {
   "cell_type": "markdown",
   "metadata": {},
   "source": [
    "# 2. Исследование задачи\n",
    "\n",
    "Используем следующие алгоритмы:\n",
    "\n",
    "- DecisionTreeClassifier\n",
    "- RandomForestClassifier\n",
    "- LogisticRegression\n",
    "- Support Vector Machine\n",
    "\n",
    "Для DecisionTreeClassifier и RandomForestClassifier, для настройки правильность предсказаний алгоритмов, необходимо подобрать соответствующий гиперпараметр `maх_depth` и `n_estimators`. Чтобы автоматизировать процесс, создадим цикл подставляющий разные значения и сравним качество моделей в разных вариантах.\n",
    "\n",
    "Обучим модели и посчитаем значения F1 на валидационной выборке."
   ]
  },
  {
   "cell_type": "code",
   "execution_count": 275,
   "metadata": {},
   "outputs": [
    {
     "name": "stdout",
     "output_type": "stream",
     "text": [
      "max_depth = 1 : 0.0\n",
      "max_depth = 2 : 0.5376344086021505\n",
      "max_depth = 3 : 0.41545893719806765\n",
      "max_depth = 4 : 0.4397163120567376\n",
      "max_depth = 5 : 0.5802707930367506\n",
      "max_depth = 6 : 0.5350877192982457\n",
      "max_depth = 7 : 0.5583333333333332\n",
      "max_depth = 8 : 0.5806451612903225\n",
      "max_depth = 9 : 0.5618860510805501\n",
      "max_depth = 10 : 0.5219123505976097\n"
     ]
    }
   ],
   "source": [
    "for depth in range(1, 11): # DecisionTreeClassifier\n",
    "    model = DecisionTreeClassifier(max_depth=depth, random_state=12345)\n",
    "    model.fit(X_train, y_train)\n",
    "    predicted_test_dtc = model.predict(X_valid)\n",
    "    f1_dtc = f1_score(y_valid, predicted_test_dtc)\n",
    "    print('max_depth =', depth, ':', f1_dtc)"
   ]
  },
  {
   "cell_type": "code",
   "execution_count": 276,
   "metadata": {
    "scrolled": true
   },
   "outputs": [
    {
     "name": "stdout",
     "output_type": "stream",
     "text": [
      "n_estimators = 105 : 0.576\n",
      "n_estimators = 106 : 0.5656565656565657\n",
      "n_estimators = 107 : 0.570281124497992\n",
      "n_estimators = 108 : 0.5685483870967742\n",
      "n_estimators = 109 : 0.5771543086172345\n",
      "n_estimators = 110 : 0.5754527162977867\n",
      "n_estimators = 111 : 0.5771543086172345\n",
      "n_estimators = 112 : 0.5725806451612904\n",
      "n_estimators = 113 : 0.584\n",
      "n_estimators = 114 : 0.5725806451612904\n"
     ]
    }
   ],
   "source": [
    "for nest in range(105, 115): # RandomForestClassifier\n",
    "    model = RandomForestClassifier(random_state=12345, n_estimators=nest)\n",
    "    model.fit(X_train, y_train)\n",
    "    predicted_test_rfc = model.predict(X_valid)\n",
    "    f1_rfc = f1_score(y_valid, predicted_test_rfc)\n",
    "    print('n_estimators =', nest, ':', f1_rfc)"
   ]
  },
  {
   "cell_type": "code",
   "execution_count": 277,
   "metadata": {
    "scrolled": true
   },
   "outputs": [
    {
     "name": "stdout",
     "output_type": "stream",
     "text": [
      "F1 = 0.2995169082125604\n"
     ]
    }
   ],
   "source": [
    "model_lr = LogisticRegression(random_state=12345) # LogisticRegression\n",
    "model_lr.fit(X_train, y_train)\n",
    "predicted_test_lr = model_lr.predict(X_valid)\n",
    "print('F1 =', f1_score(y_valid, predicted_test_lr))"
   ]
  },
  {
   "cell_type": "code",
   "execution_count": 278,
   "metadata": {},
   "outputs": [
    {
     "name": "stdout",
     "output_type": "stream",
     "text": [
      "F1 = 0.4931506849315069\n"
     ]
    }
   ],
   "source": [
    "from sklearn.svm import SVC # Support Vector Machine\n",
    "support_vector = SVC(random_state=12345)\n",
    "support_vector.fit(X_train, y_train)\n",
    "s_prediction = support_vector.predict(X_valid)\n",
    "print('F1 =', f1_score(y_valid, s_prediction))"
   ]
  },
  {
   "cell_type": "markdown",
   "metadata": {},
   "source": [
    "Без учета дисбаланса лучшее значение показывает модель RandomForestClassifier (при `n_estimators = 113` F1=0.584) и DecisionTreeClassifier (`max_depth = 8` F1=0.580645). \n",
    "Худшая модель алгоритма LogisticRegression.\n",
    "\n",
    "Улучшим качество моделей, учитывая дисбаланс классов и изменяя гиперпараметры."
   ]
  },
  {
   "cell_type": "markdown",
   "metadata": {},
   "source": [
    "# 3. Борьба с дисбалансом\n",
    "\n",
    "#### 1) Придадим объектам редкого класса больший вес.  \n",
    "Поменяем аргумент `class_weight` с None на \"balanced\". Таким образом бóльший вес будет у редкого (1) класса."
   ]
  },
  {
   "cell_type": "code",
   "execution_count": 279,
   "metadata": {},
   "outputs": [
    {
     "name": "stdout",
     "output_type": "stream",
     "text": [
      "max_depth = 1 : 0.4993726474278545\n",
      "max_depth = 2 : 0.5274725274725275\n",
      "max_depth = 3 : 0.5274725274725275\n",
      "max_depth = 4 : 0.5810473815461347\n",
      "max_depth = 5 : 0.5748218527315914\n",
      "max_depth = 6 : 0.5962566844919787\n",
      "max_depth = 7 : 0.5605263157894737\n",
      "max_depth = 8 : 0.5809906291834003\n",
      "max_depth = 9 : 0.5594594594594594\n"
     ]
    }
   ],
   "source": [
    "for depth in range(1, 10): # DecisionTreeClassifier\n",
    "    model = DecisionTreeClassifier(max_depth=depth, class_weight='balanced', random_state=12345)\n",
    "    model.fit(X_train, y_train)\n",
    "    predicted_test_dtc = model.predict(X_valid)\n",
    "    f1_dtc = f1_score(y_valid, predicted_test_dtc)\n",
    "    print('max_depth =', depth, ':', f1_dtc)"
   ]
  },
  {
   "cell_type": "code",
   "execution_count": 280,
   "metadata": {
    "scrolled": false
   },
   "outputs": [
    {
     "name": "stdout",
     "output_type": "stream",
     "text": [
      "n_estimators = 115 : 0.5494949494949495\n",
      "n_estimators = 116 : 0.5447154471544716\n",
      "n_estimators = 117 : 0.5506072874493928\n",
      "n_estimators = 118 : 0.5528455284552846\n",
      "n_estimators = 119 : 0.5517241379310345\n",
      "n_estimators = 120 : 0.5517241379310345\n",
      "n_estimators = 121 : 0.5506072874493928\n",
      "n_estimators = 122 : 0.5458248472505092\n",
      "n_estimators = 123 : 0.5506072874493928\n",
      "n_estimators = 124 : 0.5458248472505092\n",
      "n_estimators = 125 : 0.5506072874493928\n"
     ]
    }
   ],
   "source": [
    "for nest in range(115, 126): # RandomForestClassifier\n",
    "    model = RandomForestClassifier(random_state=12345, class_weight='balanced', n_estimators=nest)\n",
    "    model.fit(X_train, y_train)\n",
    "    predicted_test_rfc = model.predict(X_valid)\n",
    "    f1_rfc = f1_score(y_valid, predicted_test_rfc)\n",
    "    print('n_estimators =', nest, ':', f1_rfc)"
   ]
  },
  {
   "cell_type": "code",
   "execution_count": 281,
   "metadata": {
    "scrolled": true
   },
   "outputs": [
    {
     "name": "stdout",
     "output_type": "stream",
     "text": [
      "F1 = 0.4994298745724059\n"
     ]
    }
   ],
   "source": [
    "model_lr = LogisticRegression(class_weight='balanced', solver='liblinear', random_state=12345) # LogisticRegression\n",
    "model_lr.fit(X_train, y_train)\n",
    "predicted_test_lr = model_lr.predict(X_valid)\n",
    "f1_lr = f1_score(y_valid, predicted_test_lr)\n",
    "print('F1 =', f1_lr)"
   ]
  },
  {
   "cell_type": "code",
   "execution_count": 282,
   "metadata": {},
   "outputs": [
    {
     "name": "stdout",
     "output_type": "stream",
     "text": [
      "F1 = 0.6411609498680738\n"
     ]
    }
   ],
   "source": [
    "support_vector = SVC(class_weight='balanced', random_state=12345) # Support Vector Machine\n",
    "support_vector.fit(X_train, y_train)\n",
    "s_prediction = support_vector.predict(X_valid)\n",
    "print('F1 =', f1_score(y_valid, s_prediction))"
   ]
  },
  {
   "cell_type": "markdown",
   "metadata": {},
   "source": [
    "Картина изменилась. И, хотя алгоритм RandomForestClassifier ухудшил свою работу, остальные значительно улучшили предсказания -Support Vector Machine и DecisionTreeClassifier (при глубине `max_depth=6`) показывает значение F1 более 0.59.\n",
    "\n",
    "Заметим значительное улучшение алгоритма LogisticRegression (значение F1 увеличилось с F1 0.2995 до 0.4994). "
   ]
  },
  {
   "cell_type": "markdown",
   "metadata": {},
   "source": [
    "#### 2) Попробуем улучшить модели, увеличив обучающую выборку.\n",
    "\n",
    "Увеличим количество объектов редкого класса (1) в 3 раза. "
   ]
  },
  {
   "cell_type": "code",
   "execution_count": 283,
   "metadata": {},
   "outputs": [
    {
     "name": "stdout",
     "output_type": "stream",
     "text": [
      "0    5596\n",
      "1    1403\n",
      "Name: Exited, dtype: int64\n"
     ]
    },
    {
     "data": {
      "text/plain": [
       "0    5596\n",
       "1    4209\n",
       "Name: Exited, dtype: int64"
      ]
     },
     "execution_count": 283,
     "metadata": {},
     "output_type": "execute_result"
    }
   ],
   "source": [
    "def upsample(features, target, repeat):\n",
    "    X_zeros = features[target == 0]\n",
    "    X_ones = features[target == 1]\n",
    "    y_zeros = target[target == 0]\n",
    "    y_ones = target[target == 1]\n",
    " \n",
    "    X_upsampled = pd.concat([X_zeros] + [X_ones] * repeat)\n",
    "    y_upsampled = pd.concat([y_zeros] + [y_ones] * repeat)\n",
    "    \n",
    "    X_upsampled, y_upsampled = shuffle(\n",
    "        X_upsampled, y_upsampled, random_state=12345)\n",
    "    \n",
    "    return X_upsampled, y_upsampled\n",
    " \n",
    "X_upsampled, y_upsampled = upsample(X_train, y_train, 3)\n",
    "print(y_train.value_counts())\n",
    "y_upsampled.value_counts()"
   ]
  },
  {
   "cell_type": "code",
   "execution_count": 284,
   "metadata": {
    "scrolled": true
   },
   "outputs": [
    {
     "name": "stdout",
     "output_type": "stream",
     "text": [
      "max_depth = 1 : 0.4993726474278545\n",
      "max_depth = 2 : 0.5274725274725275\n",
      "max_depth = 3 : 0.5274725274725275\n",
      "max_depth = 4 : 0.5810473815461347\n",
      "max_depth = 5 : 0.5748218527315914\n",
      "max_depth = 6 : 0.5962566844919787\n",
      "max_depth = 7 : 0.5574636723910171\n",
      "max_depth = 8 : 0.5840000000000001\n",
      "max_depth = 9 : 0.5641025641025641\n",
      "max_depth = 10 : 0.5423280423280424\n"
     ]
    }
   ],
   "source": [
    "for depth in range(1, 11): # DecisionTreeClassifier\n",
    "    model = DecisionTreeClassifier(max_depth=depth, class_weight='balanced', random_state=12345)\n",
    "    model.fit(X_upsampled, y_upsampled)\n",
    "    predicted_test_dtc = model.predict(X_valid)\n",
    "    f1_dtc = f1_score(y_valid, predicted_test_dtc)\n",
    "    print('max_depth =', depth, ':', f1_dtc)"
   ]
  },
  {
   "cell_type": "code",
   "execution_count": 285,
   "metadata": {},
   "outputs": [
    {
     "name": "stdout",
     "output_type": "stream",
     "text": [
      "n_estimators = 45 : 0.6096256684491979\n",
      "n_estimators = 46 : 0.6054054054054054\n",
      "n_estimators = 47 : 0.6063829787234042\n",
      "n_estimators = 48 : 0.60431654676259\n",
      "n_estimators = 49 : 0.61101243339254\n",
      "n_estimators = 50 : 0.6104129263913823\n",
      "n_estimators = 51 : 0.6074600355239788\n",
      "n_estimators = 52 : 0.6007194244604316\n",
      "n_estimators = 53 : 0.6060606060606061\n",
      "n_estimators = 54 : 0.6007194244604316\n"
     ]
    }
   ],
   "source": [
    "for nest in range(45, 55): # RandomForestClassifier\n",
    "    model = RandomForestClassifier(random_state=12345, class_weight='balanced', n_estimators=nest)\n",
    "    model.fit(X_upsampled, y_upsampled)\n",
    "    predicted_test_rfc = model.predict(X_valid)\n",
    "    f1_rfc = f1_score(y_valid, predicted_test_rfc)\n",
    "    print('n_estimators =', nest, ':', f1_rfc)"
   ]
  },
  {
   "cell_type": "code",
   "execution_count": 286,
   "metadata": {},
   "outputs": [
    {
     "name": "stdout",
     "output_type": "stream",
     "text": [
      "F1 = 0.49734042553191493\n"
     ]
    }
   ],
   "source": [
    "model = LogisticRegression(solver='liblinear') # LogisticRegression\n",
    "model.fit(X_upsampled, y_upsampled)\n",
    "predicted_test = pd.Series(model.predict(X_valid))\n",
    " \n",
    "print('F1 =', f1_score(y_valid, predicted_test))\n"
   ]
  },
  {
   "cell_type": "code",
   "execution_count": 287,
   "metadata": {},
   "outputs": [
    {
     "name": "stdout",
     "output_type": "stream",
     "text": [
      "F1 = 0.6335078534031413\n"
     ]
    }
   ],
   "source": [
    "support_vector = SVC(class_weight='balanced', random_state=12345) # Support Vector Machine\n",
    "support_vector.fit(X_upsampled, y_upsampled)\n",
    "s_prediction = support_vector.predict(X_valid)\n",
    "f1_svc = f1_score(y_valid, s_prediction)\n",
    "print('F1 =', f1_svc)"
   ]
  },
  {
   "cell_type": "markdown",
   "metadata": {},
   "source": [
    "Увеличилось значение F1 у алгоритма RandomForestClassifier (0.611 при `n_estimators=49`).У остальных моделей, либо не изменилось, либо незначительно уменьшилось.\n",
    "\n",
    "---\n",
    "\n",
    "#### 3) Попробуем улучшить модель путём уменьшения обучающей выборки.\n",
    "\n",
    "Уменьшим количество объектов частого класса (0) вполовину."
   ]
  },
  {
   "cell_type": "code",
   "execution_count": 288,
   "metadata": {},
   "outputs": [
    {
     "name": "stdout",
     "output_type": "stream",
     "text": [
      "0    5596\n",
      "1    1403\n",
      "Name: Exited, dtype: int64\n"
     ]
    },
    {
     "data": {
      "text/plain": [
       "0    2798\n",
       "1    1403\n",
       "Name: Exited, dtype: int64"
      ]
     },
     "execution_count": 288,
     "metadata": {},
     "output_type": "execute_result"
    }
   ],
   "source": [
    "def downsample(features, target, fraction):\n",
    "    X_zeros = features[target == 0]\n",
    "    X_ones = features[target == 1]\n",
    "    y_zeros = target[target == 0]\n",
    "    y_ones = target[target == 1]\n",
    "\n",
    "    X_downsampled = pd.concat([X_zeros.sample(frac=fraction, random_state=12345)] + [X_ones])\n",
    "    y_downsampled = pd.concat([y_zeros.sample(frac=fraction, random_state=12345)]+[y_ones])\n",
    "    return X_downsampled, y_downsampled\n",
    "\n",
    "X_downsampled, y_downsampled = downsample(X_train, y_train, 0.5)\n",
    "\n",
    "print(y_train.value_counts())\n",
    "y_downsampled.value_counts()"
   ]
  },
  {
   "cell_type": "code",
   "execution_count": 289,
   "metadata": {},
   "outputs": [
    {
     "name": "stdout",
     "output_type": "stream",
     "text": [
      "max_depth = 1 : 0.4993726474278545\n",
      "max_depth = 2 : 0.5274725274725275\n",
      "max_depth = 3 : 0.5274725274725275\n",
      "max_depth = 4 : 0.5810473815461347\n",
      "max_depth = 5 : 0.5806451612903226\n",
      "max_depth = 6 : 0.5910931174089068\n",
      "max_depth = 7 : 0.55980271270037\n",
      "max_depth = 8 : 0.55980271270037\n",
      "max_depth = 9 : 0.5260606060606061\n"
     ]
    }
   ],
   "source": [
    "for depth in range(1, 10): # DecisionTreeClassifier\n",
    "    model = DecisionTreeClassifier(max_depth=depth, class_weight='balanced', random_state=12345)\n",
    "    model.fit(X_downsampled, y_downsampled)\n",
    "    predicted_test_dtc = model.predict(X_valid)\n",
    "    f1_dtc = f1_score(y_valid, predicted_test_dtc)\n",
    "    print('max_depth =', depth, ':', f1_dtc)"
   ]
  },
  {
   "cell_type": "code",
   "execution_count": 290,
   "metadata": {},
   "outputs": [
    {
     "name": "stdout",
     "output_type": "stream",
     "text": [
      "n_estimators = 95 : 0.6040268456375839\n",
      "n_estimators = 96 : 0.6037099494097807\n",
      "n_estimators = 97 : 0.6063651591289781\n",
      "n_estimators = 98 : 0.6104553119730186\n",
      "n_estimators = 99 : 0.6076794657762937\n",
      "n_estimators = 100 : 0.6057529610829103\n"
     ]
    }
   ],
   "source": [
    "for nest in range(95, 101): # RandomForestClassifier\n",
    "    model = RandomForestClassifier(random_state=12345, class_weight='balanced', n_estimators=nest)\n",
    "    model.fit(X_downsampled, y_downsampled)\n",
    "    predicted_test_rfc = model.predict(X_valid)\n",
    "    f1_rfc = f1_score(y_valid, predicted_test_rfc)\n",
    "    print('n_estimators =', nest, ':', f1_rfc)"
   ]
  },
  {
   "cell_type": "code",
   "execution_count": 291,
   "metadata": {},
   "outputs": [
    {
     "name": "stdout",
     "output_type": "stream",
     "text": [
      "F1 = 0.4641068447412354\n"
     ]
    }
   ],
   "source": [
    "model = LogisticRegression(solver='liblinear') # LogisticRegression\n",
    "model.fit(X_downsampled, y_downsampled)\n",
    "predicted_test = pd.Series(model.predict(X_valid))\n",
    " \n",
    "print('F1 =', f1_score(y_valid, predicted_test))"
   ]
  },
  {
   "cell_type": "code",
   "execution_count": 292,
   "metadata": {},
   "outputs": [
    {
     "name": "stdout",
     "output_type": "stream",
     "text": [
      "F1 = 0.6096938775510203\n"
     ]
    }
   ],
   "source": [
    "support_vector = SVC(class_weight='balanced', random_state=12345) # Support Vector Machine\n",
    "support_vector.fit(X_downsampled, y_downsampled)\n",
    "s_prediction = support_vector.predict(X_valid)\n",
    "print('F1 =', f1_score(y_valid, s_prediction))"
   ]
  },
  {
   "cell_type": "markdown",
   "metadata": {},
   "source": [
    "При уменьшении обучающей выборки, предсказания всех моделей ухудшились.\n",
    "\n",
    "---\n",
    "\n",
    "#### 4) Попробуем в увеличенной выборке объектов редкого класса уменьшить объекты частого класса.\n",
    "\n",
    "Тем самым приблизив несбалансированные классы к соотношению 1:1 (4477:4209)."
   ]
  },
  {
   "cell_type": "code",
   "execution_count": 293,
   "metadata": {},
   "outputs": [
    {
     "name": "stdout",
     "output_type": "stream",
     "text": [
      "0    5596\n",
      "1    4209\n",
      "Name: Exited, dtype: int64\n"
     ]
    },
    {
     "data": {
      "text/plain": [
       "0    4477\n",
       "1    4209\n",
       "Name: Exited, dtype: int64"
      ]
     },
     "execution_count": 293,
     "metadata": {},
     "output_type": "execute_result"
    }
   ],
   "source": [
    "def downsample(features, target, fraction):\n",
    "    X_zeros = features[target == 0]\n",
    "    X_ones = features[target == 1]\n",
    "    y_zeros = target[target == 0]\n",
    "    y_ones = target[target == 1]\n",
    "\n",
    "    X_downsampled = pd.concat([X_zeros.sample(frac=fraction, random_state=12345)] + [X_ones])\n",
    "    y_downsampled = pd.concat([y_zeros.sample(frac=fraction, random_state=12345)]+[y_ones])\n",
    "    return X_downsampled, y_downsampled\n",
    "\n",
    "X_down_upsampled, y_down_upsampled = downsample(X_upsampled, y_upsampled, 0.8)\n",
    "\n",
    "print(y_upsampled.value_counts()) # увеличенная выборка объектов редкого класса\n",
    "y_down_upsampled.value_counts()"
   ]
  },
  {
   "cell_type": "code",
   "execution_count": 294,
   "metadata": {},
   "outputs": [
    {
     "name": "stdout",
     "output_type": "stream",
     "text": [
      "max_depth = 1 : 0.4993726474278545\n",
      "max_depth = 2 : 0.5274725274725275\n",
      "max_depth = 3 : 0.5274725274725275\n",
      "max_depth = 4 : 0.5828144458281445\n",
      "max_depth = 5 : 0.5690072639225181\n",
      "max_depth = 6 : 0.5888456549935149\n",
      "max_depth = 7 : 0.5793650793650794\n",
      "max_depth = 8 : 0.5706447187928669\n",
      "max_depth = 9 : 0.5602094240837697\n"
     ]
    }
   ],
   "source": [
    "for depth in range(1, 10): # DecisionTreeClassifier\n",
    "    model = DecisionTreeClassifier(max_depth=depth, class_weight='balanced', random_state=12345)\n",
    "    model.fit(X_down_upsampled, y_down_upsampled)\n",
    "    predicted_test_dtc = model.predict(X_valid)\n",
    "    f1_dtc = f1_score(y_valid, predicted_test_dtc)\n",
    "    print('max_depth =', depth, ':', f1_dtc)"
   ]
  },
  {
   "cell_type": "code",
   "execution_count": 295,
   "metadata": {},
   "outputs": [
    {
     "name": "stdout",
     "output_type": "stream",
     "text": [
      "n_estimators = 70 : 0.6006711409395973\n",
      "n_estimators = 71 : 0.5966666666666667\n",
      "n_estimators = 72 : 0.5973154362416108\n",
      "n_estimators = 73 : 0.5990016638935108\n",
      "n_estimators = 74 : 0.6010016694490818\n",
      "n_estimators = 75 : 0.5950413223140496\n",
      "n_estimators = 76 : 0.5976627712854757\n",
      "n_estimators = 77 : 0.6026490066225166\n",
      "n_estimators = 78 : 0.5990016638935108\n",
      "n_estimators = 79 : 0.6006600660066008\n",
      "n_estimators = 80 : 0.5966666666666667\n"
     ]
    }
   ],
   "source": [
    "for nest in range(70, 81): # RandomForestClassifier\n",
    "    model = RandomForestClassifier(random_state=12345, class_weight='balanced', n_estimators=nest)\n",
    "    model.fit(X_down_upsampled, y_down_upsampled)\n",
    "    predicted_test_rfc = model.predict(X_valid)\n",
    "    f1_rfc = f1_score(y_valid, predicted_test_rfc)\n",
    "    print('n_estimators =', nest, ':', f1_rfc)"
   ]
  },
  {
   "cell_type": "code",
   "execution_count": 296,
   "metadata": {},
   "outputs": [
    {
     "name": "stdout",
     "output_type": "stream",
     "text": [
      "F1 = 0.49588719153936545\n"
     ]
    }
   ],
   "source": [
    "model = LogisticRegression(solver='liblinear') # LogisticRegression\n",
    "model.fit(X_down_upsampled, y_down_upsampled)\n",
    "predicted_test = pd.Series(model.predict(X_valid))\n",
    " \n",
    "print('F1 =', f1_score(y_valid, predicted_test))"
   ]
  },
  {
   "cell_type": "code",
   "execution_count": 297,
   "metadata": {},
   "outputs": [
    {
     "name": "stdout",
     "output_type": "stream",
     "text": [
      "F1 = 0.6342105263157896\n"
     ]
    }
   ],
   "source": [
    "support_vector = SVC(class_weight='balanced', random_state=12345) # Support Vector Machine\n",
    "support_vector.fit(X_down_upsampled, y_down_upsampled)\n",
    "s_prediction = support_vector.predict(X_valid)\n",
    "print('F1 =', f1_score(y_valid, s_prediction))"
   ]
  },
  {
   "cell_type": "markdown",
   "metadata": {},
   "source": [
    "Данный ход не смог увеличить значения F1.  \n",
    "\n",
    "---\n",
    "\n",
    "В целом, стабильно высокое значение F1 показал метод опорных векторов (Support Vector Machine), максимальное значение F1=0.64116. При обучении увеличенной выборкой значение F1=0.6335.  \n",
    "\n",
    "Хуже результат предсказания получился у модели RandomForestClassifier, на увеличенной обучающей выборке при `n_estimators = 49` F1=0.611.  \n",
    "\n",
    "Еще хуже результат (но выше целевой метрики 0.59) у DecisionTreeClassifier при увеличении обучающей выборки, при гиперпараметре `max_depth = 6` F1=0.59625.\n",
    "\n",
    "Модель LogisticRegression, в различных вариантах, не достигла целевого значения (макимальное - F1 = 0.4994).\n",
    "\n",
    "---\n",
    "\n",
    "#### На лучших моделях измерим значение AUC-ROC и сравним его с F1-мерой."
   ]
  },
  {
   "cell_type": "code",
   "execution_count": 298,
   "metadata": {},
   "outputs": [
    {
     "name": "stdout",
     "output_type": "stream",
     "text": [
      "AUC = 0.8187633694720359\n",
      "F1 = 0.5962566844919787\n"
     ]
    }
   ],
   "source": [
    "model_dtc = DecisionTreeClassifier(max_depth=6, class_weight='balanced', random_state=12345)\n",
    "model_dtc.fit(X_train, y_train)\n",
    "predicted_valid_dtc = model_dtc.predict(X_valid)\n",
    "f1_dtc = f1_score(y_valid, predicted_valid_dtc)\n",
    "\n",
    "probabilities_valid_dtc = model_dtc.predict_proba(X_valid)\n",
    "probabilities_1valid_dtc = probabilities_valid_dtc[:, 1]\n",
    "auc_dtc = roc_auc_score(y_valid, probabilities_1valid_dtc)\n",
    "print('AUC =', auc_dtc)\n",
    "print('F1 =', f1_dtc)"
   ]
  },
  {
   "cell_type": "code",
   "execution_count": 299,
   "metadata": {},
   "outputs": [
    {
     "name": "stdout",
     "output_type": "stream",
     "text": [
      "AUC = 0.8507879030447916\n",
      "F1 = 0.61101243339254\n"
     ]
    }
   ],
   "source": [
    "model_rfc = RandomForestClassifier(random_state=12345, class_weight='balanced', n_estimators=49)\n",
    "model_rfc.fit(X_upsampled, y_upsampled) # upsampled features\n",
    "predicted_valid_rfc = model_rfc.predict(X_valid)\n",
    "f1_rfc = f1_score(y_valid, predicted_valid_rfc)\n",
    "\n",
    "probabilities_valid_rfc = model_rfc.predict_proba(X_valid)\n",
    "probabilities_1valid_rfc = probabilities_valid_rfc[:, 1]\n",
    "auc_rfc = roc_auc_score(y_valid, probabilities_1valid_rfc)\n",
    "print('AUC =', auc_rfc)\n",
    "print('F1 =', f1_rfc)"
   ]
  },
  {
   "cell_type": "code",
   "execution_count": 300,
   "metadata": {},
   "outputs": [
    {
     "name": "stdout",
     "output_type": "stream",
     "text": [
      "AUC = 0.7641780631133732\n",
      "F1 = 0.4994298745724059\n"
     ]
    }
   ],
   "source": [
    "probabilities_valid_lr = model_lr.predict_proba(X_valid)\n",
    "probabilities_1valid_lr = probabilities_valid_lr[:, 1]\n",
    "auc_lr = roc_auc_score(y_valid, probabilities_1valid_lr)\n",
    "print('AUC =', auc_lr)\n",
    "print('F1 =', f1_lr)"
   ]
  },
  {
   "cell_type": "code",
   "execution_count": 301,
   "metadata": {
    "scrolled": false
   },
   "outputs": [
    {
     "name": "stdout",
     "output_type": "stream",
     "text": [
      "AUC = 0.8632507524764792\n",
      "F1 = 0.6411609498680738\n"
     ]
    }
   ],
   "source": [
    "support_vector = SVC(class_weight='balanced', probability=True, random_state=12345) # Support Vector Machine\n",
    "support_vector.fit(X_train, y_train)\n",
    "s_prediction = support_vector.predict(X_valid)\n",
    "f1_svc = f1_score(y_valid, s_prediction)\n",
    "\n",
    "probabilities_valid_svc = support_vector.predict_proba(X_valid)\n",
    "probabilities_1valid_svc = probabilities_valid_svc[:, 1]\n",
    "auc_svc = roc_auc_score(y_valid, probabilities_1valid_svc)\n",
    "print('AUC =', auc_svc)\n",
    "print('F1 =', f1_svc)"
   ]
  },
  {
   "cell_type": "code",
   "execution_count": 302,
   "metadata": {},
   "outputs": [
    {
     "data": {
      "image/png": "[encoded data removed]",
      "text/plain": [
       "<Figure size 432x288 with 1 Axes>"
      ]
     },
     "metadata": {
      "needs_background": "light"
     },
     "output_type": "display_data"
    }
   ],
   "source": [
    "fpr_dtc, tpr_dtc, thresholds = roc_curve(y_valid, probabilities_1valid_dtc)\n",
    "fpr_rfc, tpr_rfc, thresholds = roc_curve(y_valid, probabilities_1valid_rfc)\n",
    "fpr_lr, tpr_lr, thresholds = roc_curve(y_valid, probabilities_1valid_lr)\n",
    "fpr_svc, tpr_svc, thresholds = roc_curve(y_valid, probabilities_1valid_svc)\n",
    "\n",
    "plt.plot(fpr_dtc, tpr_dtc)\n",
    "plt.plot(fpr_rfc, tpr_rfc)\n",
    "plt.plot(fpr_lr, tpr_lr)\n",
    "plt.plot(fpr_svc, tpr_svc)\n",
    "plt.xlim([0.0, 1.0])\n",
    "plt.ylim([0.0, 1.0])\n",
    "plt.legend(labels= ['DTS', 'RFC', 'LR', 'SVC'])\n",
    "plt.xlabel('False Positive Rate')\n",
    "plt.ylabel('True Positive Rate')\n",
    "plt.title('ROC-curve')\n",
    "plt.show()"
   ]
  },
  {
   "cell_type": "markdown",
   "metadata": {},
   "source": [
    "Анализируя значения площади AUC, метрики F1 и графики ROC-кривых, в нашем случае, видна взаимосвязь этих параметров. Площадь под ROC-кривой представляет способность классификатора различать подходящие и не подходящие какому-либо классу объекты. Высокий AUC ROC и высокий F1 означает, что выбранные классификаторы выполняют [достойную работу](https://loginom.ru/blog/logistic-regression-roc-auc).\n",
    "<a href=\"http://joxi.ru/4AkNaQDUXjKaV2\" target=\"_blank\"><img src=\"http://dl4.joxi.net/drive/2020/03/05/0040/1742/2672334/34/49c8a35cce.png\"></a>"
   ]
  },
  {
   "cell_type": "markdown",
   "metadata": {},
   "source": [
    "# 4. Тестирование моделей\n",
    "\n",
    "Протестируем модели у которых значение F1 при валидации больше 0.59."
   ]
  },
  {
   "cell_type": "code",
   "execution_count": 303,
   "metadata": {},
   "outputs": [
    {
     "name": "stdout",
     "output_type": "stream",
     "text": [
      "AUC = 0.8457938889969354\n",
      "F1 = 0.6\n"
     ]
    }
   ],
   "source": [
    "model_dtc = DecisionTreeClassifier(max_depth=6, class_weight='balanced', random_state=12345)\n",
    "model_dtc.fit(X_upsampled, y_upsampled)\n",
    "predicted_test_dtc = model_dtc.predict(X_test)\n",
    "f1_tdtc = f1_score(y_test, predicted_test_dtc)\n",
    "\n",
    "probabilities_test_dtc = model_dtc.predict_proba(X_test)\n",
    "probabilities_1test_dtc = probabilities_test_dtc[:, 1]\n",
    "auc_tdtc = roc_auc_score(y_test, probabilities_1test_dtc)\n",
    "print('AUC =', auc_tdtc)\n",
    "print('F1 =', f1_tdtc)"
   ]
  },
  {
   "cell_type": "code",
   "execution_count": 304,
   "metadata": {},
   "outputs": [
    {
     "name": "stdout",
     "output_type": "stream",
     "text": [
      "AUC = 0.8406203514378676\n",
      "F1 = 0.6232394366197184\n"
     ]
    }
   ],
   "source": [
    "model_rfc = RandomForestClassifier(random_state=12345, class_weight='balanced', n_estimators=49)\n",
    "model_rfc.fit(X_upsampled, y_upsampled)\n",
    "predicted_test_rfc = model_rfc.predict(X_test)\n",
    "f1_trfc = f1_score(y_test, predicted_test_rfc)\n",
    "\n",
    "probabilities_test_rfc = model_rfc.predict_proba(X_test)\n",
    "probabilities_1test_rfc = probabilities_test_rfc[:, 1]\n",
    "auc_trfc = roc_auc_score(y_test, probabilities_1test_rfc)\n",
    "print('AUC =', auc_trfc)\n",
    "print('F1 =', f1_trfc)"
   ]
  },
  {
   "cell_type": "code",
   "execution_count": 305,
   "metadata": {},
   "outputs": [
    {
     "name": "stdout",
     "output_type": "stream",
     "text": [
      "AUC = 0.8622474993035371\n",
      "F1 = 0.6129032258064515\n"
     ]
    }
   ],
   "source": [
    "support_vector = SVC(class_weight='balanced', probability=True, random_state=12345) # Support Vector Machine\n",
    "support_vector.fit(X_upsampled, y_upsampled)\n",
    "s_test_prediction = support_vector.predict(X_test)\n",
    "f1_tsvc = f1_score(y_test, s_test_prediction)\n",
    "\n",
    "probabilities_test_svc = support_vector.predict_proba(X_test)\n",
    "probabilities_1test_svc = probabilities_test_svc[:, 1]\n",
    "auc_tsvc = roc_auc_score(y_test, probabilities_1test_svc)\n",
    "print('AUC =', auc_tsvc)\n",
    "print('F1 =', f1_tsvc)"
   ]
  },
  {
   "cell_type": "markdown",
   "metadata": {},
   "source": [
    "Тестовая выборка незначительно отличается от качества на валидации, позволяя нам убедиться в правильности выбранных моделей и гиперпараметров. Во всех классификаторах значение F1 больше 0.59, а площадь под ROC-кривой более 0.84, что говорит об \"очень хорошем\" качестве модели."
   ]
  }
 ],
 "metadata": {
  "kernelspec": {
   "display_name": "Python 3",
   "language": "python",
   "name": "python3"
  },
  "language_info": {
   "codemirror_mode": {
    "name": "ipython",
    "version": 3
   },
   "file_extension": ".py",
   "mimetype": "text/x-python",
   "name": "python",
   "nbconvert_exporter": "python",
   "pygments_lexer": "ipython3",
   "version": "3.7.7"
  }
 },
 "nbformat": 4,
 "nbformat_minor": 2
}
