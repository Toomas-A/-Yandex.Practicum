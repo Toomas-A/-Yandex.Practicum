{
 "cells": [
  {
   "cell_type": "markdown",
   "metadata": {},
   "source": [
    "Сервис по продаже автомобилей с пробегом разрабатывает приложение для привлечения новых клиентов. В нём можно быстро узнать рыночную стоимость своего автомобиля. В нашем распоряжении исторические данные: технические характеристики, комплектации и цены автомобилей. Необходимо построить модель для определения стоимости. \n",
    "\n",
    "Заказчику важны:\n",
    "\n",
    "- качество предсказания;\n",
    "- скорость предсказания;\n",
    "- время обучения.\n",
    "\n",
    "\n",
    "#### Описание данных  \n",
    "Данные находятся в файле /datasets/autos.csv.\n",
    "\n",
    "\n",
    "Признаки:\n",
    "- DateCrawled — дата скачивания анкеты из базы  \n",
    "- VehicleType — тип автомобильного кузова  \n",
    "- RegistrationYear — год регистрации автомобиля  \n",
    "- Gearbox — тип коробки передач  \n",
    "- Power — мощность (л. с.)  \n",
    "- Model — модель автомобиля  \n",
    "- Kilometer — пробег (км)  \n",
    "- RegistrationMonth — месяц регистрации автомобиля  \n",
    "- FuelType — тип топлива  \n",
    "- Brand — марка автомобиля  \n",
    "- NotRepaired — была машина в ремонте или нет  \n",
    "- DateCreated — дата создания анкеты  \n",
    "- NumberOfPictures — количество фотографий автомобиля  \n",
    "- PostalCode — почтовый индекс владельца анкеты (пользователя)  \n",
    "- LastSeen — дата последней активности пользователя  \n",
    "\n",
    "\n",
    "Целевой признак - Price — цена (евро)\n",
    "\n",
    "\n",
    "#### План по выполнению проекта:  \n",
    "1) Откроем файлы.  \n",
    "2) Проанализируем признаки и подготовим данные для обучения и тестирования модели.  \n",
    "3) Обучим разные модели и оценим их качество на кросс-валидацией.  \n",
    "4) Выберем лучшие по качеству и скорости, подберем гиперпараметры.  \n",
    "5) Проверим модели на тестовой выборке.  \n",
    "6) Проанализируйте скорость работы и качество моделей.  \n",
    "\n",
    "---\n",
    "\n",
    "Импортируем все необходимые для анализа и обучения библиотеки."
   ]
  },
  {
   "cell_type": "code",
   "execution_count": 91,
   "metadata": {},
   "outputs": [],
   "source": [
    "import numpy as np\n",
    "import pandas as pd\n",
    "from sklearn.metrics import mean_squared_error\n",
    "\n",
    "from sklearn.model_selection import train_test_split\n",
    "\n",
    "import time\n",
    "\n",
    "from sklearn.model_selection import KFold, cross_val_predict\n",
    "\n",
    "from sklearn.pipeline import Pipeline\n",
    "import lightgbm as lgb\n",
    "import xgboost as xgb\n",
    "from sklearn.linear_model import LinearRegression\n",
    "from sklearn.tree import DecisionTreeRegressor\n",
    "from sklearn.ensemble import GradientBoostingRegressor\n",
    "from catboost import CatBoostRegressor\n",
    "\n",
    "from sklearn.model_selection import RandomizedSearchCV\n",
    "from scipy.stats import randint as sp_randint\n",
    "from sklearn.metrics import make_scorer\n",
    "\n",
    "import matplotlib.pyplot as plt  # Matlab-style plotting\n",
    "import seaborn as sns\n",
    "color = sns.color_palette()\n",
    "sns.set_style('darkgrid')\n",
    "\n",
    "import warnings\n",
    "warnings.filterwarnings('ignore')\n",
    "\n",
    "pd.set_option('display.float_format', lambda x: '{:.2f}'.format(x)) #Limiting floats output to 2 decimal points"
   ]
  },
  {
   "cell_type": "markdown",
   "metadata": {},
   "source": [
    "# 1. Подготовка данных\n",
    "\n",
    "\n",
    "Откроем файл и проанализируем признаки."
   ]
  },
  {
   "cell_type": "code",
   "execution_count": 92,
   "metadata": {
    "scrolled": true
   },
   "outputs": [
    {
     "name": "stdout",
     "output_type": "stream",
     "text": [
      "<class 'pandas.core.frame.DataFrame'>\n",
      "RangeIndex: 354369 entries, 0 to 354368\n",
      "Data columns (total 16 columns):\n",
      " #   Column             Non-Null Count   Dtype \n",
      "---  ------             --------------   ----- \n",
      " 0   DateCrawled        354369 non-null  object\n",
      " 1   Price              354369 non-null  int64 \n",
      " 2   VehicleType        316879 non-null  object\n",
      " 3   RegistrationYear   354369 non-null  int64 \n",
      " 4   Gearbox            334536 non-null  object\n",
      " 5   Power              354369 non-null  int64 \n",
      " 6   Model              334664 non-null  object\n",
      " 7   Kilometer          354369 non-null  int64 \n",
      " 8   RegistrationMonth  354369 non-null  int64 \n",
      " 9   FuelType           321474 non-null  object\n",
      " 10  Brand              354369 non-null  object\n",
      " 11  NotRepaired        283215 non-null  object\n",
      " 12  DateCreated        354369 non-null  object\n",
      " 13  NumberOfPictures   354369 non-null  int64 \n",
      " 14  PostalCode         354369 non-null  int64 \n",
      " 15  LastSeen           354369 non-null  object\n",
      "dtypes: int64(7), object(9)\n",
      "memory usage: 43.3+ MB\n",
      "None\n"
     ]
    },
    {
     "data": {
      "text/html": [
       "<div>\n",
       "<style scoped>\n",
       "    .dataframe tbody tr th:only-of-type {\n",
       "        vertical-align: middle;\n",
       "    }\n",
       "\n",
       "    .dataframe tbody tr th {\n",
       "        vertical-align: top;\n",
       "    }\n",
       "\n",
       "    .dataframe thead th {\n",
       "        text-align: right;\n",
       "    }\n",
       "</style>\n",
       "<table border=\"1\" class=\"dataframe\">\n",
       "  <thead>\n",
       "    <tr style=\"text-align: right;\">\n",
       "      <th></th>\n",
       "      <th>DateCrawled</th>\n",
       "      <th>Price</th>\n",
       "      <th>VehicleType</th>\n",
       "      <th>RegistrationYear</th>\n",
       "      <th>Gearbox</th>\n",
       "      <th>Power</th>\n",
       "      <th>Model</th>\n",
       "      <th>Kilometer</th>\n",
       "      <th>RegistrationMonth</th>\n",
       "      <th>FuelType</th>\n",
       "      <th>Brand</th>\n",
       "      <th>NotRepaired</th>\n",
       "      <th>DateCreated</th>\n",
       "      <th>NumberOfPictures</th>\n",
       "      <th>PostalCode</th>\n",
       "      <th>LastSeen</th>\n",
       "    </tr>\n",
       "  </thead>\n",
       "  <tbody>\n",
       "    <tr>\n",
       "      <th>0</th>\n",
       "      <td>2016-03-24 11:52:17</td>\n",
       "      <td>480</td>\n",
       "      <td>NaN</td>\n",
       "      <td>1993</td>\n",
       "      <td>manual</td>\n",
       "      <td>0</td>\n",
       "      <td>golf</td>\n",
       "      <td>150000</td>\n",
       "      <td>0</td>\n",
       "      <td>petrol</td>\n",
       "      <td>volkswagen</td>\n",
       "      <td>NaN</td>\n",
       "      <td>2016-03-24 00:00:00</td>\n",
       "      <td>0</td>\n",
       "      <td>70435</td>\n",
       "      <td>2016-04-07 03:16:57</td>\n",
       "    </tr>\n",
       "    <tr>\n",
       "      <th>1</th>\n",
       "      <td>2016-03-24 10:58:45</td>\n",
       "      <td>18300</td>\n",
       "      <td>coupe</td>\n",
       "      <td>2011</td>\n",
       "      <td>manual</td>\n",
       "      <td>190</td>\n",
       "      <td>NaN</td>\n",
       "      <td>125000</td>\n",
       "      <td>5</td>\n",
       "      <td>gasoline</td>\n",
       "      <td>audi</td>\n",
       "      <td>yes</td>\n",
       "      <td>2016-03-24 00:00:00</td>\n",
       "      <td>0</td>\n",
       "      <td>66954</td>\n",
       "      <td>2016-04-07 01:46:50</td>\n",
       "    </tr>\n",
       "    <tr>\n",
       "      <th>2</th>\n",
       "      <td>2016-03-14 12:52:21</td>\n",
       "      <td>9800</td>\n",
       "      <td>suv</td>\n",
       "      <td>2004</td>\n",
       "      <td>auto</td>\n",
       "      <td>163</td>\n",
       "      <td>grand</td>\n",
       "      <td>125000</td>\n",
       "      <td>8</td>\n",
       "      <td>gasoline</td>\n",
       "      <td>jeep</td>\n",
       "      <td>NaN</td>\n",
       "      <td>2016-03-14 00:00:00</td>\n",
       "      <td>0</td>\n",
       "      <td>90480</td>\n",
       "      <td>2016-04-05 12:47:46</td>\n",
       "    </tr>\n",
       "    <tr>\n",
       "      <th>3</th>\n",
       "      <td>2016-03-17 16:54:04</td>\n",
       "      <td>1500</td>\n",
       "      <td>small</td>\n",
       "      <td>2001</td>\n",
       "      <td>manual</td>\n",
       "      <td>75</td>\n",
       "      <td>golf</td>\n",
       "      <td>150000</td>\n",
       "      <td>6</td>\n",
       "      <td>petrol</td>\n",
       "      <td>volkswagen</td>\n",
       "      <td>no</td>\n",
       "      <td>2016-03-17 00:00:00</td>\n",
       "      <td>0</td>\n",
       "      <td>91074</td>\n",
       "      <td>2016-03-17 17:40:17</td>\n",
       "    </tr>\n",
       "    <tr>\n",
       "      <th>4</th>\n",
       "      <td>2016-03-31 17:25:20</td>\n",
       "      <td>3600</td>\n",
       "      <td>small</td>\n",
       "      <td>2008</td>\n",
       "      <td>manual</td>\n",
       "      <td>69</td>\n",
       "      <td>fabia</td>\n",
       "      <td>90000</td>\n",
       "      <td>7</td>\n",
       "      <td>gasoline</td>\n",
       "      <td>skoda</td>\n",
       "      <td>no</td>\n",
       "      <td>2016-03-31 00:00:00</td>\n",
       "      <td>0</td>\n",
       "      <td>60437</td>\n",
       "      <td>2016-04-06 10:17:21</td>\n",
       "    </tr>\n",
       "  </tbody>\n",
       "</table>\n",
       "</div>"
      ],
      "text/plain": [
       "           DateCrawled  Price VehicleType  RegistrationYear Gearbox  Power  \\\n",
       "0  2016-03-24 11:52:17    480         NaN              1993  manual      0   \n",
       "1  2016-03-24 10:58:45  18300       coupe              2011  manual    190   \n",
       "2  2016-03-14 12:52:21   9800         suv              2004    auto    163   \n",
       "3  2016-03-17 16:54:04   1500       small              2001  manual     75   \n",
       "4  2016-03-31 17:25:20   3600       small              2008  manual     69   \n",
       "\n",
       "   Model  Kilometer  RegistrationMonth  FuelType       Brand NotRepaired  \\\n",
       "0   golf     150000                  0    petrol  volkswagen         NaN   \n",
       "1    NaN     125000                  5  gasoline        audi         yes   \n",
       "2  grand     125000                  8  gasoline        jeep         NaN   \n",
       "3   golf     150000                  6    petrol  volkswagen          no   \n",
       "4  fabia      90000                  7  gasoline       skoda          no   \n",
       "\n",
       "           DateCreated  NumberOfPictures  PostalCode             LastSeen  \n",
       "0  2016-03-24 00:00:00                 0       70435  2016-04-07 03:16:57  \n",
       "1  2016-03-24 00:00:00                 0       66954  2016-04-07 01:46:50  \n",
       "2  2016-03-14 00:00:00                 0       90480  2016-04-05 12:47:46  \n",
       "3  2016-03-17 00:00:00                 0       91074  2016-03-17 17:40:17  \n",
       "4  2016-03-31 00:00:00                 0       60437  2016-04-06 10:17:21  "
      ]
     },
     "execution_count": 92,
     "metadata": {},
     "output_type": "execute_result"
    }
   ],
   "source": [
    "data = pd.read_csv('/datasets/autos.csv')\n",
    "print(data.info())\n",
    "data.head()"
   ]
  },
  {
   "cell_type": "markdown",
   "metadata": {},
   "source": [
    "Первичный анализ показал следующее:  \n",
    "\n",
    "\n",
    "- признаки `DateCrawled`, `DateCreated`, `NumberOfPictures`, `LastSeen`, вероятнее всего, не могут повлиять на качество предсказания стоимости автомобиля, соответственно, их можно удалить;\n",
    "- признаки с календарными данными в текстовом формате, их надо перевести в цифровой формат даты;  \n",
    "- отсутствие значений (NaN);\n",
    "- присутствуют текстовые категоральные признаки, которые для обучения модели необходимо перевести в численные\n"
   ]
  },
  {
   "cell_type": "code",
   "execution_count": 93,
   "metadata": {},
   "outputs": [],
   "source": [
    "data = data.drop(['DateCrawled','DateCreated', \n",
    "                  'NumberOfPictures', 'PostalCode','LastSeen'], axis=1) # убираем признаки, невлияющие на обучение"
   ]
  },
  {
   "cell_type": "code",
   "execution_count": 94,
   "metadata": {},
   "outputs": [],
   "source": [
    "data['RegistrationYear'] = pd.to_datetime(data['RegistrationYear'], format='%Y%m%d', errors='ignore') # преобразование текста \n",
    "data['RegistrationMonth'] = pd.to_datetime(data['RegistrationMonth'], format='%Y%m%d', errors='ignore') # в формат даты"
   ]
  },
  {
   "cell_type": "markdown",
   "metadata": {},
   "source": [
    "Определим отсутствующие признаки (NaN) и их объем. "
   ]
  },
  {
   "cell_type": "code",
   "execution_count": 95,
   "metadata": {
    "scrolled": false
   },
   "outputs": [
    {
     "name": "stdout",
     "output_type": "stream",
     "text": [
      "В выборке 11 столбцов,из них 5 с пропущенными значениями.\n"
     ]
    },
    {
     "data": {
      "text/html": [
       "<div>\n",
       "<style scoped>\n",
       "    .dataframe tbody tr th:only-of-type {\n",
       "        vertical-align: middle;\n",
       "    }\n",
       "\n",
       "    .dataframe tbody tr th {\n",
       "        vertical-align: top;\n",
       "    }\n",
       "\n",
       "    .dataframe thead th {\n",
       "        text-align: right;\n",
       "    }\n",
       "</style>\n",
       "<table border=\"1\" class=\"dataframe\">\n",
       "  <thead>\n",
       "    <tr style=\"text-align: right;\">\n",
       "      <th></th>\n",
       "      <th>Missing Values</th>\n",
       "      <th>% of Total Values</th>\n",
       "    </tr>\n",
       "  </thead>\n",
       "  <tbody>\n",
       "    <tr>\n",
       "      <th>NotRepaired</th>\n",
       "      <td>71154</td>\n",
       "      <td>20.10</td>\n",
       "    </tr>\n",
       "    <tr>\n",
       "      <th>VehicleType</th>\n",
       "      <td>37490</td>\n",
       "      <td>10.60</td>\n",
       "    </tr>\n",
       "    <tr>\n",
       "      <th>FuelType</th>\n",
       "      <td>32895</td>\n",
       "      <td>9.30</td>\n",
       "    </tr>\n",
       "    <tr>\n",
       "      <th>Gearbox</th>\n",
       "      <td>19833</td>\n",
       "      <td>5.60</td>\n",
       "    </tr>\n",
       "    <tr>\n",
       "      <th>Model</th>\n",
       "      <td>19705</td>\n",
       "      <td>5.60</td>\n",
       "    </tr>\n",
       "  </tbody>\n",
       "</table>\n",
       "</div>"
      ],
      "text/plain": [
       "             Missing Values  % of Total Values\n",
       "NotRepaired           71154              20.10\n",
       "VehicleType           37490              10.60\n",
       "FuelType              32895               9.30\n",
       "Gearbox               19833               5.60\n",
       "Model                 19705               5.60"
      ]
     },
     "execution_count": 95,
     "metadata": {},
     "output_type": "execute_result"
    }
   ],
   "source": [
    "def missing_values_table(df):\n",
    "        mis_val = df.isnull().sum() # общее количество пропусков\n",
    "        mis_val_percent = 100 * df.isnull().sum() / len(df) # пропуски в %\n",
    "        \n",
    "        mis_val_table = pd.concat([mis_val, mis_val_percent], axis=1) # составление таблицы\n",
    "        \n",
    "        \n",
    "        # переименование столбцов\n",
    "        mis_val_table_ren_columns = mis_val_table.rename(columns = {0 : 'Missing Values', 1 : '% of Total Values'})\n",
    "        \n",
    "        # Сортировка по убыванию\n",
    "        mis_val_table_ren_columns = mis_val_table_ren_columns[\n",
    "            mis_val_table_ren_columns.iloc[:,1] != 0].sort_values(\n",
    "        '% of Total Values', ascending=False).round(1)\n",
    "                \n",
    "        print (\"В выборке \" + str(df.shape[1]) + \" столбцов,\"      \n",
    "            \"из них \" + str(mis_val_table_ren_columns.shape[0]) +\n",
    "              \" с пропущенными значениями.\")\n",
    "        \n",
    "        return mis_val_table_ren_columns\n",
    "    \n",
    "missing_values_table(data).head()"
   ]
  },
  {
   "cell_type": "markdown",
   "metadata": {},
   "source": [
    "Большое количество пропусков следующих признаков: была ли машина в ремонте или нет, тип кузова и топлива. К сожалению, восстановить эти данные, не представляется возможным. Предлагаю (пока) их оставить в таком виде.\n",
    "\n",
    "\n",
    "В датасете присутствуют текстовые категоральные признаки. Для преобразования категорий в числовые данные используем LabelEncoder.\n",
    "\n",
    "Одновременно все признаки с отсутствующими признаками (NaN) будут также преобразованы в числовые данные."
   ]
  },
  {
   "cell_type": "code",
   "execution_count": 96,
   "metadata": {},
   "outputs": [
    {
     "name": "stdout",
     "output_type": "stream",
     "text": [
      "Shape all data: (354369, 11)\n"
     ]
    }
   ],
   "source": [
    "from sklearn.preprocessing import LabelEncoder\n",
    "cols = ('VehicleType', 'Gearbox', 'Model', 'FuelType', 'Brand', 'NotRepaired')\n",
    "\n",
    "for c in cols:\n",
    "    lbl = LabelEncoder() \n",
    "    lbl.fit(list(data[c].values)) \n",
    "    data[c] = lbl.transform(list(data[c].values))\n",
    "\n",
    "print('Shape all data: {}'.format(data.shape))"
   ]
  },
  {
   "cell_type": "markdown",
   "metadata": {},
   "source": [
    "Проанализируем, какие признаки влияют на целевую переменную (`Price`). Для этого построим тепловую карту корреляции."
   ]
  },
  {
   "cell_type": "code",
   "execution_count": 97,
   "metadata": {
    "scrolled": true
   },
   "outputs": [
    {
     "data": {
      "text/plain": [
       "<matplotlib.axes._subplots.AxesSubplot at 0x192354cfb08>"
      ]
     },
     "execution_count": 97,
     "metadata": {},
     "output_type": "execute_result"
    },
    {
     "data": {
      "image/png": "[encoded data removed]",
      "text/plain": [
       "<Figure size 720x576 with 2 Axes>"
      ]
     },
     "metadata": {},
     "output_type": "display_data"
    }
   ],
   "source": [
    "corrmat = data.corr()\n",
    "plt.subplots(figsize=(10,8))\n",
    "sns.heatmap(corrmat, annot = True, fmt='.1g', vmax=0.7, square=True, cmap= 'coolwarm')"
   ]
  },
  {
   "cell_type": "markdown",
   "metadata": {},
   "source": [
    "Хорошо видно, что на цену больше всего влияют тип коробки передач, пробег, тип топлива и мощность.  \n",
    "\n",
    "Проанализируем значения признака мощности двигателя."
   ]
  },
  {
   "cell_type": "code",
   "execution_count": 98,
   "metadata": {
    "scrolled": true
   },
   "outputs": [
    {
     "data": {
      "text/plain": [
       "count   354369.00\n",
       "mean       110.09\n",
       "std        189.85\n",
       "min          0.00\n",
       "25%         69.00\n",
       "50%        105.00\n",
       "75%        143.00\n",
       "max      20000.00\n",
       "Name: Power, dtype: float64"
      ]
     },
     "execution_count": 98,
     "metadata": {},
     "output_type": "execute_result"
    }
   ],
   "source": [
    "data['Power'].describe()"
   ]
  },
  {
   "cell_type": "markdown",
   "metadata": {},
   "source": [
    "Обнаружились явно ошибочно данные - 0 и 20000 л.с. Предположим, что мощность обычного автомобиля варьируется в пределах от 30 до 500 л.с. (спорткар).     \n",
    "\n",
    "Визуализируем \"выбросы\" и удалим их из нашего датасета."
   ]
  },
  {
   "cell_type": "code",
   "execution_count": 99,
   "metadata": {
    "scrolled": true
   },
   "outputs": [
    {
     "data": {
      "image/png": "[encoded data removed]",
      "text/plain": [
       "<Figure size 432x288 with 1 Axes>"
      ]
     },
     "metadata": {},
     "output_type": "display_data"
    },
    {
     "data": {
      "text/plain": [
       "0       40225\n",
       "26        291\n",
       "5         103\n",
       "18         51\n",
       "23         44\n",
       "        ...  \n",
       "6512        1\n",
       "1394        1\n",
       "1362        1\n",
       "1202        1\n",
       "1999        1\n",
       "Name: Power, Length: 331, dtype: int64"
      ]
     },
     "execution_count": 99,
     "metadata": {},
     "output_type": "execute_result"
    }
   ],
   "source": [
    "data_m = data.drop(data[(data['Power']<500) & (data['Power'] > 30)].index)\n",
    "\n",
    "fig, ax = plt.subplots()\n",
    "ax.scatter(x = data_m['Price'], y = data_m['Power'])\n",
    "plt.ylabel('Power', fontsize=13)\n",
    "plt.xlabel('Price', fontsize=13)\n",
    "plt.show()\n",
    "data_m['Power'].value_counts()"
   ]
  },
  {
   "cell_type": "code",
   "execution_count": 100,
   "metadata": {},
   "outputs": [
    {
     "data": {
      "text/plain": [
       "count   312738.00\n",
       "mean       120.28\n",
       "std         53.13\n",
       "min         30.00\n",
       "25%         75.00\n",
       "50%        110.00\n",
       "75%        150.00\n",
       "max        490.00\n",
       "Name: Power, dtype: float64"
      ]
     },
     "execution_count": 100,
     "metadata": {},
     "output_type": "execute_result"
    }
   ],
   "source": [
    "data = data.drop(data[(data['Power']>=500) | (data['Power'] < 30)].index)\n",
    "data['Power'].describe() # \"очищенная\" от выбросов мощность "
   ]
  },
  {
   "cell_type": "markdown",
   "metadata": {},
   "source": [
    "Изучим признак \"год регистрации автомобиля\". Предположим, что в нашем датасете исторические данные по автомобилям с 1940 по 2019года, остальные - ошибочные."
   ]
  },
  {
   "cell_type": "code",
   "execution_count": 101,
   "metadata": {
    "scrolled": false
   },
   "outputs": [
    {
     "name": "stdout",
     "output_type": "stream",
     "text": [
      "1000\n"
     ]
    },
    {
     "data": {
      "image/png": "[encoded data removed]",
      "text/plain": [
       "<Figure size 432x432 with 1 Axes>"
      ]
     },
     "metadata": {},
     "output_type": "display_data"
    }
   ],
   "source": [
    "print(data['RegistrationYear'].min())\n",
    "\n",
    "year_err = data.drop(data[(data['RegistrationYear']<=2019) & (data['RegistrationYear']>=1940)].index)\n",
    "\n",
    "#fig, ax = plt.subplots()\n",
    "f, ax = plt.subplots(figsize=(6,6))\n",
    "\n",
    "major_ticks = np.arange(0, 20001, 2500)\n",
    "minor_ticks = np.arange(0, 10001, 100)\n",
    "\n",
    "ax.set_xticks(major_ticks)\n",
    "ax.set_xticks(minor_ticks, minor=True)\n",
    "ax.set_yticks(major_ticks)\n",
    "ax.set_yticks(minor_ticks, minor=True)\n",
    "\n",
    "ax.scatter(x = year_err['Price'], y = year_err['RegistrationYear'])\n",
    "plt.ylabel('RegistrationYear', fontsize=13)\n",
    "plt.xlabel('Price', fontsize=13)\n",
    "plt.show()"
   ]
  },
  {
   "cell_type": "code",
   "execution_count": 102,
   "metadata": {},
   "outputs": [
    {
     "name": "stdout",
     "output_type": "stream",
     "text": [
      "1941\n"
     ]
    },
    {
     "data": {
      "text/plain": [
       "2018"
      ]
     },
     "execution_count": 102,
     "metadata": {},
     "output_type": "execute_result"
    }
   ],
   "source": [
    "data = data.drop(data[(data['RegistrationYear']>=2019) | (data['RegistrationYear']<=1940)].index) # удаление ошибочных данных\n",
    "print(data['RegistrationYear'].min())\n",
    "data['RegistrationYear'].max()"
   ]
  },
  {
   "cell_type": "markdown",
   "metadata": {},
   "source": [
    "И, наконец, проанализируем целевой признак `Price`."
   ]
  },
  {
   "cell_type": "code",
   "execution_count": 103,
   "metadata": {},
   "outputs": [
    {
     "name": "stdout",
     "output_type": "stream",
     "text": [
      "count   312682.00\n",
      "mean      4706.16\n",
      "std       4589.47\n",
      "min          0.00\n",
      "25%       1250.00\n",
      "50%       2999.00\n",
      "75%       6890.00\n",
      "max      20000.00\n",
      "Name: Price, dtype: float64\n"
     ]
    },
    {
     "data": {
      "text/plain": [
       "count   305127.00\n",
       "mean      4822.68\n",
       "std       4585.07\n",
       "min         11.00\n",
       "25%       1350.00\n",
       "50%       3150.00\n",
       "75%       6950.00\n",
       "max      20000.00\n",
       "Name: Price, dtype: float64"
      ]
     },
     "execution_count": 103,
     "metadata": {},
     "output_type": "execute_result"
    }
   ],
   "source": [
    "print(data['Price'].describe())\n",
    "\n",
    "data = data.drop(data[data['Price'] <= 10].index) # удалим данные с ценами ниже 10 евро\n",
    "data['Price'].describe()"
   ]
  },
  {
   "cell_type": "markdown",
   "metadata": {},
   "source": [
    "---\n",
    "\n",
    "Выделим целевой признак и разделим датасет на обучающую и тестовую выборки."
   ]
  },
  {
   "cell_type": "code",
   "execution_count": 104,
   "metadata": {},
   "outputs": [
    {
     "name": "stdout",
     "output_type": "stream",
     "text": [
      "Обучающая выборка: (228845, 10)\n",
      "Целевой признак обучающей выборки: (228845,) \n",
      "\n",
      "Тестовая выборка: (76282, 10)\n",
      "Целевой признак тестовой выборки: (76282,) \n",
      "\n"
     ]
    }
   ],
   "source": [
    "features = data.drop('Price', axis=1)\n",
    "target = data['Price']\n",
    "\n",
    "X_train, X_valid, y_train, y_valid = train_test_split(features, target, test_size=0.25, random_state=12345)\n",
    "\n",
    "print('Обучающая выборка:', X_train.shape)\n",
    "print('Целевой признак обучающей выборки:', y_train.shape, '\\n')\n",
    "\n",
    "print('Тестовая выборка:',X_valid.shape)\n",
    "print('Целевой признак тестовой выборки:', y_valid.shape, '\\n')"
   ]
  },
  {
   "cell_type": "markdown",
   "metadata": {},
   "source": [
    "# 2. Обучение моделей\n",
    "\n",
    "Помимо библиотек для градиентного бустинга, для сравнения качества и скорости, используем LinearRegression и DecisionTreeRegressor классификаторы.\n",
    "\n",
    "Для оценки качества моделей используем метрику RMSE (Root Mean Square Error). Напишем функцию для расчета ошибки."
   ]
  },
  {
   "cell_type": "code",
   "execution_count": 105,
   "metadata": {},
   "outputs": [],
   "source": [
    "def rmse(y, y_pred):\n",
    "    return np.sqrt(mean_squared_error(y, y_pred))"
   ]
  },
  {
   "cell_type": "code",
   "execution_count": 106,
   "metadata": {
    "scrolled": true
   },
   "outputs": [
    {
     "name": "stdout",
     "output_type": "stream",
     "text": [
      "- RMSE - \n",
      "\n",
      "LightGBM: 1705.751678 (ET: 6.13s)\n",
      "CBR: 1682.181006 (ET: 13.48s)\n",
      "XGBoost: 1625.200398 (ET: 55.07s)\n",
      "GBM: 1927.162942 (ET: 99.70s)\n",
      "LR: 3034.799957 (ET: 0.58s)\n",
      "DTR: 2099.177898 (ET: 6.29s)\n"
     ]
    }
   ],
   "source": [
    "print('- RMSE - \\n')                             \n",
    "\n",
    "pipelines = []\n",
    "pipelines.append(('LightGBM', lgb.LGBMRegressor()))\n",
    "pipelines.append(('CBR', CatBoostRegressor(iterations=100, silent=True)))\n",
    "pipelines.append(('XGBoost', xgb.XGBRegressor(silent=True)))\n",
    "pipelines.append(('GBM', GradientBoostingRegressor()))\n",
    "pipelines.append(('LR', LinearRegression()))\n",
    "pipelines.append(('DTR', DecisionTreeRegressor()))\n",
    "\n",
    "\n",
    "for name, model in pipelines:\n",
    "    start_time = time.time()\n",
    "    \n",
    "    kf = KFold(n_splits=5,random_state=1234, shuffle=True)\n",
    "    predict = cross_val_predict(model, X_train, y_train, cv=kf)\n",
    "    \n",
    "    rmse_sc = rmse(y_train, predict)\n",
    "    \n",
    "    end_time = time.time()\n",
    "    duration = end_time - start_time\n",
    "    \n",
    "    msg = \"%s: %f (ET: %.2fs)\" % (name, rmse_sc, duration)\n",
    "    print(msg)"
   ]
  },
  {
   "cell_type": "markdown",
   "metadata": {},
   "source": [
    "Вышеприведенные результаты наглядно показывают, что качество библиотек градиентного бустинга превосходят обычные модели регрессии. Хотя, работают они медленнее.\n",
    "\n",
    "Остановимся на 3x лучших моделях по критериям наименьшей ошибки (RMSE) и времени обучения/предсказания - LightGBM, CatBoostRegressor и XGBRegressor.\n",
    "\n",
    "Подберём при помощи функции RandomizedSearchCV гиперпараметры и проверим, как покажут себя  модели на тестовой выборке.\n",
    "\n",
    "# 3. Анализ моделей"
   ]
  },
  {
   "cell_type": "code",
   "execution_count": 107,
   "metadata": {},
   "outputs": [
    {
     "name": "stdout",
     "output_type": "stream",
     "text": [
      "{'learning_rate': 0.3, 'max_depth': 6, 'min_data_in_leaf': 10, 'n_estimators': 814, 'num_leaves': 20}\n",
      "\n",
      "Время обучения модели LightGBM: 209.75 сек.\n"
     ]
    }
   ],
   "source": [
    "my_scorer = make_scorer(rmse, greater_is_better=False) # зададим параметр целевой метрики качества (чем меньше, тем лучше)\n",
    "cv = KFold(n_splits=5,random_state=42, shuffle=False)\n",
    "\n",
    "lgbmr = lgb.LGBMRegressor(objective='regression', random_state=42, n_jobs=-1)\n",
    "param_lgbm = {'num_leaves': sp_randint(18,24),\n",
    "              'learning_rate': [0.3, 0.4, 0.5],\n",
    "              'max_depth': sp_randint(6,10),\n",
    "              'n_estimators': sp_randint(600, 1000),\n",
    "              'min_data_in_leaf': sp_randint(9,15)}\n",
    "        \n",
    "random_search_lgbm = RandomizedSearchCV(lgbmr, param_distributions=param_lgbm,\n",
    "                                   n_iter=10, cv=cv, scoring=my_scorer, random_state=42)\n",
    "start_lgbm = time.time()\n",
    "\n",
    "random_search_lgbm.fit(X_train, y_train)\n",
    "\n",
    "end_lgbm = time.time()\n",
    "duration_lgbm = end_lgbm - start_lgbm\n",
    "\n",
    "print(random_search_lgbm.best_params_)\n",
    "print('\\nВремя обучения модели LightGBM: {:.2f} сек.'.format(duration_lgbm))"
   ]
  },
  {
   "cell_type": "code",
   "execution_count": 108,
   "metadata": {},
   "outputs": [
    {
     "name": "stdout",
     "output_type": "stream",
     "text": [
      "{'max_depth': 14, 'min_child_weight': 1, 'subsample': 1.0}\n",
      "\n",
      "Время обучения модели XGBRegressor: 1624.96 сек.\n"
     ]
    }
   ],
   "source": [
    "xgbr = xgb.XGBRegressor(num_boost_round=999, early_stopping_rounds=10, silent=True)\n",
    "\n",
    "param_xgb = {'max_depth': sp_randint(10,20),\n",
    "             'min_child_weight': sp_randint(1,5),\n",
    "             'subsample': [.9, 1.0]}\n",
    "        \n",
    "random_search_xgb = RandomizedSearchCV(xgbr, param_distributions=param_xgb,\n",
    "                                   n_iter=10, cv=cv, scoring=my_scorer, random_state=42)\n",
    "start_xgb = time.time()\n",
    "\n",
    "random_search_xgb.fit(X_train, y_train)\n",
    "\n",
    "end_xgb = time.time()\n",
    "duration_xgb = end_xgb - start_xgb\n",
    "\n",
    "print(random_search_xgb.best_params_)\n",
    "print('\\nВремя обучения модели XGBRegressor: {:.2f} сек.'.format(duration_xgb))"
   ]
  },
  {
   "cell_type": "code",
   "execution_count": 109,
   "metadata": {},
   "outputs": [
    {
     "name": "stdout",
     "output_type": "stream",
     "text": [
      "{'iterations': 300, 'learning_rate': 0.4, 'max_depth': 10}\n",
      "\n",
      "Время обучения модели CatBoostRegressor: 597.09 сек.\n"
     ]
    }
   ],
   "source": [
    "cbr = CatBoostRegressor(silent=True)\n",
    "\n",
    "param_cbr = {'learning_rate': [.3, .4, .5],\n",
    "             'max_depth': sp_randint(5, 15),\n",
    "             'iterations': [100, 300]}\n",
    "        \n",
    "random_search_cbr = RandomizedSearchCV(cbr, param_distributions=param_cbr, n_iter=10, cv=cv, scoring=my_scorer, random_state=42)\n",
    "start_cbr = time.time()\n",
    "\n",
    "random_search_cbr.fit(X_train, y_train)\n",
    "\n",
    "end_cbr = time.time()\n",
    "duration_cbr = end_cbr - start_cbr\n",
    "\n",
    "print(random_search_cbr.best_params_)\n",
    "print('\\nВремя обучения модели CatBoostRegressor: {:.2f} сек.'.format(duration_cbr))"
   ]
  },
  {
   "cell_type": "markdown",
   "metadata": {},
   "source": [
    "Самая медленная модель при обучении XGBRegressor (почти 1ч.20мин.), самая быстрая - LightGBM (меньше 10 минут). А что с качеством?"
   ]
  },
  {
   "cell_type": "code",
   "execution_count": 110,
   "metadata": {},
   "outputs": [
    {
     "name": "stdout",
     "output_type": "stream",
     "text": [
      "RMSE на тетовой выборке модели LGBMRegressor: 1550.6599169065205 (время предсказания: 1.01сек)\n",
      "RMSE на тетовой выборке модели XGBRegressor: 1586.2438055674713 (время предсказания: 0.60сек)\n",
      "RMSE на тетовой выборке модели CatBoostRegressor: 1542.4358200550562 (время предсказания: 0.20сек)\n"
     ]
    }
   ],
   "source": [
    "start_lgbm_pr = time.time()\n",
    "pred_test_lgbm = random_search_lgbm.predict(X_valid)\n",
    "lgbm_rmse = rmse(y_valid, pred_test_lgbm)\n",
    "end_lgbm_pr = time.time()\n",
    "duration_lgbm_pr = end_lgbm_pr - start_lgbm_pr\n",
    "\n",
    "start_xgbr_pr = time.time()\n",
    "pred_test_xgb = random_search_xgb.predict(X_valid)\n",
    "xgb_rmse = rmse(y_valid, pred_test_xgb)\n",
    "end_xgbr_pr = time.time()\n",
    "duration_xgbr_pr = end_xgbr_pr - start_xgbr_pr\n",
    "\n",
    "\n",
    "start_cbr_pr = time.time()\n",
    "pred_test_cbr = random_search_cbr.predict(X_valid)\n",
    "cbr_rmse = rmse(y_valid, pred_test_cbr)\n",
    "end_cbr_pr = time.time()\n",
    "duration_cbr_pr = end_cbr_pr - start_cbr_pr\n",
    "\n",
    "\n",
    "print('RMSE на тетовой выборке модели LGBMRegressor:', lgbm_rmse, '(время предсказания: {:.2f}сек)'.format(duration_lgbm_pr))\n",
    "print('RMSE на тетовой выборке модели XGBRegressor:', xgb_rmse, '(время предсказания: {:.2f}сек)'.format(duration_xgbr_pr))\n",
    "print('RMSE на тетовой выборке модели CatBoostRegressor:', cbr_rmse, '(время предсказания: {:.2f}сек)'.format(duration_cbr_pr))"
   ]
  },
  {
   "cell_type": "markdown",
   "metadata": {},
   "source": [
    "Итак, на кросс-валидации при подборе гиперпараметров наилучший результат показала модель XGBRegressor, но, с другой стороны, она самая медленная при обучении.  \n",
    "\n",
    "Применим лучшие гиперпараметры и оценим скорость обучения."
   ]
  },
  {
   "cell_type": "code",
   "execution_count": 111,
   "metadata": {},
   "outputs": [],
   "source": [
    "def check_model(model): # функция, определяющая затраченное время на обучения и предсказания модели\n",
    "    st_1 = time.time()\n",
    "    model.fit(X_train, y_train)\n",
    "    st_2 = time.time()\n",
    "    time_fit = st_2 - st_1\n",
    "\n",
    "    st_3 = time.time()\n",
    "    test_pred = model.predict(X_valid)\n",
    "    st_4 = time.time()\n",
    "    time_pred =  st_4 - st_3\n",
    "\n",
    "    score = rmse(y_valid, test_pred)\n",
    "    return score, time_fit, time_pred"
   ]
  },
  {
   "cell_type": "code",
   "execution_count": 112,
   "metadata": {},
   "outputs": [
    {
     "name": "stdout",
     "output_type": "stream",
     "text": [
      "RMSE модели LGBMRegressor: 1539.031905250493\n",
      "fit time 5.07 s\n",
      "pred time 1.16 s\n",
      "\n",
      "RMSE модели XGBRegressor: 1586.2438055674713\n",
      "fit time 32.58 s\n",
      "pred time 0.47 s\n",
      "\n",
      "RMSE модели CatBoostRegressor: 1542.4358200550562\n",
      "fit time 19.62 s\n",
      "pred time 0.18 s\n"
     ]
    }
   ],
   "source": [
    "lgbm_model = lgb.LGBMRegressor(learning_rate=0.3, max_depth=6, min_data_in_leaf=12,\n",
    "                               n_estimators=913, num_leaves=23, random_state=42, n_jobs=-1)\n",
    "\n",
    "score_lgb, time_fit_lgb, time_pred_lgb = check_model(lgbm_model)\n",
    "print('RMSE модели LGBMRegressor:', score_lgb)\n",
    "print('fit time {:.2f} s'.format(time_fit_lgb))\n",
    "print('pred time {:.2f} s'.format(time_pred_lgb))\n",
    "\n",
    "xgbr_model = xgb.XGBRegressor(num_boost_round=999, early_stopping_rounds=10, max_depth=14,\n",
    "                              min_child_weight=1, subsample=1.0, silent=True)\n",
    "score_xgb, time_fit_xgb, time_pred_xgb = check_model(xgbr_model)\n",
    "print('\\nRMSE модели XGBRegressor:', score_xgb)\n",
    "print('fit time {:.2f} s'.format(time_fit_xgb))\n",
    "print('pred time {:.2f} s'.format(time_pred_xgb))\n",
    "\n",
    "cbr_model = CatBoostRegressor(max_depth=10, learning_rate=.4, iterations=300, silent=True)\n",
    "score_cbr, time_fit_cbr, time_pred_cbr = check_model(cbr_model)\n",
    "print('\\nRMSE модели CatBoostRegressor:', score_cbr)\n",
    "print('fit time {:.2f} s'.format(time_fit_cbr))\n",
    "print('pred time {:.2f} s'.format(time_pred_cbr))"
   ]
  },
  {
   "cell_type": "markdown",
   "metadata": {},
   "source": [
    "---  \n",
    "\n",
    "#### Так как заказчику важны качество, скорость предсказаний и обучения, оптимальная модель, которая сочетает в себе эти требования - LightGBM.\n",
    "\n",
    "---"
   ]
  }
 ],
 "metadata": {
  "kernelspec": {
   "display_name": "Python 3",
   "language": "python",
   "name": "python3"
  },
  "language_info": {
   "codemirror_mode": {
    "name": "ipython",
    "version": 3
   },
   "file_extension": ".py",
   "mimetype": "text/x-python",
   "name": "python",
   "nbconvert_exporter": "python",
   "pygments_lexer": "ipython3",
   "version": "3.7.7"
  }
 },
 "nbformat": 4,
 "nbformat_minor": 2
}
