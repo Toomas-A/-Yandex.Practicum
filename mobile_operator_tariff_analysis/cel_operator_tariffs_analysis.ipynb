{
 "cells": [
  {
   "cell_type": "markdown",
   "metadata": {},
   "source": [
    "Исследование тарифных планов оператора сотовой связи \n",
    "===================\n",
    "\n",
    "Необходимо проанализировать поведение пользователей двух тарифовных планов и выбрать лучший.  \n",
    "\n",
    "Предоставлены данные 500 клиентов за 2018 год. "
   ]
  },
  {
   "cell_type": "markdown",
   "metadata": {},
   "source": [
    "### Шаг 1. Откроем файлы с данными, изучим информацию и приведем в надлежащий вид.\n",
    "\n",
    "Для начала импортируем все необходимые для анализа библиотеки."
   ]
  },
  {
   "cell_type": "code",
   "execution_count": 1,
   "metadata": {},
   "outputs": [],
   "source": [
    "import matplotlib.pyplot as plt\n",
    "\n",
    "from scipy import stats as st\n",
    "import numpy as np\n",
    "\n",
    "import math\n",
    "\n",
    "from functools import reduce\n",
    "\n",
    "import pandas as pd"
   ]
  },
  {
   "cell_type": "markdown",
   "metadata": {},
   "source": [
    "#### Таблица `calls` (информация о звонках)"
   ]
  },
  {
   "cell_type": "code",
   "execution_count": 3,
   "metadata": {
    "scrolled": false
   },
   "outputs": [
    {
     "data": {
      "text/html": [
       "<div>\n",
       "<style scoped>\n",
       "    .dataframe tbody tr th:only-of-type {\n",
       "        vertical-align: middle;\n",
       "    }\n",
       "\n",
       "    .dataframe tbody tr th {\n",
       "        vertical-align: top;\n",
       "    }\n",
       "\n",
       "    .dataframe thead th {\n",
       "        text-align: right;\n",
       "    }\n",
       "</style>\n",
       "<table border=\"1\" class=\"dataframe\">\n",
       "  <thead>\n",
       "    <tr style=\"text-align: right;\">\n",
       "      <th></th>\n",
       "      <th>Unnamed: 0</th>\n",
       "      <th>id</th>\n",
       "      <th>call_date</th>\n",
       "      <th>duration</th>\n",
       "      <th>user_id</th>\n",
       "    </tr>\n",
       "  </thead>\n",
       "  <tbody>\n",
       "    <tr>\n",
       "      <td>0</td>\n",
       "      <td>0</td>\n",
       "      <td>1000_0</td>\n",
       "      <td>2018-07-25</td>\n",
       "      <td>0.00</td>\n",
       "      <td>1000</td>\n",
       "    </tr>\n",
       "    <tr>\n",
       "      <td>1</td>\n",
       "      <td>1</td>\n",
       "      <td>1000_1</td>\n",
       "      <td>2018-08-17</td>\n",
       "      <td>0.00</td>\n",
       "      <td>1000</td>\n",
       "    </tr>\n",
       "    <tr>\n",
       "      <td>2</td>\n",
       "      <td>2</td>\n",
       "      <td>1000_2</td>\n",
       "      <td>2018-06-11</td>\n",
       "      <td>2.85</td>\n",
       "      <td>1000</td>\n",
       "    </tr>\n",
       "    <tr>\n",
       "      <td>3</td>\n",
       "      <td>3</td>\n",
       "      <td>1000_3</td>\n",
       "      <td>2018-09-21</td>\n",
       "      <td>13.80</td>\n",
       "      <td>1000</td>\n",
       "    </tr>\n",
       "    <tr>\n",
       "      <td>4</td>\n",
       "      <td>4</td>\n",
       "      <td>1000_4</td>\n",
       "      <td>2018-12-15</td>\n",
       "      <td>5.18</td>\n",
       "      <td>1000</td>\n",
       "    </tr>\n",
       "  </tbody>\n",
       "</table>\n",
       "</div>"
      ],
      "text/plain": [
       "   Unnamed: 0      id   call_date  duration  user_id\n",
       "0           0  1000_0  2018-07-25      0.00     1000\n",
       "1           1  1000_1  2018-08-17      0.00     1000\n",
       "2           2  1000_2  2018-06-11      2.85     1000\n",
       "3           3  1000_3  2018-09-21     13.80     1000\n",
       "4           4  1000_4  2018-12-15      5.18     1000"
      ]
     },
     "execution_count": 3,
     "metadata": {},
     "output_type": "execute_result"
    }
   ],
   "source": [
    "data_calls = pd.read_csv('datasets/calls.csv')\n",
    "data_calls.head()"
   ]
  },
  {
   "cell_type": "code",
   "execution_count": 185,
   "metadata": {},
   "outputs": [
    {
     "name": "stdout",
     "output_type": "stream",
     "text": [
      "<class 'pandas.core.frame.DataFrame'>\n",
      "RangeIndex: 202607 entries, 0 to 202606\n",
      "Data columns (total 4 columns):\n",
      "id           202607 non-null object\n",
      "call_date    202607 non-null object\n",
      "duration     202607 non-null float64\n",
      "user_id      202607 non-null int64\n",
      "dtypes: float64(1), int64(1), object(2)\n",
      "memory usage: 6.2+ MB\n",
      "\n",
      "\n",
      "Кол-во дублей = 0\n"
     ]
    }
   ],
   "source": [
    "data_calls.info()\n",
    "print('\\n')\n",
    "print('Кол-во дублей = {:.0f}'.format(data_calls.duplicated().sum()))"
   ]
  },
  {
   "cell_type": "code",
   "execution_count": 186,
   "metadata": {},
   "outputs": [
    {
     "data": {
      "text/plain": [
       "0.00     39613\n",
       "4.49       142\n",
       "5.50       142\n",
       "6.15       141\n",
       "6.38       141\n",
       "         ...  \n",
       "27.02        1\n",
       "26.19        1\n",
       "25.34        1\n",
       "27.13        1\n",
       "24.28        1\n",
       "Name: duration, Length: 2871, dtype: int64"
      ]
     },
     "execution_count": 186,
     "metadata": {},
     "output_type": "execute_result"
    }
   ],
   "source": [
    "dur = data_calls['duration']\n",
    "dur.value_counts()"
   ]
  },
  {
   "cell_type": "code",
   "execution_count": 187,
   "metadata": {},
   "outputs": [
    {
     "name": "stdout",
     "output_type": "stream",
     "text": [
      "Количество звонков продолжительностью 0 минут - 39613, что составляет 19.6% всей выборки.\n"
     ]
    }
   ],
   "source": [
    "dur_0 = dur[dur==0].count()\n",
    "zero_dur_rate = dur_0 / len(dur)\n",
    "print('Количество звонков продолжительностью 0 минут - {}, что составляет {:.1%} всей выборки.'.format(dur_0, zero_dur_rate))"
   ]
  },
  {
   "cell_type": "markdown",
   "metadata": {},
   "source": [
    "- Столбец `call_date` отформатируем методом `to_datetime`.\n",
    "- В таблице `calls` почти 20% данных с продолжительность звонков 0 минут. Предположим, что нулями отразилась информация:\n",
    "\n",
    "> 1) До 2 секунд - недозвоны, приравняем их к 0. На мой взгляд, удалять эти \"недозвоны\" не надо, т.к. при удалении мы лишимся существенной части нашей выборки, которая повлияет на общую картину. \n",
    ">\n",
    "> 2) Так называемый, прописанным в законе,  «нетарифицируемый интервал» в 3 секунды, [который на практике тарифицируется](https://mobile-review.com/print.php?filename=/articles/2016/3s.shtml). Продолжительность разговора отсчитывается в секундах, а не в долях секунды, поэтому «щёлкнувшая» вторая секунда уже означает, что в бесплатный интервал вы не попали, успеть прервать соединение за 2 секунды почти нереально. Поэтому, так как наш оператор округляет продолжительность до целой минуты, заменим все нулевые значения 1 минутой.\n",
    "\n",
    "- Добавим столбец `month`."
   ]
  },
  {
   "cell_type": "code",
   "execution_count": 188,
   "metadata": {},
   "outputs": [],
   "source": [
    "data_calls['call_date'] = pd.to_datetime(data_calls['call_date'], format = '%Y-%m-%d')"
   ]
  },
  {
   "cell_type": "code",
   "execution_count": 189,
   "metadata": {
    "scrolled": true
   },
   "outputs": [
    {
     "data": {
      "text/plain": [
       "0.00     39878\n",
       "5.50       142\n",
       "4.49       142\n",
       "6.38       141\n",
       "6.15       141\n",
       "         ...  \n",
       "27.56        1\n",
       "25.94        1\n",
       "27.49        1\n",
       "34.53        1\n",
       "31.80        1\n",
       "Name: duration, Length: 2868, dtype: int64"
      ]
     },
     "execution_count": 189,
     "metadata": {},
     "output_type": "execute_result"
    }
   ],
   "source": [
    "data_calls.loc[data_calls['duration'] <= .03, 'duration'] = 0\n",
    "\n",
    "mask_to1m = (data_calls['duration'] > .03) & (data_calls['duration'] < 1)\n",
    "data_calls.loc[:,['duration']][mask_to1m] = 1\n",
    "\n",
    "data_calls['duration'].value_counts()"
   ]
  },
  {
   "cell_type": "code",
   "execution_count": 190,
   "metadata": {
    "scrolled": true
   },
   "outputs": [
    {
     "data": {
      "text/html": [
       "<div>\n",
       "<style scoped>\n",
       "    .dataframe tbody tr th:only-of-type {\n",
       "        vertical-align: middle;\n",
       "    }\n",
       "\n",
       "    .dataframe tbody tr th {\n",
       "        vertical-align: top;\n",
       "    }\n",
       "\n",
       "    .dataframe thead th {\n",
       "        text-align: right;\n",
       "    }\n",
       "</style>\n",
       "<table border=\"1\" class=\"dataframe\">\n",
       "  <thead>\n",
       "    <tr style=\"text-align: right;\">\n",
       "      <th></th>\n",
       "      <th>id</th>\n",
       "      <th>call_date</th>\n",
       "      <th>duration</th>\n",
       "      <th>user_id</th>\n",
       "      <th>month</th>\n",
       "    </tr>\n",
       "  </thead>\n",
       "  <tbody>\n",
       "    <tr>\n",
       "      <td>0</td>\n",
       "      <td>1000_0</td>\n",
       "      <td>2018-07-25</td>\n",
       "      <td>0.00</td>\n",
       "      <td>1000</td>\n",
       "      <td>7</td>\n",
       "    </tr>\n",
       "    <tr>\n",
       "      <td>1</td>\n",
       "      <td>1000_1</td>\n",
       "      <td>2018-08-17</td>\n",
       "      <td>0.00</td>\n",
       "      <td>1000</td>\n",
       "      <td>8</td>\n",
       "    </tr>\n",
       "    <tr>\n",
       "      <td>2</td>\n",
       "      <td>1000_2</td>\n",
       "      <td>2018-06-11</td>\n",
       "      <td>2.85</td>\n",
       "      <td>1000</td>\n",
       "      <td>6</td>\n",
       "    </tr>\n",
       "    <tr>\n",
       "      <td>3</td>\n",
       "      <td>1000_3</td>\n",
       "      <td>2018-09-21</td>\n",
       "      <td>13.80</td>\n",
       "      <td>1000</td>\n",
       "      <td>9</td>\n",
       "    </tr>\n",
       "    <tr>\n",
       "      <td>4</td>\n",
       "      <td>1000_4</td>\n",
       "      <td>2018-12-15</td>\n",
       "      <td>5.18</td>\n",
       "      <td>1000</td>\n",
       "      <td>12</td>\n",
       "    </tr>\n",
       "  </tbody>\n",
       "</table>\n",
       "</div>"
      ],
      "text/plain": [
       "       id  call_date  duration  user_id  month\n",
       "0  1000_0 2018-07-25      0.00     1000      7\n",
       "1  1000_1 2018-08-17      0.00     1000      8\n",
       "2  1000_2 2018-06-11      2.85     1000      6\n",
       "3  1000_3 2018-09-21     13.80     1000      9\n",
       "4  1000_4 2018-12-15      5.18     1000     12"
      ]
     },
     "execution_count": 190,
     "metadata": {},
     "output_type": "execute_result"
    }
   ],
   "source": [
    "data_calls['month'] = pd.DatetimeIndex(data_calls['call_date']).month\n",
    "data_calls.head()"
   ]
  },
  {
   "cell_type": "markdown",
   "metadata": {},
   "source": [
    "Проанализируем динамику количества пользователей в 2018г."
   ]
  },
  {
   "cell_type": "code",
   "execution_count": 191,
   "metadata": {
    "scrolled": true
   },
   "outputs": [
    {
     "data": {
      "text/plain": [
       "month\n",
       "1      1476\n",
       "2      3328\n",
       "3      6687\n",
       "4      9272\n",
       "5     12647\n",
       "6     14716\n",
       "7     18298\n",
       "8     21488\n",
       "9     24061\n",
       "10    27146\n",
       "11    29501\n",
       "12    33987\n",
       "Name: user_id, dtype: int64"
      ]
     },
     "execution_count": 191,
     "metadata": {},
     "output_type": "execute_result"
    }
   ],
   "source": [
    "data_calls.groupby('month')['user_id'].count()"
   ]
  },
  {
   "cell_type": "markdown",
   "metadata": {},
   "source": [
    "Наблюдается позитивная тенденция потока клиентов. Увеличение клиентской базы в 23 раза за год."
   ]
  },
  {
   "cell_type": "markdown",
   "metadata": {},
   "source": [
    "#### Таблица `internet` (информация об интернет-сессиях)"
   ]
  },
  {
   "cell_type": "code",
   "execution_count": 192,
   "metadata": {
    "scrolled": true
   },
   "outputs": [
    {
     "data": {
      "text/html": [
       "<div>\n",
       "<style scoped>\n",
       "    .dataframe tbody tr th:only-of-type {\n",
       "        vertical-align: middle;\n",
       "    }\n",
       "\n",
       "    .dataframe tbody tr th {\n",
       "        vertical-align: top;\n",
       "    }\n",
       "\n",
       "    .dataframe thead th {\n",
       "        text-align: right;\n",
       "    }\n",
       "</style>\n",
       "<table border=\"1\" class=\"dataframe\">\n",
       "  <thead>\n",
       "    <tr style=\"text-align: right;\">\n",
       "      <th></th>\n",
       "      <th>id</th>\n",
       "      <th>mb_used</th>\n",
       "      <th>session_date</th>\n",
       "      <th>user_id</th>\n",
       "    </tr>\n",
       "  </thead>\n",
       "  <tbody>\n",
       "    <tr>\n",
       "      <td>0</td>\n",
       "      <td>1000_0</td>\n",
       "      <td>112.95</td>\n",
       "      <td>2018-11-25</td>\n",
       "      <td>1000</td>\n",
       "    </tr>\n",
       "    <tr>\n",
       "      <td>1</td>\n",
       "      <td>1000_1</td>\n",
       "      <td>1052.81</td>\n",
       "      <td>2018-09-07</td>\n",
       "      <td>1000</td>\n",
       "    </tr>\n",
       "    <tr>\n",
       "      <td>2</td>\n",
       "      <td>1000_2</td>\n",
       "      <td>1197.26</td>\n",
       "      <td>2018-06-25</td>\n",
       "      <td>1000</td>\n",
       "    </tr>\n",
       "    <tr>\n",
       "      <td>3</td>\n",
       "      <td>1000_3</td>\n",
       "      <td>550.27</td>\n",
       "      <td>2018-08-22</td>\n",
       "      <td>1000</td>\n",
       "    </tr>\n",
       "    <tr>\n",
       "      <td>4</td>\n",
       "      <td>1000_4</td>\n",
       "      <td>302.56</td>\n",
       "      <td>2018-09-24</td>\n",
       "      <td>1000</td>\n",
       "    </tr>\n",
       "  </tbody>\n",
       "</table>\n",
       "</div>"
      ],
      "text/plain": [
       "       id  mb_used session_date  user_id\n",
       "0  1000_0   112.95   2018-11-25     1000\n",
       "1  1000_1  1052.81   2018-09-07     1000\n",
       "2  1000_2  1197.26   2018-06-25     1000\n",
       "3  1000_3   550.27   2018-08-22     1000\n",
       "4  1000_4   302.56   2018-09-24     1000"
      ]
     },
     "execution_count": 192,
     "metadata": {},
     "output_type": "execute_result"
    }
   ],
   "source": [
    "data_int = pd.read_csv('/datasets/internet.csv')\n",
    "data_int.head()"
   ]
  },
  {
   "cell_type": "code",
   "execution_count": 193,
   "metadata": {},
   "outputs": [
    {
     "name": "stdout",
     "output_type": "stream",
     "text": [
      "<class 'pandas.core.frame.DataFrame'>\n",
      "RangeIndex: 149396 entries, 0 to 149395\n",
      "Data columns (total 4 columns):\n",
      "id              149396 non-null object\n",
      "mb_used         149396 non-null float64\n",
      "session_date    149396 non-null object\n",
      "user_id         149396 non-null int64\n",
      "dtypes: float64(1), int64(1), object(2)\n",
      "memory usage: 4.6+ MB\n",
      "\n",
      "\n",
      "Кол-во дублей = 0\n"
     ]
    }
   ],
   "source": [
    "data_int.info()\n",
    "print('\\n')\n",
    "print('Кол-во дублей = {:.0f}'.format(data_int.duplicated().sum()))"
   ]
  },
  {
   "cell_type": "markdown",
   "metadata": {},
   "source": [
    "В данной таблице:\n",
    "- отформатируем столбец `session_date`;\n",
    "- добавим столбец `month`."
   ]
  },
  {
   "cell_type": "code",
   "execution_count": 194,
   "metadata": {},
   "outputs": [
    {
     "data": {
      "text/html": [
       "<div>\n",
       "<style scoped>\n",
       "    .dataframe tbody tr th:only-of-type {\n",
       "        vertical-align: middle;\n",
       "    }\n",
       "\n",
       "    .dataframe tbody tr th {\n",
       "        vertical-align: top;\n",
       "    }\n",
       "\n",
       "    .dataframe thead th {\n",
       "        text-align: right;\n",
       "    }\n",
       "</style>\n",
       "<table border=\"1\" class=\"dataframe\">\n",
       "  <thead>\n",
       "    <tr style=\"text-align: right;\">\n",
       "      <th></th>\n",
       "      <th>id</th>\n",
       "      <th>mb_used</th>\n",
       "      <th>session_date</th>\n",
       "      <th>user_id</th>\n",
       "      <th>month</th>\n",
       "    </tr>\n",
       "  </thead>\n",
       "  <tbody>\n",
       "    <tr>\n",
       "      <td>0</td>\n",
       "      <td>1000_0</td>\n",
       "      <td>112.95</td>\n",
       "      <td>2018-11-25</td>\n",
       "      <td>1000</td>\n",
       "      <td>11</td>\n",
       "    </tr>\n",
       "    <tr>\n",
       "      <td>1</td>\n",
       "      <td>1000_1</td>\n",
       "      <td>1052.81</td>\n",
       "      <td>2018-09-07</td>\n",
       "      <td>1000</td>\n",
       "      <td>9</td>\n",
       "    </tr>\n",
       "    <tr>\n",
       "      <td>2</td>\n",
       "      <td>1000_2</td>\n",
       "      <td>1197.26</td>\n",
       "      <td>2018-06-25</td>\n",
       "      <td>1000</td>\n",
       "      <td>6</td>\n",
       "    </tr>\n",
       "    <tr>\n",
       "      <td>3</td>\n",
       "      <td>1000_3</td>\n",
       "      <td>550.27</td>\n",
       "      <td>2018-08-22</td>\n",
       "      <td>1000</td>\n",
       "      <td>8</td>\n",
       "    </tr>\n",
       "    <tr>\n",
       "      <td>4</td>\n",
       "      <td>1000_4</td>\n",
       "      <td>302.56</td>\n",
       "      <td>2018-09-24</td>\n",
       "      <td>1000</td>\n",
       "      <td>9</td>\n",
       "    </tr>\n",
       "  </tbody>\n",
       "</table>\n",
       "</div>"
      ],
      "text/plain": [
       "       id  mb_used session_date  user_id  month\n",
       "0  1000_0   112.95   2018-11-25     1000     11\n",
       "1  1000_1  1052.81   2018-09-07     1000      9\n",
       "2  1000_2  1197.26   2018-06-25     1000      6\n",
       "3  1000_3   550.27   2018-08-22     1000      8\n",
       "4  1000_4   302.56   2018-09-24     1000      9"
      ]
     },
     "execution_count": 194,
     "metadata": {},
     "output_type": "execute_result"
    }
   ],
   "source": [
    "data_int['session_date'] = pd.to_datetime(data_int['session_date'], format = '%Y-%m-%d')\n",
    "data_int['month'] = pd.DatetimeIndex(data_int['session_date']).month\n",
    "data_int.head()"
   ]
  },
  {
   "cell_type": "markdown",
   "metadata": {},
   "source": [
    "#### Таблица `messages` (информация о сообщениях)"
   ]
  },
  {
   "cell_type": "code",
   "execution_count": 195,
   "metadata": {},
   "outputs": [
    {
     "data": {
      "text/html": [
       "<div>\n",
       "<style scoped>\n",
       "    .dataframe tbody tr th:only-of-type {\n",
       "        vertical-align: middle;\n",
       "    }\n",
       "\n",
       "    .dataframe tbody tr th {\n",
       "        vertical-align: top;\n",
       "    }\n",
       "\n",
       "    .dataframe thead th {\n",
       "        text-align: right;\n",
       "    }\n",
       "</style>\n",
       "<table border=\"1\" class=\"dataframe\">\n",
       "  <thead>\n",
       "    <tr style=\"text-align: right;\">\n",
       "      <th></th>\n",
       "      <th>id</th>\n",
       "      <th>message_date</th>\n",
       "      <th>user_id</th>\n",
       "    </tr>\n",
       "  </thead>\n",
       "  <tbody>\n",
       "    <tr>\n",
       "      <td>0</td>\n",
       "      <td>1000_0</td>\n",
       "      <td>2018-06-27</td>\n",
       "      <td>1000</td>\n",
       "    </tr>\n",
       "    <tr>\n",
       "      <td>1</td>\n",
       "      <td>1000_1</td>\n",
       "      <td>2018-10-08</td>\n",
       "      <td>1000</td>\n",
       "    </tr>\n",
       "    <tr>\n",
       "      <td>2</td>\n",
       "      <td>1000_2</td>\n",
       "      <td>2018-08-04</td>\n",
       "      <td>1000</td>\n",
       "    </tr>\n",
       "    <tr>\n",
       "      <td>3</td>\n",
       "      <td>1000_3</td>\n",
       "      <td>2018-06-16</td>\n",
       "      <td>1000</td>\n",
       "    </tr>\n",
       "    <tr>\n",
       "      <td>4</td>\n",
       "      <td>1000_4</td>\n",
       "      <td>2018-12-05</td>\n",
       "      <td>1000</td>\n",
       "    </tr>\n",
       "  </tbody>\n",
       "</table>\n",
       "</div>"
      ],
      "text/plain": [
       "       id message_date  user_id\n",
       "0  1000_0   2018-06-27     1000\n",
       "1  1000_1   2018-10-08     1000\n",
       "2  1000_2   2018-08-04     1000\n",
       "3  1000_3   2018-06-16     1000\n",
       "4  1000_4   2018-12-05     1000"
      ]
     },
     "execution_count": 195,
     "metadata": {},
     "output_type": "execute_result"
    }
   ],
   "source": [
    "data_mes = pd.read_csv('/datasets/messages.csv')\n",
    "data_mes.head()"
   ]
  },
  {
   "cell_type": "code",
   "execution_count": 196,
   "metadata": {},
   "outputs": [
    {
     "name": "stdout",
     "output_type": "stream",
     "text": [
      "<class 'pandas.core.frame.DataFrame'>\n",
      "RangeIndex: 123036 entries, 0 to 123035\n",
      "Data columns (total 3 columns):\n",
      "id              123036 non-null object\n",
      "message_date    123036 non-null object\n",
      "user_id         123036 non-null int64\n",
      "dtypes: int64(1), object(2)\n",
      "memory usage: 2.8+ MB\n",
      "\n",
      "\n",
      "Кол-во дублей = 0\n"
     ]
    }
   ],
   "source": [
    "data_mes.info()\n",
    "print('\\n')\n",
    "print('Кол-во дублей = {:.0f}'.format(data_mes.duplicated().sum()))"
   ]
  },
  {
   "cell_type": "markdown",
   "metadata": {},
   "source": [
    "В данной таблице:\n",
    "- отформатируем столбец `message_date`;\n",
    "- добавим столбец month."
   ]
  },
  {
   "cell_type": "code",
   "execution_count": 197,
   "metadata": {},
   "outputs": [],
   "source": [
    "data_mes['message_date'] = pd.to_datetime(data_mes['message_date'], format = '%Y-%m-%d')"
   ]
  },
  {
   "cell_type": "code",
   "execution_count": 198,
   "metadata": {},
   "outputs": [
    {
     "data": {
      "text/html": [
       "<div>\n",
       "<style scoped>\n",
       "    .dataframe tbody tr th:only-of-type {\n",
       "        vertical-align: middle;\n",
       "    }\n",
       "\n",
       "    .dataframe tbody tr th {\n",
       "        vertical-align: top;\n",
       "    }\n",
       "\n",
       "    .dataframe thead th {\n",
       "        text-align: right;\n",
       "    }\n",
       "</style>\n",
       "<table border=\"1\" class=\"dataframe\">\n",
       "  <thead>\n",
       "    <tr style=\"text-align: right;\">\n",
       "      <th></th>\n",
       "      <th>id</th>\n",
       "      <th>message_date</th>\n",
       "      <th>user_id</th>\n",
       "      <th>month</th>\n",
       "    </tr>\n",
       "  </thead>\n",
       "  <tbody>\n",
       "    <tr>\n",
       "      <td>0</td>\n",
       "      <td>1000_0</td>\n",
       "      <td>2018-06-27</td>\n",
       "      <td>1000</td>\n",
       "      <td>6</td>\n",
       "    </tr>\n",
       "    <tr>\n",
       "      <td>1</td>\n",
       "      <td>1000_1</td>\n",
       "      <td>2018-10-08</td>\n",
       "      <td>1000</td>\n",
       "      <td>10</td>\n",
       "    </tr>\n",
       "    <tr>\n",
       "      <td>2</td>\n",
       "      <td>1000_2</td>\n",
       "      <td>2018-08-04</td>\n",
       "      <td>1000</td>\n",
       "      <td>8</td>\n",
       "    </tr>\n",
       "    <tr>\n",
       "      <td>3</td>\n",
       "      <td>1000_3</td>\n",
       "      <td>2018-06-16</td>\n",
       "      <td>1000</td>\n",
       "      <td>6</td>\n",
       "    </tr>\n",
       "    <tr>\n",
       "      <td>4</td>\n",
       "      <td>1000_4</td>\n",
       "      <td>2018-12-05</td>\n",
       "      <td>1000</td>\n",
       "      <td>12</td>\n",
       "    </tr>\n",
       "  </tbody>\n",
       "</table>\n",
       "</div>"
      ],
      "text/plain": [
       "       id message_date  user_id  month\n",
       "0  1000_0   2018-06-27     1000      6\n",
       "1  1000_1   2018-10-08     1000     10\n",
       "2  1000_2   2018-08-04     1000      8\n",
       "3  1000_3   2018-06-16     1000      6\n",
       "4  1000_4   2018-12-05     1000     12"
      ]
     },
     "execution_count": 198,
     "metadata": {},
     "output_type": "execute_result"
    }
   ],
   "source": [
    "data_mes['month'] = pd.DatetimeIndex(data_mes['message_date']).month\n",
    "data_mes.head()"
   ]
  },
  {
   "cell_type": "markdown",
   "metadata": {},
   "source": [
    "#### Таблица `tariffs` (информация о тарифах)\n",
    "\n",
    "Добавим столбец с объёмом интернет-трафика, включённого в абонентскую плату в гигабайтах."
   ]
  },
  {
   "cell_type": "code",
   "execution_count": 199,
   "metadata": {},
   "outputs": [
    {
     "data": {
      "text/html": [
       "<div>\n",
       "<style scoped>\n",
       "    .dataframe tbody tr th:only-of-type {\n",
       "        vertical-align: middle;\n",
       "    }\n",
       "\n",
       "    .dataframe tbody tr th {\n",
       "        vertical-align: top;\n",
       "    }\n",
       "\n",
       "    .dataframe thead th {\n",
       "        text-align: right;\n",
       "    }\n",
       "</style>\n",
       "<table border=\"1\" class=\"dataframe\">\n",
       "  <thead>\n",
       "    <tr style=\"text-align: right;\">\n",
       "      <th></th>\n",
       "      <th>messages_included</th>\n",
       "      <th>mg_per_month_included</th>\n",
       "      <th>minutes_included</th>\n",
       "      <th>rub_monthly_fee</th>\n",
       "      <th>rub_per_gb</th>\n",
       "      <th>rub_per_message</th>\n",
       "      <th>rub_per_minute</th>\n",
       "      <th>tariff_name</th>\n",
       "      <th>gb_per_month_included</th>\n",
       "    </tr>\n",
       "  </thead>\n",
       "  <tbody>\n",
       "    <tr>\n",
       "      <td>0</td>\n",
       "      <td>50</td>\n",
       "      <td>15360</td>\n",
       "      <td>500</td>\n",
       "      <td>550</td>\n",
       "      <td>200</td>\n",
       "      <td>3</td>\n",
       "      <td>3</td>\n",
       "      <td>smart</td>\n",
       "      <td>15.0</td>\n",
       "    </tr>\n",
       "    <tr>\n",
       "      <td>1</td>\n",
       "      <td>1000</td>\n",
       "      <td>30720</td>\n",
       "      <td>3000</td>\n",
       "      <td>1950</td>\n",
       "      <td>150</td>\n",
       "      <td>1</td>\n",
       "      <td>1</td>\n",
       "      <td>ultra</td>\n",
       "      <td>30.0</td>\n",
       "    </tr>\n",
       "  </tbody>\n",
       "</table>\n",
       "</div>"
      ],
      "text/plain": [
       "   messages_included  mg_per_month_included  minutes_included  \\\n",
       "0                 50                  15360               500   \n",
       "1               1000                  30720              3000   \n",
       "\n",
       "   rub_monthly_fee  rub_per_gb  rub_per_message  rub_per_minute tariff_name  \\\n",
       "0              550         200                3               3       smart   \n",
       "1             1950         150                1               1       ultra   \n",
       "\n",
       "   gb_per_month_included  \n",
       "0                   15.0  \n",
       "1                   30.0  "
      ]
     },
     "execution_count": 199,
     "metadata": {},
     "output_type": "execute_result"
    }
   ],
   "source": [
    "data_trf = pd.read_csv('/datasets/tariffs.csv')\n",
    "data_trf['gb_per_month_included'] = data_trf['mg_per_month_included'] / 1024\n",
    "data_trf"
   ]
  },
  {
   "cell_type": "markdown",
   "metadata": {},
   "source": [
    "#### Таблица `users` (информация о пользователях)"
   ]
  },
  {
   "cell_type": "code",
   "execution_count": 200,
   "metadata": {},
   "outputs": [
    {
     "data": {
      "text/html": [
       "<div>\n",
       "<style scoped>\n",
       "    .dataframe tbody tr th:only-of-type {\n",
       "        vertical-align: middle;\n",
       "    }\n",
       "\n",
       "    .dataframe tbody tr th {\n",
       "        vertical-align: top;\n",
       "    }\n",
       "\n",
       "    .dataframe thead th {\n",
       "        text-align: right;\n",
       "    }\n",
       "</style>\n",
       "<table border=\"1\" class=\"dataframe\">\n",
       "  <thead>\n",
       "    <tr style=\"text-align: right;\">\n",
       "      <th></th>\n",
       "      <th>user_id</th>\n",
       "      <th>age</th>\n",
       "      <th>churn_date</th>\n",
       "      <th>city</th>\n",
       "      <th>first_name</th>\n",
       "      <th>last_name</th>\n",
       "      <th>reg_date</th>\n",
       "      <th>tariff</th>\n",
       "    </tr>\n",
       "  </thead>\n",
       "  <tbody>\n",
       "    <tr>\n",
       "      <td>0</td>\n",
       "      <td>1000</td>\n",
       "      <td>52</td>\n",
       "      <td>NaN</td>\n",
       "      <td>Краснодар</td>\n",
       "      <td>Рафаил</td>\n",
       "      <td>Верещагин</td>\n",
       "      <td>2018-05-25</td>\n",
       "      <td>ultra</td>\n",
       "    </tr>\n",
       "    <tr>\n",
       "      <td>1</td>\n",
       "      <td>1001</td>\n",
       "      <td>41</td>\n",
       "      <td>NaN</td>\n",
       "      <td>Москва</td>\n",
       "      <td>Иван</td>\n",
       "      <td>Ежов</td>\n",
       "      <td>2018-11-01</td>\n",
       "      <td>smart</td>\n",
       "    </tr>\n",
       "    <tr>\n",
       "      <td>2</td>\n",
       "      <td>1002</td>\n",
       "      <td>59</td>\n",
       "      <td>NaN</td>\n",
       "      <td>Стерлитамак</td>\n",
       "      <td>Евгений</td>\n",
       "      <td>Абрамович</td>\n",
       "      <td>2018-06-17</td>\n",
       "      <td>smart</td>\n",
       "    </tr>\n",
       "    <tr>\n",
       "      <td>3</td>\n",
       "      <td>1003</td>\n",
       "      <td>23</td>\n",
       "      <td>NaN</td>\n",
       "      <td>Москва</td>\n",
       "      <td>Белла</td>\n",
       "      <td>Белякова</td>\n",
       "      <td>2018-08-17</td>\n",
       "      <td>ultra</td>\n",
       "    </tr>\n",
       "    <tr>\n",
       "      <td>4</td>\n",
       "      <td>1004</td>\n",
       "      <td>68</td>\n",
       "      <td>NaN</td>\n",
       "      <td>Новокузнецк</td>\n",
       "      <td>Татьяна</td>\n",
       "      <td>Авдеенко</td>\n",
       "      <td>2018-05-14</td>\n",
       "      <td>ultra</td>\n",
       "    </tr>\n",
       "  </tbody>\n",
       "</table>\n",
       "</div>"
      ],
      "text/plain": [
       "   user_id  age churn_date         city first_name  last_name    reg_date  \\\n",
       "0     1000   52        NaN    Краснодар     Рафаил  Верещагин  2018-05-25   \n",
       "1     1001   41        NaN       Москва       Иван       Ежов  2018-11-01   \n",
       "2     1002   59        NaN  Стерлитамак    Евгений  Абрамович  2018-06-17   \n",
       "3     1003   23        NaN       Москва      Белла   Белякова  2018-08-17   \n",
       "4     1004   68        NaN  Новокузнецк    Татьяна   Авдеенко  2018-05-14   \n",
       "\n",
       "  tariff  \n",
       "0  ultra  \n",
       "1  smart  \n",
       "2  smart  \n",
       "3  ultra  \n",
       "4  ultra  "
      ]
     },
     "execution_count": 200,
     "metadata": {},
     "output_type": "execute_result"
    }
   ],
   "source": [
    "data_user = pd.read_csv('/datasets/users.csv')\n",
    "data_user.head()"
   ]
  },
  {
   "cell_type": "code",
   "execution_count": 201,
   "metadata": {},
   "outputs": [
    {
     "name": "stdout",
     "output_type": "stream",
     "text": [
      "<class 'pandas.core.frame.DataFrame'>\n",
      "RangeIndex: 500 entries, 0 to 499\n",
      "Data columns (total 8 columns):\n",
      "user_id       500 non-null int64\n",
      "age           500 non-null int64\n",
      "churn_date    38 non-null object\n",
      "city          500 non-null object\n",
      "first_name    500 non-null object\n",
      "last_name     500 non-null object\n",
      "reg_date      500 non-null object\n",
      "tariff        500 non-null object\n",
      "dtypes: int64(2), object(6)\n",
      "memory usage: 31.4+ KB\n",
      "\n",
      "\n",
      "Кол-во дублей = 0\n"
     ]
    }
   ],
   "source": [
    "data_user.info()\n",
    "print('\\n')\n",
    "print('Кол-во дублей = {:.0f}'.format(data_user.duplicated().sum()))"
   ]
  },
  {
   "cell_type": "markdown",
   "metadata": {},
   "source": [
    "В данной таблице: \n",
    "- отформатируем столбцы `churn_date`и `reg_date`;\n",
    "- сформируем новую таблицу с необходимыми для дальнейшего анализа данными (`user_id, tariff, city`)."
   ]
  },
  {
   "cell_type": "code",
   "execution_count": 202,
   "metadata": {},
   "outputs": [],
   "source": [
    "data_user['churn_date'] = pd.to_datetime(data_user['churn_date'], format = '%Y-%m-%d')\n",
    "data_user['reg_date'] = pd.to_datetime(data_user['reg_date'], format = '%Y-%m-%d')\n",
    "\n",
    "user_info = data_user[['user_id', 'tariff', 'city']]"
   ]
  },
  {
   "cell_type": "markdown",
   "metadata": {},
   "source": [
    "### Шаг 2. Подготовка данных.\n",
    "\n",
    "Сформируем новую таблицу с количеством сделанных звонков и израсходованных минут разговора по месяцам для каждого абонента. Так как тарификацию голосовой связи оператор округляет вверх до минуты, округлим продолжительность звонков в большую сторону."
   ]
  },
  {
   "cell_type": "code",
   "execution_count": 203,
   "metadata": {},
   "outputs": [
    {
     "data": {
      "text/html": [
       "<div>\n",
       "<style scoped>\n",
       "    .dataframe tbody tr th:only-of-type {\n",
       "        vertical-align: middle;\n",
       "    }\n",
       "\n",
       "    .dataframe tbody tr th {\n",
       "        vertical-align: top;\n",
       "    }\n",
       "\n",
       "    .dataframe thead th {\n",
       "        text-align: right;\n",
       "    }\n",
       "</style>\n",
       "<table border=\"1\" class=\"dataframe\">\n",
       "  <thead>\n",
       "    <tr style=\"text-align: right;\">\n",
       "      <th></th>\n",
       "      <th>month</th>\n",
       "      <th>user_id</th>\n",
       "      <th>quantity</th>\n",
       "      <th>spent_minutes</th>\n",
       "    </tr>\n",
       "  </thead>\n",
       "  <tbody>\n",
       "    <tr>\n",
       "      <td>0</td>\n",
       "      <td>1</td>\n",
       "      <td>1005</td>\n",
       "      <td>15</td>\n",
       "      <td>91</td>\n",
       "    </tr>\n",
       "    <tr>\n",
       "      <td>1</td>\n",
       "      <td>1</td>\n",
       "      <td>1032</td>\n",
       "      <td>61</td>\n",
       "      <td>360</td>\n",
       "    </tr>\n",
       "    <tr>\n",
       "      <td>2</td>\n",
       "      <td>1</td>\n",
       "      <td>1045</td>\n",
       "      <td>1</td>\n",
       "      <td>9</td>\n",
       "    </tr>\n",
       "    <tr>\n",
       "      <td>3</td>\n",
       "      <td>1</td>\n",
       "      <td>1055</td>\n",
       "      <td>64</td>\n",
       "      <td>528</td>\n",
       "    </tr>\n",
       "    <tr>\n",
       "      <td>4</td>\n",
       "      <td>1</td>\n",
       "      <td>1071</td>\n",
       "      <td>24</td>\n",
       "      <td>184</td>\n",
       "    </tr>\n",
       "    <tr>\n",
       "      <td>...</td>\n",
       "      <td>...</td>\n",
       "      <td>...</td>\n",
       "      <td>...</td>\n",
       "      <td>...</td>\n",
       "    </tr>\n",
       "    <tr>\n",
       "      <td>3169</td>\n",
       "      <td>12</td>\n",
       "      <td>1494</td>\n",
       "      <td>62</td>\n",
       "      <td>389</td>\n",
       "    </tr>\n",
       "    <tr>\n",
       "      <td>3170</td>\n",
       "      <td>12</td>\n",
       "      <td>1495</td>\n",
       "      <td>155</td>\n",
       "      <td>971</td>\n",
       "    </tr>\n",
       "    <tr>\n",
       "      <td>3171</td>\n",
       "      <td>12</td>\n",
       "      <td>1496</td>\n",
       "      <td>80</td>\n",
       "      <td>484</td>\n",
       "    </tr>\n",
       "    <tr>\n",
       "      <td>3172</td>\n",
       "      <td>12</td>\n",
       "      <td>1497</td>\n",
       "      <td>71</td>\n",
       "      <td>516</td>\n",
       "    </tr>\n",
       "    <tr>\n",
       "      <td>3173</td>\n",
       "      <td>12</td>\n",
       "      <td>1499</td>\n",
       "      <td>69</td>\n",
       "      <td>466</td>\n",
       "    </tr>\n",
       "  </tbody>\n",
       "</table>\n",
       "<p>3174 rows × 4 columns</p>\n",
       "</div>"
      ],
      "text/plain": [
       "      month  user_id  quantity  spent_minutes\n",
       "0         1     1005        15             91\n",
       "1         1     1032        61            360\n",
       "2         1     1045         1              9\n",
       "3         1     1055        64            528\n",
       "4         1     1071        24            184\n",
       "...     ...      ...       ...            ...\n",
       "3169     12     1494        62            389\n",
       "3170     12     1495       155            971\n",
       "3171     12     1496        80            484\n",
       "3172     12     1497        71            516\n",
       "3173     12     1499        69            466\n",
       "\n",
       "[3174 rows x 4 columns]"
      ]
     },
     "execution_count": 203,
     "metadata": {},
     "output_type": "execute_result"
    }
   ],
   "source": [
    "calls_made = data_calls.groupby(['month', 'user_id']).agg({'id':['count'],'duration':['sum']}).reset_index(drop=False)\n",
    "calls_made.columns = ['month', 'user_id', 'quantity', 'spent_minutes']\n",
    "\n",
    "calls_made['spent_minutes'] = (calls_made['spent_minutes']).apply(lambda x: math.ceil(x))\n",
    "\n",
    "calls_made"
   ]
  },
  {
   "cell_type": "markdown",
   "metadata": {},
   "source": [
    "Сформируем новую таблицу с количество отправленных сообщений по месяцам для каждого абонента."
   ]
  },
  {
   "cell_type": "code",
   "execution_count": 204,
   "metadata": {},
   "outputs": [
    {
     "data": {
      "text/html": [
       "<div>\n",
       "<style scoped>\n",
       "    .dataframe tbody tr th:only-of-type {\n",
       "        vertical-align: middle;\n",
       "    }\n",
       "\n",
       "    .dataframe tbody tr th {\n",
       "        vertical-align: top;\n",
       "    }\n",
       "\n",
       "    .dataframe thead th {\n",
       "        text-align: right;\n",
       "    }\n",
       "</style>\n",
       "<table border=\"1\" class=\"dataframe\">\n",
       "  <thead>\n",
       "    <tr style=\"text-align: right;\">\n",
       "      <th></th>\n",
       "      <th>month</th>\n",
       "      <th>user_id</th>\n",
       "      <th>messages</th>\n",
       "    </tr>\n",
       "  </thead>\n",
       "  <tbody>\n",
       "    <tr>\n",
       "      <td>0</td>\n",
       "      <td>1</td>\n",
       "      <td>1005</td>\n",
       "      <td>7</td>\n",
       "    </tr>\n",
       "    <tr>\n",
       "      <td>1</td>\n",
       "      <td>1</td>\n",
       "      <td>1032</td>\n",
       "      <td>38</td>\n",
       "    </tr>\n",
       "    <tr>\n",
       "      <td>2</td>\n",
       "      <td>1</td>\n",
       "      <td>1045</td>\n",
       "      <td>5</td>\n",
       "    </tr>\n",
       "    <tr>\n",
       "      <td>3</td>\n",
       "      <td>1</td>\n",
       "      <td>1055</td>\n",
       "      <td>30</td>\n",
       "    </tr>\n",
       "    <tr>\n",
       "      <td>4</td>\n",
       "      <td>1</td>\n",
       "      <td>1071</td>\n",
       "      <td>16</td>\n",
       "    </tr>\n",
       "    <tr>\n",
       "      <td>...</td>\n",
       "      <td>...</td>\n",
       "      <td>...</td>\n",
       "      <td>...</td>\n",
       "    </tr>\n",
       "    <tr>\n",
       "      <td>2712</td>\n",
       "      <td>12</td>\n",
       "      <td>1493</td>\n",
       "      <td>78</td>\n",
       "    </tr>\n",
       "    <tr>\n",
       "      <td>2713</td>\n",
       "      <td>12</td>\n",
       "      <td>1495</td>\n",
       "      <td>84</td>\n",
       "    </tr>\n",
       "    <tr>\n",
       "      <td>2714</td>\n",
       "      <td>12</td>\n",
       "      <td>1496</td>\n",
       "      <td>51</td>\n",
       "    </tr>\n",
       "    <tr>\n",
       "      <td>2715</td>\n",
       "      <td>12</td>\n",
       "      <td>1497</td>\n",
       "      <td>17</td>\n",
       "    </tr>\n",
       "    <tr>\n",
       "      <td>2716</td>\n",
       "      <td>12</td>\n",
       "      <td>1499</td>\n",
       "      <td>66</td>\n",
       "    </tr>\n",
       "  </tbody>\n",
       "</table>\n",
       "<p>2717 rows × 3 columns</p>\n",
       "</div>"
      ],
      "text/plain": [
       "      month  user_id  messages\n",
       "0         1     1005         7\n",
       "1         1     1032        38\n",
       "2         1     1045         5\n",
       "3         1     1055        30\n",
       "4         1     1071        16\n",
       "...     ...      ...       ...\n",
       "2712     12     1493        78\n",
       "2713     12     1495        84\n",
       "2714     12     1496        51\n",
       "2715     12     1497        17\n",
       "2716     12     1499        66\n",
       "\n",
       "[2717 rows x 3 columns]"
      ]
     },
     "execution_count": 204,
     "metadata": {},
     "output_type": "execute_result"
    }
   ],
   "source": [
    "mes_sent = data_mes.groupby(['month', 'user_id']).agg({'id':['count']}).reset_index(drop=False)\n",
    "mes_sent.columns = ['month', 'user_id', 'messages']\n",
    "\n",
    "mes_sent"
   ]
  },
  {
   "cell_type": "markdown",
   "metadata": {},
   "source": [
    "Сформируем новую таблицу с израсходованным объемом интернет-трафика по месяцам для каждого абонента.\n",
    "\n",
    "Так как тарификация интернет-трафика происходит в гигабайтах (Гб), добавим столбец с израсходованным трафиком в целых величинах, округлив значения вверх."
   ]
  },
  {
   "cell_type": "code",
   "execution_count": 205,
   "metadata": {},
   "outputs": [
    {
     "data": {
      "text/html": [
       "<div>\n",
       "<style scoped>\n",
       "    .dataframe tbody tr th:only-of-type {\n",
       "        vertical-align: middle;\n",
       "    }\n",
       "\n",
       "    .dataframe tbody tr th {\n",
       "        vertical-align: top;\n",
       "    }\n",
       "\n",
       "    .dataframe thead th {\n",
       "        text-align: right;\n",
       "    }\n",
       "</style>\n",
       "<table border=\"1\" class=\"dataframe\">\n",
       "  <thead>\n",
       "    <tr style=\"text-align: right;\">\n",
       "      <th></th>\n",
       "      <th>month</th>\n",
       "      <th>user_id</th>\n",
       "      <th>mb_used</th>\n",
       "      <th>gb_used</th>\n",
       "    </tr>\n",
       "  </thead>\n",
       "  <tbody>\n",
       "    <tr>\n",
       "      <td>0</td>\n",
       "      <td>1</td>\n",
       "      <td>1005</td>\n",
       "      <td>2727.97</td>\n",
       "      <td>3</td>\n",
       "    </tr>\n",
       "    <tr>\n",
       "      <td>1</td>\n",
       "      <td>1</td>\n",
       "      <td>1032</td>\n",
       "      <td>24127.69</td>\n",
       "      <td>24</td>\n",
       "    </tr>\n",
       "    <tr>\n",
       "      <td>2</td>\n",
       "      <td>1</td>\n",
       "      <td>1045</td>\n",
       "      <td>2346.71</td>\n",
       "      <td>3</td>\n",
       "    </tr>\n",
       "    <tr>\n",
       "      <td>3</td>\n",
       "      <td>1</td>\n",
       "      <td>1055</td>\n",
       "      <td>17090.88</td>\n",
       "      <td>17</td>\n",
       "    </tr>\n",
       "    <tr>\n",
       "      <td>4</td>\n",
       "      <td>1</td>\n",
       "      <td>1071</td>\n",
       "      <td>15604.34</td>\n",
       "      <td>16</td>\n",
       "    </tr>\n",
       "    <tr>\n",
       "      <td>...</td>\n",
       "      <td>...</td>\n",
       "      <td>...</td>\n",
       "      <td>...</td>\n",
       "      <td>...</td>\n",
       "    </tr>\n",
       "    <tr>\n",
       "      <td>3198</td>\n",
       "      <td>12</td>\n",
       "      <td>1494</td>\n",
       "      <td>17621.21</td>\n",
       "      <td>18</td>\n",
       "    </tr>\n",
       "    <tr>\n",
       "      <td>3199</td>\n",
       "      <td>12</td>\n",
       "      <td>1495</td>\n",
       "      <td>23426.76</td>\n",
       "      <td>23</td>\n",
       "    </tr>\n",
       "    <tr>\n",
       "      <td>3200</td>\n",
       "      <td>12</td>\n",
       "      <td>1496</td>\n",
       "      <td>20736.15</td>\n",
       "      <td>21</td>\n",
       "    </tr>\n",
       "    <tr>\n",
       "      <td>3201</td>\n",
       "      <td>12</td>\n",
       "      <td>1497</td>\n",
       "      <td>19918.60</td>\n",
       "      <td>20</td>\n",
       "    </tr>\n",
       "    <tr>\n",
       "      <td>3202</td>\n",
       "      <td>12</td>\n",
       "      <td>1499</td>\n",
       "      <td>13055.58</td>\n",
       "      <td>13</td>\n",
       "    </tr>\n",
       "  </tbody>\n",
       "</table>\n",
       "<p>3203 rows × 4 columns</p>\n",
       "</div>"
      ],
      "text/plain": [
       "      month  user_id   mb_used  gb_used\n",
       "0         1     1005   2727.97        3\n",
       "1         1     1032  24127.69       24\n",
       "2         1     1045   2346.71        3\n",
       "3         1     1055  17090.88       17\n",
       "4         1     1071  15604.34       16\n",
       "...     ...      ...       ...      ...\n",
       "3198     12     1494  17621.21       18\n",
       "3199     12     1495  23426.76       23\n",
       "3200     12     1496  20736.15       21\n",
       "3201     12     1497  19918.60       20\n",
       "3202     12     1499  13055.58       13\n",
       "\n",
       "[3203 rows x 4 columns]"
      ]
     },
     "execution_count": 205,
     "metadata": {},
     "output_type": "execute_result"
    }
   ],
   "source": [
    "int_traffic = data_int.groupby(['month', 'user_id']).agg({'mb_used':['sum']}).reset_index(drop=False)\n",
    "int_traffic.columns = ['month', 'user_id', 'mb_used']\n",
    "\n",
    "int_traffic['gb_used'] = (int_traffic['mb_used'] / 1024).apply(lambda x: math.ceil(x))\n",
    "\n",
    "int_traffic"
   ]
  },
  {
   "cell_type": "markdown",
   "metadata": {},
   "source": [
    "---\n",
    "\n",
    "Для того, чтобы расчитать помесячную выручку с каждого пользователя, объединим 4 таблицы в одну и затем разделим её на 2 по тарифам."
   ]
  },
  {
   "cell_type": "code",
   "execution_count": 206,
   "metadata": {
    "scrolled": false
   },
   "outputs": [
    {
     "name": "stdout",
     "output_type": "stream",
     "text": [
      "<class 'pandas.core.frame.DataFrame'>\n",
      "Int64Index: 3222 entries, 0 to 3221\n",
      "Data columns (total 9 columns):\n",
      "user_id          3222 non-null int64\n",
      "tariff           3182 non-null object\n",
      "city             3182 non-null object\n",
      "month            3214 non-null float64\n",
      "quantity         3174 non-null float64\n",
      "spent_minutes    3174 non-null float64\n",
      "messages         2717 non-null float64\n",
      "mb_used          3203 non-null float64\n",
      "gb_used          3203 non-null float64\n",
      "dtypes: float64(6), int64(1), object(2)\n",
      "memory usage: 251.7+ KB\n"
     ]
    },
    {
     "data": {
      "text/html": [
       "<div>\n",
       "<style scoped>\n",
       "    .dataframe tbody tr th:only-of-type {\n",
       "        vertical-align: middle;\n",
       "    }\n",
       "\n",
       "    .dataframe tbody tr th {\n",
       "        vertical-align: top;\n",
       "    }\n",
       "\n",
       "    .dataframe thead th {\n",
       "        text-align: right;\n",
       "    }\n",
       "</style>\n",
       "<table border=\"1\" class=\"dataframe\">\n",
       "  <thead>\n",
       "    <tr style=\"text-align: right;\">\n",
       "      <th></th>\n",
       "      <th>user_id</th>\n",
       "      <th>tariff</th>\n",
       "      <th>city</th>\n",
       "      <th>month</th>\n",
       "      <th>quantity</th>\n",
       "      <th>spent_minutes</th>\n",
       "      <th>messages</th>\n",
       "      <th>mb_used</th>\n",
       "      <th>gb_used</th>\n",
       "    </tr>\n",
       "  </thead>\n",
       "  <tbody>\n",
       "    <tr>\n",
       "      <td>0</td>\n",
       "      <td>1000</td>\n",
       "      <td>ultra</td>\n",
       "      <td>Краснодар</td>\n",
       "      <td>5.0</td>\n",
       "      <td>22.0</td>\n",
       "      <td>151.0</td>\n",
       "      <td>22.0</td>\n",
       "      <td>2253.49</td>\n",
       "      <td>3.0</td>\n",
       "    </tr>\n",
       "    <tr>\n",
       "      <td>1</td>\n",
       "      <td>1000</td>\n",
       "      <td>ultra</td>\n",
       "      <td>Краснодар</td>\n",
       "      <td>6.0</td>\n",
       "      <td>43.0</td>\n",
       "      <td>159.0</td>\n",
       "      <td>60.0</td>\n",
       "      <td>23233.77</td>\n",
       "      <td>23.0</td>\n",
       "    </tr>\n",
       "    <tr>\n",
       "      <td>2</td>\n",
       "      <td>1000</td>\n",
       "      <td>ultra</td>\n",
       "      <td>Краснодар</td>\n",
       "      <td>7.0</td>\n",
       "      <td>47.0</td>\n",
       "      <td>319.0</td>\n",
       "      <td>75.0</td>\n",
       "      <td>14003.64</td>\n",
       "      <td>14.0</td>\n",
       "    </tr>\n",
       "    <tr>\n",
       "      <td>3</td>\n",
       "      <td>1000</td>\n",
       "      <td>ultra</td>\n",
       "      <td>Краснодар</td>\n",
       "      <td>8.0</td>\n",
       "      <td>52.0</td>\n",
       "      <td>390.0</td>\n",
       "      <td>81.0</td>\n",
       "      <td>14055.93</td>\n",
       "      <td>14.0</td>\n",
       "    </tr>\n",
       "    <tr>\n",
       "      <td>4</td>\n",
       "      <td>1000</td>\n",
       "      <td>ultra</td>\n",
       "      <td>Краснодар</td>\n",
       "      <td>9.0</td>\n",
       "      <td>58.0</td>\n",
       "      <td>441.0</td>\n",
       "      <td>57.0</td>\n",
       "      <td>14568.91</td>\n",
       "      <td>15.0</td>\n",
       "    </tr>\n",
       "    <tr>\n",
       "      <td>...</td>\n",
       "      <td>...</td>\n",
       "      <td>...</td>\n",
       "      <td>...</td>\n",
       "      <td>...</td>\n",
       "      <td>...</td>\n",
       "      <td>...</td>\n",
       "      <td>...</td>\n",
       "      <td>...</td>\n",
       "      <td>...</td>\n",
       "    </tr>\n",
       "    <tr>\n",
       "      <td>3158</td>\n",
       "      <td>1498</td>\n",
       "      <td>smart</td>\n",
       "      <td>Владикавказ</td>\n",
       "      <td>10.0</td>\n",
       "      <td>41.0</td>\n",
       "      <td>233.0</td>\n",
       "      <td>42.0</td>\n",
       "      <td>20579.36</td>\n",
       "      <td>21.0</td>\n",
       "    </tr>\n",
       "    <tr>\n",
       "      <td>3159</td>\n",
       "      <td>1499</td>\n",
       "      <td>smart</td>\n",
       "      <td>Пермь</td>\n",
       "      <td>9.0</td>\n",
       "      <td>9.0</td>\n",
       "      <td>65.0</td>\n",
       "      <td>11.0</td>\n",
       "      <td>1845.75</td>\n",
       "      <td>2.0</td>\n",
       "    </tr>\n",
       "    <tr>\n",
       "      <td>3160</td>\n",
       "      <td>1499</td>\n",
       "      <td>smart</td>\n",
       "      <td>Пермь</td>\n",
       "      <td>10.0</td>\n",
       "      <td>68.0</td>\n",
       "      <td>430.0</td>\n",
       "      <td>48.0</td>\n",
       "      <td>17788.51</td>\n",
       "      <td>18.0</td>\n",
       "    </tr>\n",
       "    <tr>\n",
       "      <td>3161</td>\n",
       "      <td>1499</td>\n",
       "      <td>smart</td>\n",
       "      <td>Пермь</td>\n",
       "      <td>11.0</td>\n",
       "      <td>74.0</td>\n",
       "      <td>577.0</td>\n",
       "      <td>59.0</td>\n",
       "      <td>17963.31</td>\n",
       "      <td>18.0</td>\n",
       "    </tr>\n",
       "    <tr>\n",
       "      <td>3162</td>\n",
       "      <td>1499</td>\n",
       "      <td>smart</td>\n",
       "      <td>Пермь</td>\n",
       "      <td>12.0</td>\n",
       "      <td>69.0</td>\n",
       "      <td>466.0</td>\n",
       "      <td>66.0</td>\n",
       "      <td>13055.58</td>\n",
       "      <td>13.0</td>\n",
       "    </tr>\n",
       "  </tbody>\n",
       "</table>\n",
       "<p>3163 rows × 9 columns</p>\n",
       "</div>"
      ],
      "text/plain": [
       "      user_id tariff         city  month  quantity  spent_minutes  messages  \\\n",
       "0        1000  ultra    Краснодар    5.0      22.0          151.0      22.0   \n",
       "1        1000  ultra    Краснодар    6.0      43.0          159.0      60.0   \n",
       "2        1000  ultra    Краснодар    7.0      47.0          319.0      75.0   \n",
       "3        1000  ultra    Краснодар    8.0      52.0          390.0      81.0   \n",
       "4        1000  ultra    Краснодар    9.0      58.0          441.0      57.0   \n",
       "...       ...    ...          ...    ...       ...            ...       ...   \n",
       "3158     1498  smart  Владикавказ   10.0      41.0          233.0      42.0   \n",
       "3159     1499  smart        Пермь    9.0       9.0           65.0      11.0   \n",
       "3160     1499  smart        Пермь   10.0      68.0          430.0      48.0   \n",
       "3161     1499  smart        Пермь   11.0      74.0          577.0      59.0   \n",
       "3162     1499  smart        Пермь   12.0      69.0          466.0      66.0   \n",
       "\n",
       "       mb_used  gb_used  \n",
       "0      2253.49      3.0  \n",
       "1     23233.77     23.0  \n",
       "2     14003.64     14.0  \n",
       "3     14055.93     14.0  \n",
       "4     14568.91     15.0  \n",
       "...        ...      ...  \n",
       "3158  20579.36     21.0  \n",
       "3159   1845.75      2.0  \n",
       "3160  17788.51     18.0  \n",
       "3161  17963.31     18.0  \n",
       "3162  13055.58     13.0  \n",
       "\n",
       "[3163 rows x 9 columns]"
      ]
     },
     "execution_count": 206,
     "metadata": {},
     "output_type": "execute_result"
    }
   ],
   "source": [
    "data = [user_info, calls_made, mes_sent, int_traffic]\n",
    "summary = reduce(lambda left,right: pd.merge(left,right, how='outer'), data)\n",
    "\n",
    "summary.info()\n",
    "\n",
    "summary['messages'] = summary['messages'].fillna(0, inplace=False)\n",
    "summary = summary.dropna().reset_index(drop=True)\n",
    "\n",
    "summary"
   ]
  },
  {
   "cell_type": "markdown",
   "metadata": {},
   "source": [
    "При объединении таблиц, более 500 значений СМС оказались NaN. Заменим их на нули.\n",
    "\n",
    "Разделим общую таблицу по тарифам."
   ]
  },
  {
   "cell_type": "code",
   "execution_count": 207,
   "metadata": {},
   "outputs": [],
   "source": [
    "mask = summary['tariff'] == 'ultra'\n",
    "ultra, smart = summary[mask], summary[~mask]"
   ]
  },
  {
   "cell_type": "markdown",
   "metadata": {},
   "source": [
    "###### Расчёт выручки для тарифа \"Смарт\"."
   ]
  },
  {
   "cell_type": "code",
   "execution_count": 208,
   "metadata": {
    "scrolled": false
   },
   "outputs": [
    {
     "name": "stderr",
     "output_type": "stream",
     "text": [
      "/opt/conda/lib/python3.7/site-packages/pandas/core/indexing.py:376: SettingWithCopyWarning: \n",
      "A value is trying to be set on a copy of a slice from a DataFrame.\n",
      "Try using .loc[row_indexer,col_indexer] = value instead\n",
      "\n",
      "See the caveats in the documentation: http://pandas.pydata.org/pandas-docs/stable/user_guide/indexing.html#returning-a-view-versus-a-copy\n",
      "  self.obj[key] = _infer_fill_value(value)\n",
      "/opt/conda/lib/python3.7/site-packages/pandas/core/indexing.py:494: SettingWithCopyWarning: \n",
      "A value is trying to be set on a copy of a slice from a DataFrame.\n",
      "Try using .loc[row_indexer,col_indexer] = value instead\n",
      "\n",
      "See the caveats in the documentation: http://pandas.pydata.org/pandas-docs/stable/user_guide/indexing.html#returning-a-view-versus-a-copy\n",
      "  self.obj[item] = s\n"
     ]
    },
    {
     "data": {
      "text/html": [
       "<div>\n",
       "<style scoped>\n",
       "    .dataframe tbody tr th:only-of-type {\n",
       "        vertical-align: middle;\n",
       "    }\n",
       "\n",
       "    .dataframe tbody tr th {\n",
       "        vertical-align: top;\n",
       "    }\n",
       "\n",
       "    .dataframe thead th {\n",
       "        text-align: right;\n",
       "    }\n",
       "</style>\n",
       "<table border=\"1\" class=\"dataframe\">\n",
       "  <thead>\n",
       "    <tr style=\"text-align: right;\">\n",
       "      <th></th>\n",
       "      <th>user_id</th>\n",
       "      <th>tariff</th>\n",
       "      <th>city</th>\n",
       "      <th>month</th>\n",
       "      <th>quantity</th>\n",
       "      <th>spent_minutes</th>\n",
       "      <th>messages</th>\n",
       "      <th>mb_used</th>\n",
       "      <th>gb_used</th>\n",
       "      <th>revenue</th>\n",
       "    </tr>\n",
       "  </thead>\n",
       "  <tbody>\n",
       "    <tr>\n",
       "      <td>8</td>\n",
       "      <td>1001</td>\n",
       "      <td>smart</td>\n",
       "      <td>Москва</td>\n",
       "      <td>11.0</td>\n",
       "      <td>59.0</td>\n",
       "      <td>409.0</td>\n",
       "      <td>0.0</td>\n",
       "      <td>18429.34</td>\n",
       "      <td>18.0</td>\n",
       "      <td>1150.0</td>\n",
       "    </tr>\n",
       "    <tr>\n",
       "      <td>9</td>\n",
       "      <td>1001</td>\n",
       "      <td>smart</td>\n",
       "      <td>Москва</td>\n",
       "      <td>12.0</td>\n",
       "      <td>63.0</td>\n",
       "      <td>392.0</td>\n",
       "      <td>0.0</td>\n",
       "      <td>14036.66</td>\n",
       "      <td>14.0</td>\n",
       "      <td>550.0</td>\n",
       "    </tr>\n",
       "    <tr>\n",
       "      <td>10</td>\n",
       "      <td>1002</td>\n",
       "      <td>smart</td>\n",
       "      <td>Стерлитамак</td>\n",
       "      <td>6.0</td>\n",
       "      <td>15.0</td>\n",
       "      <td>111.0</td>\n",
       "      <td>4.0</td>\n",
       "      <td>10856.82</td>\n",
       "      <td>11.0</td>\n",
       "      <td>550.0</td>\n",
       "    </tr>\n",
       "    <tr>\n",
       "      <td>11</td>\n",
       "      <td>1002</td>\n",
       "      <td>smart</td>\n",
       "      <td>Стерлитамак</td>\n",
       "      <td>7.0</td>\n",
       "      <td>26.0</td>\n",
       "      <td>205.0</td>\n",
       "      <td>11.0</td>\n",
       "      <td>17580.10</td>\n",
       "      <td>18.0</td>\n",
       "      <td>1150.0</td>\n",
       "    </tr>\n",
       "    <tr>\n",
       "      <td>12</td>\n",
       "      <td>1002</td>\n",
       "      <td>smart</td>\n",
       "      <td>Стерлитамак</td>\n",
       "      <td>8.0</td>\n",
       "      <td>42.0</td>\n",
       "      <td>270.0</td>\n",
       "      <td>13.0</td>\n",
       "      <td>20319.26</td>\n",
       "      <td>20.0</td>\n",
       "      <td>1550.0</td>\n",
       "    </tr>\n",
       "  </tbody>\n",
       "</table>\n",
       "</div>"
      ],
      "text/plain": [
       "    user_id tariff         city  month  quantity  spent_minutes  messages  \\\n",
       "8      1001  smart       Москва   11.0      59.0          409.0       0.0   \n",
       "9      1001  smart       Москва   12.0      63.0          392.0       0.0   \n",
       "10     1002  smart  Стерлитамак    6.0      15.0          111.0       4.0   \n",
       "11     1002  smart  Стерлитамак    7.0      26.0          205.0      11.0   \n",
       "12     1002  smart  Стерлитамак    8.0      42.0          270.0      13.0   \n",
       "\n",
       "     mb_used  gb_used  revenue  \n",
       "8   18429.34     18.0   1150.0  \n",
       "9   14036.66     14.0    550.0  \n",
       "10  10856.82     11.0    550.0  \n",
       "11  17580.10     18.0   1150.0  \n",
       "12  20319.26     20.0   1550.0  "
      ]
     },
     "execution_count": 208,
     "metadata": {},
     "output_type": "execute_result"
    }
   ],
   "source": [
    "def rev_pro(row):\n",
    "    tariff_sm = data_trf.iloc[0]['rub_monthly_fee']\n",
    "    minutes = row['spent_minutes']\n",
    "    th_call = data_trf.iloc[0]['minutes_included']\n",
    "    sms = row['messages']\n",
    "    th_sms = data_trf.iloc[0]['messages_included']\n",
    "    int = row['gb_used']\n",
    "    th_int = data_trf.iloc[0]['gb_per_month_included'] \n",
    "    if minutes <= th_call and sms <= th_sms and int <= th_int:\n",
    "        return (tariff_sm)\n",
    "    elif minutes > th_call:\n",
    "        tariff_sm += (minutes - th_call) * data_trf.iloc[0]['rub_per_minute']\n",
    "    if sms > th_sms:\n",
    "        tariff_sm += (sms - th_sms) * data_trf.iloc[0]['rub_per_message']\n",
    "    if int > th_int:\n",
    "        tariff_sm += (int - th_int) * data_trf.iloc[0]['rub_per_gb']\n",
    "        \n",
    "    return tariff_sm\n",
    "    \n",
    "\n",
    "smart.loc[:,'revenue'] = smart.apply(rev_pro, axis=1)\n",
    "\n",
    "smart.head()"
   ]
  },
  {
   "cell_type": "markdown",
   "metadata": {},
   "source": [
    "###### Расчёт выручки для тарифа \"Ультра\"."
   ]
  },
  {
   "cell_type": "code",
   "execution_count": 209,
   "metadata": {},
   "outputs": [
    {
     "data": {
      "text/html": [
       "<div>\n",
       "<style scoped>\n",
       "    .dataframe tbody tr th:only-of-type {\n",
       "        vertical-align: middle;\n",
       "    }\n",
       "\n",
       "    .dataframe tbody tr th {\n",
       "        vertical-align: top;\n",
       "    }\n",
       "\n",
       "    .dataframe thead th {\n",
       "        text-align: right;\n",
       "    }\n",
       "</style>\n",
       "<table border=\"1\" class=\"dataframe\">\n",
       "  <thead>\n",
       "    <tr style=\"text-align: right;\">\n",
       "      <th></th>\n",
       "      <th>user_id</th>\n",
       "      <th>tariff</th>\n",
       "      <th>city</th>\n",
       "      <th>month</th>\n",
       "      <th>quantity</th>\n",
       "      <th>spent_minutes</th>\n",
       "      <th>messages</th>\n",
       "      <th>mb_used</th>\n",
       "      <th>gb_used</th>\n",
       "      <th>revenue</th>\n",
       "    </tr>\n",
       "  </thead>\n",
       "  <tbody>\n",
       "    <tr>\n",
       "      <td>0</td>\n",
       "      <td>1000</td>\n",
       "      <td>ultra</td>\n",
       "      <td>Краснодар</td>\n",
       "      <td>5.0</td>\n",
       "      <td>22.0</td>\n",
       "      <td>151.0</td>\n",
       "      <td>22.0</td>\n",
       "      <td>2253.49</td>\n",
       "      <td>3.0</td>\n",
       "      <td>1950.0</td>\n",
       "    </tr>\n",
       "    <tr>\n",
       "      <td>1</td>\n",
       "      <td>1000</td>\n",
       "      <td>ultra</td>\n",
       "      <td>Краснодар</td>\n",
       "      <td>6.0</td>\n",
       "      <td>43.0</td>\n",
       "      <td>159.0</td>\n",
       "      <td>60.0</td>\n",
       "      <td>23233.77</td>\n",
       "      <td>23.0</td>\n",
       "      <td>1950.0</td>\n",
       "    </tr>\n",
       "    <tr>\n",
       "      <td>2</td>\n",
       "      <td>1000</td>\n",
       "      <td>ultra</td>\n",
       "      <td>Краснодар</td>\n",
       "      <td>7.0</td>\n",
       "      <td>47.0</td>\n",
       "      <td>319.0</td>\n",
       "      <td>75.0</td>\n",
       "      <td>14003.64</td>\n",
       "      <td>14.0</td>\n",
       "      <td>1950.0</td>\n",
       "    </tr>\n",
       "    <tr>\n",
       "      <td>3</td>\n",
       "      <td>1000</td>\n",
       "      <td>ultra</td>\n",
       "      <td>Краснодар</td>\n",
       "      <td>8.0</td>\n",
       "      <td>52.0</td>\n",
       "      <td>390.0</td>\n",
       "      <td>81.0</td>\n",
       "      <td>14055.93</td>\n",
       "      <td>14.0</td>\n",
       "      <td>1950.0</td>\n",
       "    </tr>\n",
       "    <tr>\n",
       "      <td>4</td>\n",
       "      <td>1000</td>\n",
       "      <td>ultra</td>\n",
       "      <td>Краснодар</td>\n",
       "      <td>9.0</td>\n",
       "      <td>58.0</td>\n",
       "      <td>441.0</td>\n",
       "      <td>57.0</td>\n",
       "      <td>14568.91</td>\n",
       "      <td>15.0</td>\n",
       "      <td>1950.0</td>\n",
       "    </tr>\n",
       "  </tbody>\n",
       "</table>\n",
       "</div>"
      ],
      "text/plain": [
       "   user_id tariff       city  month  quantity  spent_minutes  messages  \\\n",
       "0     1000  ultra  Краснодар    5.0      22.0          151.0      22.0   \n",
       "1     1000  ultra  Краснодар    6.0      43.0          159.0      60.0   \n",
       "2     1000  ultra  Краснодар    7.0      47.0          319.0      75.0   \n",
       "3     1000  ultra  Краснодар    8.0      52.0          390.0      81.0   \n",
       "4     1000  ultra  Краснодар    9.0      58.0          441.0      57.0   \n",
       "\n",
       "    mb_used  gb_used  revenue  \n",
       "0   2253.49      3.0   1950.0  \n",
       "1  23233.77     23.0   1950.0  \n",
       "2  14003.64     14.0   1950.0  \n",
       "3  14055.93     14.0   1950.0  \n",
       "4  14568.91     15.0   1950.0  "
      ]
     },
     "execution_count": 209,
     "metadata": {},
     "output_type": "execute_result"
    }
   ],
   "source": [
    "def rev_pro(row):\n",
    "    tariff_ult = data_trf.iloc[1]['rub_monthly_fee']\n",
    "    minutes = row['spent_minutes']\n",
    "    th_call = data_trf.iloc[1]['minutes_included']\n",
    "    sms = row['messages']\n",
    "    th_sms = data_trf.iloc[1]['messages_included']\n",
    "    int = row['gb_used']\n",
    "    th_int = data_trf.iloc[1]['gb_per_month_included'] \n",
    "    if minutes <= th_call and sms <= th_sms and int <= th_int:\n",
    "        return (tariff_ult)\n",
    "    elif minutes > th_call:\n",
    "        tariff_ult += (minutes - th_call) * data_trf.iloc[1]['rub_per_minute']\n",
    "    if sms > th_sms:\n",
    "        tariff_ult += (sms - th_sms) * data_trf.iloc[1]['rub_per_message']\n",
    "    if int > th_int:\n",
    "        tariff_ult += (int - th_int) * data_trf.iloc[1]['rub_per_gb']\n",
    "        \n",
    "        return tariff_ult\n",
    "    \n",
    "\n",
    "ultra.loc[:, 'revenue'] = ultra.apply(rev_pro, axis=1)\n",
    "\n",
    "ultra.head() "
   ]
  },
  {
   "cell_type": "markdown",
   "metadata": {},
   "source": [
    "### Шаг 3. Анализ данных\n",
    "\n",
    "\n",
    "Проанализируем поведение клиентов оператора исходя из предоставленной выборки. Сколько минут разговора, сколько сообщений и какой объём интернет-трафика требуется пользователям каждого тарифа в месяц? \n",
    "\n",
    "### Тариф \"Смарт\"\n",
    "\n",
    "#### Голосовой трафик\n",
    "\n",
    "- Посчитаем среднее количество, дисперсию и стандартное отклонение. Построим гистограммы. Изучим распределения."
   ]
  },
  {
   "cell_type": "code",
   "execution_count": 210,
   "metadata": {},
   "outputs": [
    {
     "name": "stdout",
     "output_type": "stream",
     "text": [
      "Дисперсия равна: 32017.496905408683\n",
      "Стандартное отклонение равно: 178.93433685407808\n"
     ]
    },
    {
     "data": {
      "text/plain": [
       "count    2222.000000\n",
       "mean      396.144464\n",
       "std       178.934337\n",
       "min         0.000000\n",
       "25%       269.000000\n",
       "50%       399.000000\n",
       "75%       516.000000\n",
       "max      1355.000000\n",
       "Name: spent_minutes, dtype: float64"
      ]
     },
     "execution_count": 210,
     "metadata": {},
     "output_type": "execute_result"
    }
   ],
   "source": [
    "var_smart = np.var(smart['spent_minutes'], ddof=1)\n",
    "dev_smart = np.sqrt(var_smart)\n",
    "print('Дисперсия равна:', var_smart)\n",
    "print('Стандартное отклонение равно:', dev_smart)\n",
    "smart['spent_minutes'].describe()"
   ]
  },
  {
   "cell_type": "code",
   "execution_count": 211,
   "metadata": {},
   "outputs": [
    {
     "data": {
      "text/plain": [
       "<matplotlib.axes._subplots.AxesSubplot at 0x7f04098844a8>"
      ]
     },
     "execution_count": 211,
     "metadata": {},
     "output_type": "execute_result"
    },
    {
     "data": {
      "image/png": "[encoded data removed]",
      "text/plain": [
       "<Figure size 432x288 with 1 Axes>"
      ]
     },
     "metadata": {
      "needs_background": "light"
     },
     "output_type": "display_data"
    }
   ],
   "source": [
    "smart['spent_minutes'].hist(bins=20, range=(1, 1400))"
   ]
  },
  {
   "cell_type": "markdown",
   "metadata": {},
   "source": [
    "Среднее значение и медиана длительности звонков отличаются всего на 4 минуты, а вот разброс/стандартное отклонение достаточно большое - более 183 минуты. \n",
    "\n",
    "Для того, чтобы выяснить вероятность длительности звонков в пределах стандартного отклонения (как в меньшую, так и в большую сторону), применим метод st.norm.cdf()."
   ]
  },
  {
   "cell_type": "code",
   "execution_count": 212,
   "metadata": {},
   "outputs": [
    {
     "name": "stdout",
     "output_type": "stream",
     "text": [
      "Вероятность длительности звонков от 217 минут до 575 минут равна 68%.\n"
     ]
    }
   ],
   "source": [
    "sm_call_mean = smart['spent_minutes'].mean()\n",
    "distr_smart = st.norm(sm_call_mean, dev_smart) \n",
    "\n",
    "x1_sm = sm_call_mean - dev_smart\n",
    "x2_sm = sm_call_mean + dev_smart\n",
    "\n",
    "prob_sm = distr_smart.cdf(x2_sm) - distr_smart.cdf(x1_sm)\n",
    "print('Вероятность длительности звонков от {:.0f} минут до {:.0f} минут равна {:.0%}.'.format(x1_sm, x2_sm, prob_sm))"
   ]
  },
  {
   "cell_type": "markdown",
   "metadata": {},
   "source": [
    "Судя по гистограмме, большинство пользователей тарифа \"Смарт\" не перерасходуют бесплатный лимит звонков.\n",
    "\n",
    "Вероятность ~ 70% попадания в промежуток продолжительности разговоров от 200 до 600 минут наглядно представлена на графике.\n",
    "\n",
    "Проанализируем как изменялась средняя продолжительность разговоров и среднее количество звонков в течении года.   "
   ]
  },
  {
   "cell_type": "code",
   "execution_count": 213,
   "metadata": {},
   "outputs": [
    {
     "name": "stdout",
     "output_type": "stream",
     "text": [
      "month\n",
      "1.0     193.500000\n",
      "2.0     283.413793\n",
      "3.0     368.337662\n",
      "4.0     346.767857\n",
      "5.0     365.709220\n",
      "6.0     375.969325\n",
      "7.0     386.004975\n",
      "8.0     401.575107\n",
      "9.0     406.575290\n",
      "10.0    404.136519\n",
      "11.0    412.406349\n",
      "12.0    453.544643\n",
      "Name: spent_minutes, dtype: float64\n",
      "month\n",
      "1.0       941.0\n",
      "2.0      2331.0\n",
      "3.0      4183.0\n",
      "4.0      5747.0\n",
      "5.0      7789.0\n",
      "6.0      9110.0\n",
      "7.0     11402.0\n",
      "8.0     13856.0\n",
      "9.0     15482.0\n",
      "10.0    17629.0\n",
      "11.0    19435.0\n",
      "12.0    22406.0\n",
      "Name: quantity, dtype: float64\n"
     ]
    },
    {
     "data": {
      "text/plain": [
       "month\n",
       "1.0      34\n",
       "2.0      58\n",
       "3.0      77\n",
       "4.0     112\n",
       "5.0     141\n",
       "6.0     163\n",
       "7.0     201\n",
       "8.0     233\n",
       "9.0     259\n",
       "10.0    293\n",
       "11.0    315\n",
       "12.0    336\n",
       "Name: user_id, dtype: int64"
      ]
     },
     "execution_count": 213,
     "metadata": {},
     "output_type": "execute_result"
    }
   ],
   "source": [
    "cal_mnth_sm = smart.groupby('month')['spent_minutes'].mean()\n",
    "print(cal_mnth_sm)\n",
    "\n",
    "cal_qty_sm = smart.groupby('month')['quantity'].sum()\n",
    "print(cal_qty_sm)\n",
    "\n",
    "users_sm = smart.groupby('month')['user_id'].count()\n",
    "users_sm"
   ]
  },
  {
   "cell_type": "code",
   "execution_count": 214,
   "metadata": {
    "scrolled": true
   },
   "outputs": [
    {
     "data": {
      "image/png": "[encoded data removed]",
      "text/plain": [
       "<Figure size 576x216 with 1 Axes>"
      ]
     },
     "metadata": {
      "needs_background": "light"
     },
     "output_type": "display_data"
    },
    {
     "data": {
      "image/png": "[encoded data removed]",
      "text/plain": [
       "<Figure size 576x216 with 1 Axes>"
      ]
     },
     "metadata": {
      "needs_background": "light"
     },
     "output_type": "display_data"
    },
    {
     "data": {
      "text/plain": [
       "<matplotlib.axes._subplots.AxesSubplot at 0x7f040b9a6518>"
      ]
     },
     "execution_count": 214,
     "metadata": {},
     "output_type": "execute_result"
    },
    {
     "data": {
      "image/png": "[encoded data removed]",
      "text/plain": [
       "<Figure size 576x216 with 1 Axes>"
      ]
     },
     "metadata": {
      "needs_background": "light"
     },
     "output_type": "display_data"
    }
   ],
   "source": [
    "cal_mnth_sm.plot(grid=True, figsize=(8, 3), title='Среднее количество минут')\n",
    "plt.show()\n",
    "\n",
    "cal_qty_sm.plot(grid=True, figsize=(8, 3), title='Среднее количество соединений')\n",
    "plt.show()\n",
    "\n",
    "users_sm.plot(grid=True, figsize=(8, 3), title='Количество клиентов')"
   ]
  },
  {
   "cell_type": "markdown",
   "metadata": {},
   "source": [
    "В течении 2018 года количество пользователей тарифа \"Смарт\" увеличилось почти на порядок (c 34 до 336), средняя продолжительность разговоров увеличилась в 2,3 раза (с 194 минут до 454), в то же время количество соединений увеличилось почти в 24 раза (с 941 в январе до 22406 звонков в декабре). \n",
    "\n",
    "Можно предположить, что клиенты меньше пользуются голосовой сотовой связью для длительных разговоров, предпочитая использовать для этой цели [голосовую возможность общения через мессенджеры](https://www.vedomosti.ru/technology/articles/2018/03/12/753235-svyaz-uhodit)."
   ]
  },
  {
   "cell_type": "markdown",
   "metadata": {},
   "source": [
    "#### СМС\n",
    "\n"
   ]
  },
  {
   "cell_type": "code",
   "execution_count": 215,
   "metadata": {
    "scrolled": false
   },
   "outputs": [
    {
     "name": "stdout",
     "output_type": "stream",
     "text": [
      "Дисперсия равна: 798.4826008264941\n",
      "Стандартное отклонение равно: 28.257434434613735\n"
     ]
    },
    {
     "data": {
      "text/plain": [
       "count    2222.000000\n",
       "mean       33.410891\n",
       "std        28.257434\n",
       "min         0.000000\n",
       "25%        10.000000\n",
       "50%        28.000000\n",
       "75%        51.000000\n",
       "max       143.000000\n",
       "Name: messages, dtype: float64"
      ]
     },
     "execution_count": 215,
     "metadata": {},
     "output_type": "execute_result"
    }
   ],
   "source": [
    "var_smart_sms = np.var(smart['messages'], ddof=1)\n",
    "dev_smart_sms = np.sqrt(var_smart_sms)\n",
    "print('Дисперсия равна:', var_smart_sms)\n",
    "print('Стандартное отклонение равно:', dev_smart_sms)\n",
    "smart['messages'].describe()"
   ]
  },
  {
   "cell_type": "code",
   "execution_count": 216,
   "metadata": {
    "scrolled": false
   },
   "outputs": [
    {
     "data": {
      "text/plain": [
       "<matplotlib.axes._subplots.AxesSubplot at 0x7f040b986550>"
      ]
     },
     "execution_count": 216,
     "metadata": {},
     "output_type": "execute_result"
    },
    {
     "data": {
      "image/png": "[encoded data removed]",
      "text/plain": [
       "<Figure size 432x288 with 1 Axes>"
      ]
     },
     "metadata": {
      "needs_background": "light"
     },
     "output_type": "display_data"
    }
   ],
   "source": [
    "smart['messages'].hist(bins=20, range=(1, 143))"
   ]
  },
  {
   "cell_type": "raw",
   "metadata": {},
   "source": [
    "Среднее значение и медиана отправленных СМС различаются немного, а разброс/стандартное отклонение достаточно существенное - 28.26. \n",
    "\n",
    "Для того, чтобы выяснить вероятность разброса, применим метод `st.norm.cdf()`. "
   ]
  },
  {
   "cell_type": "code",
   "execution_count": 217,
   "metadata": {
    "scrolled": true
   },
   "outputs": [
    {
     "name": "stdout",
     "output_type": "stream",
     "text": [
      "Вероятность количества смс от 5 до 62 равна 68%.\n"
     ]
    }
   ],
   "source": [
    "sm_sms_mean = smart['messages'].mean()\n",
    "distr_smart_sms = st.norm(sm_sms_mean, dev_smart_sms) \n",
    "\n",
    "x1_sm_sms = sm_sms_mean - dev_smart_sms\n",
    "x2_sm_sms = sm_sms_mean + dev_smart_sms\n",
    "\n",
    "prob_sm_sms = distr_smart_sms.cdf(x2_sm_sms) - distr_smart_sms.cdf(x1_sm_sms)\n",
    "print('Вероятность количества смс от {:.0f} до {:.0f} равна {:.0%}.'.format(x1_sm_sms, x2_sm_sms, prob_sm_sms))"
   ]
  },
  {
   "cell_type": "code",
   "execution_count": 218,
   "metadata": {
    "scrolled": true
   },
   "outputs": [
    {
     "name": "stdout",
     "output_type": "stream",
     "text": [
      "month\n",
      "1.0     18.235294\n",
      "2.0     24.086207\n",
      "3.0     31.857143\n",
      "4.0     30.741071\n",
      "5.0     33.773050\n",
      "6.0     33.312883\n",
      "7.0     33.751244\n",
      "8.0     33.849785\n",
      "9.0     33.644788\n",
      "10.0    33.808874\n",
      "11.0    34.120635\n",
      "12.0    35.997024\n",
      "Name: messages, dtype: float64\n"
     ]
    },
    {
     "data": {
      "text/plain": [
       "<matplotlib.axes._subplots.AxesSubplot at 0x7f040b911630>"
      ]
     },
     "execution_count": 218,
     "metadata": {},
     "output_type": "execute_result"
    },
    {
     "data": {
      "image/png": "[encoded data removed]",
      "text/plain": [
       "<Figure size 576x216 with 1 Axes>"
      ]
     },
     "metadata": {
      "needs_background": "light"
     },
     "output_type": "display_data"
    }
   ],
   "source": [
    "sms_mnth_sm = smart.groupby('month')['messages'].mean()\n",
    "print(sms_mnth_sm)\n",
    "\n",
    "sms_mnth_sm.plot(grid=True, figsize=(8, 3), title='Среднее количество СМС')"
   ]
  },
  {
   "cell_type": "markdown",
   "metadata": {},
   "source": [
    "В течении 2018 года клиенты тарифа \"Смарт\" достаточно редко пользовались услугой СМС, в то же время, среднее количество СМС увеличилось с начала года в 2 раза (с 18 до 36). Большая часть пользователей тарифа укладываются во включённый пакет."
   ]
  },
  {
   "cell_type": "markdown",
   "metadata": {},
   "source": [
    "#### Интернет трафик"
   ]
  },
  {
   "cell_type": "code",
   "execution_count": 219,
   "metadata": {
    "scrolled": true
   },
   "outputs": [
    {
     "name": "stdout",
     "output_type": "stream",
     "text": [
      "Дисперсия равна: 32.98717888448007\n",
      "Стандартное отклонение равно: 5.743446603258367\n",
      "\n",
      "\n"
     ]
    },
    {
     "data": {
      "text/plain": [
       "count    2222.000000\n",
       "mean       16.337084\n",
       "std         5.743447\n",
       "min         0.000000\n",
       "25%        13.000000\n",
       "50%        17.000000\n",
       "75%        20.000000\n",
       "max        38.000000\n",
       "Name: gb_used, dtype: float64"
      ]
     },
     "execution_count": 219,
     "metadata": {},
     "output_type": "execute_result"
    }
   ],
   "source": [
    "var_smart_int = np.var(smart['gb_used'], ddof=1)\n",
    "dev_smart_int = np.sqrt(var_smart_int)\n",
    "print('Дисперсия равна:', var_smart_int)\n",
    "print('Стандартное отклонение равно:', dev_smart_int)\n",
    "print('\\n')\n",
    "smart['gb_used'].describe()"
   ]
  },
  {
   "cell_type": "code",
   "execution_count": 220,
   "metadata": {},
   "outputs": [
    {
     "data": {
      "text/plain": [
       "<matplotlib.axes._subplots.AxesSubplot at 0x7f040b821908>"
      ]
     },
     "execution_count": 220,
     "metadata": {},
     "output_type": "execute_result"
    },
    {
     "data": {
      "image/png": "[encoded data removed]",
      "text/plain": [
       "<Figure size 432x288 with 1 Axes>"
      ]
     },
     "metadata": {
      "needs_background": "light"
     },
     "output_type": "display_data"
    }
   ],
   "source": [
    "smart['gb_used'].hist(bins=20, range=(1, 38))"
   ]
  },
  {
   "cell_type": "code",
   "execution_count": 221,
   "metadata": {},
   "outputs": [
    {
     "name": "stdout",
     "output_type": "stream",
     "text": [
      "Вероятность использования интернет трафика в пределах от 11Гб до 22Гб равна 68.27%.\n"
     ]
    }
   ],
   "source": [
    "sm_int_mean = smart['gb_used'].mean()\n",
    "distr_smart_int = st.norm(sm_int_mean, dev_smart_int) \n",
    "\n",
    "x1_sm_int = sm_int_mean - dev_smart_int\n",
    "x2_sm_int = sm_int_mean + dev_smart_int\n",
    "\n",
    "prob_sm_int = distr_smart_int.cdf(x2_sm_int) - distr_smart_int.cdf(x1_sm_int)\n",
    "print('Вероятность использования интернет трафика в пределах от {:.0f}Гб до {:.0f}Гб равна {:.2%}.'.format(x1_sm_int, x2_sm_int, prob_sm_int))"
   ]
  },
  {
   "cell_type": "code",
   "execution_count": 222,
   "metadata": {
    "scrolled": true
   },
   "outputs": [
    {
     "name": "stdout",
     "output_type": "stream",
     "text": [
      "month\n",
      "1.0      8.735294\n",
      "2.0     11.844828\n",
      "3.0     15.233766\n",
      "4.0     13.625000\n",
      "5.0     15.907801\n",
      "6.0     15.969325\n",
      "7.0     15.875622\n",
      "8.0     16.832618\n",
      "9.0     16.389961\n",
      "10.0    16.870307\n",
      "11.0    16.996825\n",
      "12.0    18.205357\n",
      "Name: gb_used, dtype: float64\n"
     ]
    },
    {
     "data": {
      "text/plain": [
       "<matplotlib.axes._subplots.AxesSubplot at 0x7f040b7f7b00>"
      ]
     },
     "execution_count": 222,
     "metadata": {},
     "output_type": "execute_result"
    },
    {
     "data": {
      "image/png": "[encoded data removed]",
      "text/plain": [
       "<Figure size 576x216 with 1 Axes>"
      ]
     },
     "metadata": {
      "needs_background": "light"
     },
     "output_type": "display_data"
    }
   ],
   "source": [
    "int_mnth_sm = smart.groupby('month')['gb_used'].mean()\n",
    "print(int_mnth_sm)\n",
    "\n",
    "int_mnth_sm.plot(grid=True, figsize=(8, 3), title='Средний объем потребления интернет-трафика')"
   ]
  },
  {
   "cell_type": "markdown",
   "metadata": {},
   "source": [
    "В течении 2018 года клиенты тарифа \"Смарт\" активно пользовались интернетом, в среднем на 1-3Гб перерасходуя бесплатный лимит тарифа. Наблюдается постепенное увеличение потребления интернет-трафика."
   ]
  },
  {
   "cell_type": "markdown",
   "metadata": {},
   "source": [
    "### Тариф «Ультра»\n",
    "\n",
    "#### Голосовой трафик\n",
    "\n",
    "- Рассмотрим этот тариф по аналогии с тарифом \"Смарт\"."
   ]
  },
  {
   "cell_type": "code",
   "execution_count": 223,
   "metadata": {
    "scrolled": true
   },
   "outputs": [
    {
     "name": "stdout",
     "output_type": "stream",
     "text": [
      "Дисперсия равна: 83821.49740203949\n",
      "Стандартное отклонение равно: 289.5194249131472\n"
     ]
    },
    {
     "data": {
      "text/plain": [
       "count     941.000000\n",
       "mean      518.601488\n",
       "std       289.519425\n",
       "min         0.000000\n",
       "25%       297.000000\n",
       "50%       502.000000\n",
       "75%       717.000000\n",
       "max      1579.000000\n",
       "Name: spent_minutes, dtype: float64"
      ]
     },
     "execution_count": 223,
     "metadata": {},
     "output_type": "execute_result"
    }
   ],
   "source": [
    "var_ultra = np.var(ultra['spent_minutes'], ddof=1)\n",
    "dev_ultra = np.sqrt(var_ultra)\n",
    "print('Дисперсия равна:', var_ultra)\n",
    "print('Стандартное отклонение равно:', dev_ultra)\n",
    "ultra['spent_minutes'].describe()"
   ]
  },
  {
   "cell_type": "code",
   "execution_count": 224,
   "metadata": {},
   "outputs": [
    {
     "data": {
      "text/plain": [
       "<matplotlib.axes._subplots.AxesSubplot at 0x7f040b732358>"
      ]
     },
     "execution_count": 224,
     "metadata": {},
     "output_type": "execute_result"
    },
    {
     "data": {
      "image/png": "[encoded data removed]",
      "text/plain": [
       "<Figure size 432x288 with 1 Axes>"
      ]
     },
     "metadata": {
      "needs_background": "light"
     },
     "output_type": "display_data"
    }
   ],
   "source": [
    "ultra['spent_minutes'].hist(bins=20, range=(0, 1632))"
   ]
  },
  {
   "cell_type": "code",
   "execution_count": 225,
   "metadata": {},
   "outputs": [
    {
     "name": "stdout",
     "output_type": "stream",
     "text": [
      "Вероятность длительности звонков от 229 минут до 808 минут равна 68%.\n"
     ]
    }
   ],
   "source": [
    "ul_call_mean = ultra['spent_minutes'].mean()\n",
    "distr_ultra = st.norm(ul_call_mean, dev_ultra) \n",
    "\n",
    "x1_ul = ul_call_mean - dev_ultra\n",
    "x2_ul = ul_call_mean + dev_ultra\n",
    "\n",
    "prob_ul = distr_ultra.cdf(x2_ul) - distr_ultra.cdf(x1_ul)\n",
    "print('Вероятность длительности звонков от {:.0f} минут до {:.0f} минут равна {:.0%}.'.format(x1_ul, x2_ul, prob_ul))"
   ]
  },
  {
   "cell_type": "markdown",
   "metadata": {},
   "source": [
    "Интересно, что среднее значение голосового трафика больше, чем медианное (скошенность набора данных вправо). 68% пользователей тарифа используют от 229 до 808 минут, при среднем значении - 519 минуты. Никто не использует предоставленный пакет минут полностью. Максимум 1579 минут.\n",
    "\n",
    "Проанализируем как изменялась средняя продолжительность разговоров и среднее количество звонков в течении года."
   ]
  },
  {
   "cell_type": "code",
   "execution_count": 226,
   "metadata": {
    "scrolled": true
   },
   "outputs": [
    {
     "name": "stdout",
     "output_type": "stream",
     "text": [
      "month\n",
      "1.0     405.333333\n",
      "2.0     298.454545\n",
      "3.0     462.945946\n",
      "4.0     448.679245\n",
      "5.0     509.507937\n",
      "6.0     473.425000\n",
      "7.0     536.678161\n",
      "8.0     503.794118\n",
      "9.0     530.845455\n",
      "10.0    551.820513\n",
      "11.0    533.320312\n",
      "12.0    583.526316\n",
      "Name: spent_minutes, dtype: float64\n",
      "month\n",
      "1.0       535.0\n",
      "2.0       972.0\n",
      "3.0      2504.0\n",
      "4.0      3525.0\n",
      "5.0      4834.0\n",
      "6.0      5566.0\n",
      "7.0      6852.0\n",
      "8.0      7575.0\n",
      "9.0      8546.0\n",
      "10.0     9477.0\n",
      "11.0    10021.0\n",
      "12.0    11540.0\n",
      "Name: quantity, dtype: float64\n"
     ]
    },
    {
     "data": {
      "text/plain": [
       "month\n",
       "1.0       9\n",
       "2.0      22\n",
       "3.0      37\n",
       "4.0      53\n",
       "5.0      63\n",
       "6.0      80\n",
       "7.0      87\n",
       "8.0     102\n",
       "9.0     110\n",
       "10.0    117\n",
       "11.0    128\n",
       "12.0    133\n",
       "Name: user_id, dtype: int64"
      ]
     },
     "execution_count": 226,
     "metadata": {},
     "output_type": "execute_result"
    }
   ],
   "source": [
    "cal_mnth_ul = ultra.groupby('month')['spent_minutes'].mean()\n",
    "print(cal_mnth_ul)\n",
    "\n",
    "cal_qty_ul = ultra.groupby('month')['quantity'].sum()\n",
    "print(cal_qty_ul)\n",
    "\n",
    "users_ul = ultra.groupby('month')['user_id'].count()\n",
    "users_ul"
   ]
  },
  {
   "cell_type": "code",
   "execution_count": 227,
   "metadata": {
    "scrolled": true
   },
   "outputs": [
    {
     "data": {
      "image/png": "[encoded data removed]",
      "text/plain": [
       "<Figure size 576x216 with 1 Axes>"
      ]
     },
     "metadata": {
      "needs_background": "light"
     },
     "output_type": "display_data"
    },
    {
     "data": {
      "image/png": "[encoded data removed]",
      "text/plain": [
       "<Figure size 576x216 with 1 Axes>"
      ]
     },
     "metadata": {
      "needs_background": "light"
     },
     "output_type": "display_data"
    },
    {
     "data": {
      "text/plain": [
       "<matplotlib.axes._subplots.AxesSubplot at 0x7f040ba7b9e8>"
      ]
     },
     "execution_count": 227,
     "metadata": {},
     "output_type": "execute_result"
    },
    {
     "data": {
      "image/png": "[encoded data removed]",
      "text/plain": [
       "<Figure size 576x216 with 1 Axes>"
      ]
     },
     "metadata": {
      "needs_background": "light"
     },
     "output_type": "display_data"
    }
   ],
   "source": [
    "cal_mnth_ul.plot(grid=True, figsize=(8, 3), title='Среднее количество минут')\n",
    "plt.show()\n",
    "\n",
    "cal_qty_ul.plot(grid=True, figsize=(8, 3), title='Среднее количество соединений')\n",
    "plt.show()\n",
    "\n",
    "users_ul.plot(grid=True, figsize=(8, 3), title='Количество клиентов')"
   ]
  },
  {
   "cell_type": "markdown",
   "metadata": {},
   "source": [
    "В течении 2018 года количество пользователей тарифа \"Ультра\" увеличилось почти в 15 раз (c 9 до 133), средняя продолжительность разговоров увеличилась в 1,4 раза (с 405 минут до 584), в то же время количество соединений увеличилось почти в 22 раза (с 535 в январе до 11540 звонков в декабре). \n",
    "\n",
    "Хотя количество пользователей этого тарифа в разы меньше, однако, тенденции схожи с тарифом \"Смарт\"."
   ]
  },
  {
   "cell_type": "markdown",
   "metadata": {},
   "source": [
    "#### СМС\n",
    "\n"
   ]
  },
  {
   "cell_type": "code",
   "execution_count": 228,
   "metadata": {
    "scrolled": false
   },
   "outputs": [
    {
     "name": "stdout",
     "output_type": "stream",
     "text": [
      "Дисперсия равна: 2215.2246930607994\n",
      "Стандартное отклонение равно: 47.066173554483896\n"
     ]
    },
    {
     "data": {
      "text/plain": [
       "count    941.000000\n",
       "mean      49.260361\n",
       "std       47.066174\n",
       "min        0.000000\n",
       "25%        5.000000\n",
       "50%       40.000000\n",
       "75%       79.000000\n",
       "max      224.000000\n",
       "Name: messages, dtype: float64"
      ]
     },
     "execution_count": 228,
     "metadata": {},
     "output_type": "execute_result"
    }
   ],
   "source": [
    "var_ultra_sms = np.var(ultra['messages'], ddof=1)\n",
    "dev_ultra_sms = np.sqrt(var_ultra_sms)\n",
    "print('Дисперсия равна:', var_ultra_sms)\n",
    "print('Стандартное отклонение равно:', dev_ultra_sms)\n",
    "ultra['messages'].describe()"
   ]
  },
  {
   "cell_type": "code",
   "execution_count": 229,
   "metadata": {
    "scrolled": true
   },
   "outputs": [
    {
     "data": {
      "text/plain": [
       "<matplotlib.axes._subplots.AxesSubplot at 0x7f040db64a90>"
      ]
     },
     "execution_count": 229,
     "metadata": {},
     "output_type": "execute_result"
    },
    {
     "data": {
      "image/png": "[encoded data removed]",
      "text/plain": [
       "<Figure size 432x288 with 1 Axes>"
      ]
     },
     "metadata": {
      "needs_background": "light"
     },
     "output_type": "display_data"
    }
   ],
   "source": [
    "ultra['messages'].hist(bins=20, range=(1, 143))\n"
   ]
  },
  {
   "cell_type": "code",
   "execution_count": 230,
   "metadata": {
    "scrolled": true
   },
   "outputs": [
    {
     "name": "stdout",
     "output_type": "stream",
     "text": [
      "month\n",
      "1.0     33.777778\n",
      "2.0     23.727273\n",
      "3.0     32.297297\n",
      "4.0     32.584906\n",
      "5.0     38.126984\n",
      "6.0     40.075000\n",
      "7.0     48.609195\n",
      "8.0     47.931373\n",
      "9.0     51.990909\n",
      "10.0    58.666667\n",
      "11.0    56.210938\n",
      "12.0    60.917293\n",
      "Name: messages, dtype: float64\n"
     ]
    },
    {
     "data": {
      "text/plain": [
       "<matplotlib.axes._subplots.AxesSubplot at 0x7f040b59ec50>"
      ]
     },
     "execution_count": 230,
     "metadata": {},
     "output_type": "execute_result"
    },
    {
     "data": {
      "image/png": "[encoded data removed]",
      "text/plain": [
       "<Figure size 576x216 with 1 Axes>"
      ]
     },
     "metadata": {
      "needs_background": "light"
     },
     "output_type": "display_data"
    }
   ],
   "source": [
    "sms_mnth_ul = ultra.groupby('month')['messages'].mean()\n",
    "print(sms_mnth_ul)\n",
    "\n",
    "sms_mnth_ul.plot(grid=True, figsize=(8, 3), title='Среднее количество СМС')"
   ]
  },
  {
   "cell_type": "markdown",
   "metadata": {},
   "source": [
    "Несмотря на то, что в пакет тарифа \"Ультра\" включено 1000 сообщений в месяц, пользователи достаточно редко отправляли СМС. В течении 2018 года среднее количество СМС увеличилось с начала года почти в 1,8 раза (с 34 до 61). Предположу, что чаще используют мессенджеры, чем (даже включенные в тариф) СМС."
   ]
  },
  {
   "cell_type": "markdown",
   "metadata": {},
   "source": [
    "#### Интернет трафик"
   ]
  },
  {
   "cell_type": "code",
   "execution_count": 231,
   "metadata": {
    "scrolled": true
   },
   "outputs": [
    {
     "name": "stdout",
     "output_type": "stream",
     "text": [
      "Дисперсия равна: 94.77815587763132\n",
      "Стандартное отклонение равно: 9.735407329826078\n",
      "\n",
      "\n"
     ]
    },
    {
     "data": {
      "text/plain": [
       "count    941.000000\n",
       "mean      19.695005\n",
       "std        9.735407\n",
       "min        0.000000\n",
       "25%       12.000000\n",
       "50%       19.000000\n",
       "75%       27.000000\n",
       "max       49.000000\n",
       "Name: gb_used, dtype: float64"
      ]
     },
     "execution_count": 231,
     "metadata": {},
     "output_type": "execute_result"
    }
   ],
   "source": [
    "var_ultra_int = np.var(ultra['gb_used'], ddof=1)\n",
    "dev_ultra_int = np.sqrt(var_ultra_int)\n",
    "print('Дисперсия равна:', var_ultra_int)\n",
    "print('Стандартное отклонение равно:', dev_ultra_int)\n",
    "print('\\n')\n",
    "ultra['gb_used'].describe()"
   ]
  },
  {
   "cell_type": "code",
   "execution_count": 232,
   "metadata": {},
   "outputs": [
    {
     "data": {
      "text/plain": [
       "<matplotlib.axes._subplots.AxesSubplot at 0x7f040b5d2eb8>"
      ]
     },
     "execution_count": 232,
     "metadata": {},
     "output_type": "execute_result"
    },
    {
     "data": {
      "image/png": "[encoded data removed]",
      "text/plain": [
       "<Figure size 432x288 with 1 Axes>"
      ]
     },
     "metadata": {
      "needs_background": "light"
     },
     "output_type": "display_data"
    }
   ],
   "source": [
    "ultra['gb_used'].hist(bins=20, range=(1, 38))"
   ]
  },
  {
   "cell_type": "code",
   "execution_count": 233,
   "metadata": {},
   "outputs": [
    {
     "name": "stdout",
     "output_type": "stream",
     "text": [
      "Вероятность использования интернет трафика в пределах от 10Гб до 29Гб равна 68.27%.\n"
     ]
    }
   ],
   "source": [
    "ul_int_mean = ultra['gb_used'].mean()\n",
    "distr_ultra_int = st.norm(ul_int_mean, dev_ultra_int) \n",
    "\n",
    "x1_ul_int = ul_int_mean - dev_ultra_int\n",
    "x2_ul_int = ul_int_mean + dev_ultra_int\n",
    "\n",
    "prob_ul_int = distr_ultra_int.cdf(x2_ul_int) - distr_ultra_int.cdf(x1_ul_int)\n",
    "print('Вероятность использования интернет трафика в пределах от {:.0f}Гб до {:.0f}Гб равна {:.2%}.'.format(x1_ul_int, x2_ul_int, prob_ul_int))"
   ]
  },
  {
   "cell_type": "code",
   "execution_count": 234,
   "metadata": {
    "scrolled": true
   },
   "outputs": [
    {
     "name": "stdout",
     "output_type": "stream",
     "text": [
      "month\n",
      "1.0     13.222222\n",
      "2.0     13.090909\n",
      "3.0     17.648649\n",
      "4.0     17.528302\n",
      "5.0     19.984127\n",
      "6.0     19.162500\n",
      "7.0     20.678161\n",
      "8.0     19.803922\n",
      "9.0     19.309091\n",
      "10.0    20.264957\n",
      "11.0    19.820312\n",
      "12.0    21.812030\n",
      "Name: gb_used, dtype: float64\n"
     ]
    },
    {
     "data": {
      "text/plain": [
       "<matplotlib.axes._subplots.AxesSubplot at 0x7f040b4be7b8>"
      ]
     },
     "execution_count": 234,
     "metadata": {},
     "output_type": "execute_result"
    },
    {
     "data": {
      "image/png": "[encoded data removed]",
      "text/plain": [
       "<Figure size 576x216 with 1 Axes>"
      ]
     },
     "metadata": {
      "needs_background": "light"
     },
     "output_type": "display_data"
    }
   ],
   "source": [
    "int_mnth_ul = ultra.groupby('month')['gb_used'].mean()\n",
    "print(int_mnth_ul)\n",
    "\n",
    "int_mnth_ul.plot(grid=True, figsize=(8, 3), title='Средний объем потребления интернет-трафика')"
   ]
  },
  {
   "cell_type": "markdown",
   "metadata": {},
   "source": [
    "Большая часть пользователей тарифа \"Ультра\" укладываются в отведённый лимит трафика в 30Гб. \n",
    "\n",
    "В течении 2018 года наблюдается постепенное увеличение потребления интернет-трафика (с 13 до 22Гб)."
   ]
  },
  {
   "cell_type": "markdown",
   "metadata": {},
   "source": [
    "### Визуально сравним тарифы\n",
    "\n",
    "* ####  По количеству пользователей"
   ]
  },
  {
   "cell_type": "code",
   "execution_count": 235,
   "metadata": {},
   "outputs": [
    {
     "data": {
      "text/plain": [
       "<matplotlib.legend.Legend at 0x7f040b4381d0>"
      ]
     },
     "execution_count": 235,
     "metadata": {},
     "output_type": "execute_result"
    },
    {
     "data": {
      "image/png": "[encoded data removed]",
      "text/plain": [
       "<Figure size 576x216 with 1 Axes>"
      ]
     },
     "metadata": {
      "needs_background": "light"
     },
     "output_type": "display_data"
    }
   ],
   "source": [
    "users_sm.plot(grid=True, figsize=(8, 3), title='Количество клиентов')\n",
    "users_ul.plot(grid=True, figsize=(8, 3), title='Количество клиентов')\n",
    "\n",
    "plt.legend(labels= ['Смарт', 'Ультра'])"
   ]
  },
  {
   "cell_type": "markdown",
   "metadata": {},
   "source": [
    "* ####  По ежемесячному голосовому трафику"
   ]
  },
  {
   "cell_type": "code",
   "execution_count": 236,
   "metadata": {
    "scrolled": true
   },
   "outputs": [
    {
     "data": {
      "text/plain": [
       "<matplotlib.legend.Legend at 0x7f040b3a0a58>"
      ]
     },
     "execution_count": 236,
     "metadata": {},
     "output_type": "execute_result"
    },
    {
     "data": {
      "image/png": "[encoded data removed]",
      "text/plain": [
       "<Figure size 576x216 with 1 Axes>"
      ]
     },
     "metadata": {
      "needs_background": "light"
     },
     "output_type": "display_data"
    }
   ],
   "source": [
    "cal_mnth_ul.plot(grid=True, figsize=(8, 3), title='Среднее количество минут')\n",
    "cal_mnth_sm.plot(grid=True, figsize=(8, 3), title='Среднее количество минут')\n",
    "\n",
    "plt.legend(labels= ['Ультра', 'Смарт'])"
   ]
  },
  {
   "cell_type": "markdown",
   "metadata": {},
   "source": [
    "* ####  По количеству отправленных СМС"
   ]
  },
  {
   "cell_type": "code",
   "execution_count": 237,
   "metadata": {
    "scrolled": true
   },
   "outputs": [
    {
     "data": {
      "text/plain": [
       "<matplotlib.legend.Legend at 0x7f040b34b5c0>"
      ]
     },
     "execution_count": 237,
     "metadata": {},
     "output_type": "execute_result"
    },
    {
     "data": {
      "image/png": "[encoded data removed]",
      "text/plain": [
       "<Figure size 576x216 with 1 Axes>"
      ]
     },
     "metadata": {
      "needs_background": "light"
     },
     "output_type": "display_data"
    }
   ],
   "source": [
    "sms_mnth_ul.plot(grid=True, figsize=(8, 3), title='Среднее количество СМС')\n",
    "sms_mnth_sm.plot(grid=True, figsize=(8, 3), title='Среднее количество СМС')\n",
    "\n",
    "plt.legend(labels= ['Ультра', 'Смарт'])"
   ]
  },
  {
   "cell_type": "markdown",
   "metadata": {},
   "source": [
    "* ####  По ежемесячному интернет-трафику"
   ]
  },
  {
   "cell_type": "code",
   "execution_count": 238,
   "metadata": {
    "scrolled": true
   },
   "outputs": [
    {
     "data": {
      "text/plain": [
       "<matplotlib.legend.Legend at 0x7f040b304208>"
      ]
     },
     "execution_count": 238,
     "metadata": {},
     "output_type": "execute_result"
    },
    {
     "data": {
      "image/png": "[encoded data removed]",
      "text/plain": [
       "<Figure size 576x216 with 1 Axes>"
      ]
     },
     "metadata": {
      "needs_background": "light"
     },
     "output_type": "display_data"
    }
   ],
   "source": [
    "int_mnth_ul.plot(grid=True, figsize=(8, 3), title='Средний объем потребления интернет-трафика')\n",
    "int_mnth_sm.plot(grid=True, figsize=(8, 3), title='Средний объем потребления интернет-трафика')\n",
    "\n",
    "plt.legend(labels= ['Ультра', 'Смарт'])"
   ]
  },
  {
   "cell_type": "markdown",
   "metadata": {},
   "source": [
    "### Шаг 4. Проверка гипотез\n",
    "\n",
    "- #### Средняя выручка пользователей тарифов «Смарт» и «Ультра» различается.\n",
    "\n",
    "\n",
    "В нашем случае есть 2 генеральных совокупности - выручка пользователей тарифа «Смарт» и «Ультра».\n",
    "Чтобы проверить гипотезу, различается ли средняя выручка от этих тарифов, применим метод scipy.stats.ttest_ind().\n",
    "За нулевую гипотезу примем, что выручка НЕ различается (ровна). Альтернативная гипотеза - тарифы приносят разную выручку. Границу нулевой гипотезы определим в 5%."
   ]
  },
  {
   "cell_type": "code",
   "execution_count": 239,
   "metadata": {},
   "outputs": [
    {
     "name": "stdout",
     "output_type": "stream",
     "text": [
      "Средняя выручка с тарифа \"Смарт\": 1259.0\n",
      "Средняя выручка с тарифа \"Ультра\": 2072.0\n",
      "\n",
      "\n",
      "p-значение: 1.5154324906198753e-171\n",
      "Отвергаем нулевую гипотезу\n"
     ]
    }
   ],
   "source": [
    "smart_rev_mean = smart['revenue'].mean()\n",
    "print('Средняя выручка с тарифа \"Смарт\":', round(smart_rev_mean))\n",
    "\n",
    "ultra_rev_mean = ultra['revenue'].mean()\n",
    "print('Средняя выручка с тарифа \"Ультра\":', round(ultra_rev_mean))\n",
    "\n",
    "print('\\n')\n",
    "\n",
    "smart_rev = smart['revenue']\n",
    "ultra_rev = ultra['revenue']\n",
    "\n",
    "alpha = .05\n",
    "\n",
    "res_rev_dif = st.ttest_ind(ultra_rev, smart_rev) \n",
    "    \n",
    "print('p-значение:', res_rev_dif.pvalue)\n",
    "\n",
    "if (res_rev_dif.pvalue < alpha):\n",
    "    print(\"Отвергаем нулевую гипотезу\")\n",
    "else:\n",
    "    print(\"Не получилось отвергнуть нулевую гипотезу\")"
   ]
  },
  {
   "cell_type": "markdown",
   "metadata": {},
   "source": [
    "Итак, мы отвергли нулевую гипотезу. Дополнительным подтверждением различия выручки от этих тарифов может служить достаточно большая разница между средними значениями по этим тарифам - более 62%."
   ]
  },
  {
   "cell_type": "markdown",
   "metadata": {},
   "source": [
    "- #### Cредняя выручка пользователей из Москвы отличается от выручки пользователей из других регионов"
   ]
  },
  {
   "cell_type": "markdown",
   "metadata": {},
   "source": [
    "Объединим тарифные датафреймы с необходимой информацией (столбцы `user_id, city, revenue`). Затем выделим отдельно выручку Московских пользователей и региональных. "
   ]
  },
  {
   "cell_type": "code",
   "execution_count": 240,
   "metadata": {},
   "outputs": [
    {
     "name": "stdout",
     "output_type": "stream",
     "text": [
      "Средняя выручка Московских пользователей: 1526.0\n",
      "Средняя выручка региональных пользователей: 1495.0\n"
     ]
    }
   ],
   "source": [
    "smart_users = smart[['user_id', 'city', 'revenue']]\n",
    "smart_users\n",
    "\n",
    "ultra_users = ultra[['user_id', 'city', 'revenue']]\n",
    "ultra_users\n",
    "\n",
    "merge_tariffs = [smart_users, ultra_users]\n",
    "merged = reduce(lambda left,right: pd.merge(left,right, how='outer'), merge_tariffs)\n",
    "\n",
    "select_mos = merged.query('city == \"Москва\"')[['user_id','revenue']]\n",
    "select_mos_sample = select_mos['revenue']\n",
    "\n",
    "select_regions = merged.query('city != \"Москва\"')[['user_id','revenue']]\n",
    "select_regions_sample = select_regions['revenue']\n",
    "\n",
    "print('Средняя выручка Московских пользователей:', round(select_mos_sample.mean()))\n",
    "print('Средняя выручка региональных пользователей:', round(select_regions_sample.mean()))"
   ]
  },
  {
   "cell_type": "markdown",
   "metadata": {},
   "source": [
    "Чтобы проверить гипотезу о равенстве средней выручки двух генеральных совокупностей (выручка Московских и региональных пользователей) по соответствующим выборкам, применим метод scipy.stats.ttest_ind().\n",
    "\n",
    "Сформулируем гипотезу:\n",
    "- H0 - выручка пользователей из Москвы не отличается от выручки пользователей из регионов;\n",
    "- Н1 - выручка пользователей из Москвы отличается от выручки пользователей из регионов."
   ]
  },
  {
   "cell_type": "code",
   "execution_count": 241,
   "metadata": {},
   "outputs": [
    {
     "name": "stdout",
     "output_type": "stream",
     "text": [
      "p-значение: 0.3805567054666693\n",
      "Не получилось отвергнуть нулевую гипотезу\n"
     ]
    }
   ],
   "source": [
    "alpha = .05 \n",
    "\n",
    "result_mos = st.ttest_ind(select_mos_sample, select_regions_sample)\n",
    "\n",
    "print('p-значение:', result_mos.pvalue)\n",
    "\n",
    "if (result_mos.pvalue < alpha):\n",
    "    print(\"Отвергаем нулевую гипотезу\")\n",
    "else:\n",
    "    print(\"Не получилось отвергнуть нулевую гипотезу\")"
   ]
  },
  {
   "cell_type": "markdown",
   "metadata": {},
   "source": [
    "p-value оказалось больше порогового, соответственно, гипотеза о том, что выручка Московских пользователей не отличается от выручки региональных пользователей принимается."
   ]
  },
  {
   "cell_type": "markdown",
   "metadata": {},
   "source": [
    "### Шаг 5. Общий вывод"
   ]
  },
  {
   "cell_type": "markdown",
   "metadata": {},
   "source": [
    "В середине 2000-х гг. доходы российских операторов от их традиционных услуг вроде телефонных звонков или отправки sms ежегодно росли более чем на 30%. Но после кризиса 2008–2009 гг. рост сначала резко замедлился, а с 2014 г. прекратился и даже стал показывать отрицательную динамику, [следует из данных AC&M Consulting]( https://www.vedomosti.ru/technology/articles/2018/03/21/754381-sotovie-operatori-istochniki).\n",
    "\n",
    "Традиционные услуги связи становятся все менее востребованными и наше исследование тому подтверждение:\n",
    "1)\tБольшинство пользователей тарифа «Смарт» укладываются в отведённый пакетом лимит по звонкам и даже пользователи тарифа «Ультра» в среднем используют не более 600 мин (на конец 2018г.), не смотря на предоставленные пакетом 3000 мин.\n",
    "2)\tПользователи обоих пакетов в большинстве случаев не используют предоставленный лимит по отправке текстовых сообщений.\n",
    "\n",
    "В то же время, интернет-трафик используется активно в обоих тарифах. \n",
    "- Пользователям \"Смарт\" в среднем не хватает (1 - 3Гб) пакетного лимита (15Гб). Но при этом, переходить на \"Ультра\" им нет смысла, т.к. даже с перерасходом трафика на 3Гб пакет \"Смарт\" для них выгоднее (1150 руб.). Задуматься о переходе на тариф \"Ультра\" имеет смысл, если пользователь тарифа \"Смарт\" расходует более 21Гб интернет_трафика в месяц. \n",
    "- Большинство пользователей тарифа \"Ультра\" не используют полностью предоставленный пакетный интернет (30Гб). Однако, средний трафик декабря (22Гб) говорит о том, что в большинстве случаев, пользователям тарифа \"Ультра\" не выгодно переходить на \"Смарт\".   \n",
    "\n",
    "Отвечая на основной вопрос этого исследования, можно с уверенностью сказать, что тариф «Ультра» приносит больше выручки из расчета на одного пользователя. Однако, (если предположить, что наша выборка отражает общую картину клиентской базы оператора) принимая во внимание, что пользователей тарифа «Смарт» в 2.5 раза больше, а средняя величина выручки с одного клиента меньше в 1.6 раза, можно утверждать, что валовая выручка больше у тарифа «Смарт».\n"
   ]
  }
 ],
 "metadata": {
  "kernelspec": {
   "display_name": "Python 3",
   "language": "python",
   "name": "python3"
  },
  "language_info": {
   "codemirror_mode": {
    "name": "ipython",
    "version": 3
   },
   "file_extension": ".py",
   "mimetype": "text/x-python",
   "name": "python",
   "nbconvert_exporter": "python",
   "pygments_lexer": "ipython3",
   "version": "3.7.7"
  }
 },
 "nbformat": 4,
 "nbformat_minor": 2
}
