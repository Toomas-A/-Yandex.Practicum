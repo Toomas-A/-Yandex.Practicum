{
 "cells": [
  {
   "cell_type": "markdown",
   "metadata": {},
   "source": [
    "Интернет-магазин запускает новый сервис, в котором пользователи могут редактировать и дополнять описания товаров(клиенты предлагают свои правки и комментируют изменения других). Нужен инструмент, который будет искать негативные/токсичные комментарии и отправлять их на модерацию. \n",
    "\n",
    "Необходимо построить модель (со значением метрики качества F1 не меньше 0.75), которая будет классифицировать комментарии на позитивные и негативные. \n",
    "\n",
    "Предоставлен набор комментариев с разметкой о токсичности.\n",
    "\n",
    "\n",
    "### Описание данных\n",
    "\n",
    "Данные находятся в файле `toxic_comments.csv`. Столбец *text* содержит текст комментария, а *toxic* — целевой признак.\n",
    "\n",
    "\n",
    "### План по выполнению проекта:  \n",
    "1. Загрузим данные и выполним и проведём анализ целевого признака.  \n",
    "2. Проанализируем данные.  \n",
    "3. Обработаем текст.\n",
    "4. Трансформируем текстовое содержимое в числовые вектора признаков.\n",
    "5. Разделим выборку на обучающую и тестовую (80:20).\n",
    "6. Обучим разные модели. Проанализируем значения метрики F1 и выберем лучшие.\n",
    "7. Проверим данные на кросс-валидации тестовой выборки."
   ]
  },
  {
   "cell_type": "code",
   "execution_count": 2,
   "metadata": {},
   "outputs": [
    {
     "name": "stderr",
     "output_type": "stream",
     "text": [
      "[nltk_data] Downloading package stopwords to C:\\Users\\Toomas\n",
      "[nltk_data]     A\\AppData\\Roaming\\nltk_data...\n",
      "[nltk_data]   Package stopwords is already up-to-date!\n"
     ]
    }
   ],
   "source": [
    "import numpy as np\n",
    "import pandas as pd\n",
    "\n",
    "# !pip install textblob      #for installation\n",
    "import textblob            #to import\n",
    "from textblob import TextBlob\n",
    "\n",
    "import nltk\n",
    "nltk.download('stopwords')\n",
    "import re\n",
    "from nltk.corpus import stopwords\n",
    "from nltk.stem.wordnet import WordNetLemmatizer\n",
    "\n",
    "from sklearn.feature_extraction.text import TfidfVectorizer\n",
    "\n",
    "import torch\n",
    "from tqdm import notebook\n",
    "from sklearn.linear_model import LogisticRegression\n",
    "from sklearn.model_selection import cross_val_score\n",
    "from sklearn.model_selection import train_test_split\n",
    "\n",
    "from sklearn.naive_bayes import MultinomialNB\n",
    "\n",
    "from sklearn.model_selection import train_test_split\n",
    "from sklearn.pipeline import Pipeline\n",
    "from sklearn.metrics import confusion_matrix, classification_report, accuracy_score\n",
    "from sklearn.metrics import f1_score\n",
    "\n",
    "import matplotlib.pyplot as plt\n",
    "import seaborn as sns\n",
    "\n",
    "from sklearn.ensemble import RandomForestClassifier, AdaBoostClassifier\n",
    "from sklearn.svm import LinearSVC\n",
    "\n",
    "from xgboost import XGBClassifier\n",
    "\n",
    "from sklearn.model_selection import RandomizedSearchCV\n",
    "from scipy.stats import randint as sp_randint\n",
    "\n",
    "from sklearn.metrics import make_scorer\n",
    "\n",
    "import time\n",
    "\n",
    "from sklearn.model_selection import KFold, cross_val_predict\n",
    "\n",
    "import warnings # отключение предупреждений\n",
    "warnings.filterwarnings('ignore')"
   ]
  },
  {
   "cell_type": "code",
   "execution_count": 3,
   "metadata": {},
   "outputs": [
    {
     "name": "stdout",
     "output_type": "stream",
     "text": [
      "<class 'pandas.core.frame.DataFrame'>\n",
      "RangeIndex: 159571 entries, 0 to 159570\n",
      "Data columns (total 2 columns):\n",
      " #   Column  Non-Null Count   Dtype \n",
      "---  ------  --------------   ----- \n",
      " 0   text    159571 non-null  object\n",
      " 1   toxic   159571 non-null  int64 \n",
      "dtypes: int64(1), object(1)\n",
      "memory usage: 2.4+ MB\n"
     ]
    }
   ],
   "source": [
    "data = pd.read_csv('datasets/toxic_comments.csv')\n",
    "data.info()"
   ]
  },
  {
   "cell_type": "markdown",
   "metadata": {},
   "source": [
    "# 1. Подготовка"
   ]
  },
  {
   "cell_type": "markdown",
   "metadata": {},
   "source": [
    "Для начала проанализируем все комментарии на предмет качества (`toxic`).  "
   ]
  },
  {
   "cell_type": "code",
   "execution_count": 4,
   "metadata": {
    "scrolled": false
   },
   "outputs": [
    {
     "name": "stdout",
     "output_type": "stream",
     "text": [
      "0    143346\n",
      "1     16225\n",
      "Name: toxic, dtype: int64\n"
     ]
    },
    {
     "data": {
      "text/plain": [
       "<matplotlib.axes._subplots.AxesSubplot at 0x1b6b33a2848>"
      ]
     },
     "execution_count": 4,
     "metadata": {},
     "output_type": "execute_result"
    },
    {
     "data": {
      "image/png": "[encoded data removed]",
      "text/plain": [
       "<Figure size 432x288 with 1 Axes>"
      ]
     },
     "metadata": {
      "needs_background": "light"
     },
     "output_type": "display_data"
    }
   ],
   "source": [
    "print(data.toxic.value_counts())\n",
    "sns.countplot(x= 'toxic',data = data)"
   ]
  },
  {
   "cell_type": "markdown",
   "metadata": {},
   "source": [
    "Как видим, позитивных комментариев почти в 9 раз больше, чем негативных. Важно, что данные в нашей выборке несбаллансированы, количество нулевого целевого признака в разы больше единичного.  \n",
    "\n",
    "\n",
    "Используя модули `TextBlob` и `WordNetLemmatizer`, плюс пакет `stopwords` к библиотеке NLTK, модуль `re`, напишем функцию для предобработки текста (токенизации, отфильтровывания стоп-слов и лемматизации).  \n",
    "\n",
    "Так как предоставленный датасет достаточно большой, на предобработку и обучение потребуется много времени. Для ускорения процесса воспользуемся частью предоставленных данных."
   ]
  },
  {
   "cell_type": "code",
   "execution_count": 5,
   "metadata": {
    "scrolled": false
   },
   "outputs": [
    {
     "name": "stdout",
     "output_type": "stream",
     "text": [
      "0    98789\n",
      "1    11211\n",
      "Name: toxic, dtype: int64\n"
     ]
    }
   ],
   "source": [
    "dat = data.sample(110000, random_state=1).reset_index(drop=True)\n",
    "dat\n",
    "print(dat.toxic.value_counts())"
   ]
  },
  {
   "cell_type": "code",
   "execution_count": 6,
   "metadata": {},
   "outputs": [],
   "source": [
    "def preprocessing(tweet):\n",
    "    tweet_punct = ' '.join(TextBlob(tweet).words) # убираем знаки препинания\n",
    "    tweet_list = [ele for ele in tweet_punct.split()] # преобразование текста в набор слов\n",
    "    clean_tokens = [t for t in tweet_list if re.match(r'[^\\W\\d]*$', t)] # проверка, подходит ли слово под шаблон\n",
    "    clean_s = ' '.join(clean_tokens)\n",
    "    clean_mess = [word for word in clean_s.split() if word.lower() not in stopwords.words('english')] # убираем стоп-слова,\n",
    "                                                    #   которые не несут смысловой нагрузки (артикли, междометия, союзы и т.д.)\n",
    "    lower_case = list(map(lambda x:x.lower(), clean_mess)) # перевод заглавных в строчные буквы\n",
    "    \n",
    "    lem = WordNetLemmatizer() # лемматизация\n",
    "    normalized_tweet = []\n",
    "    for word in lower_case:\n",
    "        normalized_text = lem.lemmatize(word,'v')\n",
    "        normalized_tweet.append(normalized_text)\n",
    "    clean = ' '.join(normalized_tweet) #  соединие слов из списка в строку   \n",
    "    return clean"
   ]
  },
  {
   "cell_type": "code",
   "execution_count": 7,
   "metadata": {
    "scrolled": false
   },
   "outputs": [
    {
     "data": {
      "text/html": [
       "<div>\n",
       "<style scoped>\n",
       "    .dataframe tbody tr th:only-of-type {\n",
       "        vertical-align: middle;\n",
       "    }\n",
       "\n",
       "    .dataframe tbody tr th {\n",
       "        vertical-align: top;\n",
       "    }\n",
       "\n",
       "    .dataframe thead th {\n",
       "        text-align: right;\n",
       "    }\n",
       "</style>\n",
       "<table border=\"1\" class=\"dataframe\">\n",
       "  <thead>\n",
       "    <tr style=\"text-align: right;\">\n",
       "      <th></th>\n",
       "      <th>text</th>\n",
       "      <th>toxic</th>\n",
       "    </tr>\n",
       "  </thead>\n",
       "  <tbody>\n",
       "    <tr>\n",
       "      <th>0</th>\n",
       "      <td>fat geeky prick nothing weekend monitor wikipe...</td>\n",
       "      <td>1</td>\n",
       "    </tr>\n",
       "    <tr>\n",
       "      <th>1</th>\n",
       "      <td>agent basically thank little bite case lie nat...</td>\n",
       "      <td>0</td>\n",
       "    </tr>\n",
       "    <tr>\n",
       "      <th>2</th>\n",
       "      <td>post delete try make discussion user deepak ke...</td>\n",
       "      <td>0</td>\n",
       "    </tr>\n",
       "    <tr>\n",
       "      <th>3</th>\n",
       "      <td>control demolitions common sense recommend rea...</td>\n",
       "      <td>0</td>\n",
       "    </tr>\n",
       "    <tr>\n",
       "      <th>4</th>\n",
       "      <td>understand reply blaxthos c</td>\n",
       "      <td>0</td>\n",
       "    </tr>\n",
       "    <tr>\n",
       "      <th>...</th>\n",
       "      <td>...</td>\n",
       "      <td>...</td>\n",
       "    </tr>\n",
       "    <tr>\n",
       "      <th>109995</th>\n",
       "      <td>btw warn far exact opposite intend apparently ...</td>\n",
       "      <td>0</td>\n",
       "    </tr>\n",
       "    <tr>\n",
       "      <th>109996</th>\n",
       "      <td>pretty retard response something stupid like c...</td>\n",
       "      <td>1</td>\n",
       "    </tr>\n",
       "    <tr>\n",
       "      <th>109997</th>\n",
       "      <td>hi question story start fifth paragraph find s...</td>\n",
       "      <td>0</td>\n",
       "    </tr>\n",
       "    <tr>\n",
       "      <th>109998</th>\n",
       "      <td>someone toy boy alias allude right physics cre...</td>\n",
       "      <td>0</td>\n",
       "    </tr>\n",
       "    <tr>\n",
       "      <th>109999</th>\n",
       "      <td>ok agree thank discuss</td>\n",
       "      <td>0</td>\n",
       "    </tr>\n",
       "  </tbody>\n",
       "</table>\n",
       "<p>110000 rows × 2 columns</p>\n",
       "</div>"
      ],
      "text/plain": [
       "                                                     text  toxic\n",
       "0       fat geeky prick nothing weekend monitor wikipe...      1\n",
       "1       agent basically thank little bite case lie nat...      0\n",
       "2       post delete try make discussion user deepak ke...      0\n",
       "3       control demolitions common sense recommend rea...      0\n",
       "4                             understand reply blaxthos c      0\n",
       "...                                                   ...    ...\n",
       "109995  btw warn far exact opposite intend apparently ...      0\n",
       "109996  pretty retard response something stupid like c...      1\n",
       "109997  hi question story start fifth paragraph find s...      0\n",
       "109998  someone toy boy alias allude right physics cre...      0\n",
       "109999                             ok agree thank discuss      0\n",
       "\n",
       "[110000 rows x 2 columns]"
      ]
     },
     "execution_count": 7,
     "metadata": {},
     "output_type": "execute_result"
    }
   ],
   "source": [
    "dat.text = dat.text.apply(preprocessing) # предобработка текста\n",
    "dat"
   ]
  },
  {
   "cell_type": "markdown",
   "metadata": {},
   "source": [
    "После очистки разделим датасет на обучающую и тестовую выборки, а затем трансформируем текстовое содержимое в числовые вектора признаков с помощью TfidfVectorizer.  \n",
    "\n",
    "Разделим предобработанный датасет на обучающую и тестовую выборки. Так как изначально наш целевой признак (`toxic`) несбалансирован, применим параметр `stratify`, который позволит сделать разделение так, что доля значений в произведенном образце будет такой же, как доля предоставленных значений.   "
   ]
  },
  {
   "cell_type": "code",
   "execution_count": 8,
   "metadata": {
    "scrolled": true
   },
   "outputs": [
    {
     "name": "stdout",
     "output_type": "stream",
     "text": [
      "Обучающая выборка: (77000,)\n",
      "Целевой признак обучающей выборки: (77000,) \n",
      "\n",
      "Тестовая выборка: (33000,)\n",
      "Целевой признак тестовой выборки: (33000,) \n",
      "\n"
     ]
    }
   ],
   "source": [
    "X_train, X_test, y_train, y_test = train_test_split(dat.text, dat.toxic, test_size=0.3, random_state=1234, stratify=dat.toxic)\n",
    "\n",
    "print('Обучающая выборка:', X_train.shape)\n",
    "print('Целевой признак обучающей выборки:', y_train.shape, '\\n')\n",
    "\n",
    "print('Тестовая выборка:',X_test.shape)\n",
    "print('Целевой признак тестовой выборки:', y_test.shape, '\\n')"
   ]
  },
  {
   "cell_type": "code",
   "execution_count": 9,
   "metadata": {},
   "outputs": [],
   "source": [
    "tfidfconverter = TfidfVectorizer(max_features=3500, max_df=0.7, min_df=20, binary=False)\n",
    "X_train_tf = tfidfconverter.fit_transform(X_train).toarray() # обучаем тренировочную выборку\n",
    "X_test = tfidfconverter.transform(X_test) # векторизуем тестовую выборку"
   ]
  },
  {
   "cell_type": "code",
   "execution_count": 10,
   "metadata": {},
   "outputs": [
    {
     "data": {
      "text/plain": [
       "(77000, 3500)"
      ]
     },
     "execution_count": 10,
     "metadata": {},
     "output_type": "execute_result"
    }
   ],
   "source": [
    "X_train_tf.shape"
   ]
  },
  {
   "cell_type": "markdown",
   "metadata": {},
   "source": [
    "# 2. Обучение  \n",
    "\n",
    "Для анализа качества предсказаний выберем несколько классификаторов. Начнем с Наивного Байесовского классификатора (полиноминальный вариант - [Multinomial Naive Bayes](https://scikit-learn.org/stable/modules/naive_bayes.html#naive-bayes)), который станет отправной точкой для нашей задачи. Далее, используя перекрестную валидацию, оценим как на обучающей выборке покажут себя LogisticRegression, метод опорных векторов - LinearSVC, бустинг модели - AdaBoostClassifier и XGBClassifier, и, наконец, посмотрим, как покажет себя RandomForestClassifier.  \n",
    "Причем, для оценки работы модели будем учитывать не только целевую метрику F1, но и время затраченное на обучение и предсказание обучающей выборки.  \n",
    "\n",
    "Напишем функцию для расчёта среднего (невзвешенного) значения F1."
   ]
  },
  {
   "cell_type": "code",
   "execution_count": 11,
   "metadata": {},
   "outputs": [],
   "source": [
    "def f1(y, pred):\n",
    "    return f1_score(y, pred)"
   ]
  },
  {
   "cell_type": "code",
   "execution_count": 12,
   "metadata": {
    "scrolled": false
   },
   "outputs": [
    {
     "name": "stdout",
     "output_type": "stream",
     "text": [
      "- F1 score - \n",
      "\n",
      "MNB: 0.649471 (ET: 11.75s)\n",
      "LR: 0.716690 (ET: 123.78s)\n",
      "LSVC: 0.756486 (ET: 15.56s)\n",
      "AdaBoost: 0.679897 (ET: 2013.94s)\n",
      "XGBoost: 0.713504 (ET: 2682.89s)\n",
      "RFC: 0.736363 (ET: 3312.80s)\n"
     ]
    }
   ],
   "source": [
    "from sklearn.model_selection import cross_val_score\n",
    "print('- F1 score - \\n')                             \n",
    "\n",
    "pipelines = []\n",
    "pipelines.append(('MNB', MultinomialNB()))\n",
    "pipelines.append(('LR', LogisticRegression()))\n",
    "pipelines.append(('LSVC', LinearSVC(random_state=1234)))\n",
    "pipelines.append(('AdaBoost', AdaBoostClassifier(random_state=1234)))\n",
    "pipelines.append(('XGBoost', XGBClassifier()))\n",
    "pipelines.append(('RFC', RandomForestClassifier(random_state=1234, n_jobs=-1)))\n",
    "\n",
    "for name, model in pipelines:\n",
    "    start_time = time.time()\n",
    "    \n",
    "    kf = KFold(n_splits=5,random_state=1234, shuffle=True)\n",
    "    f1_cv = cross_val_score(model, X_train_tf, y_train, cv=kf, scoring='f1')\n",
    "    \n",
    "    end_time = time.time()\n",
    "    duration = end_time - start_time\n",
    "    \n",
    "    msg = \"%s: %f (ET: %.2fs)\" % (name, f1_cv.mean(), duration)\n",
    "    print(msg)"
   ]
  },
  {
   "cell_type": "markdown",
   "metadata": {},
   "source": [
    "Первое, на что следует обратить внимание, – это время (соответственно, необходимые вычислительные ресурсы). Первые три классификатора справились с задачей достаточно быстро (до 2 мин.), бустинг-модели ту же задачу выполнили намного дольше.  \n",
    "\n",
    "*Хотя результат метрики F1 у случайного леса получился неплохой (~0.74), но процесс занял почти час!*    \n",
    "\n",
    "Целевая метрика F1 ближе всего к единице у LinearSVC, LogisticRegression.\n",
    "\n",
    "Остановимся на моделях, показавших лучшие результаты и попробуем улучшить качество, оптимизируя гиперпараметры. А затем проанализируем качество на тестовой выборке.  \n",
    "\n",
    "Для оценки, помимо целевой метрики, будем использовать матрицу ошибок, которая наглядно позволит оценить эффективность прогноза не только в качественном, но и в количественном выражении.\n",
    "\n",
    "---\n",
    "\n",
    "\n",
    "#### Настройка гиперпараметров и проверка результатов на тестовой выборке\n"
   ]
  },
  {
   "cell_type": "code",
   "execution_count": 13,
   "metadata": {},
   "outputs": [],
   "source": [
    "def pred_vis(y_test, y_pred):                              # матрица ошибок\n",
    "    conf_mat = confusion_matrix(y_true=y_test, y_pred=y_pred)\n",
    "    print('Confusion matrix:\\n', conf_mat)\n",
    " \n",
    "    labels = ['Toxic 0', 'Toxic 1']\n",
    "    fig = plt.figure()\n",
    "    ax = fig.add_subplot(111)\n",
    "    cax = ax.matshow(conf_mat, cmap=plt.cm.Blues)\n",
    "    fig.colorbar(cax)\n",
    "    ax.set_xticklabels([''] + labels)\n",
    "    ax.set_yticklabels([''] + labels)\n",
    "    plt.xlabel('Predicted')\n",
    "    plt.ylabel('Expected')\n",
    "    plt.show()"
   ]
  },
  {
   "cell_type": "code",
   "execution_count": 14,
   "metadata": {
    "scrolled": false
   },
   "outputs": [
    {
     "name": "stdout",
     "output_type": "stream",
     "text": [
      "Fitting 5 folds for each of 5 candidates, totalling 25 fits\n"
     ]
    },
    {
     "name": "stderr",
     "output_type": "stream",
     "text": [
      "[Parallel(n_jobs=1)]: Using backend SequentialBackend with 1 concurrent workers.\n",
      "[Parallel(n_jobs=1)]: Done  25 out of  25 | elapsed: 529.9min finished\n"
     ]
    },
    {
     "name": "stdout",
     "output_type": "stream",
     "text": [
      "F1 TEST модели LR: 0.7611866907064415\n",
      "\n",
      "               precision    recall  f1-score   support\n",
      "\n",
      "           0       0.97      0.99      0.98     29637\n",
      "           1       0.85      0.69      0.76      3363\n",
      "\n",
      "    accuracy                           0.96     33000\n",
      "   macro avg       0.91      0.84      0.87     33000\n",
      "weighted avg       0.95      0.96      0.95     33000\n",
      "\n",
      "Confusion matrix:\n",
      " [[29221   416]\n",
      " [ 1041  2322]]\n"
     ]
    },
    {
     "data": {
      "image/png": "[encoded data removed]",
      "text/plain": [
       "<Figure size 432x288 with 2 Axes>"
      ]
     },
     "metadata": {
      "needs_background": "light"
     },
     "output_type": "display_data"
    }
   ],
   "source": [
    "my_scorer = make_scorer(f1, greater_is_better=True) # зададим параметр целевой метрики качества (чем больше, тем лучше)\n",
    "cv = KFold(n_splits=5,random_state=42, shuffle=False)\n",
    "\n",
    "lr = LogisticRegression(random_state=42, n_jobs=-1)\n",
    "\n",
    "param_dist = {\"max_iter\": sp_randint(100, 1000),\n",
    "              \"penalty\": ['l1', 'l2'],\n",
    "              \"C\": sp_randint(10, 75)}\n",
    "      \n",
    "random_search_lr = RandomizedSearchCV(lr, param_distributions=param_dist,\n",
    "                                   n_iter=5, cv=cv, scoring=my_scorer, random_state=42, verbose=True)\n",
    "\n",
    "random_search_lr.fit(X_train_tf, y_train)\n",
    "random_search_lr.best_params_\n",
    "\n",
    "y_preds = random_search_lr.predict(X_test)\n",
    "\n",
    "f1_lr = f1(y_test, y_preds)\n",
    "\n",
    "print('F1 TEST модели LR:', f1_lr)\n",
    "print('\\n', classification_report(y_test, y_preds))\n",
    "\n",
    "pred_vis(y_test, y_preds)"
   ]
  },
  {
   "cell_type": "markdown",
   "metadata": {},
   "source": [
    "На тестовой выборке на матрице ошибок наглядно видно верные предсказания. Из 33000, 31543 предсказаны верно."
   ]
  },
  {
   "cell_type": "code",
   "execution_count": 15,
   "metadata": {},
   "outputs": [
    {
     "name": "stdout",
     "output_type": "stream",
     "text": [
      "Fitting 5 folds for each of 5 candidates, totalling 25 fits\n"
     ]
    },
    {
     "name": "stderr",
     "output_type": "stream",
     "text": [
      "[Parallel(n_jobs=1)]: Using backend SequentialBackend with 1 concurrent workers.\n",
      "[Parallel(n_jobs=1)]: Done  25 out of  25 | elapsed:  1.3min finished\n"
     ]
    },
    {
     "data": {
      "text/plain": [
       "{'C': 0.667, 'loss': 'squared_hinge', 'max_iter': 960}"
      ]
     },
     "execution_count": 15,
     "metadata": {},
     "output_type": "execute_result"
    }
   ],
   "source": [
    "lsvc = LinearSVC(random_state=42)\n",
    "\n",
    "param_dist = {\"max_iter\": sp_randint(100, 1000),\n",
    "              \"loss\": ['hinge', 'squared_hinge'],\n",
    "              \"C\": np.linspace(0.001, 1, 10)}\n",
    "        \n",
    "random_search_lsvc = RandomizedSearchCV(lsvc, param_distributions=param_dist, n_iter=5,\n",
    "                                        cv=cv, scoring=my_scorer, random_state=42, verbose=1)\n",
    "\n",
    "random_search_lsvc.fit(X_train_tf, y_train)\n",
    "\n",
    "random_search_lsvc.best_params_"
   ]
  },
  {
   "cell_type": "code",
   "execution_count": 16,
   "metadata": {
    "scrolled": true
   },
   "outputs": [
    {
     "name": "stdout",
     "output_type": "stream",
     "text": [
      "F1 TEST модели LSVC: 0.7581765802406373\n",
      "\n",
      "               precision    recall  f1-score   support\n",
      "\n",
      "           0       0.96      0.99      0.98     29637\n",
      "           1       0.88      0.67      0.76      3363\n",
      "\n",
      "    accuracy                           0.96     33000\n",
      "   macro avg       0.92      0.83      0.87     33000\n",
      "weighted avg       0.95      0.96      0.95     33000\n",
      "\n",
      "Confusion matrix:\n",
      " [[29336   301]\n",
      " [ 1126  2237]]\n"
     ]
    },
    {
     "data": {
      "image/png": "[encoded data removed]",
      "text/plain": [
       "<Figure size 432x288 with 2 Axes>"
      ]
     },
     "metadata": {
      "needs_background": "light"
     },
     "output_type": "display_data"
    }
   ],
   "source": [
    "y_pred_lsvc = random_search_lsvc.predict(X_test) # тестовая выборка\n",
    "\n",
    "f1_lsvc = f1(y_test, y_pred_lsvc)\n",
    "\n",
    "print('F1 TEST модели LSVC:', f1_lsvc)\n",
    "print('\\n', classification_report(y_test, y_pred_lsvc))\n",
    "pred_vis(y_test, y_pred_lsvc)"
   ]
  },
  {
   "cell_type": "markdown",
   "metadata": {},
   "source": [
    "Классификатор опорных векторов LinearSVC из 33000 не ошибся в 31573 случаях."
   ]
  },
  {
   "cell_type": "markdown",
   "metadata": {},
   "source": [
    "# 3. Выводы"
   ]
  },
  {
   "cell_type": "markdown",
   "metadata": {},
   "source": [
    "Обе модели (LinearSVC, LogisticRegression) показали хорошие результаты на тестовой выборке (F1>0.75). Бустинг модели - AdaBoostClassifier и XGBClassifier справились с задачей хуже, плюс, время потраченное на обучение и предсказание значительно превосходит первые 2 модели. Качественная метрика классификатора RandomForestClassifier ненамного отстает от лидеров, но катастрофически проигрывает по скорости. "
   ]
  }
 ],
 "metadata": {
  "kernelspec": {
   "display_name": "Python 3",
   "language": "python",
   "name": "python3"
  },
  "language_info": {
   "codemirror_mode": {
    "name": "ipython",
    "version": 3
   },
   "file_extension": ".py",
   "mimetype": "text/x-python",
   "name": "python",
   "nbconvert_exporter": "python",
   "pygments_lexer": "ipython3",
   "version": "3.7.7"
  }
 },
 "nbformat": 4,
 "nbformat_minor": 2
}
