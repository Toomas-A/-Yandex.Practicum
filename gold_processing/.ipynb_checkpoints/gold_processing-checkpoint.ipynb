{
 "cells": [
  {
   "cell_type": "markdown",
   "metadata": {},
   "source": [
    "# Описание проекта\n",
    "\n",
    "Необходимо подготовить прототип модели машинного обучения для компании, которая разрабатывает решения для промышленных предприятий.\n",
    "\n",
    "Модель должна предсказать коэффициент восстановления золота из золотосодержащей руды. Предоставлены данные с параметрами добычи и очистки. \n",
    "\n",
    "Модель призвана оптимизировать производство, чтобы не запускать предприятие с убыточными характеристиками.\n",
    "\n",
    "Необходимо:\n",
    "\n",
    "1. Подготовить данные;\n",
    "2. Провести исследовательский анализ данных;\n",
    "3. Построить и обучить модель.\n",
    "\n",
    "\n",
    "---\n",
    "\n",
    "#### План по выполнению проекта:  \n",
    "1) Откроем файлы и проверим, что эффективность `rougher.output.recovery` обогащения рассчитана правильно.  \n",
    "2) Подготовим данные для обучения и тестирования модели.  \n",
    "3) Проанализируем признаки, недоступные в тестовой выборке.  \n",
    "4) Изучим, как меняется концентрация металлов (Au, Ag, Pb) на различных этапах очистки.  \n",
    "5) Сравним распределения размеров гранул сырья на обучающей и тестовой выборках.  \n",
    "6) Исследуем суммарную концентрацию всех веществ на разных стадиях.  \n",
    "7) Напишем функцию для вычисления итоговой sMAPE.  \n",
    "8) Обучим разные модели и оценим их качество кросс-валидацией.   \n",
    "9) Выберем лучшую модель и проверим её на тестовой выборке.  \n",
    "\n",
    "---\n",
    "\n",
    "Импортируем все необходимые для анализа и обучения библиотеки."
   ]
  },
  {
   "cell_type": "code",
   "execution_count": 1,
   "metadata": {},
   "outputs": [],
   "source": [
    "import pandas as pd\n",
    "\n",
    "from sklearn.linear_model import LinearRegression\n",
    "from sklearn.ensemble import RandomForestRegressor\n",
    "from sklearn.tree import DecisionTreeRegressor\n",
    "from sklearn.dummy import DummyRegressor\n",
    "import numpy as np\n",
    "\n",
    "from sklearn.impute import KNNImputer\n",
    "\n",
    "from sklearn.model_selection import KFold\n",
    "from sklearn.model_selection import cross_val_predict\n",
    "from sklearn.model_selection import ShuffleSplit\n",
    "from sklearn.metrics import mean_squared_error\n",
    "from sklearn.metrics import r2_score\n",
    "from sklearn.metrics import mean_absolute_error\n",
    "from scipy import stats as st\n",
    "\n",
    "from sklearn.pipeline import Pipeline\n",
    "from sklearn.preprocessing import StandardScaler\n",
    "from sklearn.linear_model import LinearRegression\n",
    "from sklearn.linear_model import Lasso\n",
    "from sklearn.linear_model import ElasticNet\n",
    "from sklearn.tree import DecisionTreeRegressor\n",
    "from sklearn.neighbors import KNeighborsRegressor\n",
    "from sklearn.ensemble import GradientBoostingRegressor\n",
    "\n",
    "from sklearn.model_selection import RandomizedSearchCV\n",
    "from scipy.stats import randint as sp_randint\n",
    "\n",
    "import seaborn as sns\n",
    "from matplotlib.pyplot import figure\n",
    "\n",
    "from sklearn.metrics import fbeta_score, make_scorer\n",
    "\n",
    "import matplotlib.pyplot as plt\n",
    "%matplotlib inline\n",
    "\n",
    "plt.rcParams['font.size'] = 12\n",
    "\n",
    "# Internal ipython tool for setting figure size\n",
    "from IPython.core.pylabtools import figsize\n",
    "\n",
    "pd.set_option('display.max_columns', None)\n",
    "\n",
    "import warnings # отключение предупреждений\n",
    "warnings.filterwarnings('ignore')"
   ]
  },
  {
   "cell_type": "markdown",
   "metadata": {},
   "source": [
    "# 1. Подготовка данных\n",
    "\n",
    "### 1. Откроем файлы"
   ]
  },
  {
   "cell_type": "code",
   "execution_count": 3,
   "metadata": {},
   "outputs": [],
   "source": [
    "for i in ('train', 'test', 'full'):\n",
    "    path = 'datasets/gold_recovery_{}.csv'.format(i)\n",
    "    df_name = 'gold_recovery_{}'.format(i)\n",
    "    globals()[df_name] = pd.read_csv(path)"
   ]
  },
  {
   "cell_type": "code",
   "execution_count": 4,
   "metadata": {},
   "outputs": [
    {
     "name": "stdout",
     "output_type": "stream",
     "text": [
      "<class 'pandas.core.frame.DataFrame'>\n",
      "RangeIndex: 16860 entries, 0 to 16859\n",
      "Data columns (total 87 columns):\n",
      " #   Column                                              Non-Null Count  Dtype  \n",
      "---  ------                                              --------------  -----  \n",
      " 0   date                                                16860 non-null  object \n",
      " 1   final.output.concentrate_ag                         16788 non-null  float64\n",
      " 2   final.output.concentrate_pb                         16788 non-null  float64\n",
      " 3   final.output.concentrate_sol                        16490 non-null  float64\n",
      " 4   final.output.concentrate_au                         16789 non-null  float64\n",
      " 5   final.output.recovery                               15339 non-null  float64\n",
      " 6   final.output.tail_ag                                16794 non-null  float64\n",
      " 7   final.output.tail_pb                                16677 non-null  float64\n",
      " 8   final.output.tail_sol                               16715 non-null  float64\n",
      " 9   final.output.tail_au                                16794 non-null  float64\n",
      " 10  primary_cleaner.input.sulfate                       15553 non-null  float64\n",
      " 11  primary_cleaner.input.depressant                    15598 non-null  float64\n",
      " 12  primary_cleaner.input.feed_size                     16860 non-null  float64\n",
      " 13  primary_cleaner.input.xanthate                      15875 non-null  float64\n",
      " 14  primary_cleaner.output.concentrate_ag               16778 non-null  float64\n",
      " 15  primary_cleaner.output.concentrate_pb               16502 non-null  float64\n",
      " 16  primary_cleaner.output.concentrate_sol              16224 non-null  float64\n",
      " 17  primary_cleaner.output.concentrate_au               16778 non-null  float64\n",
      " 18  primary_cleaner.output.tail_ag                      16777 non-null  float64\n",
      " 19  primary_cleaner.output.tail_pb                      16761 non-null  float64\n",
      " 20  primary_cleaner.output.tail_sol                     16579 non-null  float64\n",
      " 21  primary_cleaner.output.tail_au                      16777 non-null  float64\n",
      " 22  primary_cleaner.state.floatbank8_a_air              16820 non-null  float64\n",
      " 23  primary_cleaner.state.floatbank8_a_level            16827 non-null  float64\n",
      " 24  primary_cleaner.state.floatbank8_b_air              16820 non-null  float64\n",
      " 25  primary_cleaner.state.floatbank8_b_level            16833 non-null  float64\n",
      " 26  primary_cleaner.state.floatbank8_c_air              16822 non-null  float64\n",
      " 27  primary_cleaner.state.floatbank8_c_level            16833 non-null  float64\n",
      " 28  primary_cleaner.state.floatbank8_d_air              16821 non-null  float64\n",
      " 29  primary_cleaner.state.floatbank8_d_level            16833 non-null  float64\n",
      " 30  rougher.calculation.sulfate_to_au_concentrate       16833 non-null  float64\n",
      " 31  rougher.calculation.floatbank10_sulfate_to_au_feed  16833 non-null  float64\n",
      " 32  rougher.calculation.floatbank11_sulfate_to_au_feed  16833 non-null  float64\n",
      " 33  rougher.calculation.au_pb_ratio                     15618 non-null  float64\n",
      " 34  rougher.input.feed_ag                               16778 non-null  float64\n",
      " 35  rougher.input.feed_pb                               16632 non-null  float64\n",
      " 36  rougher.input.feed_rate                             16347 non-null  float64\n",
      " 37  rougher.input.feed_size                             16443 non-null  float64\n",
      " 38  rougher.input.feed_sol                              16568 non-null  float64\n",
      " 39  rougher.input.feed_au                               16777 non-null  float64\n",
      " 40  rougher.input.floatbank10_sulfate                   15816 non-null  float64\n",
      " 41  rougher.input.floatbank10_xanthate                  16514 non-null  float64\n",
      " 42  rougher.input.floatbank11_sulfate                   16237 non-null  float64\n",
      " 43  rougher.input.floatbank11_xanthate                  14956 non-null  float64\n",
      " 44  rougher.output.concentrate_ag                       16778 non-null  float64\n",
      " 45  rougher.output.concentrate_pb                       16778 non-null  float64\n",
      " 46  rougher.output.concentrate_sol                      16698 non-null  float64\n",
      " 47  rougher.output.concentrate_au                       16778 non-null  float64\n",
      " 48  rougher.output.recovery                             14287 non-null  float64\n",
      " 49  rougher.output.tail_ag                              14610 non-null  float64\n",
      " 50  rougher.output.tail_pb                              16778 non-null  float64\n",
      " 51  rougher.output.tail_sol                             14611 non-null  float64\n",
      " 52  rougher.output.tail_au                              14611 non-null  float64\n",
      " 53  rougher.state.floatbank10_a_air                     16807 non-null  float64\n",
      " 54  rougher.state.floatbank10_a_level                   16807 non-null  float64\n",
      " 55  rougher.state.floatbank10_b_air                     16807 non-null  float64\n",
      " 56  rougher.state.floatbank10_b_level                   16807 non-null  float64\n",
      " 57  rougher.state.floatbank10_c_air                     16807 non-null  float64\n",
      " 58  rougher.state.floatbank10_c_level                   16814 non-null  float64\n",
      " 59  rougher.state.floatbank10_d_air                     16802 non-null  float64\n",
      " 60  rougher.state.floatbank10_d_level                   16809 non-null  float64\n",
      " 61  rougher.state.floatbank10_e_air                     16257 non-null  float64\n",
      " 62  rougher.state.floatbank10_e_level                   16809 non-null  float64\n",
      " 63  rougher.state.floatbank10_f_air                     16802 non-null  float64\n",
      " 64  rougher.state.floatbank10_f_level                   16802 non-null  float64\n",
      " 65  secondary_cleaner.output.tail_ag                    16776 non-null  float64\n",
      " 66  secondary_cleaner.output.tail_pb                    16764 non-null  float64\n",
      " 67  secondary_cleaner.output.tail_sol                   14874 non-null  float64\n",
      " 68  secondary_cleaner.output.tail_au                    16778 non-null  float64\n",
      " 69  secondary_cleaner.state.floatbank2_a_air            16497 non-null  float64\n",
      " 70  secondary_cleaner.state.floatbank2_a_level          16751 non-null  float64\n",
      " 71  secondary_cleaner.state.floatbank2_b_air            16705 non-null  float64\n",
      " 72  secondary_cleaner.state.floatbank2_b_level          16748 non-null  float64\n",
      " 73  secondary_cleaner.state.floatbank3_a_air            16763 non-null  float64\n",
      " 74  secondary_cleaner.state.floatbank3_a_level          16747 non-null  float64\n",
      " 75  secondary_cleaner.state.floatbank3_b_air            16752 non-null  float64\n",
      " 76  secondary_cleaner.state.floatbank3_b_level          16750 non-null  float64\n",
      " 77  secondary_cleaner.state.floatbank4_a_air            16731 non-null  float64\n",
      " 78  secondary_cleaner.state.floatbank4_a_level          16747 non-null  float64\n",
      " 79  secondary_cleaner.state.floatbank4_b_air            16768 non-null  float64\n",
      " 80  secondary_cleaner.state.floatbank4_b_level          16767 non-null  float64\n",
      " 81  secondary_cleaner.state.floatbank5_a_air            16775 non-null  float64\n",
      " 82  secondary_cleaner.state.floatbank5_a_level          16775 non-null  float64\n",
      " 83  secondary_cleaner.state.floatbank5_b_air            16775 non-null  float64\n",
      " 84  secondary_cleaner.state.floatbank5_b_level          16776 non-null  float64\n",
      " 85  secondary_cleaner.state.floatbank6_a_air            16757 non-null  float64\n",
      " 86  secondary_cleaner.state.floatbank6_a_level          16775 non-null  float64\n",
      "dtypes: float64(86), object(1)\n",
      "memory usage: 11.2+ MB\n",
      "None \n",
      "\n",
      "<class 'pandas.core.frame.DataFrame'>\n",
      "RangeIndex: 5856 entries, 0 to 5855\n",
      "Data columns (total 53 columns):\n",
      " #   Column                                      Non-Null Count  Dtype  \n",
      "---  ------                                      --------------  -----  \n",
      " 0   date                                        5856 non-null   object \n",
      " 1   primary_cleaner.input.sulfate               5554 non-null   float64\n",
      " 2   primary_cleaner.input.depressant            5572 non-null   float64\n",
      " 3   primary_cleaner.input.feed_size             5856 non-null   float64\n",
      " 4   primary_cleaner.input.xanthate              5690 non-null   float64\n",
      " 5   primary_cleaner.state.floatbank8_a_air      5840 non-null   float64\n",
      " 6   primary_cleaner.state.floatbank8_a_level    5840 non-null   float64\n",
      " 7   primary_cleaner.state.floatbank8_b_air      5840 non-null   float64\n",
      " 8   primary_cleaner.state.floatbank8_b_level    5840 non-null   float64\n",
      " 9   primary_cleaner.state.floatbank8_c_air      5840 non-null   float64\n",
      " 10  primary_cleaner.state.floatbank8_c_level    5840 non-null   float64\n",
      " 11  primary_cleaner.state.floatbank8_d_air      5840 non-null   float64\n",
      " 12  primary_cleaner.state.floatbank8_d_level    5840 non-null   float64\n",
      " 13  rougher.input.feed_ag                       5840 non-null   float64\n",
      " 14  rougher.input.feed_pb                       5840 non-null   float64\n",
      " 15  rougher.input.feed_rate                     5816 non-null   float64\n",
      " 16  rougher.input.feed_size                     5834 non-null   float64\n",
      " 17  rougher.input.feed_sol                      5789 non-null   float64\n",
      " 18  rougher.input.feed_au                       5840 non-null   float64\n",
      " 19  rougher.input.floatbank10_sulfate           5599 non-null   float64\n",
      " 20  rougher.input.floatbank10_xanthate          5733 non-null   float64\n",
      " 21  rougher.input.floatbank11_sulfate           5801 non-null   float64\n",
      " 22  rougher.input.floatbank11_xanthate          5503 non-null   float64\n",
      " 23  rougher.state.floatbank10_a_air             5839 non-null   float64\n",
      " 24  rougher.state.floatbank10_a_level           5840 non-null   float64\n",
      " 25  rougher.state.floatbank10_b_air             5839 non-null   float64\n",
      " 26  rougher.state.floatbank10_b_level           5840 non-null   float64\n",
      " 27  rougher.state.floatbank10_c_air             5839 non-null   float64\n",
      " 28  rougher.state.floatbank10_c_level           5840 non-null   float64\n",
      " 29  rougher.state.floatbank10_d_air             5839 non-null   float64\n",
      " 30  rougher.state.floatbank10_d_level           5840 non-null   float64\n",
      " 31  rougher.state.floatbank10_e_air             5839 non-null   float64\n",
      " 32  rougher.state.floatbank10_e_level           5840 non-null   float64\n",
      " 33  rougher.state.floatbank10_f_air             5839 non-null   float64\n",
      " 34  rougher.state.floatbank10_f_level           5840 non-null   float64\n",
      " 35  secondary_cleaner.state.floatbank2_a_air    5836 non-null   float64\n",
      " 36  secondary_cleaner.state.floatbank2_a_level  5840 non-null   float64\n",
      " 37  secondary_cleaner.state.floatbank2_b_air    5833 non-null   float64\n",
      " 38  secondary_cleaner.state.floatbank2_b_level  5840 non-null   float64\n",
      " 39  secondary_cleaner.state.floatbank3_a_air    5822 non-null   float64\n",
      " 40  secondary_cleaner.state.floatbank3_a_level  5840 non-null   float64\n",
      " 41  secondary_cleaner.state.floatbank3_b_air    5840 non-null   float64\n",
      " 42  secondary_cleaner.state.floatbank3_b_level  5840 non-null   float64\n",
      " 43  secondary_cleaner.state.floatbank4_a_air    5840 non-null   float64\n",
      " 44  secondary_cleaner.state.floatbank4_a_level  5840 non-null   float64\n",
      " 45  secondary_cleaner.state.floatbank4_b_air    5840 non-null   float64\n",
      " 46  secondary_cleaner.state.floatbank4_b_level  5840 non-null   float64\n",
      " 47  secondary_cleaner.state.floatbank5_a_air    5840 non-null   float64\n",
      " 48  secondary_cleaner.state.floatbank5_a_level  5840 non-null   float64\n",
      " 49  secondary_cleaner.state.floatbank5_b_air    5840 non-null   float64\n",
      " 50  secondary_cleaner.state.floatbank5_b_level  5840 non-null   float64\n",
      " 51  secondary_cleaner.state.floatbank6_a_air    5840 non-null   float64\n",
      " 52  secondary_cleaner.state.floatbank6_a_level  5840 non-null   float64\n",
      "dtypes: float64(52), object(1)\n",
      "memory usage: 2.4+ MB\n",
      "None \n",
      "\n",
      "<class 'pandas.core.frame.DataFrame'>\n",
      "RangeIndex: 22716 entries, 0 to 22715\n",
      "Data columns (total 87 columns):\n",
      " #   Column                                              Non-Null Count  Dtype  \n",
      "---  ------                                              --------------  -----  \n",
      " 0   date                                                22716 non-null  object \n",
      " 1   final.output.concentrate_ag                         22627 non-null  float64\n",
      " 2   final.output.concentrate_pb                         22629 non-null  float64\n",
      " 3   final.output.concentrate_sol                        22331 non-null  float64\n",
      " 4   final.output.concentrate_au                         22630 non-null  float64\n",
      " 5   final.output.recovery                               20753 non-null  float64\n",
      " 6   final.output.tail_ag                                22633 non-null  float64\n",
      " 7   final.output.tail_pb                                22516 non-null  float64\n",
      " 8   final.output.tail_sol                               22445 non-null  float64\n",
      " 9   final.output.tail_au                                22635 non-null  float64\n",
      " 10  primary_cleaner.input.sulfate                       21107 non-null  float64\n",
      " 11  primary_cleaner.input.depressant                    21170 non-null  float64\n",
      " 12  primary_cleaner.input.feed_size                     22716 non-null  float64\n",
      " 13  primary_cleaner.input.xanthate                      21565 non-null  float64\n",
      " 14  primary_cleaner.output.concentrate_ag               22618 non-null  float64\n",
      " 15  primary_cleaner.output.concentrate_pb               22268 non-null  float64\n",
      " 16  primary_cleaner.output.concentrate_sol              21918 non-null  float64\n",
      " 17  primary_cleaner.output.concentrate_au               22618 non-null  float64\n",
      " 18  primary_cleaner.output.tail_ag                      22614 non-null  float64\n",
      " 19  primary_cleaner.output.tail_pb                      22594 non-null  float64\n",
      " 20  primary_cleaner.output.tail_sol                     22365 non-null  float64\n",
      " 21  primary_cleaner.output.tail_au                      22617 non-null  float64\n",
      " 22  primary_cleaner.state.floatbank8_a_air              22660 non-null  float64\n",
      " 23  primary_cleaner.state.floatbank8_a_level            22667 non-null  float64\n",
      " 24  primary_cleaner.state.floatbank8_b_air              22660 non-null  float64\n",
      " 25  primary_cleaner.state.floatbank8_b_level            22673 non-null  float64\n",
      " 26  primary_cleaner.state.floatbank8_c_air              22662 non-null  float64\n",
      " 27  primary_cleaner.state.floatbank8_c_level            22673 non-null  float64\n",
      " 28  primary_cleaner.state.floatbank8_d_air              22661 non-null  float64\n",
      " 29  primary_cleaner.state.floatbank8_d_level            22673 non-null  float64\n",
      " 30  rougher.calculation.sulfate_to_au_concentrate       22672 non-null  float64\n",
      " 31  rougher.calculation.floatbank10_sulfate_to_au_feed  22672 non-null  float64\n",
      " 32  rougher.calculation.floatbank11_sulfate_to_au_feed  22672 non-null  float64\n",
      " 33  rougher.calculation.au_pb_ratio                     21089 non-null  float64\n",
      " 34  rougher.input.feed_ag                               22618 non-null  float64\n",
      " 35  rougher.input.feed_pb                               22472 non-null  float64\n",
      " 36  rougher.input.feed_rate                             22163 non-null  float64\n",
      " 37  rougher.input.feed_size                             22277 non-null  float64\n",
      " 38  rougher.input.feed_sol                              22357 non-null  float64\n",
      " 39  rougher.input.feed_au                               22617 non-null  float64\n",
      " 40  rougher.input.floatbank10_sulfate                   21415 non-null  float64\n",
      " 41  rougher.input.floatbank10_xanthate                  22247 non-null  float64\n",
      " 42  rougher.input.floatbank11_sulfate                   22038 non-null  float64\n",
      " 43  rougher.input.floatbank11_xanthate                  20459 non-null  float64\n",
      " 44  rougher.output.concentrate_ag                       22618 non-null  float64\n",
      " 45  rougher.output.concentrate_pb                       22618 non-null  float64\n",
      " 46  rougher.output.concentrate_sol                      22526 non-null  float64\n",
      " 47  rougher.output.concentrate_au                       22618 non-null  float64\n",
      " 48  rougher.output.recovery                             19597 non-null  float64\n",
      " 49  rougher.output.tail_ag                              19979 non-null  float64\n",
      " 50  rougher.output.tail_pb                              22618 non-null  float64\n",
      " 51  rougher.output.tail_sol                             19980 non-null  float64\n",
      " 52  rougher.output.tail_au                              19980 non-null  float64\n",
      " 53  rougher.state.floatbank10_a_air                     22646 non-null  float64\n",
      " 54  rougher.state.floatbank10_a_level                   22647 non-null  float64\n",
      " 55  rougher.state.floatbank10_b_air                     22646 non-null  float64\n",
      " 56  rougher.state.floatbank10_b_level                   22647 non-null  float64\n",
      " 57  rougher.state.floatbank10_c_air                     22646 non-null  float64\n",
      " 58  rougher.state.floatbank10_c_level                   22654 non-null  float64\n",
      " 59  rougher.state.floatbank10_d_air                     22641 non-null  float64\n",
      " 60  rougher.state.floatbank10_d_level                   22649 non-null  float64\n",
      " 61  rougher.state.floatbank10_e_air                     22096 non-null  float64\n",
      " 62  rougher.state.floatbank10_e_level                   22649 non-null  float64\n",
      " 63  rougher.state.floatbank10_f_air                     22641 non-null  float64\n",
      " 64  rougher.state.floatbank10_f_level                   22642 non-null  float64\n",
      " 65  secondary_cleaner.output.tail_ag                    22616 non-null  float64\n",
      " 66  secondary_cleaner.output.tail_pb                    22600 non-null  float64\n",
      " 67  secondary_cleaner.output.tail_sol                   20501 non-null  float64\n",
      " 68  secondary_cleaner.output.tail_au                    22618 non-null  float64\n",
      " 69  secondary_cleaner.state.floatbank2_a_air            22333 non-null  float64\n",
      " 70  secondary_cleaner.state.floatbank2_a_level          22591 non-null  float64\n",
      " 71  secondary_cleaner.state.floatbank2_b_air            22538 non-null  float64\n",
      " 72  secondary_cleaner.state.floatbank2_b_level          22588 non-null  float64\n",
      " 73  secondary_cleaner.state.floatbank3_a_air            22585 non-null  float64\n",
      " 74  secondary_cleaner.state.floatbank3_a_level          22587 non-null  float64\n",
      " 75  secondary_cleaner.state.floatbank3_b_air            22592 non-null  float64\n",
      " 76  secondary_cleaner.state.floatbank3_b_level          22590 non-null  float64\n",
      " 77  secondary_cleaner.state.floatbank4_a_air            22571 non-null  float64\n",
      " 78  secondary_cleaner.state.floatbank4_a_level          22587 non-null  float64\n",
      " 79  secondary_cleaner.state.floatbank4_b_air            22608 non-null  float64\n",
      " 80  secondary_cleaner.state.floatbank4_b_level          22607 non-null  float64\n",
      " 81  secondary_cleaner.state.floatbank5_a_air            22615 non-null  float64\n",
      " 82  secondary_cleaner.state.floatbank5_a_level          22615 non-null  float64\n",
      " 83  secondary_cleaner.state.floatbank5_b_air            22615 non-null  float64\n",
      " 84  secondary_cleaner.state.floatbank5_b_level          22616 non-null  float64\n",
      " 85  secondary_cleaner.state.floatbank6_a_air            22597 non-null  float64\n",
      " 86  secondary_cleaner.state.floatbank6_a_level          22615 non-null  float64\n",
      "dtypes: float64(86), object(1)\n",
      "memory usage: 15.1+ MB\n"
     ]
    }
   ],
   "source": [
    "print(gold_recovery_train.info(), '\\n')\n",
    "print(gold_recovery_test.info(), '\\n')\n",
    "gold_recovery_full.info()"
   ]
  },
  {
   "cell_type": "markdown",
   "metadata": {},
   "source": [
    "Для проверки правильности расчета эффективности обогащения `rougher.output.recovery`, создадим копию обучающей выборки, в которой удалим строки с отсутствующими значениями. На этом этапе, для общего понимания, что в этом расчете нет ошибки, не будем заполнять пропущенные (NaN) значения. "
   ]
  },
  {
   "cell_type": "code",
   "execution_count": 69,
   "metadata": {
    "scrolled": true
   },
   "outputs": [
    {
     "data": {
      "text/plain": [
       "(11017, 87)"
      ]
     },
     "execution_count": 69,
     "metadata": {},
     "output_type": "execute_result"
    }
   ],
   "source": [
    "grt = gold_recovery_train.copy()\n",
    "grt.dropna(inplace=True)\n",
    "\n",
    "grt.shape"
   ]
  },
  {
   "cell_type": "markdown",
   "metadata": {},
   "source": [
    "Напишем функцию для расчета эффективность обогащения и применим её."
   ]
  },
  {
   "cell_type": "code",
   "execution_count": 70,
   "metadata": {},
   "outputs": [],
   "source": [
    "def efficiency(col):\n",
    "    C = col['rougher.output.concentrate_au']\n",
    "    F=col['rougher.input.feed_au']\n",
    "    T=col['rougher.output.tail_au']\n",
    "    recovery = (C*(F-T))/(F*(C-T))*100\n",
    "    return recovery"
   ]
  },
  {
   "cell_type": "code",
   "execution_count": 71,
   "metadata": {
    "scrolled": true
   },
   "outputs": [
    {
     "name": "stdout",
     "output_type": "stream",
     "text": [
      "count    11017.000000\n",
      "mean        82.741888\n",
      "std         13.590523\n",
      "min         -0.000000\n",
      "25%         79.997468\n",
      "50%         84.847754\n",
      "75%         89.635149\n",
      "max        100.000000\n",
      "dtype: float64 \n",
      "\n",
      "count    11017.000000\n",
      "mean        82.741888\n",
      "std         13.590523\n",
      "min          0.000000\n",
      "25%         79.997468\n",
      "50%         84.847754\n",
      "75%         89.635149\n",
      "max        100.000000\n",
      "Name: rougher.output.recovery, dtype: float64\n"
     ]
    }
   ],
   "source": [
    "check_ror = efficiency(grt)\n",
    "print(check_ror.describe(), '\\n')\n",
    "\n",
    "ror= grt['rougher.output.recovery']\n",
    "print(ror.describe())"
   ]
  },
  {
   "cell_type": "markdown",
   "metadata": {},
   "source": [
    "При сравнении основных статистических данных видно, что эффективность обогащения рассчитана правильно.  \n",
    "Для проверки, вычислим метрику MAE между нашими расчётами и значением признака."
   ]
  },
  {
   "cell_type": "code",
   "execution_count": 72,
   "metadata": {},
   "outputs": [
    {
     "data": {
      "text/plain": [
       "9.555596961987514e-15"
      ]
     },
     "execution_count": 72,
     "metadata": {},
     "output_type": "execute_result"
    }
   ],
   "source": [
    "mae = mean_absolute_error(check_ror, ror)\n",
    "mae"
   ]
  },
  {
   "cell_type": "markdown",
   "metadata": {},
   "source": [
    "Значение MAE ничтожно мало, соответственно, расчет эффективности обогащения `rougher.output.recovery` произведён верно.  \n",
    "\n",
    "### 2. Подготовим данные для обучения\n",
    "\n",
    "Для начала выясним объем пропущенных значений (NaN) в обучающей выборке. Для этого применим функцию, которая покажет сколько в % пропущенных значений."
   ]
  },
  {
   "cell_type": "code",
   "execution_count": 73,
   "metadata": {
    "scrolled": true
   },
   "outputs": [
    {
     "name": "stdout",
     "output_type": "stream",
     "text": [
      "В выборке 87 столбцов.\n",
      "Из них 85 с пропущенными значениями.\n"
     ]
    },
    {
     "data": {
      "text/html": [
       "<div>\n",
       "<style scoped>\n",
       "    .dataframe tbody tr th:only-of-type {\n",
       "        vertical-align: middle;\n",
       "    }\n",
       "\n",
       "    .dataframe tbody tr th {\n",
       "        vertical-align: top;\n",
       "    }\n",
       "\n",
       "    .dataframe thead th {\n",
       "        text-align: right;\n",
       "    }\n",
       "</style>\n",
       "<table border=\"1\" class=\"dataframe\">\n",
       "  <thead>\n",
       "    <tr style=\"text-align: right;\">\n",
       "      <th></th>\n",
       "      <th>Missing Values</th>\n",
       "      <th>% of Total Values</th>\n",
       "    </tr>\n",
       "  </thead>\n",
       "  <tbody>\n",
       "    <tr>\n",
       "      <td>rougher.output.recovery</td>\n",
       "      <td>2573</td>\n",
       "      <td>15.3</td>\n",
       "    </tr>\n",
       "    <tr>\n",
       "      <td>rougher.output.tail_ag</td>\n",
       "      <td>2250</td>\n",
       "      <td>13.3</td>\n",
       "    </tr>\n",
       "    <tr>\n",
       "      <td>rougher.output.tail_au</td>\n",
       "      <td>2249</td>\n",
       "      <td>13.3</td>\n",
       "    </tr>\n",
       "    <tr>\n",
       "      <td>rougher.output.tail_sol</td>\n",
       "      <td>2249</td>\n",
       "      <td>13.3</td>\n",
       "    </tr>\n",
       "    <tr>\n",
       "      <td>secondary_cleaner.output.tail_sol</td>\n",
       "      <td>1986</td>\n",
       "      <td>11.8</td>\n",
       "    </tr>\n",
       "    <tr>\n",
       "      <td>rougher.input.floatbank11_xanthate</td>\n",
       "      <td>1904</td>\n",
       "      <td>11.3</td>\n",
       "    </tr>\n",
       "    <tr>\n",
       "      <td>final.output.recovery</td>\n",
       "      <td>1521</td>\n",
       "      <td>9.0</td>\n",
       "    </tr>\n",
       "    <tr>\n",
       "      <td>primary_cleaner.input.sulfate</td>\n",
       "      <td>1307</td>\n",
       "      <td>7.8</td>\n",
       "    </tr>\n",
       "    <tr>\n",
       "      <td>primary_cleaner.input.depressant</td>\n",
       "      <td>1262</td>\n",
       "      <td>7.5</td>\n",
       "    </tr>\n",
       "    <tr>\n",
       "      <td>rougher.calculation.au_pb_ratio</td>\n",
       "      <td>1242</td>\n",
       "      <td>7.4</td>\n",
       "    </tr>\n",
       "  </tbody>\n",
       "</table>\n",
       "</div>"
      ],
      "text/plain": [
       "                                    Missing Values  % of Total Values\n",
       "rougher.output.recovery                       2573               15.3\n",
       "rougher.output.tail_ag                        2250               13.3\n",
       "rougher.output.tail_au                        2249               13.3\n",
       "rougher.output.tail_sol                       2249               13.3\n",
       "secondary_cleaner.output.tail_sol             1986               11.8\n",
       "rougher.input.floatbank11_xanthate            1904               11.3\n",
       "final.output.recovery                         1521                9.0\n",
       "primary_cleaner.input.sulfate                 1307                7.8\n",
       "primary_cleaner.input.depressant              1262                7.5\n",
       "rougher.calculation.au_pb_ratio               1242                7.4"
      ]
     },
     "execution_count": 73,
     "metadata": {},
     "output_type": "execute_result"
    }
   ],
   "source": [
    "def missing_values_table(df):\n",
    "        mis_val = df.isnull().sum() # общее количество пропусков\n",
    "        mis_val_percent = 100 * df.isnull().sum() / len(df) # пропуски в %\n",
    "        \n",
    "        mis_val_table = pd.concat([mis_val, mis_val_percent], axis=1) # составление таблицы\n",
    "        \n",
    "        # переименование столбцов\n",
    "        mis_val_table_ren_columns = mis_val_table.rename(\n",
    "        columns = {0 : 'Missing Values', 1 : '% of Total Values'})\n",
    "        \n",
    "        # Сортировка по убыванию\n",
    "        mis_val_table_ren_columns = mis_val_table_ren_columns[\n",
    "            mis_val_table_ren_columns.iloc[:,1] != 0].sort_values(\n",
    "        '% of Total Values', ascending=False).round(1)\n",
    "        \n",
    "        print (\"В выборке \" + str(df.shape[1]) + \" столбцов.\\n\"      \n",
    "            \"Из них \" + str(mis_val_table_ren_columns.shape[0]) +\n",
    "              \" с пропущенными значениями.\")\n",
    "        \n",
    "        return mis_val_table_ren_columns\n",
    "    \n",
    "    \n",
    "missing_values_table(gold_recovery_train).head(10)"
   ]
  },
  {
   "cell_type": "markdown",
   "metadata": {},
   "source": [
    "Удалим пропуски в целевых столбцах `rougher.output.recovery` и `final.output.recovery`, т.к. эти NaN-ы связаны с аномальными значениями замеров."
   ]
  },
  {
   "cell_type": "code",
   "execution_count": 74,
   "metadata": {},
   "outputs": [],
   "source": [
    "gold_recovery_train.dropna(subset=['rougher.output.recovery', 'final.output.recovery'], inplace=True)"
   ]
  },
  {
   "cell_type": "code",
   "execution_count": 75,
   "metadata": {},
   "outputs": [],
   "source": [
    "# pip install -U --user scikit-learn # для работы метода KNNImputer требуется обновить scikit-learn-0.22.2.post1"
   ]
  },
  {
   "cell_type": "code",
   "execution_count": 76,
   "metadata": {},
   "outputs": [],
   "source": [
    "gold_recovery_train = gold_recovery_train.replace([np.inf, -np.inf], np.nan) # убирает возможные значения бесконечности (если есть)\n",
    "\n",
    "imputer = KNNImputer(n_neighbors=2)\n",
    "gold_recovery_train.loc[:, gold_recovery_train.columns != 'date'] = imputer.fit_transform(gold_recovery_train.loc[:, gold_recovery_train.columns != 'date'])"
   ]
  },
  {
   "cell_type": "code",
   "execution_count": 77,
   "metadata": {
    "scrolled": true
   },
   "outputs": [
    {
     "name": "stdout",
     "output_type": "stream",
     "text": [
      "В выборке 87 столбцов.\n",
      "Из них 0 с пропущенными значениями.\n"
     ]
    },
    {
     "data": {
      "text/html": [
       "<div>\n",
       "<style scoped>\n",
       "    .dataframe tbody tr th:only-of-type {\n",
       "        vertical-align: middle;\n",
       "    }\n",
       "\n",
       "    .dataframe tbody tr th {\n",
       "        vertical-align: top;\n",
       "    }\n",
       "\n",
       "    .dataframe thead th {\n",
       "        text-align: right;\n",
       "    }\n",
       "</style>\n",
       "<table border=\"1\" class=\"dataframe\">\n",
       "  <thead>\n",
       "    <tr style=\"text-align: right;\">\n",
       "      <th></th>\n",
       "      <th>Missing Values</th>\n",
       "      <th>% of Total Values</th>\n",
       "    </tr>\n",
       "  </thead>\n",
       "  <tbody>\n",
       "  </tbody>\n",
       "</table>\n",
       "</div>"
      ],
      "text/plain": [
       "Empty DataFrame\n",
       "Columns: [Missing Values, % of Total Values]\n",
       "Index: []"
      ]
     },
     "execution_count": 77,
     "metadata": {},
     "output_type": "execute_result"
    }
   ],
   "source": [
    "missing_values_table(gold_recovery_train).head(10)"
   ]
  },
  {
   "cell_type": "markdown",
   "metadata": {},
   "source": [
    "В обучающей выборке пропусков нет.\n",
    "\n",
    "Выясним объем пропусков в тестовой выборке и так же заполним их средними соседними значениями."
   ]
  },
  {
   "cell_type": "code",
   "execution_count": 78,
   "metadata": {
    "scrolled": true
   },
   "outputs": [
    {
     "name": "stdout",
     "output_type": "stream",
     "text": [
      "В выборке 53 столбцов.\n",
      "Из них 51 с пропущенными значениями.\n"
     ]
    },
    {
     "data": {
      "text/html": [
       "<div>\n",
       "<style scoped>\n",
       "    .dataframe tbody tr th:only-of-type {\n",
       "        vertical-align: middle;\n",
       "    }\n",
       "\n",
       "    .dataframe tbody tr th {\n",
       "        vertical-align: top;\n",
       "    }\n",
       "\n",
       "    .dataframe thead th {\n",
       "        text-align: right;\n",
       "    }\n",
       "</style>\n",
       "<table border=\"1\" class=\"dataframe\">\n",
       "  <thead>\n",
       "    <tr style=\"text-align: right;\">\n",
       "      <th></th>\n",
       "      <th>Missing Values</th>\n",
       "      <th>% of Total Values</th>\n",
       "    </tr>\n",
       "  </thead>\n",
       "  <tbody>\n",
       "    <tr>\n",
       "      <td>rougher.input.floatbank11_xanthate</td>\n",
       "      <td>353</td>\n",
       "      <td>6.0</td>\n",
       "    </tr>\n",
       "    <tr>\n",
       "      <td>primary_cleaner.input.sulfate</td>\n",
       "      <td>302</td>\n",
       "      <td>5.2</td>\n",
       "    </tr>\n",
       "    <tr>\n",
       "      <td>primary_cleaner.input.depressant</td>\n",
       "      <td>284</td>\n",
       "      <td>4.8</td>\n",
       "    </tr>\n",
       "    <tr>\n",
       "      <td>rougher.input.floatbank10_sulfate</td>\n",
       "      <td>257</td>\n",
       "      <td>4.4</td>\n",
       "    </tr>\n",
       "    <tr>\n",
       "      <td>primary_cleaner.input.xanthate</td>\n",
       "      <td>166</td>\n",
       "      <td>2.8</td>\n",
       "    </tr>\n",
       "  </tbody>\n",
       "</table>\n",
       "</div>"
      ],
      "text/plain": [
       "                                    Missing Values  % of Total Values\n",
       "rougher.input.floatbank11_xanthate             353                6.0\n",
       "primary_cleaner.input.sulfate                  302                5.2\n",
       "primary_cleaner.input.depressant               284                4.8\n",
       "rougher.input.floatbank10_sulfate              257                4.4\n",
       "primary_cleaner.input.xanthate                 166                2.8"
      ]
     },
     "execution_count": 78,
     "metadata": {},
     "output_type": "execute_result"
    }
   ],
   "source": [
    "missing_values_table(gold_recovery_test).head()"
   ]
  },
  {
   "cell_type": "code",
   "execution_count": 79,
   "metadata": {},
   "outputs": [],
   "source": [
    "gold_recovery_test = gold_recovery_test.replace([np.inf, -np.inf], np.nan)\n",
    "\n",
    "imputer = KNNImputer(n_neighbors=2)\n",
    "gold_recovery_test.loc[:, gold_recovery_test.columns != 'date'] = imputer.fit_transform(gold_recovery_test.loc[:, gold_recovery_test.columns != 'date'])"
   ]
  },
  {
   "cell_type": "markdown",
   "metadata": {},
   "source": [
    "### 3. Проанализируем признаки, недоступные в тестовой выборке."
   ]
  },
  {
   "cell_type": "code",
   "execution_count": 80,
   "metadata": {
    "scrolled": true
   },
   "outputs": [
    {
     "name": "stdout",
     "output_type": "stream",
     "text": [
      "['final.output.concentrate_ag', 'final.output.concentrate_pb', 'final.output.concentrate_sol', 'final.output.concentrate_au', 'final.output.recovery', 'final.output.tail_ag', 'final.output.tail_pb', 'final.output.tail_sol', 'final.output.tail_au', 'primary_cleaner.output.concentrate_ag', 'primary_cleaner.output.concentrate_pb', 'primary_cleaner.output.concentrate_sol', 'primary_cleaner.output.concentrate_au', 'primary_cleaner.output.tail_ag', 'primary_cleaner.output.tail_pb', 'primary_cleaner.output.tail_sol', 'primary_cleaner.output.tail_au', 'rougher.calculation.sulfate_to_au_concentrate', 'rougher.calculation.floatbank10_sulfate_to_au_feed', 'rougher.calculation.floatbank11_sulfate_to_au_feed', 'rougher.calculation.au_pb_ratio', 'rougher.output.concentrate_ag', 'rougher.output.concentrate_pb', 'rougher.output.concentrate_sol', 'rougher.output.concentrate_au', 'rougher.output.recovery', 'rougher.output.tail_ag', 'rougher.output.tail_pb', 'rougher.output.tail_sol', 'rougher.output.tail_au', 'secondary_cleaner.output.tail_ag', 'secondary_cleaner.output.tail_pb', 'secondary_cleaner.output.tail_sol', 'secondary_cleaner.output.tail_au']\n"
     ]
    },
    {
     "data": {
      "text/plain": [
       "(14149, 34)"
      ]
     },
     "execution_count": 80,
     "metadata": {},
     "output_type": "execute_result"
    }
   ],
   "source": [
    "diff_2 = gold_recovery_train.drop(gold_recovery_test, axis=1) # разница между признаками обучающей и тестовой выборками\n",
    "print(list(diff_2))\n",
    "diff_2.shape"
   ]
  },
  {
   "cell_type": "markdown",
   "metadata": {},
   "source": [
    "Данные параметры недоступны в тестовой выборке, так как замеряются и/или рассчитываются значительно позже. Из-за этого в тестовой выборке отсутствуют вышеперечисленные признаки, которые есть в обучающей. Также в тестовом наборе нет целевых признаков.  \n",
    "Эти признаки с итоговыми данными (`_.output._`) и выходными параметрами продуктов на каждом этапе технологического процесса."
   ]
  },
  {
   "cell_type": "code",
   "execution_count": 81,
   "metadata": {},
   "outputs": [
    {
     "data": {
      "text/html": [
       "<div>\n",
       "<style scoped>\n",
       "    .dataframe tbody tr th:only-of-type {\n",
       "        vertical-align: middle;\n",
       "    }\n",
       "\n",
       "    .dataframe tbody tr th {\n",
       "        vertical-align: top;\n",
       "    }\n",
       "\n",
       "    .dataframe thead th {\n",
       "        text-align: right;\n",
       "    }\n",
       "</style>\n",
       "<table border=\"1\" class=\"dataframe\">\n",
       "  <thead>\n",
       "    <tr style=\"text-align: right;\">\n",
       "      <th></th>\n",
       "      <th>date</th>\n",
       "      <th>primary_cleaner.input.sulfate</th>\n",
       "      <th>primary_cleaner.input.depressant</th>\n",
       "      <th>primary_cleaner.input.feed_size</th>\n",
       "      <th>primary_cleaner.input.xanthate</th>\n",
       "      <th>primary_cleaner.state.floatbank8_a_air</th>\n",
       "      <th>primary_cleaner.state.floatbank8_a_level</th>\n",
       "      <th>primary_cleaner.state.floatbank8_b_air</th>\n",
       "      <th>primary_cleaner.state.floatbank8_b_level</th>\n",
       "      <th>primary_cleaner.state.floatbank8_c_air</th>\n",
       "      <th>primary_cleaner.state.floatbank8_c_level</th>\n",
       "      <th>primary_cleaner.state.floatbank8_d_air</th>\n",
       "      <th>primary_cleaner.state.floatbank8_d_level</th>\n",
       "      <th>rougher.input.feed_ag</th>\n",
       "      <th>rougher.input.feed_pb</th>\n",
       "      <th>rougher.input.feed_rate</th>\n",
       "      <th>rougher.input.feed_size</th>\n",
       "      <th>rougher.input.feed_sol</th>\n",
       "      <th>rougher.input.feed_au</th>\n",
       "      <th>rougher.input.floatbank10_sulfate</th>\n",
       "      <th>rougher.input.floatbank10_xanthate</th>\n",
       "      <th>rougher.input.floatbank11_sulfate</th>\n",
       "      <th>rougher.input.floatbank11_xanthate</th>\n",
       "      <th>rougher.state.floatbank10_a_air</th>\n",
       "      <th>rougher.state.floatbank10_a_level</th>\n",
       "      <th>rougher.state.floatbank10_b_air</th>\n",
       "      <th>rougher.state.floatbank10_b_level</th>\n",
       "      <th>rougher.state.floatbank10_c_air</th>\n",
       "      <th>rougher.state.floatbank10_c_level</th>\n",
       "      <th>rougher.state.floatbank10_d_air</th>\n",
       "      <th>rougher.state.floatbank10_d_level</th>\n",
       "      <th>rougher.state.floatbank10_e_air</th>\n",
       "      <th>rougher.state.floatbank10_e_level</th>\n",
       "      <th>rougher.state.floatbank10_f_air</th>\n",
       "      <th>rougher.state.floatbank10_f_level</th>\n",
       "      <th>secondary_cleaner.state.floatbank2_a_air</th>\n",
       "      <th>secondary_cleaner.state.floatbank2_a_level</th>\n",
       "      <th>secondary_cleaner.state.floatbank2_b_air</th>\n",
       "      <th>secondary_cleaner.state.floatbank2_b_level</th>\n",
       "      <th>secondary_cleaner.state.floatbank3_a_air</th>\n",
       "      <th>secondary_cleaner.state.floatbank3_a_level</th>\n",
       "      <th>secondary_cleaner.state.floatbank3_b_air</th>\n",
       "      <th>secondary_cleaner.state.floatbank3_b_level</th>\n",
       "      <th>secondary_cleaner.state.floatbank4_a_air</th>\n",
       "      <th>secondary_cleaner.state.floatbank4_a_level</th>\n",
       "      <th>secondary_cleaner.state.floatbank4_b_air</th>\n",
       "      <th>secondary_cleaner.state.floatbank4_b_level</th>\n",
       "      <th>secondary_cleaner.state.floatbank5_a_air</th>\n",
       "      <th>secondary_cleaner.state.floatbank5_a_level</th>\n",
       "      <th>secondary_cleaner.state.floatbank5_b_air</th>\n",
       "      <th>secondary_cleaner.state.floatbank5_b_level</th>\n",
       "      <th>secondary_cleaner.state.floatbank6_a_air</th>\n",
       "      <th>secondary_cleaner.state.floatbank6_a_level</th>\n",
       "    </tr>\n",
       "  </thead>\n",
       "  <tbody>\n",
       "    <tr>\n",
       "      <td>0</td>\n",
       "      <td>2016-09-01 00:59:59</td>\n",
       "      <td>210.800909</td>\n",
       "      <td>14.993118</td>\n",
       "      <td>8.080000</td>\n",
       "      <td>1.005021</td>\n",
       "      <td>1398.981301</td>\n",
       "      <td>-500.225577</td>\n",
       "      <td>1399.144926</td>\n",
       "      <td>-499.919735</td>\n",
       "      <td>1400.102998</td>\n",
       "      <td>-500.704369</td>\n",
       "      <td>1399.001695</td>\n",
       "      <td>-499.485144</td>\n",
       "      <td>13.128569</td>\n",
       "      <td>5.636710</td>\n",
       "      <td>489.793655</td>\n",
       "      <td>62.710452</td>\n",
       "      <td>42.022440</td>\n",
       "      <td>12.084103</td>\n",
       "      <td>16.922877</td>\n",
       "      <td>6.153479</td>\n",
       "      <td>16.867518</td>\n",
       "      <td>6.150709</td>\n",
       "      <td>1001.849317</td>\n",
       "      <td>-350.301265</td>\n",
       "      <td>1249.738612</td>\n",
       "      <td>-399.107531</td>\n",
       "      <td>1249.750520</td>\n",
       "      <td>-399.396730</td>\n",
       "      <td>1198.287855</td>\n",
       "      <td>-399.488594</td>\n",
       "      <td>999.472250</td>\n",
       "      <td>-399.530962</td>\n",
       "      <td>949.566189</td>\n",
       "      <td>-398.180807</td>\n",
       "      <td>24.938200</td>\n",
       "      <td>-500.490963</td>\n",
       "      <td>14.947607</td>\n",
       "      <td>-500.013837</td>\n",
       "      <td>20.018166</td>\n",
       "      <td>-450.395995</td>\n",
       "      <td>13.987058</td>\n",
       "      <td>-449.831513</td>\n",
       "      <td>12.023554</td>\n",
       "      <td>-497.795834</td>\n",
       "      <td>8.016656</td>\n",
       "      <td>-501.289139</td>\n",
       "      <td>7.946562</td>\n",
       "      <td>-432.317850</td>\n",
       "      <td>4.872511</td>\n",
       "      <td>-500.037437</td>\n",
       "      <td>26.705889</td>\n",
       "      <td>-499.709414</td>\n",
       "    </tr>\n",
       "    <tr>\n",
       "      <td>1</td>\n",
       "      <td>2016-09-01 01:59:59</td>\n",
       "      <td>215.392455</td>\n",
       "      <td>14.987471</td>\n",
       "      <td>8.080000</td>\n",
       "      <td>0.990469</td>\n",
       "      <td>1398.777912</td>\n",
       "      <td>-500.057435</td>\n",
       "      <td>1398.055362</td>\n",
       "      <td>-499.778182</td>\n",
       "      <td>1396.151033</td>\n",
       "      <td>-499.240168</td>\n",
       "      <td>1399.508091</td>\n",
       "      <td>-500.416324</td>\n",
       "      <td>13.036280</td>\n",
       "      <td>5.526065</td>\n",
       "      <td>490.104534</td>\n",
       "      <td>61.961163</td>\n",
       "      <td>41.187903</td>\n",
       "      <td>11.918977</td>\n",
       "      <td>17.002532</td>\n",
       "      <td>5.999043</td>\n",
       "      <td>16.996063</td>\n",
       "      <td>6.002315</td>\n",
       "      <td>998.690785</td>\n",
       "      <td>-350.425704</td>\n",
       "      <td>1248.395457</td>\n",
       "      <td>-399.946025</td>\n",
       "      <td>1249.514451</td>\n",
       "      <td>-399.630810</td>\n",
       "      <td>1200.506459</td>\n",
       "      <td>-399.942434</td>\n",
       "      <td>1000.002114</td>\n",
       "      <td>-399.491528</td>\n",
       "      <td>950.200009</td>\n",
       "      <td>-405.787514</td>\n",
       "      <td>24.923466</td>\n",
       "      <td>-499.813963</td>\n",
       "      <td>14.930873</td>\n",
       "      <td>-500.764452</td>\n",
       "      <td>19.988503</td>\n",
       "      <td>-450.114024</td>\n",
       "      <td>14.092981</td>\n",
       "      <td>-450.059163</td>\n",
       "      <td>12.058140</td>\n",
       "      <td>-498.695773</td>\n",
       "      <td>8.130979</td>\n",
       "      <td>-499.634209</td>\n",
       "      <td>7.958270</td>\n",
       "      <td>-525.839648</td>\n",
       "      <td>4.878850</td>\n",
       "      <td>-500.162375</td>\n",
       "      <td>25.019940</td>\n",
       "      <td>-499.819438</td>\n",
       "    </tr>\n",
       "    <tr>\n",
       "      <td>2</td>\n",
       "      <td>2016-09-01 02:59:59</td>\n",
       "      <td>215.259946</td>\n",
       "      <td>12.884934</td>\n",
       "      <td>7.786667</td>\n",
       "      <td>0.996043</td>\n",
       "      <td>1398.493666</td>\n",
       "      <td>-500.868360</td>\n",
       "      <td>1398.860436</td>\n",
       "      <td>-499.764529</td>\n",
       "      <td>1398.075709</td>\n",
       "      <td>-502.151509</td>\n",
       "      <td>1399.497088</td>\n",
       "      <td>-499.715479</td>\n",
       "      <td>13.138412</td>\n",
       "      <td>5.426561</td>\n",
       "      <td>489.617969</td>\n",
       "      <td>66.903807</td>\n",
       "      <td>42.546294</td>\n",
       "      <td>12.091332</td>\n",
       "      <td>16.992520</td>\n",
       "      <td>5.850632</td>\n",
       "      <td>16.982096</td>\n",
       "      <td>5.853594</td>\n",
       "      <td>998.516720</td>\n",
       "      <td>-349.783538</td>\n",
       "      <td>1247.440748</td>\n",
       "      <td>-400.264330</td>\n",
       "      <td>1248.207204</td>\n",
       "      <td>-401.074405</td>\n",
       "      <td>1199.770026</td>\n",
       "      <td>-400.790582</td>\n",
       "      <td>999.925519</td>\n",
       "      <td>-399.236999</td>\n",
       "      <td>950.320481</td>\n",
       "      <td>-400.864340</td>\n",
       "      <td>24.908732</td>\n",
       "      <td>-500.304035</td>\n",
       "      <td>14.996511</td>\n",
       "      <td>-500.993821</td>\n",
       "      <td>20.039689</td>\n",
       "      <td>-450.263164</td>\n",
       "      <td>14.077881</td>\n",
       "      <td>-449.660997</td>\n",
       "      <td>11.962366</td>\n",
       "      <td>-498.767484</td>\n",
       "      <td>8.096893</td>\n",
       "      <td>-500.827423</td>\n",
       "      <td>8.071056</td>\n",
       "      <td>-500.801673</td>\n",
       "      <td>4.905125</td>\n",
       "      <td>-499.828510</td>\n",
       "      <td>24.994862</td>\n",
       "      <td>-500.622559</td>\n",
       "    </tr>\n",
       "    <tr>\n",
       "      <td>3</td>\n",
       "      <td>2016-09-01 03:59:59</td>\n",
       "      <td>215.336236</td>\n",
       "      <td>12.006805</td>\n",
       "      <td>7.640000</td>\n",
       "      <td>0.863514</td>\n",
       "      <td>1399.618111</td>\n",
       "      <td>-498.863574</td>\n",
       "      <td>1397.440120</td>\n",
       "      <td>-499.211024</td>\n",
       "      <td>1400.129303</td>\n",
       "      <td>-498.355873</td>\n",
       "      <td>1401.065165</td>\n",
       "      <td>-501.038738</td>\n",
       "      <td>12.400507</td>\n",
       "      <td>5.114758</td>\n",
       "      <td>476.618130</td>\n",
       "      <td>59.865919</td>\n",
       "      <td>41.060195</td>\n",
       "      <td>12.181597</td>\n",
       "      <td>16.532144</td>\n",
       "      <td>5.801935</td>\n",
       "      <td>16.515277</td>\n",
       "      <td>5.803657</td>\n",
       "      <td>1000.276604</td>\n",
       "      <td>-350.172597</td>\n",
       "      <td>1251.322675</td>\n",
       "      <td>-398.655289</td>\n",
       "      <td>1250.493702</td>\n",
       "      <td>-399.746728</td>\n",
       "      <td>1199.398691</td>\n",
       "      <td>-397.503052</td>\n",
       "      <td>1001.930679</td>\n",
       "      <td>-400.437573</td>\n",
       "      <td>950.735324</td>\n",
       "      <td>-399.802986</td>\n",
       "      <td>24.893998</td>\n",
       "      <td>-499.382374</td>\n",
       "      <td>14.916674</td>\n",
       "      <td>-499.862299</td>\n",
       "      <td>20.031100</td>\n",
       "      <td>-449.372570</td>\n",
       "      <td>14.013968</td>\n",
       "      <td>-449.526900</td>\n",
       "      <td>12.033091</td>\n",
       "      <td>-498.350935</td>\n",
       "      <td>8.074946</td>\n",
       "      <td>-499.474407</td>\n",
       "      <td>7.897085</td>\n",
       "      <td>-500.868509</td>\n",
       "      <td>4.931400</td>\n",
       "      <td>-499.963623</td>\n",
       "      <td>24.948919</td>\n",
       "      <td>-498.709987</td>\n",
       "    </tr>\n",
       "    <tr>\n",
       "      <td>4</td>\n",
       "      <td>2016-09-01 04:59:59</td>\n",
       "      <td>199.099327</td>\n",
       "      <td>10.682530</td>\n",
       "      <td>7.530000</td>\n",
       "      <td>0.805575</td>\n",
       "      <td>1401.268123</td>\n",
       "      <td>-500.808305</td>\n",
       "      <td>1398.128818</td>\n",
       "      <td>-499.504543</td>\n",
       "      <td>1402.172226</td>\n",
       "      <td>-500.810606</td>\n",
       "      <td>1399.480508</td>\n",
       "      <td>-499.374053</td>\n",
       "      <td>11.327427</td>\n",
       "      <td>4.767383</td>\n",
       "      <td>488.248117</td>\n",
       "      <td>63.315324</td>\n",
       "      <td>41.269161</td>\n",
       "      <td>11.290425</td>\n",
       "      <td>13.607257</td>\n",
       "      <td>5.738081</td>\n",
       "      <td>13.650053</td>\n",
       "      <td>5.739634</td>\n",
       "      <td>996.541302</td>\n",
       "      <td>-350.562517</td>\n",
       "      <td>1304.658848</td>\n",
       "      <td>-399.511519</td>\n",
       "      <td>1306.455515</td>\n",
       "      <td>-399.050685</td>\n",
       "      <td>1248.699349</td>\n",
       "      <td>-400.876894</td>\n",
       "      <td>1058.839106</td>\n",
       "      <td>-398.988239</td>\n",
       "      <td>949.645313</td>\n",
       "      <td>-399.277632</td>\n",
       "      <td>24.886905</td>\n",
       "      <td>-499.357375</td>\n",
       "      <td>14.979233</td>\n",
       "      <td>-500.186804</td>\n",
       "      <td>19.962364</td>\n",
       "      <td>-450.638828</td>\n",
       "      <td>14.009245</td>\n",
       "      <td>-450.022259</td>\n",
       "      <td>12.025367</td>\n",
       "      <td>-500.786497</td>\n",
       "      <td>8.054678</td>\n",
       "      <td>-500.397500</td>\n",
       "      <td>8.107890</td>\n",
       "      <td>-509.526725</td>\n",
       "      <td>4.957674</td>\n",
       "      <td>-500.360026</td>\n",
       "      <td>25.003331</td>\n",
       "      <td>-500.856333</td>\n",
       "    </tr>\n",
       "  </tbody>\n",
       "</table>\n",
       "</div>"
      ],
      "text/plain": [
       "                  date  primary_cleaner.input.sulfate  \\\n",
       "0  2016-09-01 00:59:59                     210.800909   \n",
       "1  2016-09-01 01:59:59                     215.392455   \n",
       "2  2016-09-01 02:59:59                     215.259946   \n",
       "3  2016-09-01 03:59:59                     215.336236   \n",
       "4  2016-09-01 04:59:59                     199.099327   \n",
       "\n",
       "   primary_cleaner.input.depressant  primary_cleaner.input.feed_size  \\\n",
       "0                         14.993118                         8.080000   \n",
       "1                         14.987471                         8.080000   \n",
       "2                         12.884934                         7.786667   \n",
       "3                         12.006805                         7.640000   \n",
       "4                         10.682530                         7.530000   \n",
       "\n",
       "   primary_cleaner.input.xanthate  primary_cleaner.state.floatbank8_a_air  \\\n",
       "0                        1.005021                             1398.981301   \n",
       "1                        0.990469                             1398.777912   \n",
       "2                        0.996043                             1398.493666   \n",
       "3                        0.863514                             1399.618111   \n",
       "4                        0.805575                             1401.268123   \n",
       "\n",
       "   primary_cleaner.state.floatbank8_a_level  \\\n",
       "0                               -500.225577   \n",
       "1                               -500.057435   \n",
       "2                               -500.868360   \n",
       "3                               -498.863574   \n",
       "4                               -500.808305   \n",
       "\n",
       "   primary_cleaner.state.floatbank8_b_air  \\\n",
       "0                             1399.144926   \n",
       "1                             1398.055362   \n",
       "2                             1398.860436   \n",
       "3                             1397.440120   \n",
       "4                             1398.128818   \n",
       "\n",
       "   primary_cleaner.state.floatbank8_b_level  \\\n",
       "0                               -499.919735   \n",
       "1                               -499.778182   \n",
       "2                               -499.764529   \n",
       "3                               -499.211024   \n",
       "4                               -499.504543   \n",
       "\n",
       "   primary_cleaner.state.floatbank8_c_air  \\\n",
       "0                             1400.102998   \n",
       "1                             1396.151033   \n",
       "2                             1398.075709   \n",
       "3                             1400.129303   \n",
       "4                             1402.172226   \n",
       "\n",
       "   primary_cleaner.state.floatbank8_c_level  \\\n",
       "0                               -500.704369   \n",
       "1                               -499.240168   \n",
       "2                               -502.151509   \n",
       "3                               -498.355873   \n",
       "4                               -500.810606   \n",
       "\n",
       "   primary_cleaner.state.floatbank8_d_air  \\\n",
       "0                             1399.001695   \n",
       "1                             1399.508091   \n",
       "2                             1399.497088   \n",
       "3                             1401.065165   \n",
       "4                             1399.480508   \n",
       "\n",
       "   primary_cleaner.state.floatbank8_d_level  rougher.input.feed_ag  \\\n",
       "0                               -499.485144              13.128569   \n",
       "1                               -500.416324              13.036280   \n",
       "2                               -499.715479              13.138412   \n",
       "3                               -501.038738              12.400507   \n",
       "4                               -499.374053              11.327427   \n",
       "\n",
       "   rougher.input.feed_pb  rougher.input.feed_rate  rougher.input.feed_size  \\\n",
       "0               5.636710               489.793655                62.710452   \n",
       "1               5.526065               490.104534                61.961163   \n",
       "2               5.426561               489.617969                66.903807   \n",
       "3               5.114758               476.618130                59.865919   \n",
       "4               4.767383               488.248117                63.315324   \n",
       "\n",
       "   rougher.input.feed_sol  rougher.input.feed_au  \\\n",
       "0               42.022440              12.084103   \n",
       "1               41.187903              11.918977   \n",
       "2               42.546294              12.091332   \n",
       "3               41.060195              12.181597   \n",
       "4               41.269161              11.290425   \n",
       "\n",
       "   rougher.input.floatbank10_sulfate  rougher.input.floatbank10_xanthate  \\\n",
       "0                          16.922877                            6.153479   \n",
       "1                          17.002532                            5.999043   \n",
       "2                          16.992520                            5.850632   \n",
       "3                          16.532144                            5.801935   \n",
       "4                          13.607257                            5.738081   \n",
       "\n",
       "   rougher.input.floatbank11_sulfate  rougher.input.floatbank11_xanthate  \\\n",
       "0                          16.867518                            6.150709   \n",
       "1                          16.996063                            6.002315   \n",
       "2                          16.982096                            5.853594   \n",
       "3                          16.515277                            5.803657   \n",
       "4                          13.650053                            5.739634   \n",
       "\n",
       "   rougher.state.floatbank10_a_air  rougher.state.floatbank10_a_level  \\\n",
       "0                      1001.849317                        -350.301265   \n",
       "1                       998.690785                        -350.425704   \n",
       "2                       998.516720                        -349.783538   \n",
       "3                      1000.276604                        -350.172597   \n",
       "4                       996.541302                        -350.562517   \n",
       "\n",
       "   rougher.state.floatbank10_b_air  rougher.state.floatbank10_b_level  \\\n",
       "0                      1249.738612                        -399.107531   \n",
       "1                      1248.395457                        -399.946025   \n",
       "2                      1247.440748                        -400.264330   \n",
       "3                      1251.322675                        -398.655289   \n",
       "4                      1304.658848                        -399.511519   \n",
       "\n",
       "   rougher.state.floatbank10_c_air  rougher.state.floatbank10_c_level  \\\n",
       "0                      1249.750520                        -399.396730   \n",
       "1                      1249.514451                        -399.630810   \n",
       "2                      1248.207204                        -401.074405   \n",
       "3                      1250.493702                        -399.746728   \n",
       "4                      1306.455515                        -399.050685   \n",
       "\n",
       "   rougher.state.floatbank10_d_air  rougher.state.floatbank10_d_level  \\\n",
       "0                      1198.287855                        -399.488594   \n",
       "1                      1200.506459                        -399.942434   \n",
       "2                      1199.770026                        -400.790582   \n",
       "3                      1199.398691                        -397.503052   \n",
       "4                      1248.699349                        -400.876894   \n",
       "\n",
       "   rougher.state.floatbank10_e_air  rougher.state.floatbank10_e_level  \\\n",
       "0                       999.472250                        -399.530962   \n",
       "1                      1000.002114                        -399.491528   \n",
       "2                       999.925519                        -399.236999   \n",
       "3                      1001.930679                        -400.437573   \n",
       "4                      1058.839106                        -398.988239   \n",
       "\n",
       "   rougher.state.floatbank10_f_air  rougher.state.floatbank10_f_level  \\\n",
       "0                       949.566189                        -398.180807   \n",
       "1                       950.200009                        -405.787514   \n",
       "2                       950.320481                        -400.864340   \n",
       "3                       950.735324                        -399.802986   \n",
       "4                       949.645313                        -399.277632   \n",
       "\n",
       "   secondary_cleaner.state.floatbank2_a_air  \\\n",
       "0                                 24.938200   \n",
       "1                                 24.923466   \n",
       "2                                 24.908732   \n",
       "3                                 24.893998   \n",
       "4                                 24.886905   \n",
       "\n",
       "   secondary_cleaner.state.floatbank2_a_level  \\\n",
       "0                                 -500.490963   \n",
       "1                                 -499.813963   \n",
       "2                                 -500.304035   \n",
       "3                                 -499.382374   \n",
       "4                                 -499.357375   \n",
       "\n",
       "   secondary_cleaner.state.floatbank2_b_air  \\\n",
       "0                                 14.947607   \n",
       "1                                 14.930873   \n",
       "2                                 14.996511   \n",
       "3                                 14.916674   \n",
       "4                                 14.979233   \n",
       "\n",
       "   secondary_cleaner.state.floatbank2_b_level  \\\n",
       "0                                 -500.013837   \n",
       "1                                 -500.764452   \n",
       "2                                 -500.993821   \n",
       "3                                 -499.862299   \n",
       "4                                 -500.186804   \n",
       "\n",
       "   secondary_cleaner.state.floatbank3_a_air  \\\n",
       "0                                 20.018166   \n",
       "1                                 19.988503   \n",
       "2                                 20.039689   \n",
       "3                                 20.031100   \n",
       "4                                 19.962364   \n",
       "\n",
       "   secondary_cleaner.state.floatbank3_a_level  \\\n",
       "0                                 -450.395995   \n",
       "1                                 -450.114024   \n",
       "2                                 -450.263164   \n",
       "3                                 -449.372570   \n",
       "4                                 -450.638828   \n",
       "\n",
       "   secondary_cleaner.state.floatbank3_b_air  \\\n",
       "0                                 13.987058   \n",
       "1                                 14.092981   \n",
       "2                                 14.077881   \n",
       "3                                 14.013968   \n",
       "4                                 14.009245   \n",
       "\n",
       "   secondary_cleaner.state.floatbank3_b_level  \\\n",
       "0                                 -449.831513   \n",
       "1                                 -450.059163   \n",
       "2                                 -449.660997   \n",
       "3                                 -449.526900   \n",
       "4                                 -450.022259   \n",
       "\n",
       "   secondary_cleaner.state.floatbank4_a_air  \\\n",
       "0                                 12.023554   \n",
       "1                                 12.058140   \n",
       "2                                 11.962366   \n",
       "3                                 12.033091   \n",
       "4                                 12.025367   \n",
       "\n",
       "   secondary_cleaner.state.floatbank4_a_level  \\\n",
       "0                                 -497.795834   \n",
       "1                                 -498.695773   \n",
       "2                                 -498.767484   \n",
       "3                                 -498.350935   \n",
       "4                                 -500.786497   \n",
       "\n",
       "   secondary_cleaner.state.floatbank4_b_air  \\\n",
       "0                                  8.016656   \n",
       "1                                  8.130979   \n",
       "2                                  8.096893   \n",
       "3                                  8.074946   \n",
       "4                                  8.054678   \n",
       "\n",
       "   secondary_cleaner.state.floatbank4_b_level  \\\n",
       "0                                 -501.289139   \n",
       "1                                 -499.634209   \n",
       "2                                 -500.827423   \n",
       "3                                 -499.474407   \n",
       "4                                 -500.397500   \n",
       "\n",
       "   secondary_cleaner.state.floatbank5_a_air  \\\n",
       "0                                  7.946562   \n",
       "1                                  7.958270   \n",
       "2                                  8.071056   \n",
       "3                                  7.897085   \n",
       "4                                  8.107890   \n",
       "\n",
       "   secondary_cleaner.state.floatbank5_a_level  \\\n",
       "0                                 -432.317850   \n",
       "1                                 -525.839648   \n",
       "2                                 -500.801673   \n",
       "3                                 -500.868509   \n",
       "4                                 -509.526725   \n",
       "\n",
       "   secondary_cleaner.state.floatbank5_b_air  \\\n",
       "0                                  4.872511   \n",
       "1                                  4.878850   \n",
       "2                                  4.905125   \n",
       "3                                  4.931400   \n",
       "4                                  4.957674   \n",
       "\n",
       "   secondary_cleaner.state.floatbank5_b_level  \\\n",
       "0                                 -500.037437   \n",
       "1                                 -500.162375   \n",
       "2                                 -499.828510   \n",
       "3                                 -499.963623   \n",
       "4                                 -500.360026   \n",
       "\n",
       "   secondary_cleaner.state.floatbank6_a_air  \\\n",
       "0                                 26.705889   \n",
       "1                                 25.019940   \n",
       "2                                 24.994862   \n",
       "3                                 24.948919   \n",
       "4                                 25.003331   \n",
       "\n",
       "   secondary_cleaner.state.floatbank6_a_level  \n",
       "0                                 -499.709414  \n",
       "1                                 -499.819438  \n",
       "2                                 -500.622559  \n",
       "3                                 -498.709987  \n",
       "4                                 -500.856333  "
      ]
     },
     "execution_count": 81,
     "metadata": {},
     "output_type": "execute_result"
    }
   ],
   "source": [
    "gold_recovery_test.head()"
   ]
  },
  {
   "cell_type": "markdown",
   "metadata": {},
   "source": [
    "### 4. Исследуем, как меняется концентрация металлов (Au, Ag, Pb) на различных этапах очистки."
   ]
  },
  {
   "cell_type": "code",
   "execution_count": 82,
   "metadata": {
    "scrolled": false
   },
   "outputs": [
    {
     "data": {
      "image/png": "[encoded data removed]",
      "text/plain": [
       "<Figure size 720x576 with 1 Axes>"
      ]
     },
     "metadata": {
      "needs_background": "light"
     },
     "output_type": "display_data"
    }
   ],
   "source": [
    "figsize(10, 8)\n",
    "\n",
    "au1 = sns.kdeplot(gold_recovery_train['rougher.input.feed_au'], shade = False, clip=(5,55), alpha = 0.8);\n",
    "au2 = sns.kdeplot(gold_recovery_train['rougher.output.concentrate_au'], shade = False, clip=(5,55), alpha = 0.8);\n",
    "au3 = sns.kdeplot(gold_recovery_train['primary_cleaner.output.concentrate_au'], shade = False, clip=(5,55), alpha = 0.8);\n",
    "au4 = sns.kdeplot(gold_recovery_train['final.output.concentrate_au'], shade = False, clip=(5,55), alpha = 0.8);\n",
    "\n",
    "au1.set(yticks=[])\n",
    "au2.set(yticks=[])\n",
    "au3.set(yticks=[])\n",
    "au4.set(yticks=[])\n",
    "    \n",
    "plt.xlabel('Концентрация', size = 12); \n",
    "plt.title('Изменение концентрации Au на различных этапах очистки', size = 17);"
   ]
  },
  {
   "cell_type": "markdown",
   "metadata": {},
   "source": [
    "Хорошо видно, с каждым этапом очистки концентрация золота увеличивается."
   ]
  },
  {
   "cell_type": "code",
   "execution_count": 83,
   "metadata": {},
   "outputs": [
    {
     "data": {
      "text/plain": [
       "Text(0.5, 1.0, 'Изменение концентрации Ag на различных этапах очистки')"
      ]
     },
     "execution_count": 83,
     "metadata": {},
     "output_type": "execute_result"
    },
    {
     "data": {
      "image/png": "[encoded data removed]",
      "text/plain": [
       "<Figure size 720x576 with 1 Axes>"
      ]
     },
     "metadata": {
      "needs_background": "light"
     },
     "output_type": "display_data"
    }
   ],
   "source": [
    "ag1 = sns.kdeplot(gold_recovery_train['rougher.input.feed_ag'], shade = False, clip=(5,55), alpha = 0.8);\n",
    "ag2 = sns.kdeplot(gold_recovery_train['rougher.output.concentrate_ag'], shade = False, clip=(3,25), alpha = 0.8);\n",
    "ag3 = sns.kdeplot(gold_recovery_train['primary_cleaner.output.concentrate_ag'], shade = False, clip=(3,25), alpha = 0.8);\n",
    "ag4 = sns.kdeplot(gold_recovery_train['final.output.concentrate_ag'], shade = False, clip=(3,25), alpha = 0.8);\n",
    "\n",
    "ag1.set(yticks=[])\n",
    "ag2.set(yticks=[])\n",
    "ag3.set(yticks=[])\n",
    "ag4.set(yticks=[])\n",
    "    \n",
    "plt.xlabel('Концентрация', size = 12); \n",
    "plt.title('Изменение концентрации Ag на различных этапах очистки', size = 17)"
   ]
  },
  {
   "cell_type": "markdown",
   "metadata": {},
   "source": [
    "Максимальная концентрация серебра достигается после флотации, затем этот параметр уменьшается."
   ]
  },
  {
   "cell_type": "code",
   "execution_count": 84,
   "metadata": {
    "scrolled": true
   },
   "outputs": [
    {
     "data": {
      "text/plain": [
       "Text(0.5, 1.0, 'Изменение концентрации Pb на различных этапах очистки')"
      ]
     },
     "execution_count": 84,
     "metadata": {},
     "output_type": "execute_result"
    },
    {
     "data": {
      "image/png": "[encoded data removed]",
      "text/plain": [
       "<Figure size 720x576 with 1 Axes>"
      ]
     },
     "metadata": {
      "needs_background": "light"
     },
     "output_type": "display_data"
    }
   ],
   "source": [
    "pb1 = sns.kdeplot(gold_recovery_train['rougher.input.feed_pb'], shade = False, clip=(5,55), alpha = 0.8);\n",
    "pb2 = sns.kdeplot(gold_recovery_train['rougher.output.concentrate_pb'], shade = False, clip=(3,25), alpha = 0.8);\n",
    "pb3 = sns.kdeplot(gold_recovery_train['primary_cleaner.output.concentrate_pb'], shade = False, clip=(3,25), alpha = 0.8);\n",
    "pb4 = sns.kdeplot(gold_recovery_train['final.output.concentrate_pb'], shade = False, clip=(3,25), alpha = 0.8);\n",
    "\n",
    "pb1.set(yticks=[])\n",
    "pb2.set(yticks=[])\n",
    "pb3.set(yticks=[])\n",
    "pb4.set(yticks=[])\n",
    "\n",
    "plt.xlabel('Концентрация', size = 12); \n",
    "plt.title('Изменение концентрации Pb на различных этапах очистки', size = 17)"
   ]
  },
  {
   "cell_type": "markdown",
   "metadata": {},
   "source": [
    "Концентрация свинца увеличивается с каждым этапом очистки, но не так значительно, как это происходит с золотом. После первичного этапа очистки концентрация практически не изменилась, но увеличилось качество, т.е. увеличилось количество проб с большей концентрацией (график `final.output.concentrate_pb` (финальный концентрат) выше по оси Y и уже по оси Х, чем `primary_cleaner.output.concentrate_pb` (после первичного этапа очистки).  "
   ]
  },
  {
   "cell_type": "markdown",
   "metadata": {},
   "source": [
    "### 5. Сравним распределения размеров гранул сырья на обучающей и тестовой выборках. \n",
    "\n",
    "Изучим размер гранул перед и после флотации."
   ]
  },
  {
   "cell_type": "code",
   "execution_count": 85,
   "metadata": {
    "scrolled": true
   },
   "outputs": [
    {
     "name": "stdout",
     "output_type": "stream",
     "text": [
      "       primary_cleaner.input.feed_size  rougher.input.feed_size\n",
      "count                     14149.000000             14149.000000\n",
      "mean                          7.322310                60.142646\n",
      "std                           0.614062                22.638726\n",
      "min                           1.080000                 9.659576\n",
      "25%                           6.960000                48.979988\n",
      "50%                           7.290000                55.377622\n",
      "75%                           7.700000                65.949832\n",
      "max                          10.470000               484.967466 \n",
      "\n",
      "       primary_cleaner.input.feed_size  rougher.input.feed_size\n",
      "count                      5856.000000              5856.000000\n",
      "mean                          7.264651                55.890660\n",
      "std                           0.611526                22.704942\n",
      "min                           5.650000                 0.046369\n",
      "25%                           6.885625                43.867479\n",
      "50%                           7.259333                49.970737\n",
      "75%                           7.650000                61.615634\n",
      "max                          15.500000               477.445473\n"
     ]
    }
   ],
   "source": [
    "f_size_tr = gold_recovery_train.filter(like='size', axis=1)\n",
    "f_size_t = gold_recovery_test.filter(like='size', axis=1)\n",
    "print(f_size_tr.describe(), '\\n')\n",
    "print(f_size_t.describe())\n",
    "# fsize_train = gold_recovery_train[['rougher.input.feed_size'], ['primary_cleaner.input.feed_size']]\n",
    "# fsize_test = gold_recovery_test['rougher.input.feed_size', 'primary_cleaner.input.feed_size']"
   ]
  },
  {
   "cell_type": "code",
   "execution_count": 86,
   "metadata": {
    "scrolled": false
   },
   "outputs": [
    {
     "data": {
      "text/plain": [
       "Text(0.5, 1.0, 'rougher.input.feed_size')"
      ]
     },
     "execution_count": 86,
     "metadata": {},
     "output_type": "execute_result"
    },
    {
     "data": {
      "image/png": "[encoded data removed]",
      "text/plain": [
       "<Figure size 1152x504 with 2 Axes>"
      ]
     },
     "metadata": {
      "needs_background": "light"
     },
     "output_type": "display_data"
    }
   ],
   "source": [
    "f, (ax1, ax2) = plt.subplots(1, 2, figsize=(16, 7))\n",
    "sns.violinplot(data=(f_size_tr['primary_cleaner.input.feed_size'], f_size_t['primary_cleaner.input.feed_size']), scale='width', inner=None, ax=ax1)\n",
    "sns.violinplot(data=(f_size_tr['rougher.input.feed_size'], f_size_t['rougher.input.feed_size']), scale='width', inner=None, ax=ax2)\n",
    "\n",
    "ax1.set_title('primary_cleaner.input.feed_size')\n",
    "ax2.set_title('rougher.input.feed_size')"
   ]
  },
  {
   "cell_type": "markdown",
   "metadata": {},
   "source": [
    "Из приведённых выше статистических данных и диаграмм видно, что распределения размеров гранул сырья на обучающей и тестовой выборках отличаются друг от друга незначительно."
   ]
  },
  {
   "cell_type": "markdown",
   "metadata": {},
   "source": [
    "### 6. Исследуем суммарную концентрацию всех веществ на разных стадиях.\n",
    "\n",
    "\n",
    "Выделим концентрацию Au, Ag, Pb и Sol на каждом этапе очистки и просуммируем в столбец `_total`.  \n",
    "Концентрация на стадии:  \n",
    "\n",
    "- исходное сырьё (руда) -  `rougher.input.feed_`;\n",
    "- после флотации (черновой концентрат) - `rougher.output.concentrate_`;\n",
    "- после первичной очистки - `primary_cleaner.output.concentrate_`;\n",
    "- финальный концентрат - `final.output.concentrate_`.\n",
    "\n",
    "#### Обучающая выборка"
   ]
  },
  {
   "cell_type": "code",
   "execution_count": 87,
   "metadata": {
    "scrolled": true
   },
   "outputs": [
    {
     "data": {
      "text/html": [
       "<div>\n",
       "<style scoped>\n",
       "    .dataframe tbody tr th:only-of-type {\n",
       "        vertical-align: middle;\n",
       "    }\n",
       "\n",
       "    .dataframe tbody tr th {\n",
       "        vertical-align: top;\n",
       "    }\n",
       "\n",
       "    .dataframe thead th {\n",
       "        text-align: right;\n",
       "    }\n",
       "</style>\n",
       "<table border=\"1\" class=\"dataframe\">\n",
       "  <thead>\n",
       "    <tr style=\"text-align: right;\">\n",
       "      <th></th>\n",
       "      <th>rougher.input.feed_ag</th>\n",
       "      <th>rougher.input.feed_pb</th>\n",
       "      <th>rougher.input.feed_rate</th>\n",
       "      <th>rougher.input.feed_size</th>\n",
       "      <th>rougher.input.feed_sol</th>\n",
       "      <th>rougher.input.feed_au</th>\n",
       "      <th>raw_total</th>\n",
       "    </tr>\n",
       "  </thead>\n",
       "  <tbody>\n",
       "    <tr>\n",
       "      <td>0</td>\n",
       "      <td>13.128569</td>\n",
       "      <td>5.636710</td>\n",
       "      <td>489.793655</td>\n",
       "      <td>62.710452</td>\n",
       "      <td>42.022440</td>\n",
       "      <td>12.084103</td>\n",
       "      <td>72.871822</td>\n",
       "    </tr>\n",
       "    <tr>\n",
       "      <td>1</td>\n",
       "      <td>13.036280</td>\n",
       "      <td>5.526065</td>\n",
       "      <td>490.104534</td>\n",
       "      <td>61.961163</td>\n",
       "      <td>41.187903</td>\n",
       "      <td>11.918977</td>\n",
       "      <td>71.669225</td>\n",
       "    </tr>\n",
       "    <tr>\n",
       "      <td>2</td>\n",
       "      <td>13.138412</td>\n",
       "      <td>5.426561</td>\n",
       "      <td>489.617969</td>\n",
       "      <td>66.903807</td>\n",
       "      <td>42.546294</td>\n",
       "      <td>12.091332</td>\n",
       "      <td>73.202598</td>\n",
       "    </tr>\n",
       "    <tr>\n",
       "      <td>3</td>\n",
       "      <td>12.400507</td>\n",
       "      <td>5.114758</td>\n",
       "      <td>476.618130</td>\n",
       "      <td>59.865919</td>\n",
       "      <td>41.060195</td>\n",
       "      <td>12.181597</td>\n",
       "      <td>70.757057</td>\n",
       "    </tr>\n",
       "    <tr>\n",
       "      <td>4</td>\n",
       "      <td>11.327427</td>\n",
       "      <td>4.767383</td>\n",
       "      <td>488.248117</td>\n",
       "      <td>63.315324</td>\n",
       "      <td>41.269161</td>\n",
       "      <td>11.290425</td>\n",
       "      <td>68.654396</td>\n",
       "    </tr>\n",
       "  </tbody>\n",
       "</table>\n",
       "</div>"
      ],
      "text/plain": [
       "   rougher.input.feed_ag  rougher.input.feed_pb  rougher.input.feed_rate  \\\n",
       "0              13.128569               5.636710               489.793655   \n",
       "1              13.036280               5.526065               490.104534   \n",
       "2              13.138412               5.426561               489.617969   \n",
       "3              12.400507               5.114758               476.618130   \n",
       "4              11.327427               4.767383               488.248117   \n",
       "\n",
       "   rougher.input.feed_size  rougher.input.feed_sol  rougher.input.feed_au  \\\n",
       "0                62.710452               42.022440              12.084103   \n",
       "1                61.961163               41.187903              11.918977   \n",
       "2                66.903807               42.546294              12.091332   \n",
       "3                59.865919               41.060195              12.181597   \n",
       "4                63.315324               41.269161              11.290425   \n",
       "\n",
       "   raw_total  \n",
       "0  72.871822  \n",
       "1  71.669225  \n",
       "2  73.202598  \n",
       "3  70.757057  \n",
       "4  68.654396  "
      ]
     },
     "execution_count": 87,
     "metadata": {},
     "output_type": "execute_result"
    }
   ],
   "source": [
    "raw_tot = gold_recovery_train.filter(like='rougher.input.feed_', axis=1)\n",
    "raw_tot['raw_total'] = raw_tot.iloc[:,[0,1,4,5]].sum(axis=1) # суммарная концентрация всех веществ в обучающей выборке\n",
    "gold_recovery_train['raw_total'] = raw_tot['raw_total'] # добавление столбца в обучающую выборку\n",
    "\n",
    "rougher_tot = gold_recovery_train.filter(like='rougher.output.concentrate_', axis=1)\n",
    "rougher_tot['rougher_total'] = rougher_tot.sum(axis=1) # суммарная концентрация всех веществ в обучающей выборке\n",
    "gold_recovery_train['rougher_total'] = rougher_tot['rougher_total'] # добавление столбца в обучающую выборку\n",
    "\n",
    "prim_tot = gold_recovery_train.filter(like='primary_cleaner.output.concentrate_', axis=1)\n",
    "prim_tot['primary_total'] = prim_tot.sum(axis=1) # суммарная концентрация всех веществ в обучающей выборке\n",
    "gold_recovery_train['primary_total'] = prim_tot['primary_total'] # добавление столбца в обучающую выборку\n",
    "\n",
    "fin_tot = gold_recovery_train.filter(like='final.output.concentrate_', axis=1)\n",
    "fin_tot['final_total'] = fin_tot.sum(axis=1) # суммарная концентрация всех веществ в обучающей выборке\n",
    "gold_recovery_train['final_total'] = fin_tot['final_total'] # добавление столбца в обучающую выборку\n",
    "\n",
    "raw_tot_t = gold_recovery_test.filter(like='rougher.input.feed_', axis=1) \n",
    "raw_tot_t['raw_total'] = raw_tot_t.iloc[:,[0,1,4,5]].sum(axis=1) # суммарная концентрация всех веществ в тест.выборке\n",
    "gold_recovery_test['raw_total'] = raw_tot_t['raw_total'] # добавление столбца в тестовую выборку\n",
    "raw_tot_t.head()"
   ]
  },
  {
   "cell_type": "code",
   "execution_count": 88,
   "metadata": {},
   "outputs": [
    {
     "data": {
      "text/html": [
       "<div>\n",
       "<style scoped>\n",
       "    .dataframe tbody tr th:only-of-type {\n",
       "        vertical-align: middle;\n",
       "    }\n",
       "\n",
       "    .dataframe tbody tr th {\n",
       "        vertical-align: top;\n",
       "    }\n",
       "\n",
       "    .dataframe thead th {\n",
       "        text-align: right;\n",
       "    }\n",
       "</style>\n",
       "<table border=\"1\" class=\"dataframe\">\n",
       "  <thead>\n",
       "    <tr style=\"text-align: right;\">\n",
       "      <th></th>\n",
       "      <th>rougher.input.feed_ag</th>\n",
       "      <th>rougher.input.feed_pb</th>\n",
       "      <th>rougher.input.feed_rate</th>\n",
       "      <th>rougher.input.feed_size</th>\n",
       "      <th>rougher.input.feed_sol</th>\n",
       "      <th>rougher.input.feed_au</th>\n",
       "      <th>raw_total</th>\n",
       "    </tr>\n",
       "  </thead>\n",
       "  <tbody>\n",
       "    <tr>\n",
       "      <td>count</td>\n",
       "      <td>14149.000000</td>\n",
       "      <td>14149.000000</td>\n",
       "      <td>14149.000000</td>\n",
       "      <td>14149.000000</td>\n",
       "      <td>14149.000000</td>\n",
       "      <td>14149.000000</td>\n",
       "      <td>14149.000000</td>\n",
       "    </tr>\n",
       "    <tr>\n",
       "      <td>mean</td>\n",
       "      <td>8.579195</td>\n",
       "      <td>3.521209</td>\n",
       "      <td>473.864794</td>\n",
       "      <td>60.142646</td>\n",
       "      <td>36.296546</td>\n",
       "      <td>7.866577</td>\n",
       "      <td>56.263527</td>\n",
       "    </tr>\n",
       "    <tr>\n",
       "      <td>std</td>\n",
       "      <td>1.896284</td>\n",
       "      <td>1.071906</td>\n",
       "      <td>104.348979</td>\n",
       "      <td>22.638726</td>\n",
       "      <td>4.966961</td>\n",
       "      <td>1.919506</td>\n",
       "      <td>7.000103</td>\n",
       "    </tr>\n",
       "    <tr>\n",
       "      <td>min</td>\n",
       "      <td>0.010000</td>\n",
       "      <td>0.010000</td>\n",
       "      <td>0.012786</td>\n",
       "      <td>9.659576</td>\n",
       "      <td>0.010000</td>\n",
       "      <td>0.010000</td>\n",
       "      <td>0.040000</td>\n",
       "    </tr>\n",
       "    <tr>\n",
       "      <td>25%</td>\n",
       "      <td>7.132802</td>\n",
       "      <td>2.781136</td>\n",
       "      <td>420.605284</td>\n",
       "      <td>48.979988</td>\n",
       "      <td>34.095312</td>\n",
       "      <td>6.596217</td>\n",
       "      <td>52.591070</td>\n",
       "    </tr>\n",
       "    <tr>\n",
       "      <td>50%</td>\n",
       "      <td>8.156092</td>\n",
       "      <td>3.422800</td>\n",
       "      <td>499.449303</td>\n",
       "      <td>55.377622</td>\n",
       "      <td>37.012497</td>\n",
       "      <td>7.649138</td>\n",
       "      <td>56.627137</td>\n",
       "    </tr>\n",
       "    <tr>\n",
       "      <td>75%</td>\n",
       "      <td>9.918304</td>\n",
       "      <td>4.224092</td>\n",
       "      <td>547.326781</td>\n",
       "      <td>65.949832</td>\n",
       "      <td>39.415905</td>\n",
       "      <td>9.066976</td>\n",
       "      <td>60.772003</td>\n",
       "    </tr>\n",
       "    <tr>\n",
       "      <td>max</td>\n",
       "      <td>14.596026</td>\n",
       "      <td>7.142594</td>\n",
       "      <td>717.508837</td>\n",
       "      <td>484.967466</td>\n",
       "      <td>48.363177</td>\n",
       "      <td>13.126043</td>\n",
       "      <td>74.458253</td>\n",
       "    </tr>\n",
       "  </tbody>\n",
       "</table>\n",
       "</div>"
      ],
      "text/plain": [
       "       rougher.input.feed_ag  rougher.input.feed_pb  rougher.input.feed_rate  \\\n",
       "count           14149.000000           14149.000000             14149.000000   \n",
       "mean                8.579195               3.521209               473.864794   \n",
       "std                 1.896284               1.071906               104.348979   \n",
       "min                 0.010000               0.010000                 0.012786   \n",
       "25%                 7.132802               2.781136               420.605284   \n",
       "50%                 8.156092               3.422800               499.449303   \n",
       "75%                 9.918304               4.224092               547.326781   \n",
       "max                14.596026               7.142594               717.508837   \n",
       "\n",
       "       rougher.input.feed_size  rougher.input.feed_sol  rougher.input.feed_au  \\\n",
       "count             14149.000000            14149.000000           14149.000000   \n",
       "mean                 60.142646               36.296546               7.866577   \n",
       "std                  22.638726                4.966961               1.919506   \n",
       "min                   9.659576                0.010000               0.010000   \n",
       "25%                  48.979988               34.095312               6.596217   \n",
       "50%                  55.377622               37.012497               7.649138   \n",
       "75%                  65.949832               39.415905               9.066976   \n",
       "max                 484.967466               48.363177              13.126043   \n",
       "\n",
       "          raw_total  \n",
       "count  14149.000000  \n",
       "mean      56.263527  \n",
       "std        7.000103  \n",
       "min        0.040000  \n",
       "25%       52.591070  \n",
       "50%       56.627137  \n",
       "75%       60.772003  \n",
       "max       74.458253  "
      ]
     },
     "execution_count": 88,
     "metadata": {},
     "output_type": "execute_result"
    }
   ],
   "source": [
    "raw_tot.describe()"
   ]
  },
  {
   "cell_type": "code",
   "execution_count": 89,
   "metadata": {
    "scrolled": false
   },
   "outputs": [
    {
     "data": {
      "image/png": "[encoded data removed]",
      "text/plain": [
       "<Figure size 864x720 with 1 Axes>"
      ]
     },
     "metadata": {
      "needs_background": "light"
     },
     "output_type": "display_data"
    }
   ],
   "source": [
    "figsize(12, 10)\n",
    "\n",
    "tot1 = sns.kdeplot(gold_recovery_train['raw_total'], shade = False, alpha = 0.8);\n",
    "tot2 = sns.kdeplot(gold_recovery_train['rougher_total'], shade = False, alpha = 0.8);\n",
    "tot3 = sns.kdeplot(gold_recovery_train['primary_total'], shade = False, alpha = 0.8);\n",
    "tot4 = sns.kdeplot(gold_recovery_train['final_total'], shade = False, alpha = 0.8);\n",
    "\n",
    "tot1.set(yticks=[])\n",
    "tot2.set(yticks=[])\n",
    "tot3.set(yticks=[])\n",
    "tot4.set(yticks=[])\n",
    "\n",
    "plt.legend(title='Стадия', loc='upper left', labels=['Cырье', 'Черновая', 'Первичная', 'Финальная'])\n",
    "plt.xlabel('Концентрация', size = 12); \n",
    "plt.title('Суммарная концентрация всех веществ на разных стадиях', size = 17);"
   ]
  },
  {
   "cell_type": "markdown",
   "metadata": {},
   "source": [
    "Статистические данные и графики говорят о том, что на каждом этапе присутствуют аномальные значения в суммарном распределении. Причём, осноные аномалии в около нулевом значении. Они могли возникнуть из-за ошибок или некорректной работы датчиков. В данном случае мы удалим «лишние» значения, руководствуясь определением экстремальных аномалий:  \n",
    "- ниже первого квартиля − 3 ∗ интерквартильный размах.  \n",
    "- выше третьего квартиля + 3 ∗ интерквартильный размах.  \n",
    "\n",
    "Напишем функцию для удаления аномальных значений. "
   ]
  },
  {
   "cell_type": "code",
   "execution_count": 90,
   "metadata": {},
   "outputs": [],
   "source": [
    "def remv_outl(dfr, set):\n",
    "    first_quartile = set.describe()['25%']\n",
    "    third_quartile = set.describe()['75%']\n",
    "\n",
    "    iqr = third_quartile - first_quartile # интерквартильный размах\n",
    "\n",
    "    cleaned = dfr[(set > (first_quartile - 3 * iqr)) & (set < (third_quartile + 3 * iqr))]\n",
    "    return cleaned.reset_index(drop=True, inplace=False)"
   ]
  },
  {
   "cell_type": "code",
   "execution_count": 91,
   "metadata": {},
   "outputs": [
    {
     "data": {
      "text/html": [
       "<div>\n",
       "<style scoped>\n",
       "    .dataframe tbody tr th:only-of-type {\n",
       "        vertical-align: middle;\n",
       "    }\n",
       "\n",
       "    .dataframe tbody tr th {\n",
       "        vertical-align: top;\n",
       "    }\n",
       "\n",
       "    .dataframe thead th {\n",
       "        text-align: right;\n",
       "    }\n",
       "</style>\n",
       "<table border=\"1\" class=\"dataframe\">\n",
       "  <thead>\n",
       "    <tr style=\"text-align: right;\">\n",
       "      <th></th>\n",
       "      <th>raw_total</th>\n",
       "      <th>rougher_total</th>\n",
       "      <th>primary_total</th>\n",
       "      <th>final_total</th>\n",
       "    </tr>\n",
       "  </thead>\n",
       "  <tbody>\n",
       "    <tr>\n",
       "      <td>count</td>\n",
       "      <td>13028.000000</td>\n",
       "      <td>13028.000000</td>\n",
       "      <td>13028.000000</td>\n",
       "      <td>13028.000000</td>\n",
       "    </tr>\n",
       "    <tr>\n",
       "      <td>mean</td>\n",
       "      <td>56.533039</td>\n",
       "      <td>69.143800</td>\n",
       "      <td>61.846780</td>\n",
       "      <td>69.338104</td>\n",
       "    </tr>\n",
       "    <tr>\n",
       "      <td>std</td>\n",
       "      <td>6.350697</td>\n",
       "      <td>6.902259</td>\n",
       "      <td>5.583469</td>\n",
       "      <td>3.003869</td>\n",
       "    </tr>\n",
       "    <tr>\n",
       "      <td>min</td>\n",
       "      <td>28.179095</td>\n",
       "      <td>39.639975</td>\n",
       "      <td>37.243042</td>\n",
       "      <td>57.494126</td>\n",
       "    </tr>\n",
       "    <tr>\n",
       "      <td>25%</td>\n",
       "      <td>52.734549</td>\n",
       "      <td>65.540149</td>\n",
       "      <td>58.826216</td>\n",
       "      <td>67.731115</td>\n",
       "    </tr>\n",
       "    <tr>\n",
       "      <td>50%</td>\n",
       "      <td>56.692815</td>\n",
       "      <td>69.438813</td>\n",
       "      <td>62.073531</td>\n",
       "      <td>69.227986</td>\n",
       "    </tr>\n",
       "    <tr>\n",
       "      <td>75%</td>\n",
       "      <td>60.826485</td>\n",
       "      <td>73.571134</td>\n",
       "      <td>65.483888</td>\n",
       "      <td>71.035397</td>\n",
       "    </tr>\n",
       "    <tr>\n",
       "      <td>max</td>\n",
       "      <td>74.458253</td>\n",
       "      <td>87.273435</td>\n",
       "      <td>76.918076</td>\n",
       "      <td>80.210644</td>\n",
       "    </tr>\n",
       "  </tbody>\n",
       "</table>\n",
       "</div>"
      ],
      "text/plain": [
       "          raw_total  rougher_total  primary_total   final_total\n",
       "count  13028.000000   13028.000000   13028.000000  13028.000000\n",
       "mean      56.533039      69.143800      61.846780     69.338104\n",
       "std        6.350697       6.902259       5.583469      3.003869\n",
       "min       28.179095      39.639975      37.243042     57.494126\n",
       "25%       52.734549      65.540149      58.826216     67.731115\n",
       "50%       56.692815      69.438813      62.073531     69.227986\n",
       "75%       60.826485      73.571134      65.483888     71.035397\n",
       "max       74.458253      87.273435      76.918076     80.210644"
      ]
     },
     "execution_count": 91,
     "metadata": {},
     "output_type": "execute_result"
    }
   ],
   "source": [
    "gold_train_cleared = gold_recovery_train.copy()\n",
    "gold_train_cleared = remv_outl(gold_train_cleared, gold_train_cleared['raw_total']) # удаления аномалий по суммарным значениям\n",
    "gold_train_cleared = remv_outl(gold_train_cleared, gold_train_cleared['rougher_total'])\n",
    "gold_train_cleared = remv_outl(gold_train_cleared, gold_train_cleared['primary_total'])\n",
    "gold_train_cleared = remv_outl(gold_train_cleared, gold_train_cleared['final_total'])\n",
    "\n",
    "gold_train_cleared.iloc[:,-4:] .describe()"
   ]
  },
  {
   "cell_type": "code",
   "execution_count": 92,
   "metadata": {
    "scrolled": false
   },
   "outputs": [
    {
     "data": {
      "image/png": "[encoded data removed]",
      "text/plain": [
       "<Figure size 864x720 with 1 Axes>"
      ]
     },
     "metadata": {
      "needs_background": "light"
     },
     "output_type": "display_data"
    }
   ],
   "source": [
    "figsize(12, 10)\n",
    "\n",
    "tot1 = sns.kdeplot(gold_train_cleared['raw_total'], clip=(-1, 100), shade = False, alpha = 0.8);\n",
    "tot2 = sns.kdeplot(gold_train_cleared['rougher_total'],clip=(-1, 100), shade = False, alpha = 0.8);\n",
    "tot3 = sns.kdeplot(gold_train_cleared['primary_total'], clip=(-1, 100), shade = False, alpha = 0.8);\n",
    "tot4 = sns.kdeplot(gold_train_cleared['final_total'], clip=(-1, 100), shade = False, alpha = 0.8);\n",
    "\n",
    "tot1.set(yticks=[])\n",
    "\n",
    "plt.legend(title='Стадия', loc='upper left', labels=['Cырье', 'Черновая', 'Первичная', 'Финальная'])\n",
    "plt.xlabel('Концентрация', size = 12); \n",
    "plt.title('Суммарная концентрация всех веществ на разных стадиях после удаления аномалий', size = 17);"
   ]
  },
  {
   "cell_type": "markdown",
   "metadata": {},
   "source": [
    "#### Тестовая выборка\n",
    "\n",
    "В тестовой выборке присутствуют только значения входного сырья. "
   ]
  },
  {
   "cell_type": "code",
   "execution_count": 93,
   "metadata": {
    "scrolled": false
   },
   "outputs": [
    {
     "data": {
      "image/png": "[encoded data removed]",
      "text/plain": [
       "<Figure size 720x576 with 1 Axes>"
      ]
     },
     "metadata": {
      "needs_background": "light"
     },
     "output_type": "display_data"
    }
   ],
   "source": [
    "figsize(10, 8)\n",
    "\n",
    "tott = sns.kdeplot(gold_recovery_test['raw_total'], shade = True, alpha = 0.5);\n",
    "sns.kdeplot(gold_recovery_test['rougher.input.feed_au'],clip=(-1, 100), shade = False, alpha = 0.8);\n",
    "sns.kdeplot(gold_recovery_test['rougher.input.feed_ag'], clip=(-1, 100), shade = False, alpha = 0.8);\n",
    "sns.kdeplot(gold_recovery_test['rougher.input.feed_pb'], clip=(-1, 100), shade = False, alpha = 0.8);\n",
    "sns.kdeplot(gold_recovery_test['rougher.input.feed_sol'], clip=(-1, 100), shade = False, alpha = 0.8);\n",
    "\n",
    "tott.set(yticks=[])\n",
    "\n",
    "plt.legend(title='Тестовая выборка', loc='upper right', labels=['Суммарная', 'Au', 'Ag', 'Pb', 'Sol'])\n",
    "plt.xlabel('Концентрация', size = 12); \n",
    "plt.title('Суммарная концентрация всех веществ в сырье', size = 17);"
   ]
  },
  {
   "cell_type": "markdown",
   "metadata": {},
   "source": [
    "Так же наблюдаем аномальные выбросы в нулевой зоне. Применим ту же функцию, удаляющую экстремальных аномалии."
   ]
  },
  {
   "cell_type": "code",
   "execution_count": 94,
   "metadata": {
    "scrolled": true
   },
   "outputs": [],
   "source": [
    "gold_test_cleared = remv_outl(gold_recovery_test, gold_recovery_test['raw_total']) # после удаления аномальных значений"
   ]
  },
  {
   "cell_type": "code",
   "execution_count": 95,
   "metadata": {
    "scrolled": false
   },
   "outputs": [
    {
     "data": {
      "image/png": "[encoded data removed]",
      "text/plain": [
       "<Figure size 720x576 with 1 Axes>"
      ]
     },
     "metadata": {
      "needs_background": "light"
     },
     "output_type": "display_data"
    }
   ],
   "source": [
    "figsize(10, 8)\n",
    "\n",
    "tott = sns.kdeplot(gold_test_cleared['raw_total'], shade = True, alpha = 0.5);\n",
    "sns.kdeplot(gold_test_cleared['rougher.input.feed_au'],clip=(-1, 100), shade = False, alpha = 0.8);\n",
    "sns.kdeplot(gold_test_cleared['rougher.input.feed_ag'], clip=(-1, 100), shade = False, alpha = 0.8);\n",
    "sns.kdeplot(gold_test_cleared['rougher.input.feed_pb'], clip=(-1, 100), shade = False, alpha = 0.8);\n",
    "sns.kdeplot(gold_test_cleared['rougher.input.feed_sol'], clip=(-1, 100), shade = False, alpha = 0.8);\n",
    "\n",
    "tott.set(yticks=[])\n",
    "\n",
    "plt.legend(title='Тестовая выборка', loc='upper right', labels=['Суммарная', 'Au', 'Ag', 'Pb', 'Sol'])\n",
    "plt.xlabel('Концентрация', size = 12); \n",
    "plt.title('Суммарная концентрация всех веществ в сырье после удаления аномалий', size = 15);"
   ]
  },
  {
   "cell_type": "code",
   "execution_count": 96,
   "metadata": {},
   "outputs": [
    {
     "name": "stdout",
     "output_type": "stream",
     "text": [
      "(13028, 91)\n"
     ]
    },
    {
     "data": {
      "text/plain": [
       "(5438, 54)"
      ]
     },
     "execution_count": 96,
     "metadata": {},
     "output_type": "execute_result"
    }
   ],
   "source": [
    "print(gold_train_cleared.shape)\n",
    "gold_test_cleared.shape"
   ]
  },
  {
   "cell_type": "markdown",
   "metadata": {},
   "source": [
    "В обучающей и тестовой выборке были обнаружены и удалены аномальные значения в суммарном распределении.  \n",
    "\n",
    "В обеих выборках в основном удалились аномальные значения в нулевой зоне (слева от среднего), т.к. минимальное значение в большинстве случаев меньше суммы первого квартиля + 3 интерквартильных размаха, а третий квартиль + 3 интерквартильных размаха больше максимального значения.  "
   ]
  },
  {
   "cell_type": "markdown",
   "metadata": {},
   "source": [
    "### 7. Функция для вычисления итоговой sMAPE.\n",
    "\n",
    "Так как необходимо спрогнозировать сразу две величины:  \n",
    "- эффективность обогащения чернового концентрата `rougher.output.recovery`;\n",
    "- эффективность обогащения финального концентрата `final.output.recovery'.  \n",
    "\n",
    "А метрика итогового sMAPE складывается из sMAPE этих двух величин, то напишем 2 функции: для sMAPE и для итогового sMAPE. Соответственно, чем меньше значение sMAPE (особенно финального концентрата), тем меньше и лучше будет значение итогового sMAPE."
   ]
  },
  {
   "cell_type": "code",
   "execution_count": 97,
   "metadata": {},
   "outputs": [],
   "source": [
    "def smape(target, predict):\n",
    "    return 100/len(target) * np.sum(2 * np.abs(predict - target) / (np.abs(target) + np.abs(predict)))\n",
    "\n",
    "def fin_smape(smape_r, smape_f):\n",
    "    return smape_r * 0.25 + smape_f * 0.75"
   ]
  },
  {
   "cell_type": "markdown",
   "metadata": {},
   "source": [
    "### 8. Обучим разные модели и оценим их качество кросс-валидацией.\n",
    "\n",
    "1) Так как в обучающей выборке на 34 признака больше, чем в тестовой (а проверять лучшую модель мы будем на тестовой), для обучения моделей уравняем количество признаков в выборках.  \n",
    "2) Разделим признаки для обучения моделей и прогнозирования `rougher.output.recovery` и `final.output.recovery`.  \n",
    "3) Проверим выборки на предмет того, что порядок признаков в обучающих и тестовых выборках одинаковый.  \n",
    "4) Для оценки качества модели, помимо целевой метрики качества — sMAPE и метрик R2, MAE, для большей наглядности, будем использовать метрику средней абсолютной ошибки в процентах (Mean Absolute Percentage Error - MAPE). Так как пока этой метрики нет в библиотеке sklearn, напишем функию для расчета."
   ]
  },
  {
   "cell_type": "code",
   "execution_count": 98,
   "metadata": {},
   "outputs": [
    {
     "data": {
      "text/plain": [
       "(13028, 52)"
      ]
     },
     "execution_count": 98,
     "metadata": {},
     "output_type": "execute_result"
    }
   ],
   "source": [
    "gold_train = gold_train_cleared.drop(diff_2, axis=1) # оставляем только те столбцы, которые есть в тестовой выборке\n",
    "gold_train = gold_train.drop(['date', 'raw_total', 'rougher_total', 'primary_total', 'final_total'], axis=1) # уберём ненужные для обучения столбцы\n",
    "gold_train.shape # выборка для целевого признака final.output.recovery"
   ]
  },
  {
   "cell_type": "code",
   "execution_count": 99,
   "metadata": {
    "scrolled": false
   },
   "outputs": [
    {
     "data": {
      "text/plain": [
       "(13028, 22)"
      ]
     },
     "execution_count": 99,
     "metadata": {},
     "output_type": "execute_result"
    }
   ],
   "source": [
    "rougher_state = gold_train.filter(like='rougher.', axis=1) # выборка для целевого признака rougher.output.recovery\n",
    "rougher_state.shape"
   ]
  },
  {
   "cell_type": "code",
   "execution_count": 100,
   "metadata": {},
   "outputs": [],
   "source": [
    "y_rougher = gold_train_cleared['rougher.output.recovery'] # целевые признаки\n",
    "y_final = gold_train_cleared['final.output.recovery']"
   ]
  },
  {
   "cell_type": "code",
   "execution_count": 101,
   "metadata": {
    "scrolled": false
   },
   "outputs": [],
   "source": [
    "gold_test_cleared = gold_test_cleared.merge(gold_recovery_full[['date','rougher.output.recovery','final.output.recovery']], on='date', how='left')\n",
    "gold_test_cleared.dropna(subset=['rougher.output.recovery', 'final.output.recovery'], inplace=True) # удаление строк с отсутствующими целевыми признаками\n",
    "\n",
    "\n",
    "y_rougher_test = gold_test_cleared['rougher.output.recovery'] # тестовый целевой признак 1\n",
    "y_final_test = gold_test_cleared['final.output.recovery'] # тестовый целевой признак 2\n",
    "\n",
    "gold_test = gold_test_cleared.drop(columns = ['date', 'raw_total', 'rougher.output.recovery','final.output.recovery'], axis=1)\n",
    "\n",
    "rougher_test = gold_test.filter(like='rougher.', axis=1) # выборка для целевого признака rougher.output.recovery"
   ]
  },
  {
   "cell_type": "code",
   "execution_count": 102,
   "metadata": {},
   "outputs": [
    {
     "name": "stdout",
     "output_type": "stream",
     "text": [
      "Порядок признаков в выборках \"rougher\" одинаковый: True\n",
      "Порядок признаков в выборках \"final\" одинаковый: True\n"
     ]
    }
   ],
   "source": [
    "correct_r = True\n",
    "for i in range(len(rougher_state.columns)):\n",
    "    if rougher_state.columns[i] != rougher_test.columns[i]:\n",
    "        correct_r = False\n",
    "        break\n",
    "\n",
    "correct_f = True\n",
    "for i in range(len(gold_train.columns)):\n",
    "    if gold_train.columns[i] != gold_test.columns[i]:\n",
    "        correct_f = False\n",
    "        break\n",
    "        \n",
    "print(f'Порядок признаков в выборках \"rougher\" одинаковый: {correct_r}')\n",
    "print(f'Порядок признаков в выборках \"final\" одинаковый: {correct_f}')"
   ]
  },
  {
   "cell_type": "code",
   "execution_count": 103,
   "metadata": {},
   "outputs": [
    {
     "name": "stdout",
     "output_type": "stream",
     "text": [
      "Обучающая выборка для целевого параметра \"rougher.output\": (13028, 22)\n",
      "Целевой признак \"rougher.output\" обучающей выборки: (13028,) \n",
      "\n",
      "Обучающая выборка для \"final.output\": (13028, 52)\n",
      "Целевой признак \"final.output\" обучающей выборки: (13028,) \n",
      "\n",
      "Тестовая выборка для целевого параметра \"rougher.output\": (5272, 22)\n",
      "Целевой признак \"rougher.output\" тестовой выборки: (5272,) \n",
      "\n",
      "Тестовая выборка для целевого параметра \"final.output\": (5272, 52)\n",
      "Целевой признак \"final.output\" тестовой выборки: (5272,)\n"
     ]
    }
   ],
   "source": [
    "print('Обучающая выборка для целевого параметра \"rougher.output\":', rougher_state.shape)\n",
    "print('Целевой признак \"rougher.output\" обучающей выборки:', y_rougher.shape, '\\n')\n",
    "\n",
    "print('Обучающая выборка для \"final.output\":', gold_train.shape)\n",
    "print('Целевой признак \"final.output\" обучающей выборки:', y_final.shape, '\\n')\n",
    "\n",
    "print('Тестовая выборка для целевого параметра \"rougher.output\":',rougher_test.shape)\n",
    "print('Целевой признак \"rougher.output\" тестовой выборки:', y_rougher_test.shape, '\\n')\n",
    "\n",
    "print('Тестовая выборка для целевого параметра \"final.output\":',gold_test.shape)\n",
    "print('Целевой признак \"final.output\" тестовой выборки:', y_final_test.shape)"
   ]
  },
  {
   "cell_type": "code",
   "execution_count": 104,
   "metadata": {},
   "outputs": [],
   "source": [
    "def percentage_error(actual, predicted): # среди y_true есть значения равные 0 (деление на 0),\n",
    "    res = np.empty(actual.shape)         # эта функция для исключения возвращения бесконечности (inf)\n",
    "    for j in range(actual.shape[0]):\n",
    "        if actual[j] != 0:\n",
    "            res[j] = (actual[j] - predicted[j]) / actual[j]\n",
    "        else:\n",
    "            res[j] = predicted[j] / np.mean(actual)\n",
    "    return res\n",
    "\n",
    "def mape_func(y_true, y_pred): # расчет MAPE \n",
    "    return np.mean(np.abs(percentage_error(np.asarray(y_true), np.asarray(y_pred))))"
   ]
  },
  {
   "cell_type": "markdown",
   "metadata": {},
   "source": [
    "#### Сначала обучим \"классические\" модели и расчитаем метрики качества предсказания (без настройки гиперпараметров).\n",
    "\n",
    "##### Для целевого признака `rougher.output.recovery`."
   ]
  },
  {
   "cell_type": "code",
   "execution_count": 105,
   "metadata": {
    "scrolled": true
   },
   "outputs": [
    {
     "name": "stdout",
     "output_type": "stream",
     "text": [
      "sMAPE(rougher) модели LinearRegression = 6.30 \n",
      "\n",
      "R2-rougher = 0.17821779299584406\n",
      "MAE-rougher = 5.185230215235859\n",
      "MAPE-rougher = 6.6%\n",
      "\n",
      "\n",
      "\n",
      "sMAPE(rougher) модели RandomForestRegressor = 6.49 \n",
      "\n",
      "R2-rougher = 0.1213337194010452\n",
      "MAE-rougher = 5.318159420433346\n",
      "MAPE-rougher = 6.9%\n",
      "\n",
      "\n",
      "\n",
      "sMAPE(rougher) модели DecisionTreeRegressor = 8.40 \n",
      "\n",
      "R2-rougher = -0.47077331139475276\n",
      "MAE-rougher = 6.825870059832664\n",
      "MAPE-rougher = 8.7%\n",
      "\n",
      "\n",
      "\n",
      "sMAPE(rougher) модели DummyRegressor = 7.50 \n",
      "\n",
      "R2-rougher = -0.12411617156044774\n",
      "MAE-rougher = 6.232343164192718\n",
      "MAPE-rougher = 8.0%\n",
      "\n",
      "\n",
      "\n"
     ]
    }
   ],
   "source": [
    "#fit decision tree\n",
    "tree1 = DecisionTreeRegressor()\n",
    "# tree1.fit(rougher_state, y_rougher)\n",
    "\n",
    "#fit random forest\n",
    "forest1 = RandomForestRegressor()\n",
    "# forest1.fit(rougher_state, y_rougher)\n",
    "\n",
    "#fit regression\n",
    "lin_reg1 = LinearRegression()\n",
    "# lin_reg1.fit(rougher_state, y_rougher)\n",
    "\n",
    "dum_reg1 = DummyRegressor(strategy=\"mean\")\n",
    "# dum_reg1.fit(rougher_state, y_rougher)\n",
    "\n",
    "models= [('LinearRegression', lin_reg1), ('RandomForestRegressor', forest1), ('DecisionTreeRegressor', tree1),\n",
    "        ('DummyRegressor', dum_reg1)]\n",
    "cv = KFold(n_splits=5,random_state=1234, shuffle=False)\n",
    "for i, model in models:    \n",
    "    rougher_pred = cross_val_predict(model, rougher_state, y_rougher, cv=cv)\n",
    "    \n",
    "    smape_r = smape(y_rougher, rougher_pred)\n",
    "    \n",
    "    r2_r = r2_score(y_rougher, rougher_pred) # rougher\n",
    "        \n",
    "    mae_r = mean_absolute_error(y_rougher, rougher_pred) # rougher\n",
    "        \n",
    "    mape_r = mape_func(y_rougher, rougher_pred) # rougher\n",
    "        \n",
    "    msg = \"%s = %.2f\" % (i, round(smape_r, 2))\n",
    "    print('sMAPE(rougher) модели', msg, '\\n')\n",
    "    print('R2-rougher =', r2_r)\n",
    "    print('MAE-rougher =', mae_r)\n",
    "    print('MAPE-rougher = {:.1%}'.format(mape_r))\n",
    "    print('\\n'*2)"
   ]
  },
  {
   "cell_type": "markdown",
   "metadata": {},
   "source": [
    "##### Для целевого признака `final.output.recovery`."
   ]
  },
  {
   "cell_type": "code",
   "execution_count": 106,
   "metadata": {
    "scrolled": false
   },
   "outputs": [
    {
     "name": "stdout",
     "output_type": "stream",
     "text": [
      "sMAPE(final) модели LinearRegression = 10.86 \n",
      "\n",
      "R2-final = -0.17729517475350653\n",
      "MAE-final  = 7.079632818842707\n",
      "MAPE-final = 11.8% \n",
      "\n",
      "\n",
      "sMAPE(final) модели RandomForestRegressor = 9.23 \n",
      "\n",
      "R2-final = 0.11186818904182005\n",
      "MAE-final  = 5.894084278931225\n",
      "MAPE-final = 9.9% \n",
      "\n",
      "\n",
      "sMAPE(final) модели DecisionTreeRegressor = 14.53 \n",
      "\n",
      "R2-final = -1.0148197302075581\n",
      "MAE-final  = 8.92647438866123\n",
      "MAPE-final = 14.5% \n",
      "\n",
      "\n",
      "sMAPE(final) модели DummyRegressor = 9.84 \n",
      "\n",
      "R2-final = -0.02775690252845875\n",
      "MAE-final  = 6.385253992900647\n",
      "MAPE-final = 11.1% \n",
      "\n",
      "\n"
     ]
    }
   ],
   "source": [
    "#fit decision tree\n",
    "tree2 = DecisionTreeRegressor()\n",
    "# tree2.fit(gold_train, y_final)\n",
    "#fit random forest\n",
    "forest2 = RandomForestRegressor()\n",
    "# forest2.fit(gold_train, y_final)\n",
    "#fit regression\n",
    "lin_reg2 = LinearRegression()\n",
    "# lin_reg2.fit(gold_train, y_final)\n",
    "\n",
    "dum_reg2 = DummyRegressor(strategy=\"mean\")\n",
    "# dum_reg2.fit(gold_train, y_final)\n",
    "\n",
    "models_f = [('LinearRegression', lin_reg2), ('RandomForestRegressor', forest2), ('DecisionTreeRegressor', tree2),\n",
    "           ('DummyRegressor', dum_reg2)]\n",
    "cv = KFold(n_splits=5,random_state=1234, shuffle=False)\n",
    "for i, model in models:    \n",
    "    final_pred = cross_val_predict(model, gold_train, y_final, cv=cv)\n",
    "    smape_f = smape(y_final, final_pred)\n",
    "    \n",
    "    r2_f = r2_score(y_final, final_pred) # final\n",
    "    \n",
    "    mae_f = mean_absolute_error(y_final, final_pred) # final\n",
    "    \n",
    "    mape_f = mape_func(y_final, final_pred) # final\n",
    "    \n",
    "    msg = \"%s = %.2f\" % (i, round(smape_f, 2))\n",
    "    print('sMAPE(final) модели', msg, '\\n')\n",
    "    print('R2-final =', r2_f)\n",
    "    print('MAE-final  =', mae_f)\n",
    "    print('MAPE-final = {:.1%}'.format(mape_f),'\\n'*2)"
   ]
  },
  {
   "cell_type": "markdown",
   "metadata": {},
   "source": [
    "Значение R2 во всех вариантах далеко от единицы, а в некоторых случаях, эта метрика отрицательна, что говорит о низком качестве модели.Cредняя абсолютная ошибка (MAE) - от 5 до 9, ошибка прогноза (MAPE) - от 7 до 17%. Без настройки гиперпараметров для обоих целевых признаков лучший результат показал RandomForestRegressor.\n",
    "\n",
    "\n",
    "#### Попробуем методику масштабирования признаков и поэкспериментируем на других моделях.\n",
    "\n",
    "Заодно проверим как масштабирование признаков отразится на линейной регрессии. Для оценки качества модели возьмём 2 метрики: sMAPE и R2.\n",
    "\n",
    "##### Для целевого признака `rougher.output.recovery`."
   ]
  },
  {
   "cell_type": "code",
   "execution_count": 107,
   "metadata": {
    "scrolled": true
   },
   "outputs": [
    {
     "name": "stdout",
     "output_type": "stream",
     "text": [
      "ScaledLR: 6.298711 (0.178218)\n",
      "ScaledLASSO: 6.409784 (0.148875)\n",
      "ScaledEN: 6.094776 (0.208382)\n",
      "ScaledKNN: 7.676145 (-0.197296)\n",
      "ScaledCART: 8.167396 (-0.371548)\n",
      "ScaledGBM: 6.065928 (0.206025)\n"
     ]
    }
   ],
   "source": [
    "pipelines = []\n",
    "pipelines.append(('ScaledLR', Pipeline([('Scaler', StandardScaler()),('LR',LinearRegression())])))\n",
    "pipelines.append(('ScaledLASSO', Pipeline([('Scaler', StandardScaler()),('LASSO', Lasso())])))\n",
    "pipelines.append(('ScaledEN', Pipeline([('Scaler', StandardScaler()),('EN', ElasticNet())])))\n",
    "pipelines.append(('ScaledKNN', Pipeline([('Scaler', StandardScaler()),('KNN', KNeighborsRegressor())])))\n",
    "pipelines.append(('ScaledCART', Pipeline([('Scaler', StandardScaler()),('CART', DecisionTreeRegressor())])))\n",
    "pipelines.append(('ScaledGBM', Pipeline([('Scaler', StandardScaler()),('GBM', GradientBoostingRegressor())])))\n",
    "\n",
    "for name, model in pipelines:\n",
    "    \n",
    "    y_rougher_pred = cross_val_predict(model, rougher_state, y_rougher, cv=cv)\n",
    "    \n",
    "    smape_r = smape(y_rougher, y_rougher_pred)\n",
    "    r2_r = r2_score(y_rougher, y_rougher_pred)\n",
    "    \n",
    "    msg = \"%s: %f (%f)\" % (name, smape_r, r2_r)\n",
    "    print(msg)"
   ]
  },
  {
   "cell_type": "markdown",
   "metadata": {},
   "source": [
    "##### Для целевого признака `final.output.recovery`."
   ]
  },
  {
   "cell_type": "code",
   "execution_count": 108,
   "metadata": {
    "scrolled": true
   },
   "outputs": [
    {
     "name": "stdout",
     "output_type": "stream",
     "text": [
      "ScaledLR: 10.858055 (-0.177295)\n",
      "ScaledLASSO: 8.878609 (0.143384)\n",
      "ScaledEN: 8.802997 (0.159146)\n",
      "ScaledKNN: 10.865609 (-0.151504)\n",
      "ScaledCART: 15.252685 (-1.138878)\n",
      "ScaledGBM: 9.728354 (0.015444)\n"
     ]
    }
   ],
   "source": [
    "pipelinesf = []\n",
    "pipelinesf.append(('ScaledLR', Pipeline([('Scaler', StandardScaler()),('LR',LinearRegression())])))\n",
    "pipelinesf.append(('ScaledLASSO', Pipeline([('Scaler', StandardScaler()),('LASSO', Lasso())])))\n",
    "pipelinesf.append(('ScaledEN', Pipeline([('Scaler', StandardScaler()),('EN', ElasticNet())])))\n",
    "pipelinesf.append(('ScaledKNN', Pipeline([('Scaler', StandardScaler()),('KNN', KNeighborsRegressor())])))\n",
    "pipelinesf.append(('ScaledCART', Pipeline([('Scaler', StandardScaler()),('CART', DecisionTreeRegressor())])))\n",
    "pipelinesf.append(('ScaledGBM', Pipeline([('Scaler', StandardScaler()),('GBM', GradientBoostingRegressor())])))\n",
    "\n",
    "for name, model in pipelinesf:\n",
    "        \n",
    "    final_pred = cross_val_predict(model, gold_train, y_final, cv=cv)\n",
    "        \n",
    "    smape_f = smape(y_final, final_pred)\n",
    "    r2_f = r2_score(y_final, final_pred)\n",
    "    \n",
    "    msg_f = \"%s: %f (%f)\" % (name, smape_f, r2_f)\n",
    "    print(msg_f)"
   ]
  },
  {
   "cell_type": "markdown",
   "metadata": {},
   "source": [
    "Наш эксперимент с масштабированием признаков и применением других классификаторов выявил лучшую модель для проверки (лучший показатель sMAPE и R2) - ElasticNet.  \n",
    "\n",
    "\n",
    "Посмотрим как данная модель предскажет тестовую выборку."
   ]
  },
  {
   "cell_type": "code",
   "execution_count": 109,
   "metadata": {},
   "outputs": [
    {
     "name": "stdout",
     "output_type": "stream",
     "text": [
      "sMAPE(rougher) TEST модели ElasticNet: 7.756549611045411\n",
      "sMAPE(final) TEST модели ElasticNet: 8.591558146230142 \n",
      "\n",
      "ElasticNet_scaled - итоговое sMAPE для тестовой выборки: 8.38\n"
     ]
    }
   ],
   "source": [
    "scaler_r = StandardScaler() # для целевого признака rougher.output.recovery\n",
    "scaler_f = StandardScaler() # для целевого признака final.output.recovery\n",
    "rougher_state_ss = scaler_r.fit_transform(rougher_state) # настройка и масштабирование обучающих выборок\n",
    "gold_train_ss = scaler_f.fit_transform(gold_train)\n",
    "\n",
    "rougher_test_ss = scaler_r.transform(rougher_test) # масштабирование тестовых выборок\n",
    "gold_test_ss = scaler_f.transform(gold_test)\n",
    "\n",
    "elnet_r = ElasticNet(random_state=42)\n",
    "elnet_f = ElasticNet(random_state=42)\n",
    "y_rougher_tren = elnet_r.fit(rougher_state_ss, y_rougher) # обучение моделей на обучающих выборках\n",
    "y_gold_en = elnet_f.fit(gold_train_ss, y_final)\n",
    "\n",
    "y_rougher_testen = y_rougher_tren.predict(rougher_test_ss) # предсказание на тестовых выборках\n",
    "y_gold_testen = y_gold_en.predict(gold_test_ss)\n",
    "\n",
    "smape_rte_en = smape(y_rougher_test, y_rougher_testen)\n",
    "smape_fte_en = smape(y_final_test, y_gold_testen)\n",
    "\n",
    "print('sMAPE(rougher) TEST модели ElasticNet:', smape_rte_en)\n",
    "print('sMAPE(final) TEST модели ElasticNet:', smape_fte_en,'\\n')\n",
    "\n",
    "print('ElasticNet_scaled - итоговое sMAPE для тестовой выборки: {:.2f}'.format(fin_smape(smape_rte_en, smape_fte_en)))"
   ]
  },
  {
   "cell_type": "markdown",
   "metadata": {},
   "source": [
    "Сравним итоговое sMAPE модели ElasticNet с RandomForestRegressor.\n",
    "\n",
    "#### Модель RandomForestRegressor. \n",
    "\n",
    "Подберём при помощи функции RandomizedSearchCV гиперпараметры и проверим, как покажут себя тестовые данные.\n",
    "\n",
    "##### Для целевого признака `rougher.output.recovery`."
   ]
  },
  {
   "cell_type": "code",
   "execution_count": 110,
   "metadata": {},
   "outputs": [
    {
     "name": "stdout",
     "output_type": "stream",
     "text": [
      "{'bootstrap': False, 'max_depth': 5, 'max_features': 6, 'min_samples_leaf': 5, 'min_samples_split': 3, 'n_estimators': 443}\n"
     ]
    }
   ],
   "source": [
    "my_scorer = make_scorer(smape, greater_is_better=False) # зададим параметр целевой метрики качества (чем меньше, тем лучше)\n",
    "cv = KFold(n_splits=5,random_state=42, shuffle=False)\n",
    "\n",
    "rfrf = RandomForestRegressor(random_state=42, n_jobs=-1)\n",
    "param_dist = {\"max_depth\": sp_randint(3, 10),\n",
    "              \"max_features\": sp_randint(1, 10),\n",
    "              \"min_samples_split\": sp_randint(2, 11),\n",
    "              \"min_samples_leaf\": sp_randint(1, 11),\n",
    "              \"bootstrap\": [True, False],\n",
    "              \"n_estimators\": sp_randint(100, 500)}\n",
    "        \n",
    "random_search_r = RandomizedSearchCV(rfrf, param_distributions=param_dist,\n",
    "                                   n_iter=10, cv=cv, scoring=my_scorer, random_state=42)\n",
    "random_search_r.fit(rougher_state, y_rougher)\n",
    "\n",
    "print(random_search_r.best_params_)"
   ]
  },
  {
   "cell_type": "code",
   "execution_count": 111,
   "metadata": {},
   "outputs": [
    {
     "name": "stdout",
     "output_type": "stream",
     "text": [
      "sMAPE(rougher) TRAIN модели RFR: 3.9976848624500714\n",
      "sMAPE(rougher) TEST модели RFR: 7.655007553707167\n"
     ]
    }
   ],
   "source": [
    "yr_preds = random_search_r.predict(rougher_state)\n",
    "yr_pred_test = random_search_r.predict(rougher_test)\n",
    "\n",
    "mark_train_r = smape(y_rougher, yr_preds)\n",
    "mark_test_r = smape(y_rougher_test, yr_pred_test)\n",
    "\n",
    "print('sMAPE(rougher) TRAIN модели RFR:', mark_train_r)\n",
    "print('sMAPE(rougher) TEST модели RFR:', mark_test_r)"
   ]
  },
  {
   "cell_type": "markdown",
   "metadata": {},
   "source": [
    "##### Для целевого признака `final.output.recovery`."
   ]
  },
  {
   "cell_type": "code",
   "execution_count": 112,
   "metadata": {},
   "outputs": [
    {
     "name": "stdout",
     "output_type": "stream",
     "text": [
      "{'bootstrap': True, 'max_depth': 6, 'max_features': 8, 'min_samples_leaf': 5, 'min_samples_split': 8, 'n_estimators': 221}\n"
     ]
    }
   ],
   "source": [
    "random_search_f = RandomizedSearchCV(rfrf, param_distributions=param_dist,\n",
    "                                   n_iter=10, cv=cv, iid=False, scoring=my_scorer, random_state=42)\n",
    "\n",
    "random_search_f.fit(gold_train, y_final)\n",
    "\n",
    "print(random_search_f.best_params_)"
   ]
  },
  {
   "cell_type": "code",
   "execution_count": 113,
   "metadata": {},
   "outputs": [
    {
     "name": "stdout",
     "output_type": "stream",
     "text": [
      "sMAPE(final) TRAIN модели RFR: 6.462586928569284\n",
      "sMAPE(final) TEST модели RFR: 8.969827275906521\n"
     ]
    }
   ],
   "source": [
    "yf_preds = random_search_f.predict(gold_train)\n",
    "yf_pred_test = random_search_f.predict(gold_test)\n",
    "\n",
    "mark_train_f = smape(y_final, yf_preds)\n",
    "mark_test_f = smape(y_final_test, yf_pred_test)\n",
    "\n",
    "print('sMAPE(final) TRAIN модели RFR:', mark_train_f)\n",
    "print('sMAPE(final) TEST модели RFR:', mark_test_f)"
   ]
  },
  {
   "cell_type": "markdown",
   "metadata": {},
   "source": [
    "Хотя на обучающих данных значение sMAPE достаточно низкое (что хорошо), на тестовых данных модель предсказывает значительно хуже. Возможно, в оставшихся признаках ещё остались аномальные значения, которые необходимо убрать. \n",
    "\n",
    "#### В заключении, посчитаем итоговую метрику sMAPE для обучающей и тестовой выборки."
   ]
  },
  {
   "cell_type": "code",
   "execution_count": 114,
   "metadata": {},
   "outputs": [
    {
     "name": "stdout",
     "output_type": "stream",
     "text": [
      "Итоговое sMAPE для обучающей выборки: 5.85\n",
      "Итоговое sMAPE для тестовой выборки: 8.64 \n",
      "\n",
      "\n"
     ]
    }
   ],
   "source": [
    "print('Итоговое sMAPE для обучающей выборки: {:.2f}'.format(fin_smape(mark_train_r, mark_train_f)))\n",
    "print('Итоговое sMAPE для тестовой выборки: {:.2f}'.format(fin_smape(mark_test_r, mark_test_f)),'\\n'*2)"
   ]
  },
  {
   "cell_type": "markdown",
   "metadata": {},
   "source": [
    "Итоговое sMAPE модели ElasticNet (с масштабированием данных) оказалось даже немного ниже (лучше) RandomForestRegressor - 8.38 и 8.64 соответственно.  \n",
    "\n",
    "RandomForestRegressor показал относительно неплохой итоговый результат sMAPE на обучающей выборке, однако, на тестовой, итоговая метрика, а, соответственно и качество предсказаний, значительно ухудшились.\n",
    "\n",
    "Для проверки лучших классификаторов на адекватность, сравним качество выбранных моделей ElasticNet и RandomForestRegressor с DummyRegressor, предсказывающей среднее значение. "
   ]
  },
  {
   "cell_type": "code",
   "execution_count": 115,
   "metadata": {},
   "outputs": [
    {
     "name": "stdout",
     "output_type": "stream",
     "text": [
      "sMAPE(rougher) TEST модели DummyRegressor: 29.07589827552181\n",
      "sMAPE(final) TEST модели DummyRegressor: 9.927579683896282 \n",
      "\n",
      "ТЕСТ НА АДЕКВАТНОСТЬ - итоговое sMAPE для тестовой выборки: 14.71 \n",
      "\n"
     ]
    }
   ],
   "source": [
    "dr = DummyRegressor(strategy='mean')\n",
    "y_rougher_model = dr.fit(rougher_state, y_rougher) # обучение моделей\n",
    "y_gold_model = dr.fit(gold_train, y_final)\n",
    "\n",
    "rougher_pred = y_rougher_model.predict(rougher_test) # проверка на тестовых выборках\n",
    "gold_pred = y_gold_model.predict(gold_test)\n",
    "    \n",
    "smape_r_tedr = smape(y_rougher_test, rougher_pred)\n",
    "smape_f_tedr = smape(y_final_test, gold_pred)\n",
    "\n",
    "print('sMAPE(rougher) TEST модели DummyRegressor:', smape_r_tedr)\n",
    "print('sMAPE(final) TEST модели DummyRegressor:', smape_f_tedr, '\\n')\n",
    "\n",
    "print('ТЕСТ НА АДЕКВАТНОСТЬ - итоговое sMAPE для тестовой выборки: {:.2f}'.format(fin_smape(smape_r_tedr, smape_f_tedr)),'\\n')"
   ]
  },
  {
   "cell_type": "markdown",
   "metadata": {},
   "source": [
    "Итоговое sMAPE и, сответственно, качество константной модели (DummyRegressor) значительно хуже выбранных моделей (ElasticNet и RandomForestRegressor) - 14.71 против 8.38 и 8.64. Так что выбранные модели работают и, можно утверждать, что машинное обучение может принести пользу при решении данной задачи.\n",
    "\n",
    "Плохая обучаемость моделей подтверждается и другими используемыми метриками, например, R2 (<0.2). Предположим, что, для улучшения качества и предсказаний модели, возможно, необходимо поискать другие признаки."
   ]
  }
 ],
 "metadata": {
  "kernelspec": {
   "display_name": "Python 3",
   "language": "python",
   "name": "python3"
  },
  "language_info": {
   "codemirror_mode": {
    "name": "ipython",
    "version": 3
   },
   "file_extension": ".py",
   "mimetype": "text/x-python",
   "name": "python",
   "nbconvert_exporter": "python",
   "pygments_lexer": "ipython3",
   "version": "3.7.7"
  }
 },
 "nbformat": 4,
 "nbformat_minor": 2
}
